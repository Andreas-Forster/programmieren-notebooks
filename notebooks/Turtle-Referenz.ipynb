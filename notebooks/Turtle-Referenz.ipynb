{
 "cells": [
  {
   "cell_type": "markdown",
   "metadata": {},
   "source": [
    "# Turtle Referenz\n",
    "\n",
    "#### Marcel Lüthi, Departement Mathematik und Informatik, Universität Basel"
   ]
  },
  {
   "cell_type": "markdown",
   "metadata": {},
   "source": [
    "In diesem Notebook führen wir das Konzept von Turtle Grafik ein und erklären die wichtigsten Befehle, die Sie in dieser Vorlesung brauchen um eigene Grafiken zu erstellen. "
   ]
  },
  {
   "cell_type": "markdown",
   "metadata": {},
   "source": [
    "#### Setup der Bibliotheken in Jupyter\n",
    "\n",
    "Turtle Grafik gehört nicht zum Standardumfang der Java Programmiersprache. Die Funktionalität die wir hier nutzen wird von einer externen *Bibliothek* zur Verfügung gestellt. Java und die Jupyter-Notebook Umgebung wissen zunächst mal nichts von dieser Bibliothek. Damit wir die Befehle in dieser Bibliothek verwenden können, müssen wir Sie zuerst im Jupyter-Notebook zur Verfügung stellen. Dies geschieht mit den folgenden zwei Befehlen:"
   ]
  },
  {
   "cell_type": "code",
   "execution_count": 1,
   "metadata": {
    "scrolled": true
   },
   "outputs": [
    {
     "name": "stdout",
     "output_type": "stream",
     "text": [
      "Added new repo: bintray\n"
     ]
    },
    {
     "data": {
      "application/vnd.jupyter.widget-view+json": {
       "model_id": "",
       "version_major": 2,
       "version_minor": 0
      },
      "method": "display_data"
     },
     "metadata": {},
     "output_type": "display_data"
    },
    {
     "data": {
      "application/vnd.jupyter.widget-view+json": {
       "model_id": "87093a58-a618-4aa9-a169-366d6b96c390",
       "version_major": 2,
       "version_minor": 0
      },
      "method": "display_data"
     },
     "metadata": {},
     "output_type": "display_data"
    }
   ],
   "source": [
    "%classpath config resolver bintray https://dl.bintray.com/egp/maven\n",
    "%classpath add mvn ch.unibas.informatik:jturtle:0.6\n",
    "\n",
    "%import static ch.unibas.informatik.jturtle.TurtleCommands.*"
   ]
  },
  {
   "cell_type": "markdown",
   "metadata": {},
   "source": [
    "*Hinweis:* Diese zwei Befehle sind Kommandos, die so nur in Jupyter-Notebooks verwendet werden können und entsprechen nicht gültigem Java Code. "
   ]
  },
  {
   "cell_type": "markdown",
   "metadata": {},
   "source": [
    "#### Eine erste Zeichnung"
   ]
  },
  {
   "cell_type": "markdown",
   "metadata": {},
   "source": [
    "Das Prinzip hinter Turtle Grafik ist, dass wir uns eine Schildkröte vorstellen können, die einen Stift mitführt. Wir können diese Schildkröte mit verschiedenen Befehlen anweisen sich zu bewegen und können so entsprechend Zeichnungen erstellen. \n",
    "Um die Prinzipien der Turtle Grafik zu erläutern, beginnen wir gleich mit einem ersten Programm, welches wie folgt aussieht:\n",
    "```\n",
    "clear();\n",
    "penDown();\n",
    "forward(50);\n",
    "turnRight(90);\n",
    "forward(50);\n",
    "display(drawing());\n",
    "```\n",
    "\n",
    "\n",
    "Mit dem Befehl ```clear()``` wird die Zeichenfläche erstmals geleert. Wir beginnen also mit einer leeren Zeichnung. Der Befehl ```penDown()``` bewirkt, dass die Schildkröte den Zeichnungsstift auf das Blatt setzt. \n",
    "Mit dem Befehl ```forward(50)``` weisen wir die Schildkröte an sich um 50 Schritte vorwärts zu bewegen. Danach soll sich die Schildkröte um 90 Grad nach rechts drehen (```turnRight(50)```) und dann nochmals 50 Schritte nach vorwärts gehen. \n",
    "Die so erstellte Zeichnung kann mit dem Befehl ```display(drawing())``` angezeigt werden. \n",
    "\n",
    "Wenn wir die nachfolgende Zelle des Jupyter-Notebooks ausführen, können wir uns die entstandene Zeichnung anschauen. "
   ]
  },
  {
   "cell_type": "code",
   "execution_count": 2,
   "metadata": {},
   "outputs": [
    {
     "data": {
      "image/png": "[encoded data removed]"
     },
     "metadata": {},
     "output_type": "display_data"
    },
    {
     "data": {
      "text/plain": [
       "null"
      ]
     },
     "execution_count": 2,
     "metadata": {},
     "output_type": "execute_result"
    }
   ],
   "source": [
    "clear();\n",
    "penDown();\n",
    "forward(50);\n",
    "turnRight(90);\n",
    "forward(50);\n",
    "display(drawing());\n"
   ]
  },
  {
   "cell_type": "markdown",
   "metadata": {},
   "source": [
    "*Miniübung:* Was passiert, wenn Sie die obige Zelle mehrmals hintereinander ausführen? Können Sie sicher erklären warum?"
   ]
  },
  {
   "cell_type": "markdown",
   "metadata": {},
   "source": [
    "Damit is etwas einfacher nachzuvollziehen ist, wie diese Zeichnung entsteht, bietet uns die Turtle Bibliothek den Befehl ```drawTurtle```. Dieser Zeichnet eine Schildkröte an die Position, wo die Schildkröte zum Moment der Befehlsausführung gerade steht. \n",
    "Wir führen die obigen Befehle nochmals aus, zeigen dazwischen aber immer wieder das Turtle:"
   ]
  },
  {
   "cell_type": "code",
   "execution_count": null,
   "metadata": {},
   "outputs": [],
   "source": [
    "clear();\n",
    "drawTurtle();\n",
    "penDown();\n",
    "forward(50);\n",
    "drawTurtle();\n",
    "turnRight(90);\n",
    "forward(50);\n",
    "drawTurtle();\n",
    "display(drawing());\n",
    "\n"
   ]
  },
  {
   "cell_type": "markdown",
   "metadata": {},
   "source": [
    "#### Das Koordinatensystem der Zeichenfläche"
   ]
  },
  {
   "cell_type": "markdown",
   "metadata": {},
   "source": [
    "Zu beginn steht das Turtle immer in der Mitte der Zeichenfläche und schaut nach oben. Auf diese Ausgangsposition kommt man immer wieder durch den Aufruf des Befehls ```home()``` zurück. Die Zeichenfläche hat die Grösse $200 \\times 200$. Von der Ausgangsposition kann man also 100 Einheiten in eine Richtung laufen. Folgender Code veranschaulicht das Koordinatensystem. Beachten Sie, dass wir hier auch gleich einen neuen Befehl einführen, nämliche ```penUp```, welcher die offensichtliche Bedeutung hat."
   ]
  },
  {
   "cell_type": "code",
   "execution_count": null,
   "metadata": {},
   "outputs": [],
   "source": [
    "clear();\n",
    "home();\n",
    "drawTurtle();\n",
    "forward(100);\n",
    "penDown();\n",
    "turnRight(180);\n",
    "forward(200);\n",
    "home();\n",
    "turnRight(90);\n",
    "penUp();\n",
    "forward(100);\n",
    "penDown();\n",
    "turnRight(180);\n",
    "forward(200);\n",
    "\n",
    "display(drawing());"
   ]
  },
  {
   "cell_type": "markdown",
   "metadata": {},
   "source": [
    "\n",
    "#### Einfache Zeichnenbefehle"
   ]
  },
  {
   "cell_type": "markdown",
   "metadata": {},
   "source": [
    "Im folgenden sind die wichtigsten Befehle um Zeichnungen zu erstellen zusammengefasst:\n",
    "\n",
    "* ```forward(x)``` bewegt das Turtle ```x``` Schritte vorwärts\n",
    "* ```backward(x)``` bewegt das Turtle ```x``` Schritte rückwärts\n",
    "* ```turnRight(x)``` dreht das Turtle um ```x``` Grad um die eigene Achse (nach rechts)\n",
    "* ```turnLeft(x)``` dreht das Turtle um ```x``` Grad um die eigene Achse (nach links)\n",
    "* ```penUp()``` nimmt den Zeichenstift hoch\n",
    "* ```penDown()```  setzt den Zeichenstift aufs blatt\n",
    "* ```home()``` stellt das Turtle zurück auf die Mitte des Blatts und richtet es nach Norden aus.\n",
    "* ```clear()``` Leert die Zeichenfläche\n",
    "\n"
   ]
  },
  {
   "cell_type": "markdown",
   "metadata": {},
   "source": [
    "#### Zeichenfarben und Liniendicke"
   ]
  },
  {
   "cell_type": "markdown",
   "metadata": {},
   "source": [
    "Mit den folgenden Befehlen können wir die Zeichenfarbe und die Liniendicke verändern:\n",
    "\n",
    "* ```penSize(x)``` Setzt die dicke des Stifts (Liniendicke) auf x.\n",
    "* ```penColor(color)``` Setzt die Farbe. Gültige Farben sind ```BLACK, BLUE, GREEN, RED, ORANGE, YELLOW, WHITE, GREY```\n",
    "\n",
    "Weitere Farben können mit dem Befehle ```Color(r,g,b)``` definiert werden, wobei ```r```, ```g```, ```b``` Werte zwischen 0 und 255 sind.\n",
    "\n",
    "Dies ist in folgendem Code illustriert."
   ]
  },
  {
   "cell_type": "code",
   "execution_count": null,
   "metadata": {},
   "outputs": [],
   "source": [
    "clear();\n",
    "home();\n",
    "penSize(1);\n",
    "penColor(GREEN);\n",
    "forward(100);\n",
    "turnRight(90);\n",
    "penColor(color(255, 96, 0));\n",
    "forward(100);\n",
    "turnRight(90);\n",
    "penSize(10);\n",
    "forward(100);\n",
    "display(drawing());\n"
   ]
  },
  {
   "cell_type": "markdown",
   "metadata": {},
   "source": [
    "### Weitere Befehle"
   ]
  },
  {
   "cell_type": "markdown",
   "metadata": {},
   "source": [
    "* ```reset``` Setzt alle Attribute (wie Farbe, Liniendicke, etc.) auf die Standardeinstellungen zurück.\n",
    "* ```fill```  Füllt eine geschlossene geometrische Figur um die aktuelle Turtle Position mit der gewünschten Farbe\n",
    "* ```write(text, fontsize)``` Schreibt den Text an die aktuelle Turte Position.\n"
   ]
  },
  {
   "cell_type": "code",
   "execution_count": null,
   "metadata": {},
   "outputs": [],
   "source": [
    "reset();\n",
    "clear();\n",
    "penDown();\n",
    "forward(100);\n",
    "turnRight(120);\n",
    "forward(100);\n",
    "turnRight(120);\n",
    "forward(100);\n",
    "penUp();\n",
    "turnRight(150);\n",
    "forward(50);\n",
    "penColor(BLUE);\n",
    "fill();\n",
    "\n",
    "drawTurtle();\n",
    "\n",
    "penColor(WHITE);\n",
    "write(\"Hier stehe ich\", 22);\n",
    "    \n",
    "display(drawing());"
   ]
  },
  {
   "cell_type": "markdown",
   "metadata": {},
   "source": [
    "#### Übungen"
   ]
  },
  {
   "cell_type": "markdown",
   "metadata": {},
   "source": [
    "* Zeichnen Sie ein 5-eck\n",
    "* Zeichnen Sie ien einfaches Haus. Können Sie Türen und Fenster einzeichnen?\n",
    "    * Machen Sie ihr Haus farbig\n"
   ]
  },
  {
   "cell_type": "code",
   "execution_count": null,
   "metadata": {},
   "outputs": [],
   "source": []
  }
 ],
 "metadata": {
  "kernelspec": {
   "display_name": "Java",
   "language": "java",
   "name": "java"
  },
  "language_info": {
   "codemirror_mode": "text/x-java",
   "file_extension": ".java",
   "mimetype": "",
   "name": "Java",
   "nbconverter_exporter": "",
   "version": "1.8.0_121"
  },
  "toc": {
   "base_numbering": 1,
   "nav_menu": {},
   "number_sections": false,
   "sideBar": false,
   "skip_h1_title": false,
   "title_cell": "Table of Contents",
   "title_sidebar": "Contents",
   "toc_cell": false,
   "toc_position": {},
   "toc_section_display": false,
   "toc_window_display": false
  }
 },
 "nbformat": 4,
 "nbformat_minor": 2
}
