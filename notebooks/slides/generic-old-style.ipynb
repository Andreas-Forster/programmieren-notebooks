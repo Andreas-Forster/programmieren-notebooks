{
 "cells": [
  {
   "cell_type": "markdown",
   "metadata": {
    "slideshow": {
     "slide_type": "slide"
    }
   },
   "source": [
    "# Generisches Programmieren mit Java\n",
    "\n",
    "#### Marcel Lüthi\n",
    "#### Departement Mathematik und Informatik <br/> Universität Basel"
   ]
  },
  {
   "cell_type": "markdown",
   "metadata": {
    "slideshow": {
     "slide_type": "slide"
    }
   },
   "source": [
    "### Agenda\n",
    "\n",
    "* Problemmotivation\n",
    "* Lösung: Generische Programmieren mit Objekten (Old Style)\n",
    "* Intermezzo: Hüllenklassen\n",
    "* Kollektionen von Objekten verschiedenen Typs\n",
    "* Operationen auf Kollektionen von Objekten\n",
    "* Nachteile von diesem Ansatz\n"
   ]
  },
  {
   "cell_type": "markdown",
   "metadata": {
    "slideshow": {
     "slide_type": "slide"
    }
   },
   "source": [
    "### Ausgangslage: Stack für Integers"
   ]
  },
  {
   "cell_type": "markdown",
   "metadata": {
    "slideshow": {
     "slide_type": "notes"
    }
   },
   "source": [
    "Um zu illustrieren, welches Problem die Generische Programmierung versucht zu lösen, schauen wir uns die Datenstruktur Stack an, die wir schon einige male in dieser Vorlesung gesehen haben. Genauer, wir schauen uns die Implementation der Klasse Stack für Elemente vom Typ ```int``` an."
   ]
  },
  {
   "cell_type": "code",
   "execution_count": 1,
   "metadata": {
    "slideshow": {
     "slide_type": "-"
    }
   },
   "outputs": [],
   "source": [
    "class IntStack {\n",
    "    private int[] data = new int[1000]; // Vereinfachung: Feste Grösse\n",
    "    private int nElements = 0; // Anzahl Elemente im Stack\n",
    "    \n",
    "    public void push(int i) {\n",
    "        data[nElements] = i;     \n",
    "        nElements += 1;\n",
    "    }\n",
    "    \n",
    "    public int pop() { \n",
    "        if (nElements <= 0) {\n",
    "            throw new RuntimeException(\"pop from empty stack\");\n",
    "        }\n",
    "        else {\n",
    "            nElements -= 1;\n",
    "            return data[nElements];\n",
    "       }\n",
    "    }\n",
    "    public int size() { return this.nElements; }\n",
    "}"
   ]
  },
  {
   "cell_type": "markdown",
   "metadata": {
    "slideshow": {
     "slide_type": "slide"
    }
   },
   "source": [
    "### Nutzung des Stacks"
   ]
  },
  {
   "cell_type": "markdown",
   "metadata": {
    "slideshow": {
     "slide_type": "notes"
    }
   },
   "source": [
    "Wir können nun mittels den Methoden ```push``` und ```pop``` Elemente vom Typ ```int``` auf dem Stack ablegen und diese wieder vom Stack lesen. Wenn wir jedoch ein Element von einem anderen Typ, wie zum Beispiel einen String auf dem Stack speichern möchten, gibt uns Java eine Fehlermeldung aus. "
   ]
  },
  {
   "cell_type": "code",
   "execution_count": 3,
   "metadata": {
    "slideshow": {
     "slide_type": "-"
    }
   },
   "outputs": [
    {
     "name": "stdout",
     "output_type": "stream",
     "text": [
      "pushed: 10\n",
      "read: 10\n"
     ]
    },
    {
     "ename": "CompilationException",
     "evalue": "",
     "output_type": "error",
     "traceback": [
      "\u001b[1m\u001b[30m|   \u001b[1m\u001b[30mstack.push(\u001b[0m\u001b[1m\u001b[30m\u001b[41m\"abc\"\u001b[0m\u001b[1m\u001b[30m);\u001b[0m",
      "\u001b[1m\u001b[31mincompatible types: java.lang.String cannot be converted to int\u001b[0m",
      ""
     ]
    }
   ],
   "source": [
    "IntStack stack = new IntStack();\n",
    "stack.push(10);\n",
    "System.out.println(\"pushed: \" + 10);\n",
    "int element = stack.pop();\n",
    "System.out.println(\"read: \" + element);\n",
    "\n",
    "// Funktioniert nicht, da falscher Typ\n",
    "stack.push(\"abc\");"
   ]
  },
  {
   "cell_type": "markdown",
   "metadata": {
    "slideshow": {
     "slide_type": "slide"
    }
   },
   "source": [
    "# Nutzen des Typsystems\n",
    "\n",
    "![typsystem](images/typesystem-1.png)\n",
    "\n",
    "* Das Typsystem hilft uns, fehlerhafte Programme zu erkennen.\n"
   ]
  },
  {
   "cell_type": "markdown",
   "metadata": {
    "slideshow": {
     "slide_type": "notes"
    }
   },
   "source": [
    "Dank dem Typsystem werden offsichtlich unsinnige Programme wie \n",
    "```java\n",
    "void divide(int a, int b) { return a / b; }\n",
    "divide(5, \"a String\");\n",
    "```\n",
    "werden direkt vom Compiler zurückgewiesen. Das Typensystem ist also eine Hilfe für uns beim Programmieren. \n",
    "\n",
    "Im Fall von unserem Stack, wird das Typensystem aber auch zum Problem. "
   ]
  },
  {
   "cell_type": "markdown",
   "metadata": {
    "slideshow": {
     "slide_type": "slide"
    }
   },
   "source": [
    "### Problem\n",
    "\n",
    "\n",
    "* Was machen wir wenn wir nun einen Stack von Strings wollen?\n",
    "* ... und einen Stack von Double?\n",
    "* ... und einen Stack von Floats?\n",
    "\n",
    "> Kopieren von Code ist keine Lösung!"
   ]
  },
  {
   "cell_type": "markdown",
   "metadata": {
    "slideshow": {
     "slide_type": "slide"
    }
   },
   "source": [
    "# Generische Programmierung mit Objekten "
   ]
  },
  {
   "cell_type": "markdown",
   "metadata": {
    "slideshow": {
     "slide_type": "notes"
    }
   },
   "source": [
    "In früheren Versionen von Java wurde dieses Problem über die Klassenhierarchie gelöst. Dieser Ansatz ist nicht ideal, und wurde später mit einem mächtigeren Ansatz, nämlich den Java Generics ersetzt. Für das Verständnis von Java ist es trotzdem unerlässlich, dass wir auch diesen Ansatz verstehen."
   ]
  },
  {
   "cell_type": "markdown",
   "metadata": {
    "slideshow": {
     "slide_type": "slide"
    }
   },
   "source": [
    "### Ansatz\n",
    "\n",
    "* Ausnutzen, der Klassenhierarchie\n",
    "\n",
    "![hierarchy](./images/class-hierarchy.gif)\n",
    "<figcaption style=\"font-size:xx-small\">Quelle: https://docs.oracle.com/javase/tutorial/figures/java/classes-object.gif</figcaption>\n",
    "\n",
    "> Beobachung: Zuweisung zu Objekt ist immer möglich"
   ]
  },
  {
   "cell_type": "markdown",
   "metadata": {
    "slideshow": {
     "slide_type": "slide"
    }
   },
   "source": [
    "### Zuweisung zu Objekt\n",
    "\n",
    "* Folgender Code kompiliert, da Objekt der Supertyp von jeder Klasse in Java ist. \n"
   ]
  },
  {
   "cell_type": "code",
   "execution_count": 1,
   "metadata": {},
   "outputs": [],
   "source": [
    "Object s = new String(\"\");\n",
    "Object i = new Integer(5);\n",
    "Object d = new Date(1970, 12, 31);"
   ]
  },
  {
   "cell_type": "markdown",
   "metadata": {
    "slideshow": {
     "slide_type": "skip"
    }
   },
   "source": [
    "Es ist nun naheliegend, einfach anstelle eines Stacks von ```int```, einen Stack von Objekten zu erstellen. Damit können wir Objekte von beliebigem Typ speichern. "
   ]
  },
  {
   "cell_type": "markdown",
   "metadata": {
    "slideshow": {
     "slide_type": "slide"
    }
   },
   "source": [
    "### Generisches Stack Implementation"
   ]
  },
  {
   "cell_type": "code",
   "execution_count": 4,
   "metadata": {},
   "outputs": [],
   "source": [
    "class Stack { \n",
    "    \n",
    "    private Object[] data = new Object[1000]; // Vereinfachung: Feste grösse\n",
    "    private int nElements = 0; // Anzahl Elemente im Stack\n",
    " \n",
    "    public void push(Object element) {\n",
    "        data[nElements] = element;     \n",
    "        nElements += 1;\n",
    "    }\n",
    "    \n",
    "    public Object pop() { \n",
    "        if (nElements <= 0) {\n",
    "            return null;\n",
    "        }\n",
    "        else {\n",
    "            nElements -= 1;\n",
    "            return data[nElements];\n",
    "       }\n",
    "    }\n",
    "    public int size() { return this.nElements; }\n",
    "}\n"
   ]
  },
  {
   "cell_type": "markdown",
   "metadata": {
    "slideshow": {
     "slide_type": "slide"
    }
   },
   "source": [
    "### Übung: Nutzung des Stacks\n",
    "\n",
    "* Erzeugen Sie einen Stack und speichern Sie Objekte von verschiedenen Klasse, wie zum Beispiel ```String```, ```java.util.data``` oder ```int[]```.\n",
    "* Erstellen Sie eine eigene Klasse und versuchen Sie diese auf den Stack zu pushen. \n",
    "* Können Sie primitive Datentypen wie ```int``` oder ```float``` auf den Stack pushen?"
   ]
  },
  {
   "cell_type": "code",
   "execution_count": null,
   "metadata": {
    "slideshow": {
     "slide_type": "-"
    }
   },
   "outputs": [],
   "source": []
  },
  {
   "cell_type": "markdown",
   "metadata": {
    "slideshow": {
     "slide_type": "slide"
    }
   },
   "source": [
    "# Intermezzo: Hüllenklassen und autoboxing"
   ]
  },
  {
   "cell_type": "markdown",
   "metadata": {
    "slideshow": {
     "slide_type": "skip"
    }
   },
   "source": [
    "Wir haben gesehen, dass wir selbst Objekte vom Typ ```int``` auf dem Stack specichern können. \n",
    "Aber sind Werte vom Typ ```int``` Objekte? Die Antwort ist nein. ```int``` ist wie ```double```, ```float```, ```long```, etc. ein primitiver Datentyp. Der Grund weshalb das trotzdem funktioniert ist, dass es zu jedem primitiven Datentyp eine entsprechende Hüllenklasse gibt sowie ein feature namens *autoboxing*."
   ]
  },
  {
   "cell_type": "markdown",
   "metadata": {
    "slideshow": {
     "slide_type": "slide"
    }
   },
   "source": [
    "### Hüllenklassen für Primitive Datentypen\n",
    "\n",
    "* Zu jedem primitiven Datentyp existiert eine Hüllenklasse (Wrapper)\n",
    "\n",
    "| Primitiver Typ | Hüllenklasse |\n",
    "|----------------|--------------|\n",
    "| int | Integer |\n",
    "| short | Short |\n",
    "| long | Long | \n",
    "| double | Double |\n",
    "| float | Float | \n",
    "| char | Character | \n",
    "| boolean | Boolean |\n",
    "\n",
    "* *Boxing*: Ein primitiver Typ wird automatisch in ein Objekt der Hüllenklasse konvertiert\n",
    "* *Unboxing*: Ein Hüllenklassentyp wird automatisch in einen primitiven Typen konvertiert"
   ]
  },
  {
   "cell_type": "markdown",
   "metadata": {
    "slideshow": {
     "slide_type": "slide"
    }
   },
   "source": [
    "### Übung:\n",
    "\n",
    "* Kreieren Sie Objekte vom Typ Integer und schauen Sie, wann die Zuweisung von ```int``` und ```Integer``` funktioniert. \n",
    "* Experimentieren Sie mit ```==``` und ```.equals```. Wann sind zwei int/Integer Objekte gleich?"
   ]
  },
  {
   "cell_type": "code",
   "execution_count": null,
   "metadata": {
    "slideshow": {
     "slide_type": "-"
    }
   },
   "outputs": [],
   "source": []
  },
  {
   "cell_type": "markdown",
   "metadata": {
    "slideshow": {
     "slide_type": "slide"
    }
   },
   "source": [
    "# Kollektionen von Objekten mit verschiedenen Typen"
   ]
  },
  {
   "cell_type": "markdown",
   "metadata": {
    "slideshow": {
     "slide_type": "notes"
    }
   },
   "source": [
    "Wir wissen nun, dass wir Objekte von beliebigem Typ auf dem Stack speichern können. Wir können sogar verschiedene Typen mischen, da intern ja alle Elemente vom Stack als Objects verwaltet werden. "
   ]
  },
  {
   "cell_type": "markdown",
   "metadata": {
    "slideshow": {
     "slide_type": "slide"
    }
   },
   "source": [
    "### Stacks mit verschiedenen Typen\n",
    "\n",
    "* Alle Klassen sind Subklassen von Objekt!\n",
    "    * Wir können Objekte von beliebigen Typen speichern"
   ]
  },
  {
   "cell_type": "code",
   "execution_count": 12,
   "metadata": {},
   "outputs": [
    {
     "data": {
      "text/plain": [
       "[a String, 5, Wed Dec 04 14:49:01 CET 2019, java.awt.Color[r=0,g=255,b=0]]"
      ]
     },
     "execution_count": 12,
     "metadata": {},
     "output_type": "execute_result"
    }
   ],
   "source": [
    "Stack createMixedStack() { \n",
    "\n",
    "    Stack stack = new Stack();\n",
    "    stack.push(\"a String\");\n",
    "    stack.push(new Integer(5));\n",
    "    stack.push(new java.util.Date());\n",
    "    stack.push(java.awt.Color.GREEN);\n",
    "\n",
    "    return stack;\n",
    "}\n",
    "\n",
    "createMixedStack();\n"
   ]
  },
  {
   "cell_type": "markdown",
   "metadata": {
    "slideshow": {
     "slide_type": "slide"
    }
   },
   "source": [
    "### Übung: Ausdrucken aller Elemente\n",
    "\n",
    "* Schreiben Sie Code, um alle Elemente des Stacks auszugeben. \n",
    "   * Weshalb funktioniert das?"
   ]
  },
  {
   "cell_type": "code",
   "execution_count": 57,
   "metadata": {},
   "outputs": [],
   "source": [
    "Stack stack = createMixedStack();\n",
    "\n",
    "// Ihr Code"
   ]
  },
  {
   "cell_type": "markdown",
   "metadata": {
    "slideshow": {
     "slide_type": "slide"
    }
   },
   "source": [
    "### Arbeiten mit Elementen\n",
    " \n",
    "* Wie arbeiten wir mit den Methoden der Klassen die nicht von Object geerbt werden?\n",
    "\n",
    "Folgendes funktioniert nicht:\n",
    "\n",
    "```java\n",
    "\n",
    "Object o = new String(\"hello world\");\n",
    "\n",
    "o.replace(\"world\", \"class\");\n",
    "```"
   ]
  },
  {
   "cell_type": "markdown",
   "metadata": {
    "slideshow": {
     "slide_type": "notes"
    }
   },
   "source": [
    "Unser Problem kann mit dem ```instanceof``` Operator gelöst werden. Dieser Operator lässt uns entscheiden, ob ein Objekt ein subtyp einer bestimmten Klasse ist. "
   ]
  },
  {
   "cell_type": "markdown",
   "metadata": {
    "slideshow": {
     "slide_type": "slide"
    }
   },
   "source": [
    "### Der instanceof Operator\n",
    "\n",
    "> ```instanceof```: Ist ein Objekt ein Subtyp einer Klasse?\n",
    "\n",
    "\n",
    "#### Beispiele:"
   ]
  },
  {
   "cell_type": "code",
   "execution_count": 10,
   "metadata": {
    "slideshow": {
     "slide_type": "fragment"
    }
   },
   "outputs": [
    {
     "data": {
      "text/plain": [
       "true"
      ]
     },
     "execution_count": 10,
     "metadata": {},
     "output_type": "execute_result"
    }
   ],
   "source": [
    "new String(\"abc\") instanceof Object"
   ]
  },
  {
   "cell_type": "code",
   "execution_count": 9,
   "metadata": {
    "slideshow": {
     "slide_type": "fragment"
    }
   },
   "outputs": [
    {
     "ename": "CompilationException",
     "evalue": "",
     "output_type": "error",
     "traceback": [
      "\u001b[1m\u001b[30m|   \u001b[1m\u001b[30m\u001b[0m\u001b[1m\u001b[30m\u001b[41mnew String(\"abc\")\u001b[0m\u001b[1m\u001b[30m instanceof Integer\u001b[0m",
      "\u001b[1m\u001b[31mincompatible types: java.lang.String cannot be converted to java.lang.Integer\u001b[0m",
      ""
     ]
    }
   ],
   "source": [
    "new String(\"abc\") instanceof Integer"
   ]
  },
  {
   "cell_type": "markdown",
   "metadata": {
    "slideshow": {
     "slide_type": "notes"
    }
   },
   "source": [
    "Damit können wir nun für jedes Element bestimmen ob es von einem bestimmten Typ ist und es dann entsprechend in den richtigen Typ umwandeln. Wie wir das für unseren Stack einsetzen können, zeigt das nachfolgende Beispiel."
   ]
  },
  {
   "cell_type": "markdown",
   "metadata": {
    "slideshow": {
     "slide_type": "slide"
    }
   },
   "source": [
    "### Konvertieren der Elemente in Subklassen"
   ]
  },
  {
   "cell_type": "code",
   "execution_count": 58,
   "metadata": {},
   "outputs": [
    {
     "name": "stdout",
     "output_type": "stream",
     "text": [
      "I don't know what to do with this type of object\n",
      "The year is 119\n",
      "I don't know what to do with this type of object\n",
      "got string, which starts with the letter a\n"
     ]
    }
   ],
   "source": [
    "Stack stack = createMixedStack();\n",
    "\n",
    "while (stack.size() > 0) {\n",
    "    Object element = stack.pop();\n",
    "    \n",
    "    if (element instanceof String) {\n",
    "        String s = (String) element;\n",
    "        System.out.println(\"got string, which starts with the letter \" +s.charAt(0));\n",
    "    }\n",
    "    else if (element instanceof Date) {\n",
    "        Date d = (Date) element;\n",
    "        System.out.println(\"The year is \"+ d.getYear());\n",
    "    }\n",
    "    else { \n",
    "        System.out.println(\"I don't know what to do with this type of object\");\n",
    "    }\n",
    "}\n"
   ]
  },
  {
   "cell_type": "markdown",
   "metadata": {
    "slideshow": {
     "slide_type": "slide"
    }
   },
   "source": [
    "# Operationen auf Kollektionen von generischen Objekten   "
   ]
  },
  {
   "cell_type": "markdown",
   "metadata": {
    "slideshow": {
     "slide_type": "notes"
    }
   },
   "source": [
    "Nun wollen wir zeigen, wie wir Operationen auf generischen Kollektionen von Arrays anwenden können. \n",
    "Zur Illustration nutzen wir die einfachst mögliche generische Kollektion. Ein Array fixer Grösse von Objekten. "
   ]
  },
  {
   "cell_type": "markdown",
   "metadata": {
    "slideshow": {
     "slide_type": "slide"
    }
   },
   "source": [
    "### Beispielkollektion: Array von Objekten"
   ]
  },
  {
   "cell_type": "markdown",
   "metadata": {
    "slideshow": {
     "slide_type": "-"
    }
   },
   "source": [
    "* Wir schreiben eine Hilfsfunktion zum erzeugen eines Arrays aus 3 Objekten"
   ]
  },
  {
   "cell_type": "code",
   "execution_count": 14,
   "metadata": {
    "slideshow": {
     "slide_type": "-"
    }
   },
   "outputs": [],
   "source": [
    "Object[] createArrayFromObjects(Object o1, Object o2, Object o3) { \n",
    "    Object[] a = new Object[3];\n",
    "    a[0] = o1; \n",
    "    a[1] = o2;\n",
    "    a[2] = o3;\n",
    "    return a;    \n",
    "}"
   ]
  },
  {
   "cell_type": "code",
   "execution_count": 17,
   "metadata": {},
   "outputs": [
    {
     "data": {
      "text/plain": [
       "[Ljava.lang.Object;@58d7171"
      ]
     },
     "execution_count": 17,
     "metadata": {},
     "output_type": "execute_result"
    }
   ],
   "source": [
    "createArrayFromObjects(\"String\", 5, new Date(1970, 12, 31))"
   ]
  },
  {
   "cell_type": "markdown",
   "metadata": {
    "slideshow": {
     "slide_type": "slide"
    }
   },
   "source": [
    "#### Frage:\n",
    "\n",
    "Können wir folgende Operationen Implementieren?\n",
    "\n",
    "* Suchen eines Objekts in einem Array\n",
    "* Sortieren eines Arrays\n",
    "\n",
    "Was ist schwieriger und weshalb?"
   ]
  },
  {
   "cell_type": "markdown",
   "metadata": {
    "slideshow": {
     "slide_type": "slide"
    }
   },
   "source": [
    "# Suchen von Objekt"
   ]
  },
  {
   "cell_type": "markdown",
   "metadata": {},
   "source": [
    "* Zum Suchen von Objekten brauchen wir nur die ```equals``` Methode. Die ist auf allen Objekten definiert"
   ]
  },
  {
   "cell_type": "code",
   "execution_count": 19,
   "metadata": {},
   "outputs": [],
   "source": [
    "int findObjectInArray(Object[] haystack, Object needle) { \n",
    "    // Implementation fehlt absichtlich\n",
    "    for (int i = 0; i < haystack.length; ++i) {\n",
    "        if (haystack[i].equals(needle)) {\n",
    "            return i;\n",
    "        }\n",
    "    }\n",
    "    return -1;\n",
    "}"
   ]
  },
  {
   "cell_type": "code",
   "execution_count": 21,
   "metadata": {
    "slideshow": {
     "slide_type": "fragment"
    }
   },
   "outputs": [
    {
     "data": {
      "text/plain": [
       "-1"
      ]
     },
     "execution_count": 21,
     "metadata": {},
     "output_type": "execute_result"
    }
   ],
   "source": [
    "Object[] array = createArrayFromObjects(\"String 1\", new Date(1970, 12, 31), \"String 2\" );\n",
    "//findObjectInArray(array, new Date(1970, 12, 31)); // Output 1\n",
    "findObjectInArray(array, new String(\"String 3\")); // Output -1"
   ]
  },
  {
   "cell_type": "markdown",
   "metadata": {
    "slideshow": {
     "slide_type": "notes"
    }
   },
   "source": [
    "Beim sortieren hingegen ist die Sache deutlich schwieriger. Während wir einfach für alle Paare von Objekten entscheiden können, ob es sich um dasselbe Objekt handelt, können wir nicht alle Paare von Objekten vergleichen."
   ]
  },
  {
   "cell_type": "markdown",
   "metadata": {
    "slideshow": {
     "slide_type": "slide"
    }
   },
   "source": [
    "### Vergleichen von Objekten\n",
    "\n",
    "* Was ist grösser\n",
    "    * 08.12.1970 oder 09.12.1971 ? \n",
    "    * \"abc\" oder \"def\"?\n",
    "    * ```Color.GREEN``` oder ```Color.RED```?\n",
    "    * 08.12.1970 oder \"abc\"?\n",
    "    "
   ]
  },
  {
   "cell_type": "markdown",
   "metadata": {
    "slideshow": {
     "slide_type": "slide"
    }
   },
   "source": [
    "#### Vergleichsoperatoren in Java\n",
    "\n",
    "> Der Vergleichsoperator wird nur für spezielle Typen unterstützt"
   ]
  },
  {
   "cell_type": "code",
   "execution_count": 22,
   "metadata": {
    "slideshow": {
     "slide_type": "-"
    }
   },
   "outputs": [
    {
     "ename": "CompilationException",
     "evalue": "",
     "output_type": "error",
     "traceback": [
      "\u001b[1m\u001b[30m|   \u001b[1m\u001b[30m\u001b[0m\u001b[1m\u001b[30m\u001b[41mo1 < o2\u001b[0m\u001b[1m\u001b[30m;\u001b[0m",
      "\u001b[1m\u001b[31mbad operand types for binary operator '<'\u001b[0m",
      "\u001b[1m\u001b[31m  first type:  java.lang.Object\u001b[0m",
      "\u001b[1m\u001b[31m  second type: java.lang.Object\u001b[0m",
      ""
     ]
    }
   ],
   "source": [
    "Object o1 = new Integer(5);\n",
    "Object o2 = \"a String\";\n",
    "o1 < o2;"
   ]
  },
  {
   "cell_type": "markdown",
   "metadata": {
    "slideshow": {
     "slide_type": "-"
    }
   },
   "source": [
    "Wie können wir Objekte vergleichbar machen?"
   ]
  },
  {
   "cell_type": "markdown",
   "metadata": {
    "slideshow": {
     "slide_type": "notes"
    }
   },
   "source": [
    "Die Idee ist, dass wir ein InterWface verwenden um zu deklarieren, dass Objekte einer Klasse eine Ordnungsrelation erfüllen. "
   ]
  },
  {
   "cell_type": "markdown",
   "metadata": {
    "slideshow": {
     "slide_type": "slide"
    }
   },
   "source": [
    "### Das ```CanCompare```  interface\n",
    "\n",
    "> Bezeichnet Objekte die Verglichen werden können "
   ]
  },
  {
   "cell_type": "code",
   "execution_count": 51,
   "metadata": {},
   "outputs": [],
   "source": [
    "interface CanCompare { \n",
    "   // returns -1, 0, 1\n",
    "    int compare(Object that);\n",
    "}"
   ]
  },
  {
   "cell_type": "markdown",
   "metadata": {
    "slideshow": {
     "slide_type": "-"
    }
   },
   "source": [
    "Gibt -1, 0, 1 zurück, je nachdem ob Objekt kleiner, gleich oder grösser ist."
   ]
  },
  {
   "cell_type": "markdown",
   "metadata": {
    "slideshow": {
     "slide_type": "slide"
    }
   },
   "source": [
    "### Übung:\n",
    "\n",
    "* implementieren Sie die ```compare``` Methode für die Klasse Tupel"
   ]
  },
  {
   "cell_type": "code",
   "execution_count": 52,
   "metadata": {
    "slideshow": {
     "slide_type": "-"
    }
   },
   "outputs": [],
   "source": [
    "public class Tuple implements CanCompare { \n",
    "\n",
    "    int first;\n",
    "    int second;\n",
    "\n",
    "    public Tuple (int first, int second) {\n",
    "        this.first = first;\n",
    "        this.second = second;\n",
    "    }\n",
    "    \n",
    "    public int compare(Object thatObject) { \n",
    "       \n",
    "        if (thatObject instanceof Tuple == false) {\n",
    "            throw new IllegalArgumentException(\"cam only compare tuples\");\n",
    "        }\n",
    "        Tuple that = (Tuple) thatObject;\n",
    "        if (this.first < that.first \n",
    "            || this.first == that.first && this.second < that.second) { \n",
    "            return -1;\n",
    "        }\n",
    "        else if (this.first == that.first && this.second == that.second) {\n",
    "            return 0;\n",
    "        }\n",
    "        else { return 1; }\n",
    "    }\n",
    "    \n",
    "    public String toString() { \n",
    "        return \"(\" +this.first + \", \" + this.second +\")\";\n",
    "    }\n",
    "    \n",
    "}"
   ]
  },
  {
   "cell_type": "markdown",
   "metadata": {
    "slideshow": {
     "slide_type": "slide"
    }
   },
   "source": [
    "\n",
    "### Sortieren "
   ]
  },
  {
   "cell_type": "markdown",
   "metadata": {
    "slideshow": {
     "slide_type": "notes"
    }
   },
   "source": [
    "Wir beschränken nun die Kollektion auf Objekte, die Vergleichbar sind. Damit haben wir für jedes Objekt die ```CompareTo``` Methode zur Verfügung und können das Array entsprechend sortieren. "
   ]
  },
  {
   "cell_type": "code",
   "execution_count": 53,
   "metadata": {
    "slideshow": {
     "slide_type": "-"
    }
   },
   "outputs": [],
   "source": [
    "void sort(CanCompare[] arr) { \n",
    "    for (int i = 0; i < arr.length ; ++i) {\n",
    "        int j = i;\n",
    "        while(j > 0) {                \n",
    "            if (arr[j].compare(arr[j-1]) < 0) {            \n",
    "                CanCompare temp = arr[j];\n",
    "                arr[j] = arr[j-1];\n",
    "                arr[j-1] = temp;\n",
    "            }\n",
    "            j--;\n",
    "        }\n",
    "    }    \n",
    "}"
   ]
  },
  {
   "cell_type": "code",
   "execution_count": 54,
   "metadata": {
    "slideshow": {
     "slide_type": "-"
    }
   },
   "outputs": [
    {
     "name": "stdout",
     "output_type": "stream",
     "text": [
      "(1, 7)\n",
      "(2, 6)\n",
      "(2, 8)\n",
      "(5, 1)\n"
     ]
    }
   ],
   "source": [
    "CanCompare[] array = {new Tuple(5,1), new Tuple(1,7), new Tuple(2,8), new Tuple(2,6)};\n",
    "sort(array);\n",
    "for (int i = 0; i < array.length; ++i) {\n",
    "    System.out.println(array[i]);\n",
    "}"
   ]
  },
  {
   "cell_type": "markdown",
   "metadata": {
    "slideshow": {
     "slide_type": "slide"
    }
   },
   "source": [
    "### Übung\n",
    "\n",
    "* Ändern Sie den Code so ab, das zuerst nach dem zweiten Tupelelement sortiert wird."
   ]
  },
  {
   "cell_type": "markdown",
   "metadata": {
    "slideshow": {
     "slide_type": "slide"
    }
   },
   "source": [
    "# Nachteile von generischem Programmieren mit Objekten"
   ]
  },
  {
   "cell_type": "markdown",
   "metadata": {
    "slideshow": {
     "slide_type": "notes"
    }
   },
   "source": [
    "Diese Art von programmieren ist flexibel und löst das Problem, dass wir für jeden Datentyp eine eigene Implementation brauchen. Der Ansatz hat aber zwei gewichtige Nachteile:"
   ]
  },
  {
   "cell_type": "markdown",
   "metadata": {
    "slideshow": {
     "slide_type": "slide"
    }
   },
   "source": [
    "### Nachteil 1: Intention wird nicht kommuniziert\n",
    "\n",
    "```\n",
    "\n",
    "void foo(Object[] objectArray)  {\n",
    "\n",
    "    // was ist in Array drin\n",
    "\n",
    "}\n",
    "\n",
    "```\n",
    "\n",
    "* Nimmt die Methode  ein Array von Objekten, von Listen oder von Strings entgegen?"
   ]
  },
  {
   "cell_type": "markdown",
   "metadata": {
    "slideshow": {
     "slide_type": "notes"
    }
   },
   "source": [
    "Der zweite Nachteil ist, dass der Compiler nicht sicherstellt, dass nur Objekte vom richtigen Typ hinzugefügt werden. "
   ]
  },
  {
   "cell_type": "markdown",
   "metadata": {
    "slideshow": {
     "slide_type": "slide"
    }
   },
   "source": [
    "### Nachteil 2: Fehlende Typsicherheit\n",
    "\n",
    "> Folgender Code kompiliert, gibt aber einen Fehler zur Laufzeit"
   ]
  },
  {
   "cell_type": "code",
   "execution_count": 59,
   "metadata": {},
   "outputs": [
    {
     "ename": "EvalException",
     "evalue": "class java.lang.Integer cannot be cast to class java.lang.String (java.lang.Integer and java.lang.String are in module java.base of loader 'bootstrap')",
     "output_type": "error",
     "traceback": [
      "\u001b[1m\u001b[31m---------------------------------------------------------------------------\u001b[0m",
      "\u001b[1m\u001b[31mjava.lang.ClassCastException: class java.lang.Integer cannot be cast to class java.lang.String (java.lang.Integer and java.lang.String are in module java.base of loader 'bootstrap')\u001b[0m",
      "\u001b[1m\u001b[31m\tat .(#62:1)\u001b[0m"
     ]
    }
   ],
   "source": [
    "Stack stack = new Stack();\n",
    "stack.push(new Integer(5));\n",
    "String a =  (String) stack.pop()"
   ]
  },
  {
   "cell_type": "markdown",
   "metadata": {},
   "source": [
    "Im Bild, das wir Anfangs gezeigt haben, heisst das, dass die Menge aller fehlerhaften Programme, die aber kompilieren unnötig gross ist."
   ]
  },
  {
   "cell_type": "markdown",
   "metadata": {
    "slideshow": {
     "slide_type": "slide"
    }
   },
   "source": [
    "### Nachteil 2: Fehlende Typsicherheit\n",
    "\n",
    "![typsystem](images/typesystem-1.png)"
   ]
  },
  {
   "cell_type": "markdown",
   "metadata": {
    "slideshow": {
     "slide_type": "slide"
    }
   },
   "source": [
    "### Nachteil 3: Klassenhierarchie als Voraussetzung\n",
    "\n",
    "* Klassen müssen in Hierarchie gebracht werden\n",
    "    * Nicht möglich ohne Source Code\n",
    "    \n",
    "![hierarchy](./images/compare-hierarchy.png)"
   ]
  },
  {
   "cell_type": "markdown",
   "metadata": {
    "slideshow": {
     "slide_type": "slide"
    }
   },
   "source": [
    "# Ausblick\n",
    "\n",
    "* Bessere Lösung mit Java Generics\n",
    "    * Teil von Java seit Java 5\n",
    "* Wichtiges Element von fast allen Programmiersprachen"
   ]
  }
 ],
 "metadata": {
  "celltoolbar": "Slideshow",
  "kernelspec": {
   "display_name": "Java",
   "language": "java",
   "name": "java"
  },
  "language_info": {
   "codemirror_mode": "java",
   "file_extension": ".java",
   "mimetype": "text/x-java-source",
   "name": "Java",
   "pygments_lexer": "java",
   "version": "11.0.4+11"
  },
  "livereveal": {
   "center": "false",
   "livereveal": {
    "scroll": true
   },
   "theme": "capucino",
   "transition": "none"
  }
 },
 "nbformat": 4,
 "nbformat_minor": 2
}
