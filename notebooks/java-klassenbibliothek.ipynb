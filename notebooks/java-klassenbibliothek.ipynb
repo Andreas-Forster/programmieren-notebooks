{
 "cells": [
  {
   "cell_type": "markdown",
   "metadata": {
    "slideshow": {
     "slide_type": "slide"
    }
   },
   "source": [
    "# Auszüge aus der Java Klassenbibliothek\n",
    "\n",
    "#### Marcel Lüthi <br/> Departement Mathematik und Informatik"
   ]
  },
  {
   "cell_type": "markdown",
   "metadata": {
    "slideshow": {
     "slide_type": "notes"
    }
   },
   "source": [
    "In diesem Notebook schauen wir uns die Java Klassenbibliothek etwas näher an. Unser Fokus liegt vor allem auf den Collections. Diese Spielen eine grosse Rolle in der modernen Programmierung und werden von beinahe jedem grösseren Programm extensiv genutzt. "
   ]
  },
  {
   "cell_type": "markdown",
   "metadata": {
    "slideshow": {
     "slide_type": "slide"
    }
   },
   "source": [
    "### Agenda\n",
    "\n",
    "* Collections\n",
    "* Streams\n",
    "* Weitere nützliche Pakete.\n"
   ]
  },
  {
   "cell_type": "markdown",
   "metadata": {
    "slideshow": {
     "slide_type": "slide"
    }
   },
   "source": [
    "# Collections"
   ]
  },
  {
   "cell_type": "markdown",
   "metadata": {
    "slideshow": {
     "slide_type": "notes"
    }
   },
   "source": [
    "Die Java Collections fassen verschiedene Klassen zusammen, die alle gemeinsam haben, dass sie eine \"Ansammlung\" von Elementen verwalten. Dies können geordnete Sequenzen wie zum Beispiel Listen sein, oder auch ungeordnete Mengen von Elementen. Dazu gibt es auch Implementation von Queues und Stacks."
   ]
  },
  {
   "cell_type": "markdown",
   "metadata": {
    "slideshow": {
     "slide_type": "slide"
    }
   },
   "source": [
    "### Collections\n",
    "\n",
    "*Collections* fassen Objekte (Elements) zusammen\n",
    "\n",
    "* Beispiele:\n",
    "    * Schulklasse (Gruppe von Schülern)\n",
    "    * Einkaufsliste (Sammlung von Lebensmitteln)\n",
    "\n",
    "\n",
    "> Auf Instanzen beliebiger Klassen anwendbar (Generic)"
   ]
  },
  {
   "cell_type": "markdown",
   "metadata": {
    "slideshow": {
     "slide_type": "slide"
    }
   },
   "source": [
    "### Wichtigste Collections\n",
    "\n",
    "![collections](./images/collections.png)"
   ]
  },
  {
   "cell_type": "markdown",
   "metadata": {
    "slideshow": {
     "slide_type": "notes"
    }
   },
   "source": [
    "Alle Collection implementieren das Collection interface. In der API Dokumentation sehen wir, dass dieses bereits eine Vielzahl von Methoden zur Verfügung stellt. Diese Methoden haben wir also für alle Collection Klassen zur Verfügung. "
   ]
  },
  {
   "cell_type": "markdown",
   "metadata": {
    "slideshow": {
     "slide_type": "slide"
    }
   },
   "source": [
    "### Methoden von Collections\n",
    "\n",
    "<a href=\"https://docs.oracle.com/javase/8/docs/api/index.html?java/util/Collection.html\"> <img src=\"./images/collection-api.png\"/></a>"
   ]
  },
  {
   "cell_type": "markdown",
   "metadata": {
    "slideshow": {
     "slide_type": "notes"
    }
   },
   "source": [
    "Eine wichtiges Kriterium wenn wir die geeignete Klasse aussuchen ist, ob wir eine geordnete Liste wollen, die auch Duplikate enthalten kann, oder ob wir mit einer ungeordneten Menge im mathematischen Sinne arbeiten wollen. Je nachdem wählen wir entweder eine Klasse die das ```List``` interface implementiert oder eine die das ```Set``` interface implementiert. "
   ]
  },
  {
   "cell_type": "markdown",
   "metadata": {
    "slideshow": {
     "slide_type": "slide"
    }
   },
   "source": [
    "<div style=\"float:left;width:50%\">\n",
    "\n",
    "<h2> Interface List </h2>\n",
    "<ul>\n",
    "    <li> Geordnet </li>\n",
    "    <li> Erlaubt Duplikate </li>\n",
    "</ul>\n",
    "\n",
    "<h4> Beispiele </h4>\n",
    "\n",
    "<ul>\n",
    "    <li> ArrayList </li>\n",
    "    <li> LinkedList </li>\n",
    "</ul>\n",
    "</div>\n",
    "<div style=\"float:right;width:50%\">\n",
    "\n",
    "<h2> Interface Set </h2>\n",
    "<ul>\n",
    "    <li> Ungeordnet </li>\n",
    "    <li> Enthält jedes Element nur einmal </li>\n",
    "</ul>\n",
    "\n",
    "<h4> Beispiele </h4>\n",
    "\n",
    "<ul>\n",
    "    <li> HashSet </li>\n",
    "    <li> TreeSet </li>\n",
    "</ul>\n",
    "</div>"
   ]
  },
  {
   "cell_type": "markdown",
   "metadata": {
    "slideshow": {
     "slide_type": "notes"
    }
   },
   "source": [
    "Der Unterschied ist im folgenden Beispiel illustriert. Wenn ein Element mehrfach zur Kollektion hinzugefügt wird, erscheint es in der Liste mehrfach, während es beim Set nur einmal gespeichert wird. Ausserdem entspricht die Reihenfolge in der Liste der Einfügereihenfolge, während die Reihenfolge der Elemente bei der Menge beliebig ist."
   ]
  },
  {
   "cell_type": "markdown",
   "metadata": {
    "slideshow": {
     "slide_type": "slide"
    }
   },
   "source": [
    "### Beispiel: Unterschied List/Set"
   ]
  },
  {
   "cell_type": "code",
   "execution_count": null,
   "metadata": {},
   "outputs": [],
   "source": [
    "String[] fruits = {\"Banana\", \"Apple\", \"Mango\", \"Apple\"};\n",
    "\n",
    "List<String> fruitList = new ArrayList<>();\n",
    "Set<String> fruitSet = new HashSet<>();\n",
    "\n",
    "for (String fruit : fruits) {\n",
    "    fruitList.add(fruit);\n",
    "    fruitSet.add(fruit);\n",
    "}\n",
    "System.out.println(\"fruitList: \"+ fruitList);\n",
    "System.out.println(\"fruitSet: \"+ fruitSet);\n"
   ]
  },
  {
   "cell_type": "markdown",
   "metadata": {
    "slideshow": {
     "slide_type": "notes"
    }
   },
   "source": [
    "Alle Klassen die das Collection interface implementieren, implementieren auch das ```Iterable``` Interface:"
   ]
  },
  {
   "cell_type": "markdown",
   "metadata": {
    "slideshow": {
     "slide_type": "slide"
    }
   },
   "source": [
    "### Iterable \n",
    "\n",
    "* Alle Java collections implementieren das *Iterable* interface\n",
    "* Wichtigste Methode: Gibt Iterator zurück\n",
    "\n",
    "```java\n",
    "public interface Iterable<T> {\n",
    "\n",
    "    Iterator<T> iterator();\n",
    "\n",
    "    ...\n",
    "}```"
   ]
  },
  {
   "cell_type": "markdown",
   "metadata": {
    "slideshow": {
     "slide_type": "notes"
    }
   },
   "source": [
    "Die wichtigste Methode des ```Iterable``` interface ist die Methode ```iterator``` welche es uns erlaubt einen Iterator zu erhalten.  Ein Iterator ist eine Klasse, mit der wir über alle Elemente der Kollektion iterieren können. "
   ]
  },
  {
   "cell_type": "markdown",
   "metadata": {
    "slideshow": {
     "slide_type": "slide"
    }
   },
   "source": [
    "### Iterator interface\n",
    "\n",
    "* Sequentielles Durchlaufen einer Kollektion\n",
    "* Wichtigste Methoden:\n",
    "    * ```boolean hasNext()```\n",
    "    * ```T next()```\n",
    "* Kreieren eines neuen Itearators: ```collection.iterator()``` \n",
    "\n",
    "#### Beispiel"
   ]
  },
  {
   "cell_type": "code",
   "execution_count": null,
   "metadata": {},
   "outputs": [],
   "source": [
    "Iterator<String> it = fruitList.iterator();\n",
    "while (it.hasNext()) {\n",
    "    System.out.println(it.next());\n",
    "}"
   ]
  },
  {
   "cell_type": "markdown",
   "metadata": {
    "slideshow": {
     "slide_type": "slide"
    }
   },
   "source": [
    "### Iterator form des For loops"
   ]
  },
  {
   "cell_type": "markdown",
   "metadata": {},
   "source": [
    "> Implementation von ```Iterable``` erlaubt die nutzen der Iterator form des For loops"
   ]
  },
  {
   "cell_type": "code",
   "execution_count": null,
   "metadata": {
    "slideshow": {
     "slide_type": "-"
    }
   },
   "outputs": [],
   "source": [
    "for (String s : fruitList) {\n",
    "    System.out.println(s);\n",
    "}"
   ]
  },
  {
   "cell_type": "markdown",
   "metadata": {
    "slideshow": {
     "slide_type": "notes"
    }
   },
   "source": [
    "Eine weitere nützliche Klasse von Datenstrukturen ist unter dem Interface '''Map''' zusammengefasst. \n",
    "Eine ```Map``` bildet eine Menge von *Schlüsseln* auf eine Menge von Werte ab. "
   ]
  },
  {
   "cell_type": "markdown",
   "metadata": {
    "slideshow": {
     "slide_type": "slide"
    }
   },
   "source": [
    "### Maps\n",
    "\n",
    "Map ist ähnlich wie ```Set```, aber:\n",
    "\n",
    "* Verlinkt zwei Objekte: *Key* und *Value* (z.B. Produkte mit ihren Preisen)\n",
    "* Stammt nicht vom Collection Interface ab (z.B. put statt add)\n",
    "* ```get``` eines Elements via *Key*\n"
   ]
  },
  {
   "cell_type": "markdown",
   "metadata": {
    "slideshow": {
     "slide_type": "slide"
    }
   },
   "source": [
    "### Maps - Hierarchie\n",
    "\n",
    "![maps](./images/maps.png)"
   ]
  },
  {
   "cell_type": "markdown",
   "metadata": {
    "slideshow": {
     "slide_type": "notes"
    }
   },
   "source": [
    "Wie Maps funktionieren wird am einfachsten an einem Beispiel klar:"
   ]
  },
  {
   "cell_type": "markdown",
   "metadata": {
    "slideshow": {
     "slide_type": "slide"
    }
   },
   "source": [
    "### Anwendungsbeispiel Map"
   ]
  },
  {
   "cell_type": "code",
   "execution_count": null,
   "metadata": {},
   "outputs": [],
   "source": [
    "Map<String, Double> prices = new HashMap<>();\n",
    "\n",
    "prices.put(\"Banana\", 1.5);\n",
    "prices.put(\"Apple\", 1.0);\n",
    "prices.put(\"Mango\", 2.5);\n",
    "\n",
    "System.out.println(\"Price of a Mango \" +prices.get(\"Apple\"));"
   ]
  },
  {
   "cell_type": "markdown",
   "metadata": {
    "slideshow": {
     "slide_type": "fragment"
    }
   },
   "source": [
    "#### Übungen\n",
    "* Was passiert wenn man einen Schlüssel zweimal (mit unterschiedlichem Wert) einfügt\n",
    "* Schreiben Sie einen for-loop, der alle Preise ausgibt.\n",
    "    * Tip: Die Schlüssel erhalten Sie via der Methode ```keySet```\n",
    "* Wie ändert sich die Ausgabe, wenn Sie eine TreeMap verwenden?"
   ]
  },
  {
   "cell_type": "code",
   "execution_count": null,
   "metadata": {
    "scrolled": true,
    "slideshow": {
     "slide_type": "-"
    }
   },
   "outputs": [],
   "source": []
  },
  {
   "cell_type": "markdown",
   "metadata": {
    "slideshow": {
     "slide_type": "notes"
    }
   },
   "source": [
    "Im Folgenden wollen wir noch anhand eines einfachen Beispiels zeigen, wie man mittels dieser verschiedenen Arten von Kollektionen Sachverhalte der realen Welt abbilden kann. "
   ]
  },
  {
   "cell_type": "markdown",
   "metadata": {
    "slideshow": {
     "slide_type": "slide"
    }
   },
   "source": [
    "### Kollektionen: Beispiel\n",
    "\n",
    "* Mögliche Modellierung eines \"Früchteladens\"\n",
    "\n",
    "```java\n",
    "import java.util.*;\n",
    "\n",
    "class Fruit {\n",
    "    String name;\n",
    "}\n",
    "\n",
    "public class FruitShop {\n",
    "\n",
    "    Set<Fruit> products = new HashSet<Fruit>();\t\t\n",
    "    \n",
    "\tMap<Fruit, Double> priceForFruit = new HashMap<Fruit, Double>();\n",
    "\n",
    "\tQueue<Person> customers = new LinkedList<Person>();\n",
    "}\n",
    "\n",
    "```"
   ]
  },
  {
   "cell_type": "markdown",
   "metadata": {
    "slideshow": {
     "slide_type": "notes"
    }
   },
   "source": [
    "Unser Früchteladen verwaltet eine Menge von Produkten, nämlich die verschiedenen Früchte die zum Verkauf anstehen. Da dieselbe Frucht nicht zweimal vorkommen darf, werden die Früchte in einem ```Set``` verwaltet. Jede Frucht hat einen Preis. Die Verbindung vcn Frucht zum Preis wird via einer ```Map``` erreicht. Die Kunden, die mögliche Produkte kaufen wollen, die werden einer nach dem anderen nach dem Prinzip *first come first serve* bedient. Dies wird über die Klasse ```Queue``` abgebildet. "
   ]
  },
  {
   "cell_type": "markdown",
   "metadata": {
    "slideshow": {
     "slide_type": "slide"
    }
   },
   "source": [
    "# Streams"
   ]
  },
  {
   "cell_type": "markdown",
   "metadata": {
    "slideshow": {
     "slide_type": "notes"
    }
   },
   "source": [
    "Als nächstes schauen wir uns die Streams an. Alle Collection Methoden erlauben usn mittles der Methode ```.stream()``` eine Ansicht auf die Kollektion zu erhalten, die es uns ermöglicht mittels Lambda Funktionen die Elemente der Kollektion zu prozessieren. Die wichtigsten drei Operationen auf Streams sind ```map```, ```filter```und ```reduce```, die wir uns im Folgenden anschauen werden. "
   ]
  },
  {
   "cell_type": "markdown",
   "metadata": {
    "slideshow": {
     "slide_type": "slide"
    }
   },
   "source": [
    "### Streams\n",
    "\n",
    "> Funktionaler Ansatz um Elemente zu prozessieren\n",
    "\n",
    "* Aus allen Collection kann mit Methode ```stream ``` ein ```Stream``` Objekt erzeugt werden\n",
    "\n",
    "* Wichtige Methoden\n",
    "    * ```map``` \n",
    "    * ```filter``` \n",
    "    * ```reduce``` \n",
    "    * ...\n",
    "\n"
   ]
  },
  {
   "cell_type": "markdown",
   "metadata": {
    "slideshow": {
     "slide_type": "slide"
    }
   },
   "source": [
    "### map Methode\n",
    "\n",
    "Signatur (in Interface ```Stream<T>```)\n",
    "\n",
    "``` <R> Stream<R>  map(Function<T,R> mapper) ```\n",
    " \n",
    "* Führt Funktion auf jedem Element vom Stream aus \n",
    "    * produziert neue Liste    "
   ]
  },
  {
   "cell_type": "markdown",
   "metadata": {
    "slideshow": {
     "slide_type": "notes"
    }
   },
   "source": [
    "Die map-Methode haben wir uns schon früher angeschaut. Diese wendet einfach eine übergebene Funktion auf jedes Element im Stream an. Das Resultat ist ein neuer Stream mit den entsprechend transformierten Elementen. "
   ]
  },
  {
   "cell_type": "markdown",
   "metadata": {
    "slideshow": {
     "slide_type": "slide"
    }
   },
   "source": [
    "### Beispiel: map-Methode"
   ]
  },
  {
   "cell_type": "code",
   "execution_count": null,
   "metadata": {},
   "outputs": [],
   "source": [
    "import java.util.stream.Stream;\n",
    "\n",
    "Stream<String>  newFruitStream = fruitList.stream().map(f -> f.toUpperCase());\n",
    "newFruitStream.forEach(f -> System.out.println(f));"
   ]
  },
  {
   "cell_type": "markdown",
   "metadata": {
    "slideshow": {
     "slide_type": "fragment"
    }
   },
   "source": [
    "#### Übung: \n",
    "\n",
    "* Erzeugen Sie einen Stream von den Zahlen ```1```, ```2``` und ```3```, indem Sie die statische Methode ```of``` von Streams nutzen\n",
    "* Nutzen Sie die Methode ```map``` um diese in einen ```String``` umzuwandlen. \n",
    "* Geben Sie die Elemente des ```Streams``` aus."
   ]
  },
  {
   "cell_type": "code",
   "execution_count": null,
   "metadata": {},
   "outputs": [],
   "source": []
  },
  {
   "cell_type": "markdown",
   "metadata": {
    "slideshow": {
     "slide_type": "notes"
    }
   },
   "source": [
    "Die filter-Methode wendet auf jedes Element ein gegebenes Prädikat an. Wenn das Prädikat für ein gegebenes Element wahr ist, wird dieses in einen neuen Stream geschrieben und ansonsten verworfen. Das Resultat ist ein neuer Stream mit nur den Elementen, für die das Prädikat wahr ist. "
   ]
  },
  {
   "cell_type": "markdown",
   "metadata": {
    "slideshow": {
     "slide_type": "slide"
    }
   },
   "source": [
    "### filter-Methode\n",
    "\n",
    "\n",
    "Signatur (in Interface ```Stream<T>```)\n",
    "\n",
    "``` <R> Stream<R>  filter(Predicate<T> filter) ```` \n",
    " \n",
    "* Gibt Stream mit allen Elementen ```e``` zurück für die gilt ```filter(e) == true```"
   ]
  },
  {
   "cell_type": "markdown",
   "metadata": {},
   "source": [
    "### Beispiel: filter-Methode"
   ]
  },
  {
   "cell_type": "code",
   "execution_count": null,
   "metadata": {},
   "outputs": [],
   "source": [
    "Stream<String> newFruitStream = fruitList.stream().filter(f -> f.contains(\"n\"));\n",
    "newFruitStream.forEach(f -> System.out.println(f));"
   ]
  },
  {
   "cell_type": "markdown",
   "metadata": {
    "slideshow": {
     "slide_type": "notes"
    }
   },
   "source": [
    "Die reduce-Methode erlaubt uns die Elemente zusammenzuziehen. Dabei wir jedes Element jeweils einzeln mit dem Resultat der Operation auf den Vorgängerelementen aufgerufen. "
   ]
  },
  {
   "cell_type": "markdown",
   "metadata": {
    "slideshow": {
     "slide_type": "slide"
    }
   },
   "source": [
    "### reduce-Methode\n",
    "\n",
    "Signatur (in Interface ```Stream<T>```)\n",
    "\n",
    "``` <R> Stream<R>  Reduce(T identity, BinaryOperator<T> accumulator) ```\n",
    "\n",
    "* Zieht Element zusammen, durch ausführen von ```accumulator```\n",
    "* BinaryOperator ist ```FunctionalInterface``` mit zwei Argumenten vom selben Typ      "
   ]
  },
  {
   "cell_type": "markdown",
   "metadata": {
    "slideshow": {
     "slide_type": "notes"
    }
   },
   "source": [
    "Wie ```reduce``` funktioniert lässt sich am besten an einem Beispiel zeigen:"
   ]
  },
  {
   "cell_type": "markdown",
   "metadata": {
    "slideshow": {
     "slide_type": "slide"
    }
   },
   "source": [
    "### Beispiel: reduce"
   ]
  },
  {
   "cell_type": "code",
   "execution_count": null,
   "metadata": {},
   "outputs": [],
   "source": [
    "import java.util.function.BinaryOperator;\n",
    "\n",
    "BinaryOperator<String> concat = (s, t) -> s + t;\n",
    "fruitList.stream().reduce(\"\", concat);"
   ]
  },
  {
   "cell_type": "markdown",
   "metadata": {
    "slideshow": {
     "slide_type": "fragment"
    }
   },
   "source": [
    "#### Übung\n",
    "\n",
    "* Schreiben Sie eine Funktion, die alle ungeraden Zahlen filtert, diese verdoppelt und dann aufaddiert."
   ]
  },
  {
   "cell_type": "code",
   "execution_count": null,
   "metadata": {},
   "outputs": [],
   "source": []
  },
  {
   "cell_type": "markdown",
   "metadata": {
    "slideshow": {
     "slide_type": "slide"
    }
   },
   "source": [
    "# Weitere nützliche Pakete"
   ]
  },
  {
   "cell_type": "markdown",
   "metadata": {
    "slideshow": {
     "slide_type": "notes"
    }
   },
   "source": [
    "Die Java Bibliothek bietet eine fast grenzenlose Sammlung an nützlichen Funktionen. Hier wollen wir einfach zwei Beispiele vorführen, die zeigen, wie einfach man sehr komplexe Dinge bewerkstelligen kann. "
   ]
  },
  {
   "cell_type": "markdown",
   "metadata": {
    "slideshow": {
     "slide_type": "notes"
    }
   },
   "source": [
    "Das erste Beispiel nutzt Funktionalität aus dem Paket ```java.net```, welches Klassen anbietet, welche helfen Daten über ein Netzwerk auszutauschen. In unserem Beispiel zeigen wir, wie einfach wir eine Webseite aus einem Programm lesen können. Dank dem Stream Interface, können wir die Webseite auch mit Lambda Funktionen manipulieren. "
   ]
  },
  {
   "cell_type": "markdown",
   "metadata": {
    "slideshow": {
     "slide_type": "slide"
    }
   },
   "source": [
    "\n",
    "### java.net\n",
    "\n",
    "> Funktionalität um Netzwerk / Internet Anwendungen zu implementieren"
   ]
  },
  {
   "cell_type": "markdown",
   "metadata": {},
   "source": [
    "#### Beispiel"
   ]
  },
  {
   "cell_type": "code",
   "execution_count": null,
   "metadata": {},
   "outputs": [],
   "source": [
    "import java.net.*;"
   ]
  },
  {
   "cell_type": "code",
   "execution_count": null,
   "metadata": {},
   "outputs": [],
   "source": [
    "URL url = new URL(\"https://news.ycombinator.com\");\n",
    "\n",
    "HttpURLConnection connection = (HttpURLConnection) url.openConnection();\n",
    "InputStream is = connection.getInputStream();\n",
    "\n",
    "BufferedReader reader = new BufferedReader(new InputStreamReader(is));\n",
    "Stream<String> lines = reader.lines();\n",
    "String response = lines.reduce(\"\", (s,t) -> s + t);\n",
    "\n",
    "\n",
    "display(response,  \"text/html\");"
   ]
  },
  {
   "cell_type": "markdown",
   "metadata": {},
   "source": [
    "* Übung: Entfernen Sie alle Zeilen, die den string \"points\" enthalten."
   ]
  },
  {
   "cell_type": "markdown",
   "metadata": {
    "slideshow": {
     "slide_type": "notes"
    }
   },
   "source": [
    "Das nächste Beispiel zeigt ein Beispiel aus dem Paket ```java.text```, welches Funktionalität zum Formatieren von Text zur Verfügung stellt. Als Beispiel zeigen wir, wie man ein Datum textuell aufbereiten kann. "
   ]
  },
  {
   "cell_type": "markdown",
   "metadata": {
    "slideshow": {
     "slide_type": "slide"
    }
   },
   "source": [
    "### java.text\n",
    "\n",
    "> Länderunabhängiges Formatieren von Text, Datum, Zahlenformaten\n",
    "\n",
    "#### Beispiel"
   ]
  },
  {
   "cell_type": "code",
   "execution_count": null,
   "metadata": {},
   "outputs": [],
   "source": [
    "import java.text.SimpleDateFormat;\n",
    "\n",
    "Date now = new Date();\n",
    "\n",
    "SimpleDateFormat format =   new SimpleDateFormat(\"EEE MMM dd HH:mm:ss:SSS zzz yy\");\n",
    "System.out.println(\" 3. \" + format.format(now))"
   ]
  },
  {
   "cell_type": "markdown",
   "metadata": {
    "slideshow": {
     "slide_type": "fragment"
    }
   },
   "source": [
    "#### Übung\n",
    "\n",
    "* Lesen Sie die [Dokumentation](https://docs.oracle.com/javase/8/docs/api/java/text/SimpleDateFormat.html) und ändern Sie das Muster so, dass zusätzlich auch Milisekunden ausgegeben werden"
   ]
  },
  {
   "cell_type": "markdown",
   "metadata": {
    "slideshow": {
     "slide_type": "notes"
    }
   },
   "source": [
    "In unserem letzten Beispiel nutzen wir Funktionalität aus den Paketen ```javax.imageio``` und ```java.awt``` um zu zeigen, wie man aus Java Bilder lesen kann. "
   ]
  },
  {
   "cell_type": "markdown",
   "metadata": {
    "slideshow": {
     "slide_type": "slide"
    }
   },
   "source": [
    "### javax.imageio\n",
    "\n",
    "> Lesen und schreiben von Bildern\n",
    "\n",
    "#### Beispiel"
   ]
  },
  {
   "cell_type": "code",
   "execution_count": null,
   "metadata": {},
   "outputs": [],
   "source": [
    "import javax.imageio.ImageIO;\n",
    "import java.awt.image.BufferedImage;\n",
    "BufferedImage img = ImageIO.read(new File(\"./images/cartoon.png\"));\n",
    "\n",
    "img;\n"
   ]
  },
  {
   "cell_type": "code",
   "execution_count": null,
   "metadata": {},
   "outputs": [],
   "source": []
  }
 ],
 "metadata": {
  "celltoolbar": "Slideshow",
  "kernelspec": {
   "display_name": "Java",
   "language": "java",
   "name": "java"
  },
  "language_info": {
   "codemirror_mode": "java",
   "file_extension": ".java",
   "mimetype": "text/x-java-source",
   "name": "Java",
   "pygments_lexer": "java",
   "version": "11.0.4+11"
  }
 },
 "nbformat": 4,
 "nbformat_minor": 2
}
