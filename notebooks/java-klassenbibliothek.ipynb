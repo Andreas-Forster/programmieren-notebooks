{
 "cells": [
  {
   "cell_type": "markdown",
   "metadata": {
    "slideshow": {
     "slide_type": "slide"
    }
   },
   "source": [
    "# Auszüge aus der Java Klassenbibliothek\n",
    "\n",
    "#### Marcel Lüthi <br/> Departement Mathematik und Informatik"
   ]
  },
  {
   "cell_type": "markdown",
   "metadata": {
    "slideshow": {
     "slide_type": "notes"
    }
   },
   "source": [
    "In diesem Notebook schauen wir uns die Java Klassenbibliothek etwas näher an. Unser Fokus liegt vor allem auf den Collections. Diese Spielen eine grosse Rolle in der modernen Programmierung und werden von beinahe jedem grösseren Programm extensiv genutzt. "
   ]
  },
  {
   "cell_type": "markdown",
   "metadata": {
    "slideshow": {
     "slide_type": "slide"
    }
   },
   "source": [
    "### Agenda\n",
    "\n",
    "* Collections\n",
    "* Streams\n",
    "* Weitere nützliche Pakete.\n"
   ]
  },
  {
   "cell_type": "markdown",
   "metadata": {
    "slideshow": {
     "slide_type": "slide"
    }
   },
   "source": [
    "# Collections"
   ]
  },
  {
   "cell_type": "markdown",
   "metadata": {
    "slideshow": {
     "slide_type": "notes"
    }
   },
   "source": [
    "Die Java Collections fassen verschiedene Klassen zusammen, die alle gemeinsam haben, dass sie eine \"Ansammlung\" von Elementen verwalten. Dies können geordnete Sequenzen wie zum Beispiel Listen sein, oder auch ungeordnete Mengen von Elementen. Dazu gibt es auch Implementation von Queues und Stacks."
   ]
  },
  {
   "cell_type": "markdown",
   "metadata": {
    "slideshow": {
     "slide_type": "slide"
    }
   },
   "source": [
    "### Collections\n",
    "\n",
    "*Collections* fassen Objekte (Elements) zusammen\n",
    "\n",
    "* Beispiele:\n",
    "    * Schulklasse (Gruppe von Schülern)\n",
    "    * Einkaufsliste (Sammlung von Lebensmitteln)\n",
    "\n",
    "\n",
    "> Auf Instanzen beliebiger Klassen anwendbar (Generic)"
   ]
  },
  {
   "cell_type": "markdown",
   "metadata": {
    "slideshow": {
     "slide_type": "slide"
    }
   },
   "source": [
    "### Wichtigste Collections\n",
    "\n",
    "![collections](./images/collections.png)"
   ]
  },
  {
   "cell_type": "markdown",
   "metadata": {
    "slideshow": {
     "slide_type": "notes"
    }
   },
   "source": [
    "Alle Collection implementieren das Collection interface. In der API Dokumentation sehen wir, dass dieses bereits eine Vielzahl von Methoden zur Verfügung stellt. Diese Methoden haben wir also für alle Collection Klassen zur Verfügung. "
   ]
  },
  {
   "cell_type": "markdown",
   "metadata": {
    "slideshow": {
     "slide_type": "slide"
    }
   },
   "source": [
    "### Methoden von Collections\n",
    "\n",
    "<a href=\"https://docs.oracle.com/javase/8/docs/api/index.html?java/util/Collection.html\"> <img src=\"./images/collection-api.png\"/></a>"
   ]
  },
  {
   "cell_type": "markdown",
   "metadata": {
    "slideshow": {
     "slide_type": "notes"
    }
   },
   "source": [
    "Eine wichtiges Kriterium wenn wir die geeignete Klasse aussuchen ist, ob wir eine geordnete Liste wollen, die auch Duplikate enthalten kann, oder ob wir mit einer ungeordneten Menge im Mathematischen Sinne arbeiten wollen. Je nachdem wählen wir entweder eine Klasse die das ```List``` interface implementiert oder eine die das ```Set``` interface implementiert. "
   ]
  },
  {
   "cell_type": "markdown",
   "metadata": {
    "slideshow": {
     "slide_type": "slide"
    }
   },
   "source": [
    "<div style=\"float:left;width:50%\">\n",
    "\n",
    "<h2> Interface List </h2>\n",
    "<ul>\n",
    "    <li> Geordnet </li>\n",
    "    <li> Erlaubt Duplikate </li>\n",
    "</ul>\n",
    "\n",
    "<h4> Beispiele </h4>\n",
    "\n",
    "<ul>\n",
    "    <li> ArrayList </li>\n",
    "    <li> LinkedList </li>\n",
    "</ul>\n",
    "</div>\n",
    "<div style=\"float:right;width:50%\">\n",
    "\n",
    "<h2> Interface Set </h2>\n",
    "<ul>\n",
    "    <li> Ungeordnet </li>\n",
    "    <li> Enthält jedes Element nur einmal </li>\n",
    "</ul>\n",
    "\n",
    "<h4> Beispiele </h4>\n",
    "\n",
    "<ul>\n",
    "    <li> HashSet </li>\n",
    "    <li> TreeSet </li>\n",
    "</ul>\n",
    "</div>"
   ]
  },
  {
   "cell_type": "markdown",
   "metadata": {
    "slideshow": {
     "slide_type": "notes"
    }
   },
   "source": [
    "Der Unterschied ist im folgenden Beispiel illustriert. Wenn ein Element mehrfach zur Kollektion hinzugefügt wird, erscheint es in der Liste mehrfach, während es beim Set nur einmal gespeichert wird. Ausserdem entspricht die Reihenfolge in der Liste der Einfügereihenfolge, während die Reihenfolge der Elemente bei der Menge beliebig ist."
   ]
  },
  {
   "cell_type": "markdown",
   "metadata": {
    "slideshow": {
     "slide_type": "slide"
    }
   },
   "source": [
    "### Beispiel: Unterschied List/Set"
   ]
  },
  {
   "cell_type": "code",
   "execution_count": 55,
   "metadata": {},
   "outputs": [
    {
     "name": "stdout",
     "output_type": "stream",
     "text": [
      "fruitList: [Banana, Apple, Mango, Apple]\n",
      "fruitSet: [Apple, Mango, Banana]\n"
     ]
    }
   ],
   "source": [
    "String[] fruits = {\"Banana\", \"Apple\", \"Mango\", \"Apple\"};\n",
    "\n",
    "List<String> fruitList = new ArrayList<>();\n",
    "Set<String> fruitSet = new HashSet<>();\n",
    "\n",
    "for (String fruit : fruits) {\n",
    "    fruitList.add(fruit);\n",
    "    fruitSet.add(fruit);\n",
    "}\n",
    "System.out.println(\"fruitList: \"+ fruitList);\n",
    "System.out.println(\"fruitSet: \"+ fruitSet);\n"
   ]
  },
  {
   "cell_type": "markdown",
   "metadata": {
    "slideshow": {
     "slide_type": "notes"
    }
   },
   "source": [
    "Alle Klassen die das Collection interface implementieren, implementieren auch das ```Iterable``` Interface:"
   ]
  },
  {
   "cell_type": "markdown",
   "metadata": {
    "slideshow": {
     "slide_type": "slide"
    }
   },
   "source": [
    "### Iterable \n",
    "\n",
    "* Alle Java collections implementieren das *Iterable* interface\n",
    "* Wichtigste Methode: Gibt Iterator zurück\n",
    "\n",
    "```java\n",
    "public interface Iterable<T> {\n",
    "\n",
    "    Iterator<T> iterator();\n",
    "\n",
    "    ...\n",
    "}```"
   ]
  },
  {
   "cell_type": "markdown",
   "metadata": {
    "slideshow": {
     "slide_type": "notes"
    }
   },
   "source": [
    "Die wichtigste Methode des ```Iterable``` interface ist die Mehtode ```iterator``` welche es uns erlaubt einen Iterator zu erhalten.  Ein Iterator ist eine Klasse, die es uns erlaubt über alle Elemente der Kollektion zu iterieren. "
   ]
  },
  {
   "cell_type": "markdown",
   "metadata": {
    "slideshow": {
     "slide_type": "slide"
    }
   },
   "source": [
    "### Iterator interface\n",
    "\n",
    "* Sequentielles Durchlaufen einer Kollektion\n",
    "* Wichtigste Methoden:\n",
    "    * ```boolean hasNext()```\n",
    "    * ```T next()```\n",
    "* Kreieren eines neuen Itearators: ```collection.iterator()``` \n",
    "\n",
    "#### Beispiel"
   ]
  },
  {
   "cell_type": "code",
   "execution_count": 56,
   "metadata": {},
   "outputs": [
    {
     "name": "stdout",
     "output_type": "stream",
     "text": [
      "Banana\n",
      "Apple\n",
      "Mango\n",
      "Apple\n"
     ]
    }
   ],
   "source": [
    "Iterator<String> it = fruitList.iterator();\n",
    "while (it.hasNext()) {\n",
    "    System.out.println(it.next());\n",
    "}"
   ]
  },
  {
   "cell_type": "markdown",
   "metadata": {
    "slideshow": {
     "slide_type": "slide"
    }
   },
   "source": [
    "### Iterator form des For loops"
   ]
  },
  {
   "cell_type": "markdown",
   "metadata": {},
   "source": [
    "> Implementation von ```Iterable``` erlaubt die nutzen der Iterator form des For loops"
   ]
  },
  {
   "cell_type": "code",
   "execution_count": 59,
   "metadata": {
    "slideshow": {
     "slide_type": "-"
    }
   },
   "outputs": [
    {
     "name": "stdout",
     "output_type": "stream",
     "text": [
      "Banana\n",
      "Apple\n",
      "Mango\n",
      "Apple\n"
     ]
    }
   ],
   "source": [
    "for (String s : fruitList) {\n",
    "    System.out.println(s);\n",
    "}"
   ]
  },
  {
   "cell_type": "markdown",
   "metadata": {
    "slideshow": {
     "slide_type": "notes"
    }
   },
   "source": [
    "Eine weitere nützliche Klasse von Datenstrukturen ist unter dem Interface '''Map''' zusammengefasst. \n",
    "Eine ```Map``` bildet eine Menge von *Schlüsseln* auf eine Menge von Werte ab. "
   ]
  },
  {
   "cell_type": "markdown",
   "metadata": {
    "slideshow": {
     "slide_type": "slide"
    }
   },
   "source": [
    "### Maps\n",
    "\n",
    "Map ist ähnlich wie ```Set```, aber:\n",
    "\n",
    "* Verlinkt zwei Objekte: *Key* und *Value* (z.B. Produkte mit ihren Preisen)\n",
    "* Stammt nicht vom Collection Interface ab (z.B. put statt add)\n",
    "* ```get``` eines Elements via *Key*\n"
   ]
  },
  {
   "cell_type": "markdown",
   "metadata": {
    "slideshow": {
     "slide_type": "slide"
    }
   },
   "source": [
    "### Maps - Hierarchie\n",
    "\n",
    "![maps](./images/maps.png)"
   ]
  },
  {
   "cell_type": "markdown",
   "metadata": {
    "slideshow": {
     "slide_type": "notes"
    }
   },
   "source": [
    "Wie Maps funktionieren wird am einfachsten an einem Beispiel klar. "
   ]
  },
  {
   "cell_type": "markdown",
   "metadata": {
    "slideshow": {
     "slide_type": "slide"
    }
   },
   "source": [
    "### Anwendungsbeispiel Map"
   ]
  },
  {
   "cell_type": "code",
   "execution_count": 60,
   "metadata": {},
   "outputs": [
    {
     "name": "stdout",
     "output_type": "stream",
     "text": [
      "Price of a Mango 1.0\n"
     ]
    }
   ],
   "source": [
    "Map<String, Double> prices = new HashMap<>();\n",
    "\n",
    "prices.put(\"Banana\", 1.5);\n",
    "prices.put(\"Apple\", 1.0);\n",
    "prices.put(\"Mango\", 2.5);\n",
    "\n",
    "System.out.println(\"Price of a Mango \" +prices.get(\"Apple\"));"
   ]
  },
  {
   "cell_type": "markdown",
   "metadata": {
    "slideshow": {
     "slide_type": "fragment"
    }
   },
   "source": [
    "#### Übungen\n",
    "* Was passiert wenn man einen Schlüssel zweimal (mit unterschiedlichem Wert) einfügt\n",
    "* Schreiben Sie einen for-loop, der alle Preise ausgibt.\n",
    "    * Tip: Die Schlüssel erhalten Sie via der Methode ```keySet```\n",
    "* Wie ändert sich die Ausgabe, wenn Sie eine TreeMap verwenden?"
   ]
  },
  {
   "cell_type": "code",
   "execution_count": null,
   "metadata": {
    "scrolled": true,
    "slideshow": {
     "slide_type": "-"
    }
   },
   "outputs": [],
   "source": []
  },
  {
   "cell_type": "markdown",
   "metadata": {
    "slideshow": {
     "slide_type": "notes"
    }
   },
   "source": [
    "Im Folgenden wollen wir noch anhand eines einfachen Beispiels zeigen, wie man mittels dieser verschiedenen Arten von Kollektionen Sachverhalte der Realen Welt abbilden kann. "
   ]
  },
  {
   "cell_type": "markdown",
   "metadata": {
    "slideshow": {
     "slide_type": "slide"
    }
   },
   "source": [
    "### Kollektionen: Beispiel\n",
    "\n",
    "* Mögliche Modellierung eines \"Früchteladens\"\n",
    "\n",
    "```java\n",
    "import java.util.*;\n",
    "\n",
    "class Fruit {\n",
    "    String name;\n",
    "}\n",
    "\n",
    "public class FruitShop {\n",
    "\n",
    "    Set<Fruit> products = new HashSet<Fruit>();\t\t\n",
    "    \n",
    "\tMap<Fruit, Double> priceForFruit = new HashMap<Fruit, Double>();\n",
    "\n",
    "\tQueue<Person> customers = new LinkedList<Person>();\n",
    "}\n",
    "\n",
    "```"
   ]
  },
  {
   "cell_type": "markdown",
   "metadata": {
    "slideshow": {
     "slide_type": "notes"
    }
   },
   "source": [
    "Unser Früchteladen verwaltet eine Menge von Produkten, nämlich die verschiedenen Früchte die zum Verkauf anstehen. Da dieselbe Frucht nicht zweimal vorkommen darf, werden die Früchte in einem ```Set``` verwaltet. Jede Frucht hat einen Preis. Die Verbindung vcn Frucht zum Preis wird via einer ```Map``` erreicht. Die Kunden, die mögliche Produkte kaufen wollen, die werden einer nach dem anderen nach dem Prinzip *first come first serve* bedient. Dies wird über die Klasse ```Queue``` abgebildet. "
   ]
  },
  {
   "cell_type": "markdown",
   "metadata": {
    "slideshow": {
     "slide_type": "slide"
    }
   },
   "source": [
    "# Streams"
   ]
  },
  {
   "cell_type": "markdown",
   "metadata": {
    "slideshow": {
     "slide_type": "notes"
    }
   },
   "source": [
    "Als nächstes schauen wir uns die Streams an. Alle Collection Methoden erlauben usn mittles der Methode ```.stream()``` eine Ansicht auf die Kollektion zu erhalten, die es uns ermöglicht mittels Lambda Funktionen die Elemente der Kollektion zu prozessieren. Die wichtigsten drei Operationen auf Streams sind ```map```, ```filter```und ```reduce```, die wir uns im Folgenden anschauen werden. "
   ]
  },
  {
   "cell_type": "markdown",
   "metadata": {
    "slideshow": {
     "slide_type": "slide"
    }
   },
   "source": [
    "### Streams\n",
    "\n",
    "> Funktionaler Ansatz um Elemente zu prozessieren\n",
    "\n",
    "* Aus allen Collection kann mit Methode ```stream ``` ein ```Stream``` Objekt erzeugt werden\n",
    "\n",
    "* Wichtige Methoden\n",
    "    * ```map``` \n",
    "    * ```filter``` \n",
    "    * ```reduce``` \n",
    "    * ...\n",
    "\n"
   ]
  },
  {
   "cell_type": "markdown",
   "metadata": {
    "slideshow": {
     "slide_type": "slide"
    }
   },
   "source": [
    "### map Methode\n",
    "\n",
    "Signatur (in Interface ```Stream<T>```)\n",
    "\n",
    "``` <R> Stream<R>  map(Function<T,R> mapper) ```\n",
    " \n",
    "* Führt Funktion auf jedem Element vom Stream aus \n",
    "    * produziert neue Liste    "
   ]
  },
  {
   "cell_type": "markdown",
   "metadata": {
    "slideshow": {
     "slide_type": "notes"
    }
   },
   "source": [
    "Die map-Methode haben wir uns schon früher angeschaut. Diese wendet einfach eine übergebene Funktion auf jedes Element im Stream an. Das Resultat ist ein neuer Stream mit den entsprechend Transformierten Elementen. "
   ]
  },
  {
   "cell_type": "markdown",
   "metadata": {
    "slideshow": {
     "slide_type": "slide"
    }
   },
   "source": [
    "### Beispiel: map-Methode"
   ]
  },
  {
   "cell_type": "code",
   "execution_count": 62,
   "metadata": {},
   "outputs": [
    {
     "name": "stdout",
     "output_type": "stream",
     "text": [
      "BANANA\n",
      "APPLE\n",
      "MANGO\n",
      "APPLE\n"
     ]
    }
   ],
   "source": [
    "import java.util.stream.Stream;\n",
    "\n",
    "Stream<String>  newFruitStream = fruitList.stream().map(f -> f.toUpperCase());\n",
    "newFruitStream.forEach(f -> System.out.println(f));"
   ]
  },
  {
   "cell_type": "markdown",
   "metadata": {
    "slideshow": {
     "slide_type": "fragment"
    }
   },
   "source": [
    "#### Übung: \n",
    "\n",
    "* Erzeugen Sie einen Stream von den Zahlen ```1```, ```2``` und ```3```, indem Sie die statische Methode ```of``` von Streams nutzen\n",
    "* Nutzen Sie die Methode ```map``` um diese in einen ```String``` umzuwandlen. \n",
    "* Geben Sie die Elemente des ```Streams``` aus."
   ]
  },
  {
   "cell_type": "code",
   "execution_count": 64,
   "metadata": {},
   "outputs": [
    {
     "name": "stdout",
     "output_type": "stream",
     "text": [
      "1\n",
      "2\n",
      "3\n"
     ]
    }
   ],
   "source": [
    "import java.util.stream.IntStream;\n",
    "\n",
    "Stream<String> s = Stream.of(1,2,3).map(n -> Integer.valueOf(n).toString());\n",
    "s.forEach(f -> System.out.println(f));"
   ]
  },
  {
   "cell_type": "markdown",
   "metadata": {
    "slideshow": {
     "slide_type": "notes"
    }
   },
   "source": [
    "Die filter-Methode wendet auf jedes Element ein gegebenes Prädikat an. Wenn das Prädikat für ein gegebenes Element wahr ist, wird dieses in einen neuen Stream geschrieben und ansonsten verworfen. Das Resultat ist ein neuer Stream mit nur den Elementen, für die das Prädikat wahr ist. "
   ]
  },
  {
   "cell_type": "markdown",
   "metadata": {
    "slideshow": {
     "slide_type": "slide"
    }
   },
   "source": [
    "### filter-Methode\n",
    "\n",
    "\n",
    "Signatur (in Interface ```Stream<T>```)\n",
    "\n",
    "``` <R> Stream<R>  filter(Predicate<T> filter) ```` \n",
    " \n",
    "* Gibt Stream mit allen Elementen ```e``` zurück für die gilt ```filter(e) == true```"
   ]
  },
  {
   "cell_type": "markdown",
   "metadata": {},
   "source": [
    "### Beispiel: filter-Methode"
   ]
  },
  {
   "cell_type": "code",
   "execution_count": 65,
   "metadata": {},
   "outputs": [
    {
     "name": "stdout",
     "output_type": "stream",
     "text": [
      "Banana\n",
      "Mango\n"
     ]
    }
   ],
   "source": [
    "Stream<String> newFruitStream = fruitList.stream().filter(f -> f.contains(\"n\"));\n",
    "newFruitStream.forEach(f -> System.out.println(f));"
   ]
  },
  {
   "cell_type": "markdown",
   "metadata": {
    "slideshow": {
     "slide_type": "notes"
    }
   },
   "source": [
    "Die reduce-Methode erlaubt uns die Elemente zusammenzuziehen. Dabei wir jedes Element jeweils einzeln mit dem Resultat der Operation auf den Vorgänger Elementen aufgerufen. "
   ]
  },
  {
   "cell_type": "markdown",
   "metadata": {
    "slideshow": {
     "slide_type": "slide"
    }
   },
   "source": [
    "### reduce-Methode\n",
    "\n",
    "Signatur (in Interface ```Stream<T>```)\n",
    "\n",
    "``` <R> Stream<R>  Reduce(T identity, BinaryOperator<T> accumulator) ```\n",
    "\n",
    "* Zieht Element zusammen, durch ausführen von ```accumulator```\n",
    "* BinaryOperator ist ```FunctionalInterface``` mit zwei Argumenten vom selben Typ      "
   ]
  },
  {
   "cell_type": "markdown",
   "metadata": {
    "slideshow": {
     "slide_type": "notes"
    }
   },
   "source": [
    "Wie ```reduce``` funktioniert lässt sich am besten an einem Beispiel zeigen:"
   ]
  },
  {
   "cell_type": "markdown",
   "metadata": {
    "slideshow": {
     "slide_type": "slide"
    }
   },
   "source": [
    "### Beispiel: reduce"
   ]
  },
  {
   "cell_type": "code",
   "execution_count": 66,
   "metadata": {},
   "outputs": [
    {
     "data": {
      "text/plain": [
       "BananaAppleMangoApple"
      ]
     },
     "execution_count": 66,
     "metadata": {},
     "output_type": "execute_result"
    }
   ],
   "source": [
    "import java.util.function.BinaryOperator;\n",
    "\n",
    "BinaryOperator<String> concat = (s, t) -> s + t;\n",
    "fruitList.stream().reduce(\"\", concat);"
   ]
  },
  {
   "cell_type": "markdown",
   "metadata": {
    "slideshow": {
     "slide_type": "fragment"
    }
   },
   "source": [
    "#### Übung\n",
    "\n",
    "* Schreiben Sie eine Funktion, die alle ungeraden Zahlen filtert, diese verdoppelt und dann aufaddiert."
   ]
  },
  {
   "cell_type": "code",
   "execution_count": null,
   "metadata": {},
   "outputs": [],
   "source": []
  },
  {
   "cell_type": "markdown",
   "metadata": {
    "slideshow": {
     "slide_type": "slide"
    }
   },
   "source": [
    "# Weitere nützliche Pakete"
   ]
  },
  {
   "cell_type": "markdown",
   "metadata": {
    "slideshow": {
     "slide_type": "notes"
    }
   },
   "source": [
    "Die Java Bibliothek bietet eine fast grenzenlose Sammlung an nützlichen Funktionen. Hier wollen wir einfach zwei Beispiele vorführen, die zeigen wie einfach man sehr komplexe Dinge bewerkstelligen kann. "
   ]
  },
  {
   "cell_type": "markdown",
   "metadata": {
    "slideshow": {
     "slide_type": "notes"
    }
   },
   "source": [
    "Das erste Beispiel nutzt Funktionalität aus dem Paket ```java.net```, welches Klassen anbietet, welche helfen Daten über ein Netzwerk auszutauschen. In unserem Beispiel zeigen wir, wie einfach wir eine Webseite aus einem Programm lesen können. Dank dem Stream Interface, können wir die Webseite auch mit Lambda Funktionen manipulieren. "
   ]
  },
  {
   "cell_type": "markdown",
   "metadata": {
    "slideshow": {
     "slide_type": "slide"
    }
   },
   "source": [
    "\n",
    "### java.net\n",
    "\n",
    "> Funktionalität um Netzwerk / Internet Anwendungen zu implementieren"
   ]
  },
  {
   "cell_type": "markdown",
   "metadata": {},
   "source": [
    "#### Beispiel"
   ]
  },
  {
   "cell_type": "code",
   "execution_count": 44,
   "metadata": {},
   "outputs": [],
   "source": [
    "import java.net.*;"
   ]
  },
  {
   "cell_type": "code",
   "execution_count": 50,
   "metadata": {},
   "outputs": [
    {
     "data": {
      "text/html": [
       "<html op=\"news\"><head><meta name=\"referrer\" content=\"origin\"><meta name=\"viewport\" content=\"width=device-width, initial-scale=1.0\"><link rel=\"stylesheet\" type=\"text/css\" href=\"news.css?s5t26O9UpNwNunslysjS\">        <link rel=\"shortcut icon\" href=\"favicon.ico\">          <link rel=\"alternate\" type=\"application/rss+xml\" title=\"RSS\" href=\"rss\">        <title>Hacker News</title></head><body><center><table id=\"hnmain\" border=\"0\" cellpadding=\"0\" cellspacing=\"0\" width=\"85%\" bgcolor=\"#f6f6ef\">        <tr><td bgcolor=\"#ff6600\"><table border=\"0\" cellpadding=\"0\" cellspacing=\"0\" width=\"100%\" style=\"padding:2px\"><tr><td style=\"width:18px;padding-right:4px\"><a href=\"https://news.ycombinator.com\"><img src=\"y18.gif\" width=\"18\" height=\"18\" style=\"border:1px white solid;\"></a></td>                  <td style=\"line-height:12pt; height:10px;\"><span class=\"pagetop\"><b class=\"hnname\"><a href=\"news\">Hacker News</a></b>              <a href=\"newest\">new</a> | <a href=\"front\">past</a> | <a href=\"newcomments\">comments</a> | <a href=\"ask\">ask</a> | <a href=\"show\">show</a> | <a href=\"jobs\">jobs</a> | <a href=\"submit\">submit</a>            </span></td><td style=\"text-align:right;padding-right:4px;\"><span class=\"pagetop\">                              <a href=\"login?goto=news\">login</a>                          </span></td>              </tr></table></td></tr><tr id=\"pagespace\" title=\"\" style=\"height:10px\"></tr><tr><td><table border=\"0\" cellpadding=\"0\" cellspacing=\"0\" class=\"itemlist\">              <tr class='athing' id='21779810'>      <td align=\"right\" valign=\"top\" class=\"title\"><span class=\"rank\">1.</span></td>      <td valign=\"top\" class=\"votelinks\"><center><a id='up_21779810' href='vote?id=21779810&amp;how=up&amp;goto=news'><div class='votearrow' title='upvote'></div></a></center></td><td class=\"title\"><a href=\"https://nadiaeghbal.com/phd\" class=\"storylink\">Reimagining the PhD</a><span class=\"sitebit comhead\"> (<a href=\"from?site=nadiaeghbal.com\"><span class=\"sitestr\">nadiaeghbal.com</span></a>)</span></td></tr><tr><td colspan=\"2\"></td><td class=\"subtext\">        <span class=\"score\" id=\"score_21779810\">29 points</span> by <a href=\"user?id=imartin2k\" class=\"hnuser\">imartin2k</a> <span class=\"age\"><a href=\"item?id=21779810\">45 minutes ago</a></span> <span id=\"unv_21779810\"></span> | <a href=\"hide?id=21779810&amp;goto=news\">hide</a> | <a href=\"item?id=21779810\">4&nbsp;comments</a>              </td></tr>      <tr class=\"spacer\" style=\"height:5px\"></tr>                <tr class='athing' id='21767954'>      <td align=\"right\" valign=\"top\" class=\"title\"><span class=\"rank\">2.</span></td>      <td valign=\"top\" class=\"votelinks\"><center><a id='up_21767954' href='vote?id=21767954&amp;how=up&amp;goto=news'><div class='votearrow' title='upvote'></div></a></center></td><td class=\"title\"><a href=\"https://www.fastcompany.com/90440406/the-worlds-first-3d-printed-neighborhood-now-has-its-first-houses\" class=\"storylink\">New Story's first 3D-printed houses are now complete</a><span class=\"sitebit comhead\"> (<a href=\"from?site=fastcompany.com\"><span class=\"sitestr\">fastcompany.com</span></a>)</span></td></tr><tr><td colspan=\"2\"></td><td class=\"subtext\">        <span class=\"score\" id=\"score_21767954\">31 points</span> by <a href=\"user?id=prostoalex\" class=\"hnuser\">prostoalex</a> <span class=\"age\"><a href=\"item?id=21767954\">2 hours ago</a></span> <span id=\"unv_21767954\"></span> | <a href=\"hide?id=21767954&amp;goto=news\">hide</a> | <a href=\"item?id=21767954\">11&nbsp;comments</a>              </td></tr>      <tr class=\"spacer\" style=\"height:5px\"></tr>                <tr class='athing' id='21777401'>      <td align=\"right\" valign=\"top\" class=\"title\"><span class=\"rank\">3.</span></td>      <td valign=\"top\" class=\"votelinks\"><center><a id='up_21777401' href='vote?id=21777401&amp;how=up&amp;goto=news'><div class='votearrow' title='upvote'></div></a></center></td><td class=\"title\"><a href=\"https://github.com/jeremycw/httpserver.h\" class=\"storylink\">Httpserver.h: Single header library for writing non-blocking HTTP servers in C</a><span class=\"sitebit comhead\"> (<a href=\"from?site=github.com\"><span class=\"sitestr\">github.com</span></a>)</span></td></tr><tr><td colspan=\"2\"></td><td class=\"subtext\">        <span class=\"score\" id=\"score_21777401\">219 points</span> by <a href=\"user?id=jeremycw\" class=\"hnuser\">jeremycw</a> <span class=\"age\"><a href=\"item?id=21777401\">9 hours ago</a></span> <span id=\"unv_21777401\"></span> | <a href=\"hide?id=21777401&amp;goto=news\">hide</a> | <a href=\"item?id=21777401\">106&nbsp;comments</a>              </td></tr>      <tr class=\"spacer\" style=\"height:5px\"></tr>                <tr class='athing' id='21778298'>      <td align=\"right\" valign=\"top\" class=\"title\"><span class=\"rank\">4.</span></td>      <td valign=\"top\" class=\"votelinks\"><center><a id='up_21778298' href='vote?id=21778298&amp;how=up&amp;goto=news'><div class='votearrow' title='upvote'></div></a></center></td><td class=\"title\"><a href=\"https://www.atlasobscura.com/articles/gandhara-scroll-library-of-congress\" class=\"storylink\">How the Library of Congress Unrolled a 2000-Year-Old Buddhist Scroll</a><span class=\"sitebit comhead\"> (<a href=\"from?site=atlasobscura.com\"><span class=\"sitestr\">atlasobscura.com</span></a>)</span></td></tr><tr><td colspan=\"2\"></td><td class=\"subtext\">        <span class=\"score\" id=\"score_21778298\">112 points</span> by <a href=\"user?id=sohkamyung\" class=\"hnuser\">sohkamyung</a> <span class=\"age\"><a href=\"item?id=21778298\">7 hours ago</a></span> <span id=\"unv_21778298\"></span> | <a href=\"hide?id=21778298&amp;goto=news\">hide</a> | <a href=\"item?id=21778298\">18&nbsp;comments</a>              </td></tr>      <tr class=\"spacer\" style=\"height:5px\"></tr>                <tr class='athing' id='21778427'>      <td align=\"right\" valign=\"top\" class=\"title\"><span class=\"rank\">5.</span></td>      <td valign=\"top\" class=\"votelinks\"><center><a id='up_21778427' href='vote?id=21778427&amp;how=up&amp;goto=news'><div class='votearrow' title='upvote'></div></a></center></td><td class=\"title\"><a href=\"https://www.latimes.com/travel/story/2019-12-12/supershuttle-says-it-will-stop-service-to-lax\" class=\"storylink\">SuperShuttle is going out of business</a><span class=\"sitebit comhead\"> (<a href=\"from?site=latimes.com\"><span class=\"sitestr\">latimes.com</span></a>)</span></td></tr><tr><td colspan=\"2\"></td><td class=\"subtext\">        <span class=\"score\" id=\"score_21778427\">91 points</span> by <a href=\"user?id=prostoalex\" class=\"hnuser\">prostoalex</a> <span class=\"age\"><a href=\"item?id=21778427\">6 hours ago</a></span> <span id=\"unv_21778427\"></span> | <a href=\"hide?id=21778427&amp;goto=news\">hide</a> | <a href=\"item?id=21778427\">63&nbsp;comments</a>              </td></tr>      <tr class=\"spacer\" style=\"height:5px\"></tr>                <tr class='athing' id='21778763'>      <td align=\"right\" valign=\"top\" class=\"title\"><span class=\"rank\">6.</span></td>      <td valign=\"top\" class=\"votelinks\"><center><a id='up_21778763' href='vote?id=21778763&amp;how=up&amp;goto=news'><div class='votearrow' title='upvote'></div></a></center></td><td class=\"title\"><a href=\"https://www.folklore.org/StoryView.py?project=Macintosh&amp;story=Joining_Apple_Computer\" class=\"storylink\">Bill Atkinson: Reflections on the 40th anniversary of my joining Apple</a><span class=\"sitebit comhead\"> (<a href=\"from?site=folklore.org\"><span class=\"sitestr\">folklore.org</span></a>)</span></td></tr><tr><td colspan=\"2\"></td><td class=\"subtext\">        <span class=\"score\" id=\"score_21778763\">58 points</span> by <a href=\"user?id=kick\" class=\"hnuser\">kick</a> <span class=\"age\"><a href=\"item?id=21778763\">5 hours ago</a></span> <span id=\"unv_21778763\"></span> | <a href=\"hide?id=21778763&amp;goto=news\">hide</a> | <a href=\"item?id=21778763\">20&nbsp;comments</a>              </td></tr>      <tr class=\"spacer\" style=\"height:5px\"></tr>                <tr class='athing' id='21778890'>      <td align=\"right\" valign=\"top\" class=\"title\"><span class=\"rank\">7.</span></td>      <td valign=\"top\" class=\"votelinks\"><center><a id='up_21778890' href='vote?id=21778890&amp;how=up&amp;goto=news'><div class='votearrow' title='upvote'></div></a></center></td><td class=\"title\"><a href=\"https://arxiv.org/abs/1904.05270\" class=\"storylink\">Google Street View image of a house predicts car accident risk of its resident</a><span class=\"sitebit comhead\"> (<a href=\"from?site=arxiv.org\"><span class=\"sitestr\">arxiv.org</span></a>)</span></td></tr><tr><td colspan=\"2\"></td><td class=\"subtext\">        <span class=\"score\" id=\"score_21778890\">41 points</span> by <a href=\"user?id=elsewhen\" class=\"hnuser\">elsewhen</a> <span class=\"age\"><a href=\"item?id=21778890\">5 hours ago</a></span> <span id=\"unv_21778890\"></span> | <a href=\"hide?id=21778890&amp;goto=news\">hide</a> | <a href=\"item?id=21778890\">15&nbsp;comments</a>              </td></tr>      <tr class=\"spacer\" style=\"height:5px\"></tr>                <tr class='athing' id='21778546'>      <td align=\"right\" valign=\"top\" class=\"title\"><span class=\"rank\">8.</span></td>      <td valign=\"top\" class=\"votelinks\"><center><a id='up_21778546' href='vote?id=21778546&amp;how=up&amp;goto=news'><div class='votearrow' title='upvote'></div></a></center></td><td class=\"title\"><a href=\"http://hjemmesider.diku.dk/~torbenm/Basics/basics_lulu2.pdf\" class=\"storylink\">Basics of Compiler Design (2000) [pdf]</a><span class=\"sitebit comhead\"> (<a href=\"from?site=diku.dk\"><span class=\"sitestr\">diku.dk</span></a>)</span></td></tr><tr><td colspan=\"2\"></td><td class=\"subtext\">        <span class=\"score\" id=\"score_21778546\">74 points</span> by <a href=\"user?id=mpiedrav\" class=\"hnuser\">mpiedrav</a> <span class=\"age\"><a href=\"item?id=21778546\">6 hours ago</a></span> <span id=\"unv_21778546\"></span> | <a href=\"hide?id=21778546&amp;goto=news\">hide</a> | <a href=\"item?id=21778546\">5&nbsp;comments</a>              </td></tr>      <tr class=\"spacer\" style=\"height:5px\"></tr>                <tr class='athing' id='21778681'>      <td align=\"right\" valign=\"top\" class=\"title\"><span class=\"rank\">9.</span></td>      <td valign=\"top\" class=\"votelinks\"><center><a id='up_21778681' href='vote?id=21778681&amp;how=up&amp;goto=news'><div class='votearrow' title='upvote'></div></a></center></td><td class=\"title\"><a href=\"https://www.bbc.com/news/science-environment-38224564\" class=\"storylink\">Feathered dinosaur tail found in amber (2016)</a><span class=\"sitebit comhead\"> (<a href=\"from?site=bbc.com\"><span class=\"sitestr\">bbc.com</span></a>)</span></td></tr><tr><td colspan=\"2\"></td><td class=\"subtext\">        <span class=\"score\" id=\"score_21778681\">66 points</span> by <a href=\"user?id=zuhayeer\" class=\"hnuser\">zuhayeer</a> <span class=\"age\"><a href=\"item?id=21778681\">5 hours ago</a></span> <span id=\"unv_21778681\"></span> | <a href=\"hide?id=21778681&amp;goto=news\">hide</a> | <a href=\"item?id=21778681\">7&nbsp;comments</a>              </td></tr>      <tr class=\"spacer\" style=\"height:5px\"></tr>                <tr class='athing' id='21774203'>      <td align=\"right\" valign=\"top\" class=\"title\"><span class=\"rank\">10.</span></td>      <td valign=\"top\" class=\"votelinks\"><center><a id='up_21774203' href='vote?id=21774203&amp;how=up&amp;goto=news'><div class='votearrow' title='upvote'></div></a></center></td><td class=\"title\"><a href=\"https://www.vice.com/en_us/article/z3bbq4/podcast-livestreams-hacked-ring-cameras-nulledcast\" class=\"storylink\">A podcast that hacks Ring camera owners live</a><span class=\"sitebit comhead\"> (<a href=\"from?site=vice.com\"><span class=\"sitestr\">vice.com</span></a>)</span></td></tr><tr><td colspan=\"2\"></td><td class=\"subtext\">        <span class=\"score\" id=\"score_21774203\">296 points</span> by <a href=\"user?id=pulisse\" class=\"hnuser\">pulisse</a> <span class=\"age\"><a href=\"item?id=21774203\">13 hours ago</a></span> <span id=\"unv_21774203\"></span> | <a href=\"hide?id=21774203&amp;goto=news\">hide</a> | <a href=\"item?id=21774203\">219&nbsp;comments</a>              </td></tr>      <tr class=\"spacer\" style=\"height:5px\"></tr>                <tr class='athing' id='21778996'>      <td align=\"right\" valign=\"top\" class=\"title\"><span class=\"rank\">11.</span></td>      <td valign=\"top\" class=\"votelinks\"><center><a id='up_21778996' href='vote?id=21778996&amp;how=up&amp;goto=news'><div class='votearrow' title='upvote'></div></a></center></td><td class=\"title\"><a href=\"https://jtp.io/aco-tsp/\" class=\"storylink\">Ant Colony Optimization Visualization for the Travelling Salesman Problem</a><span class=\"sitebit comhead\"> (<a href=\"from?site=jtp.io\"><span class=\"sitestr\">jtp.io</span></a>)</span></td></tr><tr><td colspan=\"2\"></td><td class=\"subtext\">        <span class=\"score\" id=\"score_21778996\">30 points</span> by <a href=\"user?id=jonbaer\" class=\"hnuser\">jonbaer</a> <span class=\"age\"><a href=\"item?id=21778996\">4 hours ago</a></span> <span id=\"unv_21778996\"></span> | <a href=\"hide?id=21778996&amp;goto=news\">hide</a> | <a href=\"item?id=21778996\">1&nbsp;comment</a>              </td></tr>      <tr class=\"spacer\" style=\"height:5px\"></tr>                <tr class='athing' id='21776370'>      <td align=\"right\" valign=\"top\" class=\"title\"><span class=\"rank\">12.</span></td>      <td valign=\"top\" class=\"votelinks\"><center><a id='up_21776370' href='vote?id=21776370&amp;how=up&amp;goto=news'><div class='votearrow' title='upvote'></div></a></center></td><td class=\"title\"><a href=\"https://telegra.ph/Why-OpenBSD-is-marginally-less-horrible-12-05\" class=\"storylink\">Learning from OpenBSD can make computers marginally less horrible</a><span class=\"sitebit comhead\"> (<a href=\"from?site=telegra.ph\"><span class=\"sitestr\">telegra.ph</span></a>)</span></td></tr><tr><td colspan=\"2\"></td><td class=\"subtext\">        <span class=\"score\" id=\"score_21776370\">153 points</span> by <a href=\"user?id=ArcVRArthur\" class=\"hnuser\">ArcVRArthur</a> <span class=\"age\"><a href=\"item?id=21776370\">11 hours ago</a></span> <span id=\"unv_21776370\"></span> | <a href=\"hide?id=21776370&amp;goto=news\">hide</a> | <a href=\"item?id=21776370\">89&nbsp;comments</a>              </td></tr>      <tr class=\"spacer\" style=\"height:5px\"></tr>                <tr class='athing' id='21778802'>      <td align=\"right\" valign=\"top\" class=\"title\"><span class=\"rank\">13.</span></td>      <td valign=\"top\" class=\"votelinks\"><center><a id='up_21778802' href='vote?id=21778802&amp;how=up&amp;goto=news'><div class='votearrow' title='upvote'></div></a></center></td><td class=\"title\"><a href=\"https://www.washingtonpost.com/business/2019/12/12/netflix-sends-journalists-pricey-trips-raising-questions-angering-rivals/\" class=\"storylink\">Netflix sends journalists on pricey trips</a><span class=\"sitebit comhead\"> (<a href=\"from?site=washingtonpost.com\"><span class=\"sitestr\">washingtonpost.com</span></a>)</span></td></tr><tr><td colspan=\"2\"></td><td class=\"subtext\">        <span class=\"score\" id=\"score_21778802\">27 points</span> by <a href=\"user?id=danso\" class=\"hnuser\">danso</a> <span class=\"age\"><a href=\"item?id=21778802\">5 hours ago</a></span> <span id=\"unv_21778802\"></span> | <a href=\"hide?id=21778802&amp;goto=news\">hide</a> | <a href=\"item?id=21778802\">16&nbsp;comments</a>              </td></tr>      <tr class=\"spacer\" style=\"height:5px\"></tr>                <tr class='athing' id='21772610'>      <td align=\"right\" valign=\"top\" class=\"title\"><span class=\"rank\">14.</span></td>      <td valign=\"top\" class=\"votelinks\"><center><a id='up_21772610' href='vote?id=21772610&amp;how=up&amp;goto=news'><div class='votearrow' title='upvote'></div></a></center></td><td class=\"title\"><a href=\"https://github.com/huginn/huginn\" class=\"storylink\">Huginn: Create agents that monitor and act on your behalf</a><span class=\"sitebit comhead\"> (<a href=\"from?site=github.com\"><span class=\"sitestr\">github.com</span></a>)</span></td></tr><tr><td colspan=\"2\"></td><td class=\"subtext\">        <span class=\"score\" id=\"score_21772610\">1086 points</span> by <a href=\"user?id=daolf\" class=\"hnuser\">daolf</a> <span class=\"age\"><a href=\"item?id=21772610\">16 hours ago</a></span> <span id=\"unv_21772610\"></span> | <a href=\"hide?id=21772610&amp;goto=news\">hide</a> | <a href=\"item?id=21772610\">124&nbsp;comments</a>              </td></tr>      <tr class=\"spacer\" style=\"height:5px\"></tr>                <tr class='athing' id='21774822'>      <td align=\"right\" valign=\"top\" class=\"title\"><span class=\"rank\">15.</span></td>      <td valign=\"top\" class=\"votelinks\"><center><a id='up_21774822' href='vote?id=21774822&amp;how=up&amp;goto=news'><div class='votearrow' title='upvote'></div></a></center></td><td class=\"title\"><a href=\"https://phys.org/news/2019-12-dark-center-milky.html\" class=\"storylink\" rel=\"nofollow\">Is there dark matter at the center of the Milky Way?</a><span class=\"sitebit comhead\"> (<a href=\"from?site=phys.org\"><span class=\"sitestr\">phys.org</span></a>)</span></td></tr><tr><td colspan=\"2\"></td><td class=\"subtext\">        <span class=\"score\" id=\"score_21774822\">5 points</span> by <a href=\"user?id=dnetesn\" class=\"hnuser\">dnetesn</a> <span class=\"age\"><a href=\"item?id=21774822\">1 hour ago</a></span> <span id=\"unv_21774822\"></span> | <a href=\"hide?id=21774822&amp;goto=news\">hide</a> | <a href=\"item?id=21774822\">discuss</a>              </td></tr>      <tr class=\"spacer\" style=\"height:5px\"></tr>                <tr class='athing' id='21778814'>      <td align=\"right\" valign=\"top\" class=\"title\"><span class=\"rank\">16.</span></td>      <td valign=\"top\" class=\"votelinks\"><center><a id='up_21778814' href='vote?id=21778814&amp;how=up&amp;goto=news'><div class='votearrow' title='upvote'></div></a></center></td><td class=\"title\"><a href=\"http://martin.zinkevich.org/rules_of_ml/rules_of_ml.pdf\" class=\"storylink\">Rules of Machine Learning: Best Practices for ML Engineering [pdf]</a><span class=\"sitebit comhead\"> (<a href=\"from?site=zinkevich.org\"><span class=\"sitestr\">zinkevich.org</span></a>)</span></td></tr><tr><td colspan=\"2\"></td><td class=\"subtext\">        <span class=\"score\" id=\"score_21778814\">44 points</span> by <a href=\"user?id=yarapavan\" class=\"hnuser\">yarapavan</a> <span class=\"age\"><a href=\"item?id=21778814\">5 hours ago</a></span> <span id=\"unv_21778814\"></span> | <a href=\"hide?id=21778814&amp;goto=news\">hide</a> | <a href=\"item?id=21778814\">discuss</a>              </td></tr>      <tr class=\"spacer\" style=\"height:5px\"></tr>                <tr class='athing' id='21758814'>      <td align=\"right\" valign=\"top\" class=\"title\"><span class=\"rank\">17.</span></td>      <td valign=\"top\" class=\"votelinks\"><center><a id='up_21758814' href='vote?id=21758814&amp;how=up&amp;goto=news'><div class='votearrow' title='upvote'></div></a></center></td><td class=\"title\"><a href=\"https://vivaldi.com/blog/user-agent-changes/\" class=\"storylink\">User Agent Changes</a><span class=\"sitebit comhead\"> (<a href=\"from?site=vivaldi.com\"><span class=\"sitestr\">vivaldi.com</span></a>)</span></td></tr><tr><td colspan=\"2\"></td><td class=\"subtext\">        <span class=\"score\" id=\"score_21758814\">101 points</span> by <a href=\"user?id=CrazedGeek\" class=\"hnuser\">CrazedGeek</a> <span class=\"age\"><a href=\"item?id=21758814\">9 hours ago</a></span> <span id=\"unv_21758814\"></span> | <a href=\"hide?id=21758814&amp;goto=news\">hide</a> | <a href=\"item?id=21758814\">56&nbsp;comments</a>              </td></tr>      <tr class=\"spacer\" style=\"height:5px\"></tr>                <tr class='athing' id='21778791'>      <td align=\"right\" valign=\"top\" class=\"title\"><span class=\"rank\">18.</span></td>      <td valign=\"top\" class=\"votelinks\"><center><a id='up_21778791' href='vote?id=21778791&amp;how=up&amp;goto=news'><div class='votearrow' title='upvote'></div></a></center></td><td class=\"title\"><a href=\"http://lsub.org/who/nemo/9.intro.pdf\" class=\"storylink\">Introduction to Operating System Abstractions Using Plan 9 from Bell Labs (2007) [pdf]</a><span class=\"sitebit comhead\"> (<a href=\"from?site=lsub.org\"><span class=\"sitestr\">lsub.org</span></a>)</span></td></tr><tr><td colspan=\"2\"></td><td class=\"subtext\">        <span class=\"score\" id=\"score_21778791\">28 points</span> by <a href=\"user?id=kick\" class=\"hnuser\">kick</a> <span class=\"age\"><a href=\"item?id=21778791\">5 hours ago</a></span> <span id=\"unv_21778791\"></span> | <a href=\"hide?id=21778791&amp;goto=news\">hide</a> | <a href=\"item?id=21778791\">discuss</a>              </td></tr>      <tr class=\"spacer\" style=\"height:5px\"></tr>                <tr class='athing' id='21769575'>      <td align=\"right\" valign=\"top\" class=\"title\"><span class=\"rank\">19.</span></td>      <td valign=\"top\" class=\"votelinks\"><center><a id='up_21769575' href='vote?id=21769575&amp;how=up&amp;goto=news'><div class='votearrow' title='upvote'></div></a></center></td><td class=\"title\"><a href=\"https://www.bbc.com/future/article/20191211-crows-could-be-the-smartest-animal-other-than-primates\" class=\"storylink\">Crows could be the smartest animal other than primates</a><span class=\"sitebit comhead\"> (<a href=\"from?site=bbc.com\"><span class=\"sitestr\">bbc.com</span></a>)</span></td></tr><tr><td colspan=\"2\"></td><td class=\"subtext\">        <span class=\"score\" id=\"score_21769575\">589 points</span> by <a href=\"user?id=hhs\" class=\"hnuser\">hhs</a> <span class=\"age\"><a href=\"item?id=21769575\">1 day ago</a></span> <span id=\"unv_21769575\"></span> | <a href=\"hide?id=21769575&amp;goto=news\">hide</a> | <a href=\"item?id=21769575\">369&nbsp;comments</a>              </td></tr>      <tr class=\"spacer\" style=\"height:5px\"></tr>                <tr class='athing' id='21776220'>      <td align=\"right\" valign=\"top\" class=\"title\"><span class=\"rank\">20.</span></td>      <td valign=\"top\" class=\"votelinks\"><center><a id='up_21776220' href='vote?id=21776220&amp;how=up&amp;goto=news'><div class='votearrow' title='upvote'></div></a></center></td><td class=\"title\"><a href=\"https://lwn.net/ml/oss-security/CALCETrW1z0gCLFJz-1Jwj_wcT3+axXkP_wOCxY8JkbSLzV80GA@mail.gmail.com/\" class=\"storylink\">Lots of bugs in 32-bit x86 Linux entry code</a><span class=\"sitebit comhead\"> (<a href=\"from?site=lwn.net\"><span class=\"sitestr\">lwn.net</span></a>)</span></td></tr><tr><td colspan=\"2\"></td><td class=\"subtext\">        <span class=\"score\" id=\"score_21776220\">133 points</span> by <a href=\"user?id=swills\" class=\"hnuser\">swills</a> <span class=\"age\"><a href=\"item?id=21776220\">11 hours ago</a></span> <span id=\"unv_21776220\"></span> | <a href=\"hide?id=21776220&amp;goto=news\">hide</a> | <a href=\"item?id=21776220\">88&nbsp;comments</a>              </td></tr>      <tr class=\"spacer\" style=\"height:5px\"></tr>                <tr class='athing' id='21777025'>      <td align=\"right\" valign=\"top\" class=\"title\"><span class=\"rank\">21.</span></td>      <td valign=\"top\" class=\"votelinks\"><center><a id='up_21777025' href='vote?id=21777025&amp;how=up&amp;goto=news'><div class='votearrow' title='upvote'></div></a></center></td><td class=\"title\"><a href=\"https://github.com/arp242/uni\" class=\"storylink\">Uni: Query the Unicode database from the CLI, with good support for emojis</a><span class=\"sitebit comhead\"> (<a href=\"from?site=github.com\"><span class=\"sitestr\">github.com</span></a>)</span></td></tr><tr><td colspan=\"2\"></td><td class=\"subtext\">        <span class=\"score\" id=\"score_21777025\">86 points</span> by <a href=\"user?id=oftenwrong\" class=\"hnuser\">oftenwrong</a> <span class=\"age\"><a href=\"item?id=21777025\">10 hours ago</a></span> <span id=\"unv_21777025\"></span> | <a href=\"hide?id=21777025&amp;goto=news\">hide</a> | <a href=\"item?id=21777025\">17&nbsp;comments</a>              </td></tr>      <tr class=\"spacer\" style=\"height:5px\"></tr>                <tr class='athing' id='21775756'>      <td align=\"right\" valign=\"top\" class=\"title\"><span class=\"rank\">22.</span></td>      <td valign=\"top\" class=\"votelinks\"><center><a id='up_21775756' href='vote?id=21775756&amp;how=up&amp;goto=news'><div class='votearrow' title='upvote'></div></a></center></td><td class=\"title\"><a href=\"https://www.versionmuseum.com/history-of/discontinued-microsoft-products\" class=\"storylink\">Discontinued Microsoft Products</a><span class=\"sitebit comhead\"> (<a href=\"from?site=versionmuseum.com\"><span class=\"sitestr\">versionmuseum.com</span></a>)</span></td></tr><tr><td colspan=\"2\"></td><td class=\"subtext\">        <span class=\"score\" id=\"score_21775756\">122 points</span> by <a href=\"user?id=tech-historian\" class=\"hnuser\">tech-historian</a> <span class=\"age\"><a href=\"item?id=21775756\">12 hours ago</a></span> <span id=\"unv_21775756\"></span> | <a href=\"hide?id=21775756&amp;goto=news\">hide</a> | <a href=\"item?id=21775756\">95&nbsp;comments</a>              </td></tr>      <tr class=\"spacer\" style=\"height:5px\"></tr>                <tr class='athing' id='21775011'>      <td align=\"right\" valign=\"top\" class=\"title\"><span class=\"rank\">23.</span></td>      <td valign=\"top\" class=\"votelinks\"><center><a id='up_21775011' href='vote?id=21775011&amp;how=up&amp;goto=news'><div class='votearrow' title='upvote'></div></a></center></td><td class=\"title\"><a href=\"https://www.bbc.co.uk/bbcthree/article/5c237a34-7a47-4deb-a5b4-a23e77cc88f7\" class=\"storylink\">Instagram Face: The rise of selfie make-up and quest for hyper-perfection (2018)</a><span class=\"sitebit comhead\"> (<a href=\"from?site=bbc.co.uk\"><span class=\"sitestr\">bbc.co.uk</span></a>)</span></td></tr><tr><td colspan=\"2\"></td><td class=\"subtext\">        <span class=\"score\" id=\"score_21775011\">146 points</span> by <a href=\"user?id=AndrewBissell\" class=\"hnuser\">AndrewBissell</a> <span class=\"age\"><a href=\"item?id=21775011\">13 hours ago</a></span> <span id=\"unv_21775011\"></span> | <a href=\"hide?id=21775011&amp;goto=news\">hide</a> | <a href=\"item?id=21775011\">109&nbsp;comments</a>              </td></tr>      <tr class=\"spacer\" style=\"height:5px\"></tr>                <tr class='athing' id='21779191'>      <td align=\"right\" valign=\"top\" class=\"title\"><span class=\"rank\">24.</span></td>      <td valign=\"top\" class=\"votelinks\"><center><a id='up_21779191' href='vote?id=21779191&amp;how=up&amp;goto=news'><div class='votearrow' title='upvote'></div></a></center></td><td class=\"title\"><a href=\"https://github.com/python-poetry/poetry/releases/tag/1.0.0\" class=\"storylink\">Poetry Dependency Management for Python – v1.0</a><span class=\"sitebit comhead\"> (<a href=\"from?site=github.com\"><span class=\"sitestr\">github.com</span></a>)</span></td></tr><tr><td colspan=\"2\"></td><td class=\"subtext\">        <span class=\"score\" id=\"score_21779191\">78 points</span> by <a href=\"user?id=devj\" class=\"hnuser\">devj</a> <span class=\"age\"><a href=\"item?id=21779191\">3 hours ago</a></span> <span id=\"unv_21779191\"></span> | <a href=\"hide?id=21779191&amp;goto=news\">hide</a> | <a href=\"item?id=21779191\">35&nbsp;comments</a>              </td></tr>      <tr class=\"spacer\" style=\"height:5px\"></tr>                <tr class='athing' id='21774018'>      <td align=\"right\" valign=\"top\" class=\"title\"><span class=\"rank\">25.</span></td>      <td valign=\"top\" class=\"votelinks\"><center><a id='up_21774018' href='vote?id=21774018&amp;how=up&amp;goto=news'><div class='votearrow' title='upvote'></div></a></center></td><td class=\"title\"><a href=\"https://www.anishathalye.com/2019/12/12/constraint-based-graphic-design/\" class=\"storylink\">Experiments in Constraint-Based Graphic Design</a><span class=\"sitebit comhead\"> (<a href=\"from?site=anishathalye.com\"><span class=\"sitestr\">anishathalye.com</span></a>)</span></td></tr><tr><td colspan=\"2\"></td><td class=\"subtext\">        <span class=\"score\" id=\"score_21774018\">158 points</span> by <a href=\"user?id=anishathalye\" class=\"hnuser\">anishathalye</a> <span class=\"age\"><a href=\"item?id=21774018\">13 hours ago</a></span> <span id=\"unv_21774018\"></span> | <a href=\"hide?id=21774018&amp;goto=news\">hide</a> | <a href=\"item?id=21774018\">40&nbsp;comments</a>              </td></tr>      <tr class=\"spacer\" style=\"height:5px\"></tr>                <tr class='athing' id='21775337'>      <td align=\"right\" valign=\"top\" class=\"title\"><span class=\"rank\">26.</span></td>      <td valign=\"top\" class=\"votelinks\"><center><a id='up_21775337' href='vote?id=21775337&amp;how=up&amp;goto=news'><div class='votearrow' title='upvote'></div></a></center></td><td class=\"title\"><a href=\"https://www.manton.org/2019/12/11/twitter-to-decentralize.html\" class=\"storylink\">Twitter to decentralize something</a><span class=\"sitebit comhead\"> (<a href=\"from?site=manton.org\"><span class=\"sitestr\">manton.org</span></a>)</span></td></tr><tr><td colspan=\"2\"></td><td class=\"subtext\">        <span class=\"score\" id=\"score_21775337\">148 points</span> by <a href=\"user?id=cdevroe\" class=\"hnuser\">cdevroe</a> <span class=\"age\"><a href=\"item?id=21775337\">12 hours ago</a></span> <span id=\"unv_21775337\"></span> | <a href=\"hide?id=21775337&amp;goto=news\">hide</a> | <a href=\"item?id=21775337\">66&nbsp;comments</a>              </td></tr>      <tr class=\"spacer\" style=\"height:5px\"></tr>                <tr class='athing' id='21773543'>      <td align=\"right\" valign=\"top\" class=\"title\"><span class=\"rank\">27.</span></td>      <td valign=\"top\" class=\"votelinks\"><center><a id='up_21773543' href='vote?id=21773543&amp;how=up&amp;goto=news'><div class='votearrow' title='upvote'></div></a></center></td><td class=\"title\"><a href=\"https://www.forbes.com/sites/thomasbrewster/2019/12/11/google-gives-feds-1500-leads-to-arsonist-smartphones-in-unprecedented-geofence-search/#7e36570827dc\" class=\"storylink\">Google Gives Feds 1,500 Phone Locations in Unprecedented ‘Geofence’ Search</a><span class=\"sitebit comhead\"> (<a href=\"from?site=forbes.com\"><span class=\"sitestr\">forbes.com</span></a>)</span></td></tr><tr><td colspan=\"2\"></td><td class=\"subtext\">        <span class=\"score\" id=\"score_21773543\">422 points</span> by <a href=\"user?id=labase19\" class=\"hnuser\">labase19</a> <span class=\"age\"><a href=\"item?id=21773543\">15 hours ago</a></span> <span id=\"unv_21773543\"></span> | <a href=\"hide?id=21773543&amp;goto=news\">hide</a> | <a href=\"item?id=21773543\">220&nbsp;comments</a>              </td></tr>      <tr class=\"spacer\" style=\"height:5px\"></tr>                <tr class='athing' id='21779324'>      <td align=\"right\" valign=\"top\" class=\"title\"><span class=\"rank\">28.</span></td>      <td valign=\"top\" class=\"votelinks\"><center><a id='up_21779324' href='vote?id=21779324&amp;how=up&amp;goto=news'><div class='votearrow' title='upvote'></div></a></center></td><td class=\"title\"><a href=\"https://flatga.io\" class=\"storylink\" rel=\"nofollow\">FlatGA – A Simplified Interface for Google Analytics</a><span class=\"sitebit comhead\"> (<a href=\"from?site=flatga.io\"><span class=\"sitestr\">flatga.io</span></a>)</span></td></tr><tr><td colspan=\"2\"></td><td class=\"subtext\">        <span class=\"score\" id=\"score_21779324\">9 points</span> by <a href=\"user?id=kamban\" class=\"hnuser\">kamban</a> <span class=\"age\"><a href=\"item?id=21779324\">2 hours ago</a></span> <span id=\"unv_21779324\"></span> | <a href=\"hide?id=21779324&amp;goto=news\">hide</a> | <a href=\"item?id=21779324\">2&nbsp;comments</a>              </td></tr>      <tr class=\"spacer\" style=\"height:5px\"></tr>                <tr class='athing' id='21770131'>      <td align=\"right\" valign=\"top\" class=\"title\"><span class=\"rank\">29.</span></td>      <td valign=\"top\" class=\"votelinks\"><center><a id='up_21770131' href='vote?id=21770131&amp;how=up&amp;goto=news'><div class='votearrow' title='upvote'></div></a></center></td><td class=\"title\"><a href=\"https://www.forbes.com/sites/robtoews/2019/11/17/to-understand-the-future-of-ai-study-its-past/\" class=\"storylink\">To Understand the Future of AI, Study Its Past</a><span class=\"sitebit comhead\"> (<a href=\"from?site=forbes.com\"><span class=\"sitestr\">forbes.com</span></a>)</span></td></tr><tr><td colspan=\"2\"></td><td class=\"subtext\">        <span class=\"score\" id=\"score_21770131\">78 points</span> by <a href=\"user?id=lelf\" class=\"hnuser\">lelf</a> <span class=\"age\"><a href=\"item?id=21770131\">11 hours ago</a></span> <span id=\"unv_21770131\"></span> | <a href=\"hide?id=21770131&amp;goto=news\">hide</a> | <a href=\"item?id=21770131\">51&nbsp;comments</a>              </td></tr>      <tr class=\"spacer\" style=\"height:5px\"></tr>                <tr class='athing' id='21775032'>      <td align=\"right\" valign=\"top\" class=\"title\"><span class=\"rank\">30.</span></td>      <td valign=\"top\" class=\"votelinks\"><center><a id='up_21775032' href='vote?id=21775032&amp;how=up&amp;goto=news'><div class='votearrow' title='upvote'></div></a></center></td><td class=\"title\"><a href=\"https://hbr.org/2019/03/the-feedback-fallacy\" class=\"storylink\">The Feedback Fallacy</a><span class=\"sitebit comhead\"> (<a href=\"from?site=hbr.org\"><span class=\"sitestr\">hbr.org</span></a>)</span></td></tr><tr><td colspan=\"2\"></td><td class=\"subtext\">        <span class=\"score\" id=\"score_21775032\">105 points</span> by <a href=\"user?id=ejp\" class=\"hnuser\">ejp</a> <span class=\"age\"><a href=\"item?id=21775032\">13 hours ago</a></span> <span id=\"unv_21775032\"></span> | <a href=\"hide?id=21775032&amp;goto=news\">hide</a> | <a href=\"item?id=21775032\">52&nbsp;comments</a>              </td></tr>      <tr class=\"spacer\" style=\"height:5px\"></tr>            <tr class=\"morespace\" style=\"height:10px\"></tr><tr><td colspan=\"2\"></td><td class=\"title\"><a href=\"news?p=2\" class=\"morelink\" rel=\"next\">More</a></td></tr>  </table></td></tr><tr><td><img src=\"s.gif\" height=\"10\" width=\"0\"><table width=\"100%\" cellspacing=\"0\" cellpadding=\"1\"><tr><td bgcolor=\"#ff6600\"></td></tr></table><br><center><span class=\"yclinks\"><a href=\"newsguidelines.html\">Guidelines</a>        | <a href=\"newsfaq.html\">FAQ</a>        | <a href=\"mailto:hn@ycombinator.com\">Support</a>        | <a href=\"https://github.com/HackerNews/API\">API</a>        | <a href=\"security.html\">Security</a>        | <a href=\"lists\">Lists</a>        | <a href=\"bookmarklet.html\" rel=\"nofollow\">Bookmarklet</a>        | <a href=\"http://www.ycombinator.com/legal/\">Legal</a>        | <a href=\"http://www.ycombinator.com/apply/\">Apply to YC</a>        | <a href=\"mailto:hn@ycombinator.com\">Contact</a></span><br><br><form method=\"get\" action=\"//hn.algolia.com/\">Search:          <input type=\"text\" name=\"q\" value=\"\" size=\"17\" autocorrect=\"off\" spellcheck=\"false\" autocapitalize=\"off\" autocomplete=\"false\"></form>            </center></td></tr>      </table></center></body><script type='text/javascript' src='hn.js?s5t26O9UpNwNunslysjS'></script></html>"
      ],
      "text/plain": [
       "<html op=\"news\"><head><meta name=\"referrer\" content=\"origin\"><meta name=\"viewport\" content=\"width=device-width, initial-scale=1.0\"><link rel=\"stylesheet\" type=\"text/css\" href=\"news.css?s5t26O9UpNwNunslysjS\">        <link rel=\"shortcut icon\" href=\"favicon.ico\">          <link rel=\"alternate\" type=\"application/rss+xml\" title=\"RSS\" href=\"rss\">        <title>Hacker News</title></head><body><center><table id=\"hnmain\" border=\"0\" cellpadding=\"0\" cellspacing=\"0\" width=\"85%\" bgcolor=\"#f6f6ef\">        <tr><td bgcolor=\"#ff6600\"><table border=\"0\" cellpadding=\"0\" cellspacing=\"0\" width=\"100%\" style=\"padding:2px\"><tr><td style=\"width:18px;padding-right:4px\"><a href=\"https://news.ycombinator.com\"><img src=\"y18.gif\" width=\"18\" height=\"18\" style=\"border:1px white solid;\"></a></td>                  <td style=\"line-height:12pt; height:10px;\"><span class=\"pagetop\"><b class=\"hnname\"><a href=\"news\">Hacker News</a></b>              <a href=\"newest\">new</a> | <a href=\"front\">past</a> | <a href=\"newcomments\">comments</a> | <a href=\"ask\">ask</a> | <a href=\"show\">show</a> | <a href=\"jobs\">jobs</a> | <a href=\"submit\">submit</a>            </span></td><td style=\"text-align:right;padding-right:4px;\"><span class=\"pagetop\">                              <a href=\"login?goto=news\">login</a>                          </span></td>              </tr></table></td></tr><tr id=\"pagespace\" title=\"\" style=\"height:10px\"></tr><tr><td><table border=\"0\" cellpadding=\"0\" cellspacing=\"0\" class=\"itemlist\">              <tr class='athing' id='21779810'>      <td align=\"right\" valign=\"top\" class=\"title\"><span class=\"rank\">1.</span></td>      <td valign=\"top\" class=\"votelinks\"><center><a id='up_21779810' href='vote?id=21779810&amp;how=up&amp;goto=news'><div class='votearrow' title='upvote'></div></a></center></td><td class=\"title\"><a href=\"https://nadiaeghbal.com/phd\" class=\"storylink\">Reimagining the PhD</a><span class=\"sitebit comhead\"> (<a href=\"from?site=nadiaeghbal.com\"><span class=\"sitestr\">nadiaeghbal.com</span></a>)</span></td></tr><tr><td colspan=\"2\"></td><td class=\"subtext\">        <span class=\"score\" id=\"score_21779810\">29 points</span> by <a href=\"user?id=imartin2k\" class=\"hnuser\">imartin2k</a> <span class=\"age\"><a href=\"item?id=21779810\">45 minutes ago</a></span> <span id=\"unv_21779810\"></span> | <a href=\"hide?id=21779810&amp;goto=news\">hide</a> | <a href=\"item?id=21779810\">4&nbsp;comments</a>              </td></tr>      <tr class=\"spacer\" style=\"height:5px\"></tr>                <tr class='athing' id='21767954'>      <td align=\"right\" valign=\"top\" class=\"title\"><span class=\"rank\">2.</span></td>      <td valign=\"top\" class=\"votelinks\"><center><a id='up_21767954' href='vote?id=21767954&amp;how=up&amp;goto=news'><div class='votearrow' title='upvote'></div></a></center></td><td class=\"title\"><a href=\"https://www.fastcompany.com/90440406/the-worlds-first-3d-printed-neighborhood-now-has-its-first-houses\" class=\"storylink\">New Story's first 3D-printed houses are now complete</a><span class=\"sitebit comhead\"> (<a href=\"from?site=fastcompany.com\"><span class=\"sitestr\">fastcompany.com</span></a>)</span></td></tr><tr><td colspan=\"2\"></td><td class=\"subtext\">        <span class=\"score\" id=\"score_21767954\">31 points</span> by <a href=\"user?id=prostoalex\" class=\"hnuser\">prostoalex</a> <span class=\"age\"><a href=\"item?id=21767954\">2 hours ago</a></span> <span id=\"unv_21767954\"></span> | <a href=\"hide?id=21767954&amp;goto=news\">hide</a> | <a href=\"item?id=21767954\">11&nbsp;comments</a>              </td></tr>      <tr class=\"spacer\" style=\"height:5px\"></tr>                <tr class='athing' id='21777401'>      <td align=\"right\" valign=\"top\" class=\"title\"><span class=\"rank\">3.</span></td>      <td valign=\"top\" class=\"votelinks\"><center><a id='up_21777401' href='vote?id=21777401&amp;how=up&amp;goto=news'><div class='votearrow' title='upvote'></div></a></center></td><td class=\"title\"><a href=\"https://github.com/jeremycw/httpserver.h\" class=\"storylink\">Httpserver.h: Single header library for writing non-blocking HTTP servers in C</a><span class=\"sitebit comhead\"> (<a href=\"from?site=github.com\"><span class=\"sitestr\">github.com</span></a>)</span></td></tr><tr><td colspan=\"2\"></td><td class=\"subtext\">        <span class=\"score\" id=\"score_21777401\">219 points</span> by <a href=\"user?id=jeremycw\" class=\"hnuser\">jeremycw</a> <span class=\"age\"><a href=\"item?id=21777401\">9 hours ago</a></span> <span id=\"unv_21777401\"></span> | <a href=\"hide?id=21777401&amp;goto=news\">hide</a> | <a href=\"item?id=21777401\">106&nbsp;comments</a>              </td></tr>      <tr class=\"spacer\" style=\"height:5px\"></tr>                <tr class='athing' id='21778298'>      <td align=\"right\" valign=\"top\" class=\"title\"><span class=\"rank\">4.</span></td>      <td valign=\"top\" class=\"votelinks\"><center><a id='up_21778298' href='vote?id=21778298&amp;how=up&amp;goto=news'><div class='votearrow' title='upvote'></div></a></center></td><td class=\"title\"><a href=\"https://www.atlasobscura.com/articles/gandhara-scroll-library-of-congress\" class=\"storylink\">How the Library of Congress Unrolled a 2000-Year-Old Buddhist Scroll</a><span class=\"sitebit comhead\"> (<a href=\"from?site=atlasobscura.com\"><span class=\"sitestr\">atlasobscura.com</span></a>)</span></td></tr><tr><td colspan=\"2\"></td><td class=\"subtext\">        <span class=\"score\" id=\"score_21778298\">112 points</span> by <a href=\"user?id=sohkamyung\" class=\"hnuser\">sohkamyung</a> <span class=\"age\"><a href=\"item?id=21778298\">7 hours ago</a></span> <span id=\"unv_21778298\"></span> | <a href=\"hide?id=21778298&amp;goto=news\">hide</a> | <a href=\"item?id=21778298\">18&nbsp;comments</a>              </td></tr>      <tr class=\"spacer\" style=\"height:5px\"></tr>                <tr class='athing' id='21778427'>      <td align=\"right\" valign=\"top\" class=\"title\"><span class=\"rank\">5.</span></td>      <td valign=\"top\" class=\"votelinks\"><center><a id='up_21778427' href='vote?id=21778427&amp;how=up&amp;goto=news'><div class='votearrow' title='upvote'></div></a></center></td><td class=\"title\"><a href=\"https://www.latimes.com/travel/story/2019-12-12/supershuttle-says-it-will-stop-service-to-lax\" class=\"storylink\">SuperShuttle is going out of business</a><span class=\"sitebit comhead\"> (<a href=\"from?site=latimes.com\"><span class=\"sitestr\">latimes.com</span></a>)</span></td></tr><tr><td colspan=\"2\"></td><td class=\"subtext\">        <span class=\"score\" id=\"score_21778427\">91 points</span> by <a href=\"user?id=prostoalex\" class=\"hnuser\">prostoalex</a> <span class=\"age\"><a href=\"item?id=21778427\">6 hours ago</a></span> <span id=\"unv_21778427\"></span> | <a href=\"hide?id=21778427&amp;goto=news\">hide</a> | <a href=\"item?id=21778427\">63&nbsp;comments</a>              </td></tr>      <tr class=\"spacer\" style=\"height:5px\"></tr>                <tr class='athing' id='21778763'>      <td align=\"right\" valign=\"top\" class=\"title\"><span class=\"rank\">6.</span></td>      <td valign=\"top\" class=\"votelinks\"><center><a id='up_21778763' href='vote?id=21778763&amp;how=up&amp;goto=news'><div class='votearrow' title='upvote'></div></a></center></td><td class=\"title\"><a href=\"https://www.folklore.org/StoryView.py?project=Macintosh&amp;story=Joining_Apple_Computer\" class=\"storylink\">Bill Atkinson: Reflections on the 40th anniversary of my joining Apple</a><span class=\"sitebit comhead\"> (<a href=\"from?site=folklore.org\"><span class=\"sitestr\">folklore.org</span></a>)</span></td></tr><tr><td colspan=\"2\"></td><td class=\"subtext\">        <span class=\"score\" id=\"score_21778763\">58 points</span> by <a href=\"user?id=kick\" class=\"hnuser\">kick</a> <span class=\"age\"><a href=\"item?id=21778763\">5 hours ago</a></span> <span id=\"unv_21778763\"></span> | <a href=\"hide?id=21778763&amp;goto=news\">hide</a> | <a href=\"item?id=21778763\">20&nbsp;comments</a>              </td></tr>      <tr class=\"spacer\" style=\"height:5px\"></tr>                <tr class='athing' id='21778890'>      <td align=\"right\" valign=\"top\" class=\"title\"><span class=\"rank\">7.</span></td>      <td valign=\"top\" class=\"votelinks\"><center><a id='up_21778890' href='vote?id=21778890&amp;how=up&amp;goto=news'><div class='votearrow' title='upvote'></div></a></center></td><td class=\"title\"><a href=\"https://arxiv.org/abs/1904.05270\" class=\"storylink\">Google Street View image of a house predicts car accident risk of its resident</a><span class=\"sitebit comhead\"> (<a href=\"from?site=arxiv.org\"><span class=\"sitestr\">arxiv.org</span></a>)</span></td></tr><tr><td colspan=\"2\"></td><td class=\"subtext\">        <span class=\"score\" id=\"score_21778890\">41 points</span> by <a href=\"user?id=elsewhen\" class=\"hnuser\">elsewhen</a> <span class=\"age\"><a href=\"item?id=21778890\">5 hours ago</a></span> <span id=\"unv_21778890\"></span> | <a href=\"hide?id=21778890&amp;goto=news\">hide</a> | <a href=\"item?id=21778890\">15&nbsp;comments</a>              </td></tr>      <tr class=\"spacer\" style=\"height:5px\"></tr>                <tr class='athing' id='21778546'>      <td align=\"right\" valign=\"top\" class=\"title\"><span class=\"rank\">8.</span></td>      <td valign=\"top\" class=\"votelinks\"><center><a id='up_21778546' href='vote?id=21778546&amp;how=up&amp;goto=news'><div class='votearrow' title='upvote'></div></a></center></td><td class=\"title\"><a href=\"http://hjemmesider.diku.dk/~torbenm/Basics/basics_lulu2.pdf\" class=\"storylink\">Basics of Compiler Design (2000) [pdf]</a><span class=\"sitebit comhead\"> (<a href=\"from?site=diku.dk\"><span class=\"sitestr\">diku.dk</span></a>)</span></td></tr><tr><td colspan=\"2\"></td><td class=\"subtext\">        <span class=\"score\" id=\"score_21778546\">74 points</span> by <a href=\"user?id=mpiedrav\" class=\"hnuser\">mpiedrav</a> <span class=\"age\"><a href=\"item?id=21778546\">6 hours ago</a></span> <span id=\"unv_21778546\"></span> | <a href=\"hide?id=21778546&amp;goto=news\">hide</a> | <a href=\"item?id=21778546\">5&nbsp;comments</a>              </td></tr>      <tr class=\"spacer\" style=\"height:5px\"></tr>                <tr class='athing' id='21778681'>      <td align=\"right\" valign=\"top\" class=\"title\"><span class=\"rank\">9.</span></td>      <td valign=\"top\" class=\"votelinks\"><center><a id='up_21778681' href='vote?id=21778681&amp;how=up&amp;goto=news'><div class='votearrow' title='upvote'></div></a></center></td><td class=\"title\"><a href=\"https://www.bbc.com/news/science-environment-38224564\" class=\"storylink\">Feathered dinosaur tail found in amber (2016)</a><span class=\"sitebit comhead\"> (<a href=\"from?site=bbc.com\"><span class=\"sitestr\">bbc.com</span></a>)</span></td></tr><tr><td colspan=\"2\"></td><td class=\"subtext\">        <span class=\"score\" id=\"score_21778681\">66 points</span> by <a href=\"user?id=zuhayeer\" class=\"hnuser\">zuhayeer</a> <span class=\"age\"><a href=\"item?id=21778681\">5 hours ago</a></span> <span id=\"unv_21778681\"></span> | <a href=\"hide?id=21778681&amp;goto=news\">hide</a> | <a href=\"item?id=21778681\">7&nbsp;comments</a>              </td></tr>      <tr class=\"spacer\" style=\"height:5px\"></tr>                <tr class='athing' id='21774203'>      <td align=\"right\" valign=\"top\" class=\"title\"><span class=\"rank\">10.</span></td>      <td valign=\"top\" class=\"votelinks\"><center><a id='up_21774203' href='vote?id=21774203&amp;how=up&amp;goto=news'><div class='votearrow' title='upvote'></div></a></center></td><td class=\"title\"><a href=\"https://www.vice.com/en_us/article/z3bbq4/podcast-livestreams-hacked-ring-cameras-nulledcast\" class=\"storylink\">A podcast that hacks Ring camera owners live</a><span class=\"sitebit comhead\"> (<a href=\"from?site=vice.com\"><span class=\"sitestr\">vice.com</span></a>)</span></td></tr><tr><td colspan=\"2\"></td><td class=\"subtext\">        <span class=\"score\" id=\"score_21774203\">296 points</span> by <a href=\"user?id=pulisse\" class=\"hnuser\">pulisse</a> <span class=\"age\"><a href=\"item?id=21774203\">13 hours ago</a></span> <span id=\"unv_21774203\"></span> | <a href=\"hide?id=21774203&amp;goto=news\">hide</a> | <a href=\"item?id=21774203\">219&nbsp;comments</a>              </td></tr>      <tr class=\"spacer\" style=\"height:5px\"></tr>                <tr class='athing' id='21778996'>      <td align=\"right\" valign=\"top\" class=\"title\"><span class=\"rank\">11.</span></td>      <td valign=\"top\" class=\"votelinks\"><center><a id='up_21778996' href='vote?id=21778996&amp;how=up&amp;goto=news'><div class='votearrow' title='upvote'></div></a></center></td><td class=\"title\"><a href=\"https://jtp.io/aco-tsp/\" class=\"storylink\">Ant Colony Optimization Visualization for the Travelling Salesman Problem</a><span class=\"sitebit comhead\"> (<a href=\"from?site=jtp.io\"><span class=\"sitestr\">jtp.io</span></a>)</span></td></tr><tr><td colspan=\"2\"></td><td class=\"subtext\">        <span class=\"score\" id=\"score_21778996\">30 points</span> by <a href=\"user?id=jonbaer\" class=\"hnuser\">jonbaer</a> <span class=\"age\"><a href=\"item?id=21778996\">4 hours ago</a></span> <span id=\"unv_21778996\"></span> | <a href=\"hide?id=21778996&amp;goto=news\">hide</a> | <a href=\"item?id=21778996\">1&nbsp;comment</a>              </td></tr>      <tr class=\"spacer\" style=\"height:5px\"></tr>                <tr class='athing' id='21776370'>      <td align=\"right\" valign=\"top\" class=\"title\"><span class=\"rank\">12.</span></td>      <td valign=\"top\" class=\"votelinks\"><center><a id='up_21776370' href='vote?id=21776370&amp;how=up&amp;goto=news'><div class='votearrow' title='upvote'></div></a></center></td><td class=\"title\"><a href=\"https://telegra.ph/Why-OpenBSD-is-marginally-less-horrible-12-05\" class=\"storylink\">Learning from OpenBSD can make computers marginally less horrible</a><span class=\"sitebit comhead\"> (<a href=\"from?site=telegra.ph\"><span class=\"sitestr\">telegra.ph</span></a>)</span></td></tr><tr><td colspan=\"2\"></td><td class=\"subtext\">        <span class=\"score\" id=\"score_21776370\">153 points</span> by <a href=\"user?id=ArcVRArthur\" class=\"hnuser\">ArcVRArthur</a> <span class=\"age\"><a href=\"item?id=21776370\">11 hours ago</a></span> <span id=\"unv_21776370\"></span> | <a href=\"hide?id=21776370&amp;goto=news\">hide</a> | <a href=\"item?id=21776370\">89&nbsp;comments</a>              </td></tr>      <tr class=\"spacer\" style=\"height:5px\"></tr>                <tr class='athing' id='21778802'>      <td align=\"right\" valign=\"top\" class=\"title\"><span class=\"rank\">13.</span></td>      <td valign=\"top\" class=\"votelinks\"><center><a id='up_21778802' href='vote?id=21778802&amp;how=up&amp;goto=news'><div class='votearrow' title='upvote'></div></a></center></td><td class=\"title\"><a href=\"https://www.washingtonpost.com/business/2019/12/12/netflix-sends-journalists-pricey-trips-raising-questions-angering-rivals/\" class=\"storylink\">Netflix sends journalists on pricey trips</a><span class=\"sitebit comhead\"> (<a href=\"from?site=washingtonpost.com\"><span class=\"sitestr\">washingtonpost.com</span></a>)</span></td></tr><tr><td colspan=\"2\"></td><td class=\"subtext\">        <span class=\"score\" id=\"score_21778802\">27 points</span> by <a href=\"user?id=danso\" class=\"hnuser\">danso</a> <span class=\"age\"><a href=\"item?id=21778802\">5 hours ago</a></span> <span id=\"unv_21778802\"></span> | <a href=\"hide?id=21778802&amp;goto=news\">hide</a> | <a href=\"item?id=21778802\">16&nbsp;comments</a>              </td></tr>      <tr class=\"spacer\" style=\"height:5px\"></tr>                <tr class='athing' id='21772610'>      <td align=\"right\" valign=\"top\" class=\"title\"><span class=\"rank\">14.</span></td>      <td valign=\"top\" class=\"votelinks\"><center><a id='up_21772610' href='vote?id=21772610&amp;how=up&amp;goto=news'><div class='votearrow' title='upvote'></div></a></center></td><td class=\"title\"><a href=\"https://github.com/huginn/huginn\" class=\"storylink\">Huginn: Create agents that monitor and act on your behalf</a><span class=\"sitebit comhead\"> (<a href=\"from?site=github.com\"><span class=\"sitestr\">github.com</span></a>)</span></td></tr><tr><td colspan=\"2\"></td><td class=\"subtext\">        <span class=\"score\" id=\"score_21772610\">1086 points</span> by <a href=\"user?id=daolf\" class=\"hnuser\">daolf</a> <span class=\"age\"><a href=\"item?id=21772610\">16 hours ago</a></span> <span id=\"unv_21772610\"></span> | <a href=\"hide?id=21772610&amp;goto=news\">hide</a> | <a href=\"item?id=21772610\">124&nbsp;comments</a>              </td></tr>      <tr class=\"spacer\" style=\"height:5px\"></tr>                <tr class='athing' id='21774822'>      <td align=\"right\" valign=\"top\" class=\"title\"><span class=\"rank\">15.</span></td>      <td valign=\"top\" class=\"votelinks\"><center><a id='up_21774822' href='vote?id=21774822&amp;how=up&amp;goto=news'><div class='votearrow' title='upvote'></div></a></center></td><td class=\"title\"><a href=\"https://phys.org/news/2019-12-dark-center-milky.html\" class=\"storylink\" rel=\"nofollow\">Is there dark matter at the center of the Milky Way?</a><span class=\"sitebit comhead\"> (<a href=\"from?site=phys.org\"><span class=\"sitestr\">phys.org</span></a>)</span></td></tr><tr><td colspan=\"2\"></td><td class=\"subtext\">        <span class=\"score\" id=\"score_21774822\">5 points</span> by <a href=\"user?id=dnetesn\" class=\"hnuser\">dnetesn</a> <span class=\"age\"><a href=\"item?id=21774822\">1 hour ago</a></span> <span id=\"unv_21774822\"></span> | <a href=\"hide?id=21774822&amp;goto=news\">hide</a> | <a href=\"item?id=21774822\">discuss</a>              </td></tr>      <tr class=\"spacer\" style=\"height:5px\"></tr>                <tr class='athing' id='21778814'>      <td align=\"right\" valign=\"top\" class=\"title\"><span class=\"rank\">16.</span></td>      <td valign=\"top\" class=\"votelinks\"><center><a id='up_21778814' href='vote?id=21778814&amp;how=up&amp;goto=news'><div class='votearrow' title='upvote'></div></a></center></td><td class=\"title\"><a href=\"http://martin.zinkevich.org/rules_of_ml/rules_of_ml.pdf\" class=\"storylink\">Rules of Machine Learning: Best Practices for ML Engineering [pdf]</a><span class=\"sitebit comhead\"> (<a href=\"from?site=zinkevich.org\"><span class=\"sitestr\">zinkevich.org</span></a>)</span></td></tr><tr><td colspan=\"2\"></td><td class=\"subtext\">        <span class=\"score\" id=\"score_21778814\">44 points</span> by <a href=\"user?id=yarapavan\" class=\"hnuser\">yarapavan</a> <span class=\"age\"><a href=\"item?id=21778814\">5 hours ago</a></span> <span id=\"unv_21778814\"></span> | <a href=\"hide?id=21778814&amp;goto=news\">hide</a> | <a href=\"item?id=21778814\">discuss</a>              </td></tr>      <tr class=\"spacer\" style=\"height:5px\"></tr>                <tr class='athing' id='21758814'>      <td align=\"right\" valign=\"top\" class=\"title\"><span class=\"rank\">17.</span></td>      <td valign=\"top\" class=\"votelinks\"><center><a id='up_21758814' href='vote?id=21758814&amp;how=up&amp;goto=news'><div class='votearrow' title='upvote'></div></a></center></td><td class=\"title\"><a href=\"https://vivaldi.com/blog/user-agent-changes/\" class=\"storylink\">User Agent Changes</a><span class=\"sitebit comhead\"> (<a href=\"from?site=vivaldi.com\"><span class=\"sitestr\">vivaldi.com</span></a>)</span></td></tr><tr><td colspan=\"2\"></td><td class=\"subtext\">        <span class=\"score\" id=\"score_21758814\">101 points</span> by <a href=\"user?id=CrazedGeek\" class=\"hnuser\">CrazedGeek</a> <span class=\"age\"><a href=\"item?id=21758814\">9 hours ago</a></span> <span id=\"unv_21758814\"></span> | <a href=\"hide?id=21758814&amp;goto=news\">hide</a> | <a href=\"item?id=21758814\">56&nbsp;comments</a>              </td></tr>      <tr class=\"spacer\" style=\"height:5px\"></tr>                <tr class='athing' id='21778791'>      <td align=\"right\" valign=\"top\" class=\"title\"><span class=\"rank\">18.</span></td>      <td valign=\"top\" class=\"votelinks\"><center><a id='up_21778791' href='vote?id=21778791&amp;how=up&amp;goto=news'><div class='votearrow' title='upvote'></div></a></center></td><td class=\"title\"><a href=\"http://lsub.org/who/nemo/9.intro.pdf\" class=\"storylink\">Introduction to Operating System Abstractions Using Plan 9 from Bell Labs (2007) [pdf]</a><span class=\"sitebit comhead\"> (<a href=\"from?site=lsub.org\"><span class=\"sitestr\">lsub.org</span></a>)</span></td></tr><tr><td colspan=\"2\"></td><td class=\"subtext\">        <span class=\"score\" id=\"score_21778791\">28 points</span> by <a href=\"user?id=kick\" class=\"hnuser\">kick</a> <span class=\"age\"><a href=\"item?id=21778791\">5 hours ago</a></span> <span id=\"unv_21778791\"></span> | <a href=\"hide?id=21778791&amp;goto=news\">hide</a> | <a href=\"item?id=21778791\">discuss</a>              </td></tr>      <tr class=\"spacer\" style=\"height:5px\"></tr>                <tr class='athing' id='21769575'>      <td align=\"right\" valign=\"top\" class=\"title\"><span class=\"rank\">19.</span></td>      <td valign=\"top\" class=\"votelinks\"><center><a id='up_21769575' href='vote?id=21769575&amp;how=up&amp;goto=news'><div class='votearrow' title='upvote'></div></a></center></td><td class=\"title\"><a href=\"https://www.bbc.com/future/article/20191211-crows-could-be-the-smartest-animal-other-than-primates\" class=\"storylink\">Crows could be the smartest animal other than primates</a><span class=\"sitebit comhead\"> (<a href=\"from?site=bbc.com\"><span class=\"sitestr\">bbc.com</span></a>)</span></td></tr><tr><td colspan=\"2\"></td><td class=\"subtext\">        <span class=\"score\" id=\"score_21769575\">589 points</span> by <a href=\"user?id=hhs\" class=\"hnuser\">hhs</a> <span class=\"age\"><a href=\"item?id=21769575\">1 day ago</a></span> <span id=\"unv_21769575\"></span> | <a href=\"hide?id=21769575&amp;goto=news\">hide</a> | <a href=\"item?id=21769575\">369&nbsp;comments</a>              </td></tr>      <tr class=\"spacer\" style=\"height:5px\"></tr>                <tr class='athing' id='21776220'>      <td align=\"right\" valign=\"top\" class=\"title\"><span class=\"rank\">20.</span></td>      <td valign=\"top\" class=\"votelinks\"><center><a id='up_21776220' href='vote?id=21776220&amp;how=up&amp;goto=news'><div class='votearrow' title='upvote'></div></a></center></td><td class=\"title\"><a href=\"https://lwn.net/ml/oss-security/CALCETrW1z0gCLFJz-1Jwj_wcT3+axXkP_wOCxY8JkbSLzV80GA@mail.gmail.com/\" class=\"storylink\">Lots of bugs in 32-bit x86 Linux entry code</a><span class=\"sitebit comhead\"> (<a href=\"from?site=lwn.net\"><span class=\"sitestr\">lwn.net</span></a>)</span></td></tr><tr><td colspan=\"2\"></td><td class=\"subtext\">        <span class=\"score\" id=\"score_21776220\">133 points</span> by <a href=\"user?id=swills\" class=\"hnuser\">swills</a> <span class=\"age\"><a href=\"item?id=21776220\">11 hours ago</a></span> <span id=\"unv_21776220\"></span> | <a href=\"hide?id=21776220&amp;goto=news\">hide</a> | <a href=\"item?id=21776220\">88&nbsp;comments</a>              </td></tr>      <tr class=\"spacer\" style=\"height:5px\"></tr>                <tr class='athing' id='21777025'>      <td align=\"right\" valign=\"top\" class=\"title\"><span class=\"rank\">21.</span></td>      <td valign=\"top\" class=\"votelinks\"><center><a id='up_21777025' href='vote?id=21777025&amp;how=up&amp;goto=news'><div class='votearrow' title='upvote'></div></a></center></td><td class=\"title\"><a href=\"https://github.com/arp242/uni\" class=\"storylink\">Uni: Query the Unicode database from the CLI, with good support for emojis</a><span class=\"sitebit comhead\"> (<a href=\"from?site=github.com\"><span class=\"sitestr\">github.com</span></a>)</span></td></tr><tr><td colspan=\"2\"></td><td class=\"subtext\">        <span class=\"score\" id=\"score_21777025\">86 points</span> by <a href=\"user?id=oftenwrong\" class=\"hnuser\">oftenwrong</a> <span class=\"age\"><a href=\"item?id=21777025\">10 hours ago</a></span> <span id=\"unv_21777025\"></span> | <a href=\"hide?id=21777025&amp;goto=news\">hide</a> | <a href=\"item?id=21777025\">17&nbsp;comments</a>              </td></tr>      <tr class=\"spacer\" style=\"height:5px\"></tr>                <tr class='athing' id='21775756'>      <td align=\"right\" valign=\"top\" class=\"title\"><span class=\"rank\">22.</span></td>      <td valign=\"top\" class=\"votelinks\"><center><a id='up_21775756' href='vote?id=21775756&amp;how=up&amp;goto=news'><div class='votearrow' title='upvote'></div></a></center></td><td class=\"title\"><a href=\"https://www.versionmuseum.com/history-of/discontinued-microsoft-products\" class=\"storylink\">Discontinued Microsoft Products</a><span class=\"sitebit comhead\"> (<a href=\"from?site=versionmuseum.com\"><span class=\"sitestr\">versionmuseum.com</span></a>)</span></td></tr><tr><td colspan=\"2\"></td><td class=\"subtext\">        <span class=\"score\" id=\"score_21775756\">122 points</span> by <a href=\"user?id=tech-historian\" class=\"hnuser\">tech-historian</a> <span class=\"age\"><a href=\"item?id=21775756\">12 hours ago</a></span> <span id=\"unv_21775756\"></span> | <a href=\"hide?id=21775756&amp;goto=news\">hide</a> | <a href=\"item?id=21775756\">95&nbsp;comments</a>              </td></tr>      <tr class=\"spacer\" style=\"height:5px\"></tr>                <tr class='athing' id='21775011'>      <td align=\"right\" valign=\"top\" class=\"title\"><span class=\"rank\">23.</span></td>      <td valign=\"top\" class=\"votelinks\"><center><a id='up_21775011' href='vote?id=21775011&amp;how=up&amp;goto=news'><div class='votearrow' title='upvote'></div></a></center></td><td class=\"title\"><a href=\"https://www.bbc.co.uk/bbcthree/article/5c237a34-7a47-4deb-a5b4-a23e77cc88f7\" class=\"storylink\">Instagram Face: The rise of selfie make-up and quest for hyper-perfection (2018)</a><span class=\"sitebit comhead\"> (<a href=\"from?site=bbc.co.uk\"><span class=\"sitestr\">bbc.co.uk</span></a>)</span></td></tr><tr><td colspan=\"2\"></td><td class=\"subtext\">        <span class=\"score\" id=\"score_21775011\">146 points</span> by <a href=\"user?id=AndrewBissell\" class=\"hnuser\">AndrewBissell</a> <span class=\"age\"><a href=\"item?id=21775011\">13 hours ago</a></span> <span id=\"unv_21775011\"></span> | <a href=\"hide?id=21775011&amp;goto=news\">hide</a> | <a href=\"item?id=21775011\">109&nbsp;comments</a>              </td></tr>      <tr class=\"spacer\" style=\"height:5px\"></tr>                <tr class='athing' id='21779191'>      <td align=\"right\" valign=\"top\" class=\"title\"><span class=\"rank\">24.</span></td>      <td valign=\"top\" class=\"votelinks\"><center><a id='up_21779191' href='vote?id=21779191&amp;how=up&amp;goto=news'><div class='votearrow' title='upvote'></div></a></center></td><td class=\"title\"><a href=\"https://github.com/python-poetry/poetry/releases/tag/1.0.0\" class=\"storylink\">Poetry Dependency Management for Python – v1.0</a><span class=\"sitebit comhead\"> (<a href=\"from?site=github.com\"><span class=\"sitestr\">github.com</span></a>)</span></td></tr><tr><td colspan=\"2\"></td><td class=\"subtext\">        <span class=\"score\" id=\"score_21779191\">78 points</span> by <a href=\"user?id=devj\" class=\"hnuser\">devj</a> <span class=\"age\"><a href=\"item?id=21779191\">3 hours ago</a></span> <span id=\"unv_21779191\"></span> | <a href=\"hide?id=21779191&amp;goto=news\">hide</a> | <a href=\"item?id=21779191\">35&nbsp;comments</a>              </td></tr>      <tr class=\"spacer\" style=\"height:5px\"></tr>                <tr class='athing' id='21774018'>      <td align=\"right\" valign=\"top\" class=\"title\"><span class=\"rank\">25.</span></td>      <td valign=\"top\" class=\"votelinks\"><center><a id='up_21774018' href='vote?id=21774018&amp;how=up&amp;goto=news'><div class='votearrow' title='upvote'></div></a></center></td><td class=\"title\"><a href=\"https://www.anishathalye.com/2019/12/12/constraint-based-graphic-design/\" class=\"storylink\">Experiments in Constraint-Based Graphic Design</a><span class=\"sitebit comhead\"> (<a href=\"from?site=anishathalye.com\"><span class=\"sitestr\">anishathalye.com</span></a>)</span></td></tr><tr><td colspan=\"2\"></td><td class=\"subtext\">        <span class=\"score\" id=\"score_21774018\">158 points</span> by <a href=\"user?id=anishathalye\" class=\"hnuser\">anishathalye</a> <span class=\"age\"><a href=\"item?id=21774018\">13 hours ago</a></span> <span id=\"unv_21774018\"></span> | <a href=\"hide?id=21774018&amp;goto=news\">hide</a> | <a href=\"item?id=21774018\">40&nbsp;comments</a>              </td></tr>      <tr class=\"spacer\" style=\"height:5px\"></tr>                <tr class='athing' id='21775337'>      <td align=\"right\" valign=\"top\" class=\"title\"><span class=\"rank\">26.</span></td>      <td valign=\"top\" class=\"votelinks\"><center><a id='up_21775337' href='vote?id=21775337&amp;how=up&amp;goto=news'><div class='votearrow' title='upvote'></div></a></center></td><td class=\"title\"><a href=\"https://www.manton.org/2019/12/11/twitter-to-decentralize.html\" class=\"storylink\">Twitter to decentralize something</a><span class=\"sitebit comhead\"> (<a href=\"from?site=manton.org\"><span class=\"sitestr\">manton.org</span></a>)</span></td></tr><tr><td colspan=\"2\"></td><td class=\"subtext\">        <span class=\"score\" id=\"score_21775337\">148 points</span> by <a href=\"user?id=cdevroe\" class=\"hnuser\">cdevroe</a> <span class=\"age\"><a href=\"item?id=21775337\">12 hours ago</a></span> <span id=\"unv_21775337\"></span> | <a href=\"hide?id=21775337&amp;goto=news\">hide</a> | <a href=\"item?id=21775337\">66&nbsp;comments</a>              </td></tr>      <tr class=\"spacer\" style=\"height:5px\"></tr>                <tr class='athing' id='21773543'>      <td align=\"right\" valign=\"top\" class=\"title\"><span class=\"rank\">27.</span></td>      <td valign=\"top\" class=\"votelinks\"><center><a id='up_21773543' href='vote?id=21773543&amp;how=up&amp;goto=news'><div class='votearrow' title='upvote'></div></a></center></td><td class=\"title\"><a href=\"https://www.forbes.com/sites/thomasbrewster/2019/12/11/google-gives-feds-1500-leads-to-arsonist-smartphones-in-unprecedented-geofence-search/#7e36570827dc\" class=\"storylink\">Google Gives Feds 1,500 Phone Locations in Unprecedented ‘Geofence’ Search</a><span class=\"sitebit comhead\"> (<a href=\"from?site=forbes.com\"><span class=\"sitestr\">forbes.com</span></a>)</span></td></tr><tr><td colspan=\"2\"></td><td class=\"subtext\">        <span class=\"score\" id=\"score_21773543\">422 points</span> by <a href=\"user?id=labase19\" class=\"hnuser\">labase19</a> <span class=\"age\"><a href=\"item?id=21773543\">15 hours ago</a></span> <span id=\"unv_21773543\"></span> | <a href=\"hide?id=21773543&amp;goto=news\">hide</a> | <a href=\"item?id=21773543\">220&nbsp;comments</a>              </td></tr>      <tr class=\"spacer\" style=\"height:5px\"></tr>                <tr class='athing' id='21779324'>      <td align=\"right\" valign=\"top\" class=\"title\"><span class=\"rank\">28.</span></td>      <td valign=\"top\" class=\"votelinks\"><center><a id='up_21779324' href='vote?id=21779324&amp;how=up&amp;goto=news'><div class='votearrow' title='upvote'></div></a></center></td><td class=\"title\"><a href=\"https://flatga.io\" class=\"storylink\" rel=\"nofollow\">FlatGA – A Simplified Interface for Google Analytics</a><span class=\"sitebit comhead\"> (<a href=\"from?site=flatga.io\"><span class=\"sitestr\">flatga.io</span></a>)</span></td></tr><tr><td colspan=\"2\"></td><td class=\"subtext\">        <span class=\"score\" id=\"score_21779324\">9 points</span> by <a href=\"user?id=kamban\" class=\"hnuser\">kamban</a> <span class=\"age\"><a href=\"item?id=21779324\">2 hours ago</a></span> <span id=\"unv_21779324\"></span> | <a href=\"hide?id=21779324&amp;goto=news\">hide</a> | <a href=\"item?id=21779324\">2&nbsp;comments</a>              </td></tr>      <tr class=\"spacer\" style=\"height:5px\"></tr>                <tr class='athing' id='21770131'>      <td align=\"right\" valign=\"top\" class=\"title\"><span class=\"rank\">29.</span></td>      <td valign=\"top\" class=\"votelinks\"><center><a id='up_21770131' href='vote?id=21770131&amp;how=up&amp;goto=news'><div class='votearrow' title='upvote'></div></a></center></td><td class=\"title\"><a href=\"https://www.forbes.com/sites/robtoews/2019/11/17/to-understand-the-future-of-ai-study-its-past/\" class=\"storylink\">To Understand the Future of AI, Study Its Past</a><span class=\"sitebit comhead\"> (<a href=\"from?site=forbes.com\"><span class=\"sitestr\">forbes.com</span></a>)</span></td></tr><tr><td colspan=\"2\"></td><td class=\"subtext\">        <span class=\"score\" id=\"score_21770131\">78 points</span> by <a href=\"user?id=lelf\" class=\"hnuser\">lelf</a> <span class=\"age\"><a href=\"item?id=21770131\">11 hours ago</a></span> <span id=\"unv_21770131\"></span> | <a href=\"hide?id=21770131&amp;goto=news\">hide</a> | <a href=\"item?id=21770131\">51&nbsp;comments</a>              </td></tr>      <tr class=\"spacer\" style=\"height:5px\"></tr>                <tr class='athing' id='21775032'>      <td align=\"right\" valign=\"top\" class=\"title\"><span class=\"rank\">30.</span></td>      <td valign=\"top\" class=\"votelinks\"><center><a id='up_21775032' href='vote?id=21775032&amp;how=up&amp;goto=news'><div class='votearrow' title='upvote'></div></a></center></td><td class=\"title\"><a href=\"https://hbr.org/2019/03/the-feedback-fallacy\" class=\"storylink\">The Feedback Fallacy</a><span class=\"sitebit comhead\"> (<a href=\"from?site=hbr.org\"><span class=\"sitestr\">hbr.org</span></a>)</span></td></tr><tr><td colspan=\"2\"></td><td class=\"subtext\">        <span class=\"score\" id=\"score_21775032\">105 points</span> by <a href=\"user?id=ejp\" class=\"hnuser\">ejp</a> <span class=\"age\"><a href=\"item?id=21775032\">13 hours ago</a></span> <span id=\"unv_21775032\"></span> | <a href=\"hide?id=21775032&amp;goto=news\">hide</a> | <a href=\"item?id=21775032\">52&nbsp;comments</a>              </td></tr>      <tr class=\"spacer\" style=\"height:5px\"></tr>            <tr class=\"morespace\" style=\"height:10px\"></tr><tr><td colspan=\"2\"></td><td class=\"title\"><a href=\"news?p=2\" class=\"morelink\" rel=\"next\">More</a></td></tr>  </table></td></tr><tr><td><img src=\"s.gif\" height=\"10\" width=\"0\"><table width=\"100%\" cellspacing=\"0\" cellpadding=\"1\"><tr><td bgcolor=\"#ff6600\"></td></tr></table><br><center><span class=\"yclinks\"><a href=\"newsguidelines.html\">Guidelines</a>        | <a href=\"newsfaq.html\">FAQ</a>        | <a href=\"mailto:hn@ycombinator.com\">Support</a>        | <a href=\"https://github.com/HackerNews/API\">API</a>        | <a href=\"security.html\">Security</a>        | <a href=\"lists\">Lists</a>        | <a href=\"bookmarklet.html\" rel=\"nofollow\">Bookmarklet</a>        | <a href=\"http://www.ycombinator.com/legal/\">Legal</a>        | <a href=\"http://www.ycombinator.com/apply/\">Apply to YC</a>        | <a href=\"mailto:hn@ycombinator.com\">Contact</a></span><br><br><form method=\"get\" action=\"//hn.algolia.com/\">Search:          <input type=\"text\" name=\"q\" value=\"\" size=\"17\" autocorrect=\"off\" spellcheck=\"false\" autocapitalize=\"off\" autocomplete=\"false\"></form>            </center></td></tr>      </table></center></body><script type='text/javascript' src='hn.js?s5t26O9UpNwNunslysjS'></script></html>"
      ]
     },
     "metadata": {},
     "output_type": "display_data"
    }
   ],
   "source": [
    "URL url = new URL(\"https://news.ycombinator.com\");\n",
    "\n",
    "HttpURLConnection connection = (HttpURLConnection) url.openConnection();\n",
    "InputStream is = connection.getInputStream();\n",
    "\n",
    "BufferedReader reader = new BufferedReader(new InputStreamReader(is));\n",
    "Stream<String> lines = reader.lines();\n",
    "String response = lines.reduce(\"\", (s,t) -> s + t);\n",
    "\n",
    "\n",
    "display(response,  \"text/html\");"
   ]
  },
  {
   "cell_type": "markdown",
   "metadata": {},
   "source": [
    "* Übung: Entfernen Sie alle Zeilen, die den string \"points\" enthalten."
   ]
  },
  {
   "cell_type": "markdown",
   "metadata": {
    "slideshow": {
     "slide_type": "notes"
    }
   },
   "source": [
    "Das nächste Beispiel zeigt ein Beispiel aus dem Paket ```java.text```, welches Funktionalität zum Formatieren von Text zur Verfügung stellt. Als Beispiel zeigen wir, wie man ein Datum textuell aufbereiten kann. "
   ]
  },
  {
   "cell_type": "markdown",
   "metadata": {
    "slideshow": {
     "slide_type": "slide"
    }
   },
   "source": [
    "### java.text\n",
    "\n",
    "> Länderunabhängiges Formatieren von Text, Datum, Zahlenformaten\n",
    "\n",
    "#### Beispiel"
   ]
  },
  {
   "cell_type": "code",
   "execution_count": 61,
   "metadata": {},
   "outputs": [
    {
     "name": "stdout",
     "output_type": "stream",
     "text": [
      " 3. Fr. Dez. 13 13:02:31:826 MEZ 19\n"
     ]
    }
   ],
   "source": [
    "import java.text.SimpleDateFormat;\n",
    "\n",
    "Date now = new Date();\n",
    "\n",
    "SimpleDateFormat format =   new SimpleDateFormat(\"EEE MMM dd HH:mm:ss:SSS zzz yy\");\n",
    "System.out.println(\" 3. \" + format.format(now))"
   ]
  },
  {
   "cell_type": "markdown",
   "metadata": {
    "slideshow": {
     "slide_type": "fragment"
    }
   },
   "source": [
    "#### Übung\n",
    "\n",
    "* Lesen Sie die [Dokumentation](https://docs.oracle.com/javase/8/docs/api/java/text/SimpleDateFormat.html) und ändern Sie das Muster so, dass zusätzlich auch Milisekunden ausgegeben werden"
   ]
  },
  {
   "cell_type": "markdown",
   "metadata": {
    "slideshow": {
     "slide_type": "notes"
    }
   },
   "source": [
    "In unserem letzten Beispiel nutzen wir Funktionalität aus den Paketen ```javax.imageio``` und ```java.awt``` um zu zeigen, wie man aus Java Bilder lesen kann. "
   ]
  },
  {
   "cell_type": "markdown",
   "metadata": {
    "slideshow": {
     "slide_type": "slide"
    }
   },
   "source": [
    "### javax.imageio\n",
    "\n",
    "> Lesen und schreiben von Bildern\n",
    "\n",
    "#### Beispiel"
   ]
  },
  {
   "cell_type": "code",
   "execution_count": 53,
   "metadata": {},
   "outputs": [
    {
     "data": {
      "image/png": "[encoded data removed]",
      "text/plain": [
       "BufferedImage@6b8c1fc3: type = 13 IndexColorModel: #pixelBits = 8 numComponents = 3 color space = java.awt.color.ICC_ColorSpace@5f87f6dc transparency = 1 transIndex   = -1 has alpha = false isAlphaPre = false ByteInterleavedRaster: width = 640 height = 246 #numDataElements 1 dataOff[0] = 0"
      ]
     },
     "execution_count": 53,
     "metadata": {},
     "output_type": "execute_result"
    }
   ],
   "source": [
    "import javax.imageio.ImageIO;\n",
    "import java.awt.image.BufferedImage;\n",
    "BufferedImage img = ImageIO.read(new File(\"./images/cartoon.png\"));\n",
    "\n",
    "img;\n"
   ]
  },
  {
   "cell_type": "code",
   "execution_count": null,
   "metadata": {},
   "outputs": [],
   "source": []
  }
 ],
 "metadata": {
  "celltoolbar": "Slideshow",
  "kernelspec": {
   "display_name": "Java",
   "language": "java",
   "name": "java"
  },
  "language_info": {
   "codemirror_mode": "java",
   "file_extension": ".java",
   "mimetype": "text/x-java-source",
   "name": "Java",
   "pygments_lexer": "java",
   "version": "11.0.4+11"
  }
 },
 "nbformat": 4,
 "nbformat_minor": 2
}
