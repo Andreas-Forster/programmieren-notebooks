{
 "cells": [
  {
   "cell_type": "markdown",
   "metadata": {
    "slideshow": {
     "slide_type": "slide"
    }
   },
   "source": [
    "# Verzweigung\n",
    "\n",
    "#### Marcel Lüthi, Departement Mathematik und Informatik, Universität Basel"
   ]
  },
  {
   "cell_type": "markdown",
   "metadata": {
    "slideshow": {
     "slide_type": "slide"
    }
   },
   "source": [
    "### If-Anweisung\n",
    "\n",
    "![if-statement](images/if-statement.png)"
   ]
  },
  {
   "cell_type": "markdown",
   "metadata": {
    "slideshow": {
     "slide_type": "slide"
    }
   },
   "source": [
    "### Anweisungsblöcke\n",
    "\n",
    "Anweisungsblöcke sind geklammerte folgen von Anweisungen:\n",
    "```\n",
    "{ \n",
    "   Anweisung1;\n",
    "   Anweisung2;\n",
    "   ...\n",
    "   Anweisung3;\n",
    "}\n",
    "```\n",
    "\n",
    "``then`` und ``else``-Zweig in der ``if``-Anweisung entsprechen jeweils Anweisungsblöcken. \n",
    "\n"
   ]
  },
  {
   "cell_type": "markdown",
   "metadata": {
    "slideshow": {
     "slide_type": "slide"
    }
   },
   "source": [
    "### Randbemerkung: Einrückungen\n",
    "\n",
    "> Anweisungen in Anweisungsblöcken sollten eingerückt werden\n",
    "\n",
    "Vergleiche\n",
    "\n",
    "<div style=\"display: block; margin-top:0.2cm\">\n",
    "<div style=\"display: inline-block\">\n",
    "\n",
    "<pre><code class=\"language-java\" data-trim>       \n",
    "  if (n != 0) {\n",
    "      n = n / 2;\n",
    "      n--;\n",
    "  } else {\n",
    "      n = n * 2;\n",
    "      n++;        \n",
    "  }    \n",
    "</code></pre></div>\n",
    "<div style=\"display: inline-block\">\n",
    "\n",
    "<pre><code class=\"language-java\" data-trim>       \n",
    "  if (n != 0) {\n",
    "  n = n / 2;\n",
    "  n--;\n",
    "    } else {\n",
    " n = n * 2;\n",
    "    n++;        \n",
    "  }    \n",
    "</code></pre></div>    \n",
    "</div>\n",
    "\n",
    "* Einrückungen nicht wichtig für Java - aber für den Leser\n"
   ]
  },
  {
   "cell_type": "markdown",
   "metadata": {
    "slideshow": {
     "slide_type": "slide"
    }
   },
   "source": [
    "### Vergleichsoperatoren\n",
    "\n",
    "Vergleich zweier Werte liefert Wahr (``true``) oder falsch (``false``)\n",
    "\n",
    "| &nbsp;     | Bedeutung | Beispiel |\n",
    "|------|-----------|----------|\n",
    "| ==   | gleich    | x == 3 |\n",
    "| !=   | ungleich  | x != y |\n",
    "| >    | grösser   | 4 > 3 |\n",
    "| <    | kleiner   | x + 1 < 0 |\n",
    "| >=   | grösser oder gleich | x >= y| \n",
    "| <=   | kleiner oder gleich | x <= y|\n",
    "\n",
    "\n",
    "Wird z.B. in If-Anweisung verwendet\n"
   ]
  },
  {
   "cell_type": "markdown",
   "metadata": {
    "slideshow": {
     "slide_type": "slide"
    }
   },
   "source": [
    "#### Miniübung\n",
    "\n",
    "* Vervollständigen Sie das Programm, so dass jewils nur die zutreffende Aussage für die Zahl z ausgegeben wird."
   ]
  },
  {
   "cell_type": "code",
   "execution_count": null,
   "metadata": {},
   "outputs": [],
   "source": [
    "int z = 5;\n",
    "\n",
    "System.out.println(\"z ist eine gerade, positive Zahl\");\n",
    "System.out.println(\"z ist eine gerade, negative Zahl\");\n",
    "System.out.println(\"z ist eine ungerade, positive Zahl\");\n",
    "System.out.println(\"z ist eine ungerade, negative Zahl\");"
   ]
  },
  {
   "cell_type": "markdown",
   "metadata": {
    "slideshow": {
     "slide_type": "slide"
    }
   },
   "source": [
    "### Zusammengesetzte Vergleiche"
   ]
  },
  {
   "cell_type": "markdown",
   "metadata": {},
   "source": [
    "<div style=\"display: block; margin-top:0.2cm\">\n",
    "<div style=\"display: inline-block; width:5cm\">\n",
    "&& Und-Verknüpfung\n",
    "    \n",
    "| x | y | x && y|\n",
    "|---|---|--------|\n",
    "| true | true | true |\n",
    "| true | false | false |\n",
    "| false | true | false |\n",
    "| false | false | false |\n",
    "\n",
    " <img width=\"300px\"/>\n",
    "</div>\n",
    "<div style=\"display: inline-block; width:5cm\">\n",
    "\n",
    "``||`` Oder-Verknüpfung\n",
    "\n",
    "| x | y | x  \t&#124;  \t&#124; y |\n",
    "|---|---|--------|\n",
    "| true | true | true |\n",
    "| true | false | true |\n",
    "| false | true | true |\n",
    "| false | false | false |\n",
    "\n",
    "<img width=\"300px\"/>\n",
    "</div>    \n",
    "\n",
    "<div style=\"display: inline-block; width:5cm\">\n",
    "! Nicht-Verknüpfung\n",
    "\n",
    "| x | !x |\n",
    "|---|---|\n",
    "| true | false |\n",
    "| false | true |\n",
    "</div>    \n",
    "\n",
    "</div>\n",
    "\n",
    "Beispiel:\n",
    "```java\n",
    "if (x >= 0 && x <= 10 || x >= 100 && x <= 110) {\n",
    "    x = y; \n",
    "}\n",
    "```\n",
    "\n",
    "Vorrangregeln\n",
    "* ! bindet stärker als && \n",
    "* && bindet stärker als || \n",
    "\n",
    "* Wenn unklar - Klammern setzten"
   ]
  },
  {
   "cell_type": "markdown",
   "metadata": {
    "slideshow": {
     "slide_type": "slide"
    }
   },
   "source": [
    "### Datentyp boolean\n",
    "\n",
    "Datentyp wie ``int``, aber mit nur zwei Werten ``true`` und ``false``. \n",
    "\n",
    "Beispiel:\n"
   ]
  },
  {
   "cell_type": "code",
   "execution_count": null,
   "metadata": {},
   "outputs": [],
   "source": [
    "int x = 1;\n",
    "boolean p = false;\n",
    "boolean q = x > 0;\n",
    "p = p || q && x < 10\n"
   ]
  },
  {
   "cell_type": "markdown",
   "metadata": {
    "slideshow": {
     "slide_type": "fragment"
    }
   },
   "source": [
    "#### Beachte\n",
    "\n",
    "* Boolesche Werte können mit &&, || und ! verknüpft werden.\n",
    "* Jeder Vergleich liefert einen Wert vom Typ boolean.\n",
    "* Boolesche Werte können in boolean- Variablen abgespeichert werden (\" flags\").\n",
    "* Namen für boolean- Variablen sollten mit Adjektiv beginnen: equal, full."
   ]
  },
  {
   "cell_type": "markdown",
   "metadata": {
    "slideshow": {
     "slide_type": "slide"
    }
   },
   "source": [
    "# Übungen"
   ]
  },
  {
   "cell_type": "markdown",
   "metadata": {
    "slideshow": {
     "slide_type": "slide"
    }
   },
   "source": [
    "### Übung 1: Maximum dreier Zahlen"
   ]
  },
  {
   "cell_type": "markdown",
   "metadata": {},
   "source": [
    "* Schreiben Sie ein Programm, welches das Maximum dreier Zahlen berechnet. \n",
    "* Schreiben Sie das Programm jeweils mit einfachen als auch mit zusammengesetzten Bedingungen"
   ]
  },
  {
   "cell_type": "markdown",
   "metadata": {},
   "source": [
    "![flowchart](images/max-flowchart.png)"
   ]
  },
  {
   "cell_type": "code",
   "execution_count": null,
   "metadata": {
    "slideshow": {
     "slide_type": "notes"
    }
   },
   "outputs": [],
   "source": []
  },
  {
   "cell_type": "markdown",
   "metadata": {
    "slideshow": {
     "slide_type": "slide"
    }
   },
   "source": [
    "### Übung 2: Parametrisieren sie das gezeichnete Haus"
   ]
  },
  {
   "cell_type": "markdown",
   "metadata": {},
   "source": [
    "In längeren Programmen kommt es häufig vor, dass sich eine komplexe Anweisungsfolge nur in kleinen Teilen unterscheidet. Dies ist in folgendem Programm illustriert, wo wir mal wieder die Turtle Grafik verwenden. \n",
    "\n",
    "* Führen Sie boolsche Variablen und ```hasWindow``` und ``hasChimney`` ein, welche es erlauben ein Haus wahlweise mit Kamin, mit Fenster oder mit beidem zu Zeichnen. \n",
    "* Führen Sie Variablen ein um die Zeichnung einfacher parametrisieren zu können. "
   ]
  },
  {
   "cell_type": "code",
   "execution_count": null,
   "metadata": {
    "slideshow": {
     "slide_type": "notes"
    }
   },
   "outputs": [],
   "source": [
    "// Laden der Turtle Bibliothek\n",
    "// Diese Kommandos funktionieren nur in Jupyter-notebooks und entsprechen nicht gültigem Java. \n",
    "\n",
    "%mavenRepo bintray https://dl.bintray.com/egp/maven\n",
    "%maven ch.unibas.informatik:jturtle:0.5\n",
    "import ch.unibas.informatik.jturtle.Turtle;"
   ]
  },
  {
   "cell_type": "code",
   "execution_count": null,
   "metadata": {
    "slideshow": {
     "slide_type": "slide"
    }
   },
   "outputs": [],
   "source": [
    "Turtle t = new Turtle();\n",
    "\n",
    "// head\n",
    "t.home();\n",
    "t.penDown();\n",
    "t.backward(50);\n",
    "t.forward(50);\n",
    "t.turnRight(45);\n",
    "t.forward(50);\n",
    "t.turnRight(90);\n",
    "t.forward(20);\n",
    "\n",
    "\n",
    "t.turnLeft(135);\n",
    "t.forward(10);\n",
    "t.turnRight(90);\n",
    "t.forward(10);\n",
    "t.turnRight(90);\n",
    "t.forward(20);\n",
    "t.turnLeft(45);    \n",
    "\n",
    "t.forward(15);\n",
    "t.turnRight(45);\n",
    "t.forward(50);\n",
    "t.turnRight(90);\n",
    "t.forward(70);\n",
    "\n",
    "t.toImage();"
   ]
  },
  {
   "cell_type": "markdown",
   "metadata": {},
   "source": [
    "#### Mini Übung:\n",
    "\n",
    "* Fügen Sie eine Verzweigung ein, die ein Fenster zeichnet, wenn eine Variable ```hasWindow``` auf true gesetzt ist.\n",
    "* Führen Sie Variablen ein um die Zeichnung zu parametrisieren (Höhe/Breite des Hauses, etc.)"
   ]
  }
 ],
 "metadata": {
  "celltoolbar": "Slideshow",
  "kernelspec": {
   "display_name": "Java",
   "language": "java",
   "name": "java"
  },
  "language_info": {
   "codemirror_mode": "java",
   "file_extension": ".java",
   "mimetype": "text/x-java-source",
   "name": "Java",
   "pygments_lexer": "java",
   "version": "11.0.4+11"
  },
  "rise": {}
 },
 "nbformat": 4,
 "nbformat_minor": 2
}
