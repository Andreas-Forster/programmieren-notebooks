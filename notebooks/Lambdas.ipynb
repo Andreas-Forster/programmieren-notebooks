{
 "cells": [
  {
   "cell_type": "markdown",
   "metadata": {
    "slideshow": {
     "slide_type": "slide"
    }
   },
   "source": [
    "# Lambda Ausdrücke und funktionale Programmierung\n",
    "\n",
    "#### Marcel Lüthi <br/> Departement Mathematik und Informatik"
   ]
  },
  {
   "cell_type": "markdown",
   "metadata": {
    "slideshow": {
     "slide_type": "notes"
    }
   },
   "source": [
    "In diesem Notebook werden wir uns Lambda Ausdrücke anschauen. Lambda Ausdrücke sind eine kürzlich hinzugefügte syntaktische Erweiterung von Java, die es erlaubt einfacher mit Funktionen zu arbeiten. Diese Erweiterung erlaubt uns nicht etwas Neues auszudrücken. Trotzdem haben Lambda Ausdrücke einen grossen Einfluss darauf wie wir Java programmieren. Der Grund dafür ist, dass nun auf einmal Dinge, die zuvor mühsam waren in Java auszudrücken, nun sehr elegant und einfach geschrieben werden können und deshalb in der Praxis sehr häufig eingesetzt werden."
   ]
  },
  {
   "cell_type": "markdown",
   "metadata": {
    "slideshow": {
     "slide_type": "slide"
    }
   },
   "source": [
    "### Agenda\n",
    "\n",
    "* Geschichte: Objektorientierte und Funktionale Programmierung\n",
    "* Funktionen als Objekte\n",
    "* Lambda Audrücke in Java\n",
    "* Funktionsobjekte in Java Standardbibliothek"
   ]
  },
  {
   "cell_type": "markdown",
   "metadata": {
    "slideshow": {
     "slide_type": "slide"
    }
   },
   "source": [
    "\n",
    "# Geschichte:  Objektorientierte und Funktionale Programmierung"
   ]
  },
  {
   "cell_type": "markdown",
   "metadata": {
    "slideshow": {
     "slide_type": "notes"
    }
   },
   "source": [
    "In den Anfängen der Informatik war es noch ein sehr mühsames Unterfangen ein Programm zu schreiben. \n",
    "Nachfolgend sehen wir die Implementation in der Sprache Assembler, die die Summer der Zahlen (in einer angegebenen Zahlenbasis) berechnet. Wir sehen, dass man Anhand vom Code kaum erkennen konnte, was das Programm eigentlich macht. "
   ]
  },
  {
   "cell_type": "markdown",
   "metadata": {
    "slideshow": {
     "slide_type": "slide"
    }
   },
   "source": [
    "### Erste Programmierung\n",
    "\n",
    "```assembly\n",
    "SUMDIGIN CSECT\n",
    "         USING  SUMDIGIN,R13       \n",
    "         B      72(R15)            \n",
    "         DC     17F'0'             \n",
    "         STM    R14,R12,12(R13)    \n",
    "         ST     R13,4(R15)         \n",
    "         ST     R15,8(R13)         \n",
    "         LR     R13,R15            \n",
    "         LA     R11,NUMBERS        \n",
    "         LA     R8,1               \n",
    "LOOPK    CH     R8,=H'4'           \n",
    "         BH     ELOOPK             \n",
    "         SR     R10,R10            \n",
    "         LA     R7,1               \n",
    "LOOPJ    CH     R7,=H'8'           \n",
    "         BH     ELOOPJ             \n",
    "         LR     R4,R11             \n",
    "         BCTR   R4,0               \n",
    "         AR     R4,R7              \n",
    "         MVC    D,0(R4)            \n",
    "         SR     R9,R9              \n",
    "         SR     R6,R6              \n",
    "LOOPI    CH     R6,=H'15'          \n",
    "         BH     ELOOPI             \n",
    "         LA     R4,DIGITS          \n",
    "         AR     R4,R6              \n",
    "         MVC    C,0(R4)            \n",
    "         CLC    D,C                \n",
    "         BNE    NOTEQ              \n",
    "         LR     R9,R6              \n",
    "         B      ELOOPI             \n",
    "NOTEQ    LA     R6,1(R6)           \n",
    "         B      LOOPI              \n",
    "ELOOPI   AR     R10,R9             \n",
    "         LA     R7,1(R7)           \n",
    "         B      LOOPJ              \n",
    "ELOOPJ   MVC    PG(8),0(R11)       \n",
    "         XDECO  R10,XDEC           \n",
    "         MVC    PG+8(8),XDEC+4     \n",
    "         XPRNT  PG,L'PG            \n",
    "         LA     R11,8(R11)         \n",
    "         LA     R8,1(R8)           \n",
    "         B      LOOPK              \n",
    "ELOOPK   L      R13,4(0,R13)       \n",
    "         LM     R14,R12,12(R13)    \n",
    "         XR     R15,R15            \n",
    "         BR     R14                \n",
    "DIGITS   DC     CL16'0123456789ABCDEF'\n",
    "NUMBERS  DC     CL8'1',CL8'1234',CL8'FE',CL8'F0E'\n",
    "C        DS     CL1\n",
    "D        DS     CL1\n",
    "PG       DC     CL16' '            \n",
    "XDEC     DS     CL12               \n",
    "         YREGS\n",
    "         END    SUMDIGIN\n",
    "```"
   ]
  },
  {
   "cell_type": "markdown",
   "metadata": {
    "slideshow": {
     "slide_type": "notes"
    }
   },
   "source": [
    "Nach und nach wurden bessere Programmiersprachen entwicklent, die es den Programmierern erlaubten, Konzepte klarer auszudrücken und den Code besser zu strukturieren. Hier sehen wir ein Programm in der Sprache Pascal, die Anfang der 70er Jahre entwickelt wurde."
   ]
  },
  {
   "cell_type": "markdown",
   "metadata": {
    "slideshow": {
     "slide_type": "slide"
    }
   },
   "source": [
    "### Erste Hochsprachen\n",
    "\n",
    "```pascal\n",
    "Program SumOFDigits;\n",
    " \n",
    "function SumOfDigitBase(n:UInt64;base:LongWord): LongWord;\n",
    "var\n",
    "  tmp: Uint64;\n",
    "  digit,sum : LongWord;\n",
    "Begin\n",
    "  digit := 0;\n",
    "  sum   := 0;\n",
    "  While n > 0 do\n",
    "  Begin\n",
    "    tmp := n div base;\n",
    "    digit := n-base*tmp;\n",
    "    n := tmp;\n",
    "    inc(sum,digit);\n",
    "  end;\n",
    "  SumOfDigitBase := sum;  \n",
    "end;\n",
    "Begin\n",
    "  writeln('   1 sums to ', SumOfDigitBase(1,10)); \n",
    "  writeln('1234 sums to ', SumOfDigitBase(1234,10));  \n",
    "  writeln(' $FE sums to ', SumOfDigitBase($FE,16)); \n",
    "  writeln('$FOE sums to ', SumOfDigitBase($F0E,16));   \n",
    " \n",
    "  writeln('18446744073709551615 sums to ', SumOfDigitBase(High(Uint64),10));  \n",
    " \n",
    "end.\n",
    "```"
   ]
  },
  {
   "cell_type": "markdown",
   "metadata": {
    "slideshow": {
     "slide_type": "slide"
    }
   },
   "source": [
    "### Wichtige Frage\n",
    "\n",
    "\n",
    "> Wie kann man Programme besser strukturieren?"
   ]
  },
  {
   "cell_type": "markdown",
   "metadata": {
    "slideshow": {
     "slide_type": "notes"
    }
   },
   "source": [
    "Ein wichtiges Ziel in der Entwicklung der Programmiersprachen war es immer, Konzepte so auszudrücken, dass diese möglichst gut struktuiert werden konnten. Die Strukturierung hilft, komplexe Programme in einfachere Teile zu zerlegen, die dann isoliert betrachtet und verstanden werden konnten. \n",
    "\n",
    "\n",
    "In der Praxis haben sich inzwischen zwei Hauptkonzepte für die Strukturierung von Programmiersprachen durchgesetzt: Objektorientierte Programmiersprachen wie Java, und Funktionale Programmiersprachen."
   ]
  },
  {
   "cell_type": "markdown",
   "metadata": {
    "slideshow": {
     "slide_type": "slide"
    }
   },
   "source": [
    "<div style=\"float:left; width:50%; text-align:left\">\n",
    "    <h3>Funktionale Programmierung</h3>\n",
    "    <ul>\n",
    "        <li> Idee: Komposition von (mathematischen) Funktionen um aus einfachen Teilen komplexe Funktionalität zu bauen </li>\n",
    "        <li> Mathematische Grundlage: Lambdakalkül</li>\n",
    "        <li> Aktionen / Berechnungen im Zentrum </li>\n",
    "    </ul>\n",
    "</div>\n",
    "<div style=\"float:right; width:50%\">\n",
    "    <h3>Objektorientierte Programmiereung</h3>\n",
    "    <ul>\n",
    "        <li> Idee: Organisation von Code in \"selbstorganisierende\" Module (Objekte)</li>        \n",
    "        <li> Management von Zustand durch Kapselung </li>\n",
    "        <li> Objekte im Zentrum </li>        \n",
    "    </ul>\n",
    "\n",
    "</div>"
   ]
  },
  {
   "cell_type": "markdown",
   "metadata": {
    "slideshow": {
     "slide_type": "-"
    }
   },
   "source": [
    "> Konzepte entwickelt in 60 und 70er Jahren"
   ]
  },
  {
   "cell_type": "markdown",
   "metadata": {
    "slideshow": {
     "slide_type": "notes"
    }
   },
   "source": [
    "Obwohl die Konzepte beider Paradigment bereits sehr alt sind, hat sich die Objektorientierte Programmierung erst in den 90er Jahren, und die funktionale Programmierung sogar erst in den letzten Jahren in der Industrie durchgesetzt. Moderne Programmiersprachen, vereinen inzwischen meistens Aspekte von objektorientierter und funktionaler Programmierung.  "
   ]
  },
  {
   "cell_type": "markdown",
   "metadata": {
    "slideshow": {
     "slide_type": "slide"
    }
   },
   "source": [
    "### Funktionale Konstrukte in Java\n",
    "\n",
    "> Moderne Programmiersprachen integrieren Konzepte von Funktionalen Sprachen:\n",
    "\n",
    "* Funktionen als Argumente \n",
    "* Anonyme Funktionen\n",
    "* (Closures)"
   ]
  },
  {
   "cell_type": "markdown",
   "metadata": {
    "slideshow": {
     "slide_type": "slide"
    }
   },
   "source": [
    "# Funktionen und Objekte"
   ]
  },
  {
   "cell_type": "markdown",
   "metadata": {
    "slideshow": {
     "slide_type": "slide"
    }
   },
   "source": [
    "### Funktionsobjekte"
   ]
  },
  {
   "cell_type": "markdown",
   "metadata": {
    "slideshow": {
     "slide_type": "-"
    }
   },
   "source": [
    "\n",
    "> Idee: Funktionen sind (seiteneffektfreie) Objekte mit nur einer Methode"
   ]
  },
  {
   "cell_type": "markdown",
   "metadata": {
    "slideshow": {
     "slide_type": "notes"
    }
   },
   "source": [
    "Die wichtigste Einheit um in Funktionalen Programmiersprachen Code zu strukturieren ist eine Funktion. Unser erster Schritt um Funktionale Elemente in Java zu integrieren ist deshalb, dass wir Funktionen definieren. Dies geschieht, indem wir ein Interface definieren, welches genau eine Methode hat, nämlich das Anwenden der Funktion auf das Funktionsargument. "
   ]
  },
  {
   "cell_type": "markdown",
   "metadata": {
    "slideshow": {
     "slide_type": "slide"
    }
   },
   "source": [
    "\n",
    "### Funktionsobjekte: Implementationsstrategie\n",
    "\n",
    "1. Deklaration: Interface für Funktionen definieren\n",
    "```java\n",
    "interface Function {     \n",
    "    int apply(int x);\n",
    "}\n",
    "```\n",
    "\n",
    "2. Definition der Funktion: Anonymes Objekt erstellen \n",
    "```java\n",
    "Function square = new Function() {\n",
    "    public int apply(int x) { return x * x; }\n",
    "}\n",
    "```"
   ]
  },
  {
   "cell_type": "markdown",
   "metadata": {
    "slideshow": {
     "slide_type": "slide"
    }
   },
   "source": [
    "### Diskutieren Sie:\n",
    "\n",
    "* Wie viele verschiedene Interfaces fur Funktionen brauchen wir, wenn wir alle Kombinationen von Funktion $T \\to R$ implementieren wollen, wobei $T$ und $R$ jeweils```String```, ```Integer``` und ```Double``` sein können?\n",
    "* Wie könnten wir elegant ein allgemeines Funktionsinterface definieren?\n"
   ]
  },
  {
   "cell_type": "markdown",
   "metadata": {
    "slideshow": {
     "slide_type": "notes"
    }
   },
   "source": [
    "Damit wir nicht für jede Kombination von Typen für die wir eine Funktion definieren können ein eigenes Interface definieren müssen, nutzen wir Java generics."
   ]
  },
  {
   "cell_type": "markdown",
   "metadata": {
    "slideshow": {
     "slide_type": "slide"
    }
   },
   "source": [
    "# Generische Funktionsobjekte"
   ]
  },
  {
   "cell_type": "markdown",
   "metadata": {
    "slideshow": {
     "slide_type": "-"
    }
   },
   "source": [
    "* Java Generics helfen uns die Funktion nur einmal zu definieren"
   ]
  },
  {
   "cell_type": "code",
   "execution_count": 40,
   "metadata": {
    "slideshow": {
     "slide_type": "-"
    }
   },
   "outputs": [],
   "source": [
    "interface Function<T, R> {     \n",
    "    R apply(T x);\n",
    "}\n"
   ]
  },
  {
   "cell_type": "markdown",
   "metadata": {
    "slideshow": {
     "slide_type": "notes"
    }
   },
   "source": [
    "Dieses Interface können wir nun für jede beliebige Kombination von Typen nutzen. Als Beispiel können wir die Funktion definieren, die ein Argument vom Typ ```Double``` quadriert."
   ]
  },
  {
   "cell_type": "markdown",
   "metadata": {
    "slideshow": {
     "slide_type": "-"
    }
   },
   "source": [
    "#### Beispielanwendung"
   ]
  },
  {
   "cell_type": "code",
   "execution_count": 44,
   "metadata": {
    "slideshow": {
     "slide_type": "-"
    }
   },
   "outputs": [],
   "source": [
    "\n",
    "Function<Double, Double> square = new Function<>() { \n",
    "    public Double apply(Double x) {\n",
    "        return x * x;\n",
    "    }\n",
    "}"
   ]
  },
  {
   "cell_type": "markdown",
   "metadata": {
    "slideshow": {
     "slide_type": "slide"
    }
   },
   "source": [
    "### Anwendungsbeispiel: Transformation von Listenelementen"
   ]
  },
  {
   "cell_type": "markdown",
   "metadata": {
    "slideshow": {
     "slide_type": "-"
    }
   },
   "source": [
    "#### Gegeben: Liste von Zahlen"
   ]
  },
  {
   "cell_type": "code",
   "execution_count": 49,
   "metadata": {
    "slideshow": {
     "slide_type": "-"
    }
   },
   "outputs": [],
   "source": [
    "LinkedList<Double> numbers0To10 = new LinkedList<>();\n",
    "for (int i = 0; i < 10; i++) {\n",
    "    numbers0To10.add(new Double(i));\n",
    "}"
   ]
  },
  {
   "cell_type": "markdown",
   "metadata": {
    "slideshow": {
     "slide_type": "-"
    }
   },
   "source": [
    "#### Aufgabe: Führe mathematische Funktion auf Elementen aus\n",
    "\n",
    "* Bestehende Listenelement dürfen nicht verändert werden\n",
    "* Es soll neue Liste ausgegeben werden"
   ]
  },
  {
   "cell_type": "markdown",
   "metadata": {
    "slideshow": {
     "slide_type": "slide"
    }
   },
   "source": [
    "### Lösung: Die map Methode\n",
    "\n"
   ]
  },
  {
   "cell_type": "code",
   "execution_count": 51,
   "metadata": {
    "slideshow": {
     "slide_type": "-"
    }
   },
   "outputs": [],
   "source": [
    "static LinkedList<Double> map(LinkedList<Double> list, Function<Double, Double> f) {\n",
    "    LinkedList<Double> newList = new LinkedList<>();\n",
    "    for (Double v : list) {\n",
    "        newList.add(f.apply(v));\n",
    "    }\n",
    "    return newList;\n",
    "}"
   ]
  },
  {
   "cell_type": "markdown",
   "metadata": {
    "slideshow": {
     "slide_type": "notes"
    }
   },
   "source": [
    "Die sogenannte ```map``` Funktion (oder Methode) löst das Problem indem es über alle Elemente der Liste iteriert, und für jedes Elemente die vom Aufrufer übergebene Methode anwendet."
   ]
  },
  {
   "cell_type": "markdown",
   "metadata": {
    "slideshow": {
     "slide_type": "fragment"
    }
   },
   "source": [
    "#### Anwendung"
   ]
  },
  {
   "cell_type": "code",
   "execution_count": 53,
   "metadata": {
    "slideshow": {
     "slide_type": "-"
    }
   },
   "outputs": [
    {
     "name": "stdout",
     "output_type": "stream",
     "text": [
      "[0.0, 1.0, 4.0, 9.0, 16.0, 25.0, 36.0, 49.0, 64.0, 81.0]\n"
     ]
    }
   ],
   "source": [
    "LinkedList<Double> newList = map(numbers0To10, square);\n",
    "System.out.println(newList);"
   ]
  },
  {
   "cell_type": "markdown",
   "metadata": {
    "slideshow": {
     "slide_type": "slide"
    }
   },
   "source": [
    "### Übung\n",
    "\n",
    "* Können Sie die map Methode so umschreiben, dass als Ausgabe nicht mehr ein Double verlangt wird, sondern ein beliebiger Typ angegeben werden kann?\n",
    "* Können Sie die map Methode so umschreiben, dass diese nicht mehr nur auf Listen von Double, sondern allgemeinen Listen arbeitet?"
   ]
  },
  {
   "cell_type": "code",
   "execution_count": 50,
   "metadata": {},
   "outputs": [],
   "source": [
    "// Ihr Code"
   ]
  },
  {
   "cell_type": "markdown",
   "metadata": {
    "slideshow": {
     "slide_type": "slide"
    }
   },
   "source": [
    "# Lambda Ausdrücke"
   ]
  },
  {
   "cell_type": "markdown",
   "metadata": {
    "slideshow": {
     "slide_type": "notes"
    }
   },
   "source": [
    "Konstruktionen wie die Map Methode sind in der modernen Programmierung sehr wichtig. Da es aber etwas mühsam ist, bei jedem Aufruf so einer Methode eine anonyme Klasse zu deklarieren, hat Java hier eigene Syntax dafür eingeführt, die *Lambda Ausdruck* genannt wird. "
   ]
  },
  {
   "cell_type": "markdown",
   "metadata": {
    "slideshow": {
     "slide_type": "slide"
    }
   },
   "source": [
    "### Lambda Ausdrücke\n",
    "\n",
    "* Java hat eine spezielle Syntax definiert um Funktionsobjekte zu erstellen. \n",
    "* Bekannt als ```lambda Ausdrücke```\n",
    "\n",
    "> Parameter -> Ausdruck\n",
    "\n",
    "#### Beispiel\n",
    "```java\n",
    "x -> x * x\n",
    "```"
   ]
  },
  {
   "cell_type": "markdown",
   "metadata": {
    "slideshow": {
     "slide_type": "notes"
    }
   },
   "source": [
    "Die genaue Syntax ist wie folgt definiert:"
   ]
  },
  {
   "cell_type": "markdown",
   "metadata": {
    "slideshow": {
     "slide_type": "slide"
    }
   },
   "source": [
    "### Lambda Syntax"
   ]
  },
  {
   "cell_type": "markdown",
   "metadata": {},
   "source": [
    "```bnf\n",
    "lambda = ArgList \"->\" Body\n",
    "ArgList = Identifier \n",
    "         | \"(\" [Type] Identifier { \",\" [Type] Identifier } \")\" \n",
    "         | \"()\" \n",
    "Body = Expression   |  \"{\" [ Statement \";\" ]+ \"}\"\n",
    "```"
   ]
  },
  {
   "cell_type": "markdown",
   "metadata": {
    "slideshow": {
     "slide_type": "notes"
    }
   },
   "source": [
    "Zusätzlich zum Lambda Ausdruck, hat Java das dazu passende Konzept eines ```Functional Interface``` eingeführt:"
   ]
  },
  {
   "cell_type": "markdown",
   "metadata": {
    "slideshow": {
     "slide_type": "slide"
    }
   },
   "source": [
    "### Functional Interface\n",
    "\n",
    "* Ein *Functional Interface* ist ein Interface oder Abstrakte Klasse mit genau eine Methode\n",
    "    * Methode entspricht \"Berechnung\" der Funktion\n",
    "\n",
    "#### Beispiel:\n",
    "```java\n",
    "interface Function<T, R> {\n",
    "    R apply(T t);\n",
    "}\n",
    "```"
   ]
  },
  {
   "cell_type": "markdown",
   "metadata": {
    "slideshow": {
     "slide_type": "fragment"
    }
   },
   "source": [
    "* Lambda Ausdrücke können an ein *Functional Interface* zugewiesen werden.\n",
    "   * Lambdas bekommen einen Namen\n",
    "   \n",
    "```\n",
    "Function<Double, Double> f = (Double d) -> d * d;\n",
    "```"
   ]
  },
  {
   "cell_type": "markdown",
   "metadata": {
    "slideshow": {
     "slide_type": "notes"
    }
   },
   "source": [
    "Dank diesen zwei Konstrukten, bietet Java nun alles um einfach Funktionen zu definieren und mit diesen zu arbeiten. Beachten Sie, dass hier konzeptionell nichts neues dazugekommen ist. Die via der Lambda Syntax definierten Funktionen sind einfach Objekte in Java und können genau wie solche behandelt werden. So überrascht es uns nicht, dass wir diese zum Beispiel an Methoden übergeben, oder aus Methoden zurückgeben können."
   ]
  },
  {
   "cell_type": "markdown",
   "metadata": {
    "slideshow": {
     "slide_type": "slide"
    }
   },
   "source": [
    "### Lambdas als Methodenargumente"
   ]
  },
  {
   "cell_type": "markdown",
   "metadata": {},
   "source": [
    "* Erlaubt einfache Funktionen mit wenig Code zu erstellen\n",
    "\n",
    "#### Beispiel"
   ]
  },
  {
   "cell_type": "code",
   "execution_count": 25,
   "metadata": {},
   "outputs": [
    {
     "data": {
      "text/plain": [
       "[0.0, 2.0, 4.0, 6.0, 8.0, 10.0, 12.0, 14.0, 16.0, 18.0]"
      ]
     },
     "execution_count": 25,
     "metadata": {},
     "output_type": "execute_result"
    }
   ],
   "source": [
    "LinkedList<Double> ll = new LinkedList<>();\n",
    "for (int i = 0; i < 10; i++) {\n",
    "    ll.add(new Double(i));\n",
    "}\n",
    "\n",
    "// oben definierte Map Methode jetzt mit Lambdas\n",
    "map(ll, (Double d) -> d * 2);\n"
   ]
  },
  {
   "cell_type": "markdown",
   "metadata": {
    "slideshow": {
     "slide_type": "slide"
    }
   },
   "source": [
    "### Lambdas als Rückgabewerte"
   ]
  },
  {
   "cell_type": "markdown",
   "metadata": {},
   "source": [
    "* Methoden können Funktionen zurückgeben.\n",
    "\n",
    "```\n",
    "Function<Double, Double> doubleFun(Double x) {\n",
    "    return x -> 2 * x;\n",
    "}\n",
    "```\n",
    "\n",
    "\n"
   ]
  },
  {
   "cell_type": "markdown",
   "metadata": {
    "slideshow": {
     "slide_type": "slide"
    }
   },
   "source": [
    "#### Übung: \n",
    "\n",
    "* Schreiben Sie eine Methode ```applyTwice```, die eine Funktion f vom Typ Function<Double, Double> als Argument nimmt, und eine Funktion zurückgibt, die diese zwei mal hintereinander anwendet, also der Funktion $x \\mapsto f(f(x))$ entspricht\n",
    "* Können Sie diese als generische Funktion schreiben?"
   ]
  },
  {
   "cell_type": "code",
   "execution_count": 54,
   "metadata": {
    "slideshow": {
     "slide_type": "-"
    }
   },
   "outputs": [],
   "source": [
    "// Ihr Code\n"
   ]
  },
  {
   "cell_type": "markdown",
   "metadata": {
    "slideshow": {
     "slide_type": "notes"
    }
   },
   "source": [
    "Die Syntax von Lambda Anweisungen lässt es auch zu, dass wir mehrere Anweisungen in einem Block definieren. Der Block ist wie immer durch ```{``` und ```}``` begrenzt."
   ]
  },
  {
   "cell_type": "markdown",
   "metadata": {
    "slideshow": {
     "slide_type": "slide"
    }
   },
   "source": [
    "### Lambdas mit Anweisungsblock\n",
    "\n",
    "* Rechte Seite von Lambda Ausdruck kann beliebiger Block sein\n",
    "    * Block muss den richtigen Typ zurückliefern\n",
    "\n",
    "```java\n",
    "Function<T, R> f = (T t) -> {\n",
    "    Statement1;\n",
    "    Statment2;\n",
    "    return r; // r ist vom Type R\n",
    "}\n",
    "```"
   ]
  },
  {
   "cell_type": "markdown",
   "metadata": {
    "slideshow": {
     "slide_type": "notes"
    }
   },
   "source": [
    "Natürlich wird auch bei Lambda Ausdrücken auf die Korrektheit der Typen geachtet. Der Typ eines Lambda Ausdrucks, welcher aus mehreren Statements besteht, ist durch den Typ im ```return``` Statement determiniert."
   ]
  },
  {
   "cell_type": "markdown",
   "metadata": {
    "slideshow": {
     "slide_type": "slide"
    }
   },
   "source": [
    "### Lambdas mit Anweisungsblock\n",
    "\n",
    "Folgendes funktioniert:"
   ]
  },
  {
   "cell_type": "code",
   "execution_count": 55,
   "metadata": {},
   "outputs": [
    {
     "name": "stdout",
     "output_type": "stream",
     "text": [
      "5\n"
     ]
    },
    {
     "data": {
      "text/plain": [
       "5"
      ]
     },
     "execution_count": 55,
     "metadata": {},
     "output_type": "execute_result"
    }
   ],
   "source": [
    "Function<String, Integer> f = (String s) -> { \n",
    "    System.out.println(s); \n",
    "    return Integer.parseInt(s);\n",
    "};\n",
    "f.apply(\"5\");"
   ]
  },
  {
   "cell_type": "markdown",
   "metadata": {
    "slideshow": {
     "slide_type": "fragment"
    }
   },
   "source": [
    "Aber hier gibt es einen Typfehler"
   ]
  },
  {
   "cell_type": "code",
   "execution_count": 56,
   "metadata": {},
   "outputs": [
    {
     "ename": "CompilationException",
     "evalue": "",
     "output_type": "error",
     "traceback": [
      "\u001b[1m\u001b[30m|   \u001b[1m\u001b[30m    return \u001b[0m\u001b[1m\u001b[30m\u001b[41ms\u001b[0m\u001b[1m\u001b[30m;\u001b[0m",
      "\u001b[1m\u001b[31mincompatible types: bad return type in lambda expression\u001b[0m",
      "\u001b[1m\u001b[31m    java.lang.String cannot be converted to java.lang.Integer\u001b[0m",
      ""
     ]
    }
   ],
   "source": [
    "Function<String, Integer> f = (String s) -> { \n",
    "    System.out.println(s); \n",
    "    return s;\n",
    "}"
   ]
  },
  {
   "cell_type": "markdown",
   "metadata": {
    "slideshow": {
     "slide_type": "slide"
    }
   },
   "source": [
    "### Methodenreferenzen\n",
    "\n",
    "* Wir können Methoden Functional Interfaces zuweisen:\n",
    "\n",
    "```java\n",
    "Function<Double, Double> f = AClass::aMethod;\n",
    "```\n",
    "\n",
    "#### Beispiel\n"
   ]
  },
  {
   "cell_type": "code",
   "execution_count": 36,
   "metadata": {},
   "outputs": [
    {
     "data": {
      "text/plain": [
       "[1.0, 0.5403023058681398, -0.4161468365471424, -0.9899924966004454, -0.6536436208636119, 0.28366218546322625, 0.960170286650366, 0.7539022543433046, -0.14550003380861354, -0.9111302618846769]"
      ]
     },
     "execution_count": 36,
     "metadata": {},
     "output_type": "execute_result"
    }
   ],
   "source": [
    "Function<Double, Double> cos = Math::cos;\n",
    "map(numbers0To10, cos)"
   ]
  },
  {
   "cell_type": "markdown",
   "metadata": {
    "slideshow": {
     "slide_type": "fragment"
    }
   },
   "source": [
    "oder kürzer"
   ]
  },
  {
   "cell_type": "code",
   "execution_count": 57,
   "metadata": {},
   "outputs": [
    {
     "data": {
      "text/plain": [
       "[1.0, 0.5403023058681398, -0.4161468365471424, -0.9899924966004454, -0.6536436208636119, 0.28366218546322625, 0.960170286650366, 0.7539022543433046, -0.14550003380861354, -0.9111302618846769]"
      ]
     },
     "execution_count": 57,
     "metadata": {},
     "output_type": "execute_result"
    }
   ],
   "source": [
    "map(numbers0To10, Math::cos)"
   ]
  },
  {
   "cell_type": "markdown",
   "metadata": {
    "slideshow": {
     "slide_type": "notes"
    }
   },
   "source": [
    "Bisher haben wir immer Funktionen mit nur einem Argument angeschaut. Das Konzept funktioniert aber auch für Funktionen mit beliebiger Anzahl von Argumenten."
   ]
  },
  {
   "cell_type": "markdown",
   "metadata": {
    "slideshow": {
     "slide_type": "slide"
    }
   },
   "source": [
    "### Funktionsobjekte mit mehreren Argumenten\n",
    "\n",
    "* Idee funktioniert für Funktionen mit beliebig vielen Argumenten"
   ]
  },
  {
   "cell_type": "code",
   "execution_count": 58,
   "metadata": {},
   "outputs": [
    {
     "data": {
      "text/plain": [
       "8.0"
      ]
     },
     "execution_count": 58,
     "metadata": {},
     "output_type": "execute_result"
    }
   ],
   "source": [
    "interface Function2<S, T, R> {\n",
    "    R apply(S s, T t);\n",
    "}\n",
    "\n",
    "Function2<Double, Double, Double> sum = (x, y) -> x + y;\n",
    "\n",
    "Function2<Double, Double, String> sumAsString = (x, y) -> new Double(x + y).toString();\n",
    "\n",
    "sumAsString.apply(3.0, 5.0)"
   ]
  },
  {
   "cell_type": "markdown",
   "metadata": {
    "slideshow": {
     "slide_type": "notes"
    }
   },
   "source": [
    "Einige Funktionen sind in der Praxis so wichtig, dass sie spezielle Namen erhalten. Eine davon ist das Prädikat. Ein Prädikat ist eine Funktion, welche einen Boolschen Wert (also ```true``` oder ```false```) zurückliefert."
   ]
  },
  {
   "cell_type": "markdown",
   "metadata": {
    "slideshow": {
     "slide_type": "slide"
    }
   },
   "source": [
    "### Prädikate\n",
    "\n",
    "> Prädikat: Ein Funktionsobjekt das True oder False zurückgibt\n",
    "\n",
    "```\n",
    "interface Predicate<T>\n",
    "    boolean test(T x);\n",
    "}\n",
    "```\n",
    "\n"
   ]
  },
  {
   "cell_type": "markdown",
   "metadata": {
    "slideshow": {
     "slide_type": "slide"
    }
   },
   "source": [
    "### Prädikat: Beispiel"
   ]
  },
  {
   "cell_type": "code",
   "execution_count": 38,
   "metadata": {},
   "outputs": [
    {
     "data": {
      "text/plain": [
       "3"
      ]
     },
     "execution_count": 38,
     "metadata": {},
     "output_type": "execute_result"
    }
   ],
   "source": [
    "interface Predicate<T> { \n",
    "    boolean test(T x);\n",
    "}\n",
    "\n",
    "double[] array = {0.1, 0.7, -0.5, 1.0};\n",
    "\n",
    "// returns the number of elements, which have the property specified by Predicate pred\n",
    "int count(double[] array, Predicate<Double> pred) {\n",
    "  \n",
    "    int counter = 0;\n",
    "    \n",
    "    for (int i = 0; i < array.length; ++i) {\n",
    "        if (pred.test(array[i]) == true) {\n",
    "            counter += 1;\n",
    "        }\n",
    "    }\n",
    "    \n",
    "    return counter;\n",
    "}\n",
    "\n",
    "count(array, x -> x > 0.0);"
   ]
  },
  {
   "cell_type": "markdown",
   "metadata": {
    "slideshow": {
     "slide_type": "slide"
    }
   },
   "source": [
    "### Übung: \n",
    "* Implementieren Sie die Methode\n",
    "* Testen Sie diese mit verschiedenen Prädikaten"
   ]
  },
  {
   "cell_type": "markdown",
   "metadata": {
    "slideshow": {
     "slide_type": "slide"
    }
   },
   "source": [
    "# Funktionsobjekte in der Java Standardbibliothek"
   ]
  },
  {
   "cell_type": "markdown",
   "metadata": {
    "slideshow": {
     "slide_type": "notes"
    }
   },
   "source": [
    "Java definiert eine Vielzahl von verschiedenen Funktionen und Funktioninterfaces. Einen überblick gibt die Java API Dokumentation:"
   ]
  },
  {
   "cell_type": "markdown",
   "metadata": {
    "slideshow": {
     "slide_type": "slide"
    }
   },
   "source": [
    "* Standard Funktionstypen sind in [Java API Dokumentation](https://docs.oracle.com/en/java/javase/11/docs/api/java.base/java/util/function/package-summary.html) definiert:\n",
    "\n",
    "![images](./images/function-api.png)\n"
   ]
  },
  {
   "cell_type": "markdown",
   "metadata": {
    "slideshow": {
     "slide_type": "notes"
    }
   },
   "source": [
    "Es kann auch interessant sein, sich den Source Code der verschiedenen Funktionsinterfaces anzuschauen. Als Beispiele nehmen wir hier ```Function``` und ```Predicate```. Wir sehen, dass es sich um ganz normalen Java Code handelt, den wir bis auf die speziellen Wörter ```super``` und ```extends``` nun komplett verstehen können. Der Ausdruck ```? super V``` sagt einfach, dass der Typparameter der anstelle von ```?``` eingesetzt wird, ein supertyp von ```V``` sein muss. ```? extends V``` bedeutet analog dazu, dass ```?``` für einen subtyp steht. Diese Details müssen Sie aber in diesem Kurs noch nicht verstehen. "
   ]
  },
  {
   "cell_type": "markdown",
   "metadata": {
    "slideshow": {
     "slide_type": "slide"
    }
   },
   "source": [
    "### Sourcecode vom Java Funktionsinterface"
   ]
  },
  {
   "cell_type": "code",
   "execution_count": 59,
   "metadata": {},
   "outputs": [],
   "source": [
    "public interface Function<T, R> {\n",
    "\n",
    "    R apply(T t);\n",
    "\n",
    "    default <V> Function<V, R> compose(Function<? super V, ? extends T> before) {\n",
    "        Objects.requireNonNull(before);\n",
    "        return (V v) -> apply(before.apply(v));\n",
    "    }\n",
    "\n",
    "    default <V> Function<T, V> andThen(Function<? super R, ? extends V> after) {\n",
    "        Objects.requireNonNull(after);\n",
    "        return (T t) -> after.apply(apply(t));\n",
    "    }\n",
    "\n",
    "    static <T> Function<T, T> identity() {\n",
    "        return t -> t;\n",
    "    }\n",
    "}"
   ]
  },
  {
   "cell_type": "markdown",
   "metadata": {
    "slideshow": {
     "slide_type": "slide"
    }
   },
   "source": [
    "### Komposition und Identität"
   ]
  },
  {
   "cell_type": "markdown",
   "metadata": {},
   "source": [
    "#### Übung: \n",
    "\n",
    "* Versuchen Sie verschiedene Funktionen mit ```compose``` zu kombinieren"
   ]
  },
  {
   "cell_type": "code",
   "execution_count": null,
   "metadata": {},
   "outputs": [],
   "source": []
  },
  {
   "cell_type": "markdown",
   "metadata": {
    "slideshow": {
     "slide_type": "slide"
    }
   },
   "source": [
    "### Sourcecode vom Java Predicate"
   ]
  },
  {
   "cell_type": "code",
   "execution_count": 60,
   "metadata": {},
   "outputs": [],
   "source": [
    "public interface Predicate<T> {\n",
    "\n",
    "    boolean test(T t);\n",
    "    \n",
    "    default Predicate<T> and(Predicate<? super T> other) {\n",
    "        Objects.requireNonNull(other);\n",
    "        return (t) -> test(t) && other.test(t);\n",
    "    }\n",
    "\n",
    "    default Predicate<T> negate() {\n",
    "        return (t) -> !test(t);\n",
    "    }\n",
    "\n",
    "    default Predicate<T> or(Predicate<? super T> other) {\n",
    "        Objects.requireNonNull(other);\n",
    "        return (t) -> test(t) || other.test(t);\n",
    "    }\n",
    "\n",
    "    static <T> Predicate<T> isEqual(Object targetRef) {\n",
    "        return (null == targetRef)\n",
    "                ? Objects::isNull\n",
    "                : object -> targetRef.equals(object);\n",
    "    }\n",
    "}\n"
   ]
  },
  {
   "cell_type": "markdown",
   "metadata": {},
   "source": [
    "#### Übung:\n",
    "\n",
    "* Versuchen Sie verschiedene Prädikate mit ```and``` ```or```und ```negate``` zu kombinieren"
   ]
  },
  {
   "cell_type": "code",
   "execution_count": null,
   "metadata": {},
   "outputs": [],
   "source": []
  }
 ],
 "metadata": {
  "celltoolbar": "Slideshow",
  "kernelspec": {
   "display_name": "Java",
   "language": "java",
   "name": "java"
  },
  "language_info": {
   "codemirror_mode": "java",
   "file_extension": ".java",
   "mimetype": "text/x-java-source",
   "name": "Java",
   "pygments_lexer": "java",
   "version": "11.0.4+11"
  },
  "livereveal": {
   "scroll": false,
   "transition": "none"
  }
 },
 "nbformat": 4,
 "nbformat_minor": 2
}
