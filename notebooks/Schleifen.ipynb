{
 "cells": [
  {
   "cell_type": "markdown",
   "metadata": {},
   "source": [
    "# Schleifen"
   ]
  },
  {
   "cell_type": "markdown",
   "metadata": {},
   "source": [
    "Das nächste wichtige Konstrukt im Programmieren sind die Schleifen. Damit lassen sich Befehle beliebig oft wiederholen. "
   ]
  },
  {
   "cell_type": "markdown",
   "metadata": {},
   "source": [
    "Als erstes schauen wir uns die *for-Schleife* an, die wir immer dann einsetzen können, wenn wir die Anzahl Iterationen kennen. Ein einfaches Beispiel ist das Zeichnen eines Vierecks"
   ]
  },
  {
   "cell_type": "code",
   "execution_count": null,
   "metadata": {},
   "outputs": [],
   "source": [
    "Turtle turtle = new Turtle();\n",
    "int sideLength = 80;\n",
    "turtle.penDown();\n",
    "for (int i = 0; i < 4; i++) {\n",
    "    turtle.forward( sideLength );\n",
    "    turtle.turnRight(90);\n",
    "}\n",
    "turtle.toImage();"
   ]
  },
  {
   "cell_type": "markdown",
   "metadata": {},
   "source": [
    "#### Mini-Übung\n",
    "\n",
    "* Verallgemeinern Sie den Code, so dass Sie ein n-Eck zeichnen können. (n soll eine Variable sein)\n",
    "* Können Sie einen Kreis zeichnen?"
   ]
  },
  {
   "cell_type": "markdown",
   "metadata": {},
   "source": [
    "Oft wissen wir nicht genau, wie oft wir etwas durchführen wollen. Wir iterieren, bis eine bestimmte Bedingung erfüllt ist. Dafür verwenden wir die *While-Schleife*. Im folgenden Beispiel wird gezeigt, wie wir eine Spirale zeichnen können. Wir wechseln so lange die Richtung, bis der Winkel zu klein wird. "
   ]
  },
  {
   "cell_type": "code",
   "execution_count": null,
   "metadata": {},
   "outputs": [],
   "source": [
    "Turtle turtle = new Turtle();\n",
    "turtle.penColor(java.awt.Color.BLACK);\n",
    "turtle.penDown();\n",
    "double dist = 2.0;\n",
    "double turn = 90;\n",
    "\n",
    "while (turn > 1.0) {\n",
    "    turtle.forward(dist);\n",
    "    turtle.turnRight(turn);\n",
    "    turn = turn * 0.99;\n",
    "}\n",
    "turtle.toImage()"
   ]
  },
  {
   "cell_type": "markdown",
   "metadata": {},
   "source": [
    "Natürlich können wir Schleifen auch ineinander verschachteln, wie folgendes Programm zeigt, welches das kleine 1 mal 1 berechnet. "
   ]
  },
  {
   "cell_type": "code",
   "execution_count": null,
   "metadata": {},
   "outputs": [],
   "source": [
    "for (int i = 1; i <= 9; i++) {\n",
    "    System.out.print(i);\n",
    "    System.out.print(\"er Reihe: \");\n",
    "    for (int j = 1; j <= 9; j++) {\n",
    "        System.out.print(i * j);\n",
    "        System.out.print(\" \");\n",
    "    }\n",
    "    System.out.println(\"\");\n",
    "}"
   ]
  },
  {
   "cell_type": "markdown",
   "metadata": {},
   "source": [
    "Mit (verschachtelten) Schleifen können wir mit wenig Code sehr komplexe Verhalten programmieren. Das folgende Programm gibt einen visuellen Eindruck davon:"
   ]
  },
  {
   "cell_type": "code",
   "execution_count": null,
   "metadata": {},
   "outputs": [],
   "source": [
    "Turtle turtle = new Turtle();\n",
    "turtle.penColor(java.awt.Color.BLACK);\n",
    "turtle.penDown();\n",
    "\n",
    "\n",
    "int x = 0;\n",
    "for (int i = 0; i < 150; i = i + 1) {\n",
    "    for (int j = 0; j < 5; j = j + 1) {\n",
    "        turtle.forward(20);\n",
    "        turtle.turnRight(60);\n",
    "    }\n",
    "    turtle.forward(50);\n",
    "    turtle.turnRight(11);\n",
    "}\n",
    "\n",
    "turtle.toImage();"
   ]
  },
  {
   "cell_type": "markdown",
   "metadata": {},
   "source": [
    "#### Mini Übung\n",
    "\n",
    "* Welches Muster zeichnet der Innere Loop?\n",
    "* Experimentieren Sie verschiedenen Parametern um andere Muster zu erzeugen"
   ]
  },
  {
   "cell_type": "code",
   "execution_count": null,
   "metadata": {},
   "outputs": [],
   "source": []
  },
  {
   "cell_type": "markdown",
   "metadata": {},
   "source": [
    "#### Beispiel: Geometrische Reihe"
   ]
  },
  {
   "cell_type": "markdown",
   "metadata": {},
   "source": [
    "Als letztes Beispiel schauen wir uns noch ein Beispiel aus der Mathematik an. Wir berechnen den Wert der geometrische Reihe $\\sum_{i=0}^n 1 / i$. In diesem Beispiel nutzen wir verschiedene Typen von Variablen. Für den Zähler nutzen wir eine Variable vom Typ ```int```, da der Zähler ja nur Ganzzahlen entsprechen kann. Für das Speichern der Summe nutzen wir in diesem Fall eine Variable vom Typ ```float```. Wir hätten aber auch eine Variable vom Typ ```double``` verwenden können. "
   ]
  },
  {
   "cell_type": "code",
   "execution_count": null,
   "metadata": {},
   "outputs": [],
   "source": [
    "float sum = 0;\n",
    "int n = 10;\n",
    "\n",
    "for (int i = n; i > 0; i--) {\n",
    "    sum = sum + 1f / i;\n",
    "}\n",
    "\n",
    "System.out. println(\" sum = \" + sum);"
   ]
  },
  {
   "cell_type": "markdown",
   "metadata": {},
   "source": [
    "#### Mini Übung\n",
    "\n",
    "Was würden folgende Ausdrücke liefern, wenn Sie satt ```1f /i``` \n",
    "\n",
    "1.  ```1/i``` \n",
    "2. ```1.0 / i```\n",
    "\n",
    "schreiben würden?"
   ]
  }
 ],
 "metadata": {
  "celltoolbar": "Slideshow",
  "kernelspec": {
   "display_name": "Java",
   "language": "java",
   "name": "java"
  },
  "language_info": {
   "codemirror_mode": "java",
   "file_extension": ".java",
   "mimetype": "text/x-java-source",
   "name": "Java",
   "pygments_lexer": "java",
   "version": "11.0.4+11"
  },
  "rise": {}
 },
 "nbformat": 4,
 "nbformat_minor": 2
}
