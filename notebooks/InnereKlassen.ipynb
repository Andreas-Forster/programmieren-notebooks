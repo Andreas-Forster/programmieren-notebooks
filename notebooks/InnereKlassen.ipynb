{
 "cells": [
  {
   "cell_type": "markdown",
   "metadata": {
    "slideshow": {
     "slide_type": "slide"
    }
   },
   "source": [
    "# Innere und anonyme Klassen\n",
    "\n",
    "#### Marcel Lüthi <br/> Departement Mathematik und Informatik"
   ]
  },
  {
   "cell_type": "markdown",
   "metadata": {},
   "source": [
    "Wir haben gesehen, dass Klassen das grundlegende Werkzeug von Java sind um unseren Programmcode zu organisieren und zu strukturieren. Dementsprechend stellt uns Java eine Vielzahl von Möglichkeiten zur Verfügung, um Klassen zu deklarieren und organisieren. In diesem Notebook schauen wir uns einige von diesen Möglichkeiten an. \n",
    "\n",
    "Wir möchten betonen, dass hier konzeptionell nichts wirklich Neues dazukommt. Wir könnten auch ohne diese Konstrukte alle Java Programme schreiben. Jedoch helfen uns diese Konstrukte zu signalisieren, was genau zusammengehört und auch unseren Code etwas eleganter und kürzer zu schreiben. "
   ]
  },
  {
   "cell_type": "markdown",
   "metadata": {
    "slideshow": {
     "slide_type": "slide"
    }
   },
   "source": [
    "## Innere Klassen\n",
    "\n",
    "\n",
    "Wir beginnen mit inneren Klassen. Innere Klassen sind Klassen, die innerhalb einer anderen Klasse deklariert sind. Innere Klassen sind immer dann interessant, wenn wir eine Klasse nur innerhalb einer anderen Klasse verwenden. Der Fall ist vergleichbar mit der deklaration von lokalen Variablen. Wenn eine Variable nur ganz lokal in einer Klasse benutzt wird, macht es keinen Sinn diese global zu deklarieren. "
   ]
  },
  {
   "cell_type": "markdown",
   "metadata": {
    "slideshow": {
     "slide_type": "slide"
    }
   },
   "source": [
    "#### Beispiel: Verkettete Listen\n",
    "\n",
    "Das typische Beispiel für innere Klassen sind verkettete Listen. \n",
    "\n",
    "![linkedlist](images/linkedlist.png)\n",
    "\n",
    "Wir nutzen in der verketteten Liste eine Hilfsklasse um die Knoten und deren Verlinkung in der Liste zu repräsentieren. Diese wird nur innerhalb der Liste verwendet.\n",
    "Diese Klasse ```Node``` können wir nun als innere Klasse deklarieren. "
   ]
  },
  {
   "cell_type": "code",
   "execution_count": 90,
   "metadata": {
    "slideshow": {
     "slide_type": "-"
    }
   },
   "outputs": [],
   "source": [
    "// Eine Verkettete Liste für ints\n",
    "class LinkedList { \n",
    "\n",
    "    // Die innere Klasse\n",
    "    private class Node {\n",
    "\n",
    "        int value;\n",
    "        Node next;\n",
    "\n",
    "        Node(int value) {\n",
    "            this.value = value;\n",
    "            this.next = null;\n",
    "        }   \n",
    "    }\n",
    "    \n",
    "\n",
    "    // Verwenden der inneren Klasse\n",
    "    private Node head = null;    \n",
    "    private Node tail = null;\n",
    "    \n",
    "    LinkedList() {}\n",
    "    \n",
    "    public void append(int value) {   \n",
    "        Node node = new Node(value);\n",
    "        if (head == null) {\n",
    "            head = node;\n",
    "            tail = node;\n",
    "        } else {         \n",
    "            tail.next = node;\n",
    "            tail = node;\n",
    "        }\n",
    "    }\n",
    "    \n",
    "    public void print() { \n",
    "        Node currentNode = head;\n",
    "        while (currentNode != null) {\n",
    "            System.out.println(currentNode.value + \" \");\n",
    "            currentNode = currentNode.next;\n",
    "        }\n",
    "    } \n",
    "    \n",
    "}"
   ]
  },
  {
   "cell_type": "markdown",
   "metadata": {
    "slideshow": {
     "slide_type": "slide"
    }
   },
   "source": [
    "### Zugriff aus innerer Klasse"
   ]
  },
  {
   "cell_type": "markdown",
   "metadata": {},
   "source": [
    "Wir können uns nun auch Fragen, auf welche Felder der äusseren Klasse wir nun aus der innere Klasse Zugriff haben. Dazu erstellen wir uns ein kleines Beispielprogramm mit welchem wir experimentieren können. "
   ]
  },
  {
   "cell_type": "code",
   "execution_count": 92,
   "metadata": {},
   "outputs": [],
   "source": [
    "public class OuterClassDemo {\n",
    "    \n",
    "    private int a;\n",
    "    public InnerClass subObject;\n",
    "    \n",
    "    public class InnerClass {\n",
    "        public int b;\n",
    "        \n",
    "        public int sum() {\n",
    "             return a + b;\n",
    "        } \n",
    "    } \n",
    " \n",
    "    public OuterClassDemo( int aval, int bval) {\n",
    "         a = aval;\n",
    "         subObject = new InnerClass();\n",
    "         subObject.b = bval;\n",
    "    } \n",
    "\n",
    "\n",
    "    public void setA(int a) { \n",
    "        this.a = a; \n",
    "    }\n",
    "\n",
    "}"
   ]
  },
  {
   "cell_type": "markdown",
   "metadata": {},
   "source": [
    "#### Miniübung\n",
    "\n",
    "Experimentieren Sie:\n",
    "\n",
    "* Auf welche Felder/Methoden der inneren Klasse dürfen Sie aus der äusseren Klasse zugreifen, auf welche nicht?\n",
    "* Wie verhält es sich, wenn Sie die Methoden/Felder ```public``` und ```private``` setzen\n",
    "* Aus welche Felder/Methoden der äusseren Klasse dürfen Sie aus der inneren Klasse zugreifen?\n",
    "* Kann ein äusserer Nutzer der Klasse ```OuterClassDemo``` eine Feld der inneren Klasse nutzen (also können wir, wenn wir eine Instanz ```x``` wie folgt erzeugt haben ```OuterClassDemo x = new OuterClassDemo(7, 5);```, via der Referenz auf ```x``` auf die Felder der inneren Klasse zugreifen?\n",
    "* Kann ein äusserer Nutzer der Klasse ```OuterClassDemo``` eine Instanz der inneren Klasse erzeugen?"
   ]
  },
  {
   "cell_type": "markdown",
   "metadata": {
    "slideshow": {
     "slide_type": "slide"
    }
   },
   "source": [
    "# Statisch geschachtelte Klassen"
   ]
  },
  {
   "cell_type": "markdown",
   "metadata": {
    "slideshow": {
     "slide_type": "slide"
    }
   },
   "source": [
    "Eine innere Klasse kann als ```static``` definiert sein."
   ]
  },
  {
   "cell_type": "code",
   "execution_count": 93,
   "metadata": {},
   "outputs": [],
   "source": [
    "public class OuterClass { \n",
    "    private int a = 0;\n",
    "    private static int b = 0;\n",
    "    \n",
    "    public static class InnerClass {\n",
    "        public void innerMethod() {}\n",
    "    }\n",
    "}"
   ]
  },
  {
   "cell_type": "markdown",
   "metadata": {},
   "source": [
    "Diese statisch geschachtelten Klassen verhalten sich genau wie normale externe Klassen, mit \n",
    "dem Unterschied, dass der Zugriff nach dem Muster ```OuterName.innerName``` erfolgt. Eine neue Instanz kreieren wir also wie folgt:\n"
   ]
  },
  {
   "cell_type": "code",
   "execution_count": 99,
   "metadata": {},
   "outputs": [],
   "source": [
    "OuterClass.InnerClass anInstance = new OuterClass.InnerClass();"
   ]
  },
  {
   "cell_type": "markdown",
   "metadata": {
    "slideshow": {
     "slide_type": "fragment"
    }
   },
   "source": [
    "#### Übung: \n",
    "* Kann aus ```InnerClass.innerMethod``` auf ```a``` zugegriffen werden?\n",
    "* Kann aus ```InnerClass.innerMethod``` auf ```b``` zugegriffen werden?"
   ]
  },
  {
   "cell_type": "markdown",
   "metadata": {
    "slideshow": {
     "slide_type": "fragment"
    }
   },
   "source": [
    "Der Haupteinsatzzweck von statisch geschachtelten Klassen ist die Strukturierung von Code. Wir können damit ausdrücken, dass gewisse Klassen zusammengehören. Zum Beispiel werden zu einer Klasse gehörende Exceptions sehr oft als statisch geschachtelte Klassen definiert. Dies ist in folgendem Beispiel illustriert:"
   ]
  },
  {
   "cell_type": "code",
   "execution_count": 102,
   "metadata": {},
   "outputs": [],
   "source": [
    "class MyClass { \n",
    "\n",
    "    static class MyException extends Exception {\n",
    "      public MyException(String reason) { \n",
    "            super(reason);\n",
    "      }\n",
    "      \n",
    "    }\n",
    "   \n",
    "    public void aMethodThatCanThrowAnError() throws MyException { \n",
    "        throw new MyException(\"An error occurred in MyClass\");\n",
    "     }\n",
    "}"
   ]
  },
  {
   "cell_type": "code",
   "execution_count": 103,
   "metadata": {},
   "outputs": [
    {
     "name": "stdout",
     "output_type": "stream",
     "text": [
      "An error occurred in MyClass\n"
     ]
    }
   ],
   "source": [
    "MyClass myclass = new MyClass();\n",
    "try {\n",
    "    myclass.aMethodThatCanThrowAnError();\n",
    "} catch (MyClass.MyException e) {\n",
    "    System.out.println(e.getMessage());\n",
    "}"
   ]
  },
  {
   "cell_type": "markdown",
   "metadata": {
    "slideshow": {
     "slide_type": "slide"
    }
   },
   "source": [
    "# Anonyme Klassen"
   ]
  },
  {
   "cell_type": "markdown",
   "metadata": {},
   "source": [
    "Als letzte Variante von Klassen schauen wir uns noch anonyme Klassen an. Diese sind in der Praxis sehr wichtig und wir treffen diese in der Praxis häufig an. "
   ]
  },
  {
   "cell_type": "markdown",
   "metadata": {
    "slideshow": {
     "slide_type": "slide"
    }
   },
   "source": [
    "Den Nutzen von anonymen Klassen kann man am besten anhand eines Beispiels illustrieren. \n",
    "\n",
    "Angenommen wir wollen eine Methode zur numerischen Integration schreiben. Diese Methode nimmt eine beliebige mathematische Funktion als Argument entgegen und integriert diese in einem bestimmten interval. Damit wir der Methode ```integrate``` mathematische Funktionen übergeben können, müssen wir zuerst eine *abstrakte Klasse* oder ein *Interface* definieren:"
   ]
  },
  {
   "cell_type": "code",
   "execution_count": 1,
   "metadata": {},
   "outputs": [],
   "source": [
    "abstract class Function { \n",
    "    abstract double apply(double x);\n",
    "}"
   ]
  },
  {
   "cell_type": "markdown",
   "metadata": {},
   "source": [
    "Danach können wir die entsprechende Methode schreiben. "
   ]
  },
  {
   "cell_type": "code",
   "execution_count": 10,
   "metadata": {},
   "outputs": [],
   "source": [
    "double integrate(Function f, double x0, double x1, double dx) {\n",
    "    double intValue = 0;    \n",
    "    int n = (int) ((x1 - x0) / dx);\n",
    "\n",
    "    for (int i = 1; i <= n; i++) {\n",
    "        intValue += f.apply(x0 + i * dx) * dx;\n",
    "    }\n",
    "\n",
    "    return intValue;\n",
    "}"
   ]
  },
  {
   "cell_type": "markdown",
   "metadata": {},
   "source": [
    "```x0``` und ```x1``` entsprechen hier den Integrationsgrenzen und ```dx``` sollte ein sehr kleiner Wert sein, der die Breite der Rechtecke, die zur Approximation des Integrals verwendet wird, repräsentiert:"
   ]
  },
  {
   "cell_type": "markdown",
   "metadata": {},
   "source": [
    "Wir können nun für jede mathematische Funktion, die wir integrieren möchten, eine eigene Klasse schreiben und dann mit der Methode ```integrate``` das Integral auswerten."
   ]
  },
  {
   "cell_type": "code",
   "execution_count": 6,
   "metadata": {},
   "outputs": [
    {
     "name": "stdout",
     "output_type": "stream",
     "text": [
      "0.49999500000000024\n",
      "0.33332833334999745\n"
     ]
    }
   ],
   "source": [
    "class LinearFunction extends Function {\n",
    "    double apply(double x) { return x; }\n",
    "}\n",
    "\n",
    "class SquareFunction extends Function { \n",
    "    double apply(double x) { return x * x; };\n",
    "}\n",
    "\n",
    "Function f1 = new LinearFunction();\n",
    "Function f2 = new SquareFunction();\n",
    "\n",
    "System.out.println(integrate(f1, 0.0, 1.0, 1e-5));\n",
    "System.out.println(integrate(f2, 0.0, 1.0, 1e-5));"
   ]
  },
  {
   "cell_type": "markdown",
   "metadata": {},
   "source": [
    "Dieser Ansatz funktioniert, ist aber etwas umständlich. Auch möchten wir vielleicht sehr komplizierte Funktionen integrieren, für die wir kaum sinnvolle Namen finden können. Anonyme Klassen erlauben uns Objekte von Klassen zu definieren, ohne erst explizit die Klasse zu deklarieren. In obigem Beispiel könnten wir schreiben:"
   ]
  },
  {
   "cell_type": "code",
   "execution_count": 7,
   "metadata": {},
   "outputs": [
    {
     "name": "stdout",
     "output_type": "stream",
     "text": [
      "0.49999500000000024\n",
      "0.33332833334999745\n"
     ]
    }
   ],
   "source": [
    "Function f1 = new Function() { \n",
    "   double apply(double x) { return x; }\n",
    "};\n",
    "\n",
    "Function f2 = new Function() { \n",
    "   double apply(double x) { return x * x; }\n",
    "};\n",
    "\n",
    "\n",
    "System.out.println(integrate(f1, 0.0, 1.0, 1e-5));\n",
    "System.out.println(integrate(f2, 0.0, 1.0, 1e-5));"
   ]
  },
  {
   "cell_type": "markdown",
   "metadata": {},
   "source": [
    "Die Instantierung der Objekte ```f1``` und ```f2``` wurde hier gemacht, ohne dass wir die Klasse die instanziert wurde, je explizit hinschreiben mussten.  Der Ausdruck ```new Function()``` erzeugt eine anonyme Unterklasse von ```Function``` sowie auch gleich ein Objekt dieser Klasse. "
   ]
  },
  {
   "cell_type": "markdown",
   "metadata": {},
   "source": [
    "#### Miniübung:\n",
    "\n",
    "* Definieren Sie eine eigene abstrakte Klasse und kreieren Sie dann Instanzen der anonymen Klassen.\n",
    "    * Können Sie als Oberklasse auch statt einer abstrakten Klasse ein *Interface* verwenden?\n",
    "    * Und geht es für eine reguläre (also nicht abstrakte) Klasse?\n",
    "* Wie können Sie in anonymen Klassen Konstruktorargumente der Oberklasse übergeben?"
   ]
  },
  {
   "cell_type": "markdown",
   "metadata": {},
   "source": [
    "#### Bemerkung"
   ]
  },
  {
   "cell_type": "markdown",
   "metadata": {},
   "source": [
    "Wir könnten die Instantierung der Klasse sogar direkt in den Methodenaufruf schreiben: "
   ]
  },
  {
   "cell_type": "code",
   "execution_count": 89,
   "metadata": {},
   "outputs": [
    {
     "data": {
      "text/plain": [
       "0.33332833334999745"
      ]
     },
     "execution_count": 89,
     "metadata": {},
     "output_type": "execute_result"
    }
   ],
   "source": [
    "integrate(\n",
    "    new Function() { \n",
    "       public double apply(double x) { return x * x; }\n",
    "    }, \n",
    "    0.0, 1.0, 1e-5\n",
    ")"
   ]
  },
  {
   "cell_type": "markdown",
   "metadata": {},
   "source": [
    "\n",
    "Dies geht aber meistens zulasten der lesbarkeit und wir im allgemeinen nicht empfohlen. Zumindest muss man ganz penibel darauf schauen, dass der Code richtig eingerückt ist. "
   ]
  }
 ],
 "metadata": {
  "kernelspec": {
   "display_name": "Java",
   "language": "java",
   "name": "java"
  },
  "language_info": {
   "codemirror_mode": "java",
   "file_extension": ".java",
   "mimetype": "text/x-java-source",
   "name": "Java",
   "pygments_lexer": "java",
   "version": "11.0.4+11"
  },
  "livereveal": {
   "livereveal": {
    "scroll": false
   },
   "transition": "none"
  }
 },
 "nbformat": 4,
 "nbformat_minor": 2
}
