{
 "cells": [
  {
   "cell_type": "markdown",
   "metadata": {},
   "source": [
    "# Klassen"
   ]
  },
  {
   "cell_type": "markdown",
   "metadata": {},
   "source": [
    "In diesem Notebook schauen wir uns Klassen und Objekte an. Wir werden uns hier auf die Grundlegende Aspekte von Klassen und Objekten in Java beschränken, insbesondere wie man Objekte instantiert, und wann zwei Objekte gleich sind.  \n",
    "Ausserdem schauen wir uns ein Beispiel an, wie man Objekte und Arrays kombiniert. "
   ]
  },
  {
   "cell_type": "markdown",
   "metadata": {},
   "source": [
    "#### Klassen und Objekte"
   ]
  },
  {
   "cell_type": "markdown",
   "metadata": {},
   "source": [
    "Wir beginnen mit der Definition einer ganz einfachen Klasse ```Number```, welche nur eine Zahl speichert. \n"
   ]
  },
  {
   "cell_type": "code",
   "execution_count": null,
   "metadata": {},
   "outputs": [],
   "source": [
    "class Number {\n",
    "    int value;\n",
    "}"
   ]
  },
  {
   "cell_type": "markdown",
   "metadata": {},
   "source": [
    "Von dieser Klasse können wir uns nun verschiedene Instanzen (genannt Objekte) generieren. Wir generieren zwei verschiedene Instanzen."
   ]
  },
  {
   "cell_type": "code",
   "execution_count": null,
   "metadata": {},
   "outputs": [],
   "source": [
    "Number n1 = new Number();\n",
    "Number n2 = new Number();"
   ]
  },
  {
   "cell_type": "markdown",
   "metadata": {},
   "source": [
    "Beim kreieren hat Java den Wert ```value``` der Objekte auf 0 gesetzt:"
   ]
  },
  {
   "cell_type": "code",
   "execution_count": null,
   "metadata": {},
   "outputs": [],
   "source": [
    "System.out.println(\"Wert von n1: \" +n1.value);\n",
    "System.out.println(\"Wert von n2: \" +n2.value);"
   ]
  },
  {
   "cell_type": "markdown",
   "metadata": {},
   "source": [
    "Wenn wir die beiden Objekte auf Gleichheit vergleichen, sehen wir, dass uns Java sagt, dass die Objekte nicht gleich sind:"
   ]
  },
  {
   "cell_type": "code",
   "execution_count": null,
   "metadata": {},
   "outputs": [],
   "source": [
    "n1 == n2"
   ]
  },
  {
   "cell_type": "markdown",
   "metadata": {},
   "source": [
    "Der Grund dafür ist, dass Java nur vergleicht, ob ```n1``` und ```n2``` auf dasselbe Objekt zeigen, und nicht ob die beiden Objekte denselben Inhalt haben. "
   ]
  },
  {
   "cell_type": "markdown",
   "metadata": {},
   "source": [
    "Das es sich wirklich um zwei separate Objekte handelt sehen wir, wenn wir den Wert eines Objekts verändern und die Werte nochmals ausgeben lassen:"
   ]
  },
  {
   "cell_type": "code",
   "execution_count": null,
   "metadata": {},
   "outputs": [],
   "source": [
    "n2.value = 3;"
   ]
  },
  {
   "cell_type": "markdown",
   "metadata": {},
   "source": [
    "Wie zu erwarten, repräsentieren die Objekte jetzt verschiedene Werte"
   ]
  },
  {
   "cell_type": "code",
   "execution_count": null,
   "metadata": {},
   "outputs": [],
   "source": [
    "System.out.println(\"Wert von n1: \" +n1.value);\n",
    "System.out.println(\"Wert von n2: \" +n2.value);"
   ]
  },
  {
   "cell_type": "markdown",
   "metadata": {},
   "source": [
    "Als nächste führen wir eine neue Variable vom Typ ```Number``` ein und weisen dieser das Objekt ```n2``` zu:"
   ]
  },
  {
   "cell_type": "code",
   "execution_count": null,
   "metadata": {},
   "outputs": [],
   "source": [
    "Number n3 = n2;"
   ]
  },
  {
   "cell_type": "markdown",
   "metadata": {},
   "source": [
    "Wenn wir jetzt den Vergleich nochmals machen dann sehen wir, dass die Objekte jetzt gleich sind:"
   ]
  },
  {
   "cell_type": "code",
   "execution_count": null,
   "metadata": {},
   "outputs": [],
   "source": [
    "n2 == n3;"
   ]
  },
  {
   "cell_type": "markdown",
   "metadata": {},
   "source": [
    "```n3``` ist hier nur ein zweiter Name für das Objekt auf das ```n2``` referenziert. Wir sehen dies, wenn wir den Wert von ```n3``` ändern und uns dann den Wert von ```n2``` anschauen. Da die Variablen ```n2``` und ```n3``` auf dasselbe Objekt zeigen, geben beide nach der Änderung denselben Wert aus. "
   ]
  },
  {
   "cell_type": "code",
   "execution_count": null,
   "metadata": {},
   "outputs": [],
   "source": [
    "n3.value = 42;\n",
    "System.out.println(\"Wert von n2: \" +n2.value);\n",
    "System.out.println(\"Wert von n3: \" +n3.value);"
   ]
  },
  {
   "cell_type": "markdown",
   "metadata": {},
   "source": [
    "#### Miniübung\n",
    "\n",
    "* Schreiben Sie eine Methode ```copy```, die ein Objekt vom Typ ```Number``` entgegennimmt, und eine Kopie davon zurückliefert.\n",
    "* Schreiben Sie eine Methode ```equals```, die zwei Objekte vom Typ ```Number``` entgegennimmt und ```true``` zurückgibt wenn die Objekte denselben Wert repräsentieren. "
   ]
  },
  {
   "cell_type": "markdown",
   "metadata": {},
   "source": [
    "### Beispiel: Kombination von Klassen mit Arrays"
   ]
  },
  {
   "cell_type": "markdown",
   "metadata": {},
   "source": [
    "Bisher haben wir gesehen, wie man Arrays nutzen kann um eine Liste von Zahlen zu Speichern. Objekte erlauben uns auch Listen von mehrern komplexeren Daten zu speichern. Der Mechanismus ist derselbe: Anstelle von Zahlen werden wir einfach Objekte im Array speichern. "
   ]
  },
  {
   "cell_type": "markdown",
   "metadata": {},
   "source": [
    "In unserem Beispiel wollen wir eine Liste von Personen mit deren Telefonnummern speichern. Dazu definieren wir uns als erstes die Klasse Person, die den Namen der Person sowie die Telefonnummer enthält:"
   ]
  },
  {
   "cell_type": "code",
   "execution_count": null,
   "metadata": {},
   "outputs": [],
   "source": [
    "class Person { \n",
    "    String name;\n",
    "    int phoneNumber;\n",
    "}"
   ]
  },
  {
   "cell_type": "markdown",
   "metadata": {},
   "source": [
    "Ein Telefonbuch enthält dann die Liste von Personen. Ausserdem müssen wir uns noch speichern, wieviele Nummern bereits gespeichert sind. "
   ]
  },
  {
   "cell_type": "code",
   "execution_count": null,
   "metadata": {},
   "outputs": [],
   "source": [
    "class PhoneBook {\n",
    "    Person[] persons = new Person[1000]; // can save maximum of 1000 numbers\n",
    "    int numPersons = 0;\n",
    "}"
   ]
  },
  {
   "cell_type": "markdown",
   "metadata": {},
   "source": [
    "Um eine Person einfügen zu können, schreiben wir eine Hilfsfunktion ```addEntry```"
   ]
  },
  {
   "cell_type": "code",
   "execution_count": null,
   "metadata": {},
   "outputs": [],
   "source": [
    "static void addEntry(PhoneBook book, String name, int phoneNumber) { \n",
    "    Person person = new Person();\n",
    "    person.name = name;\n",
    "    person.phoneNumber = phoneNumber;\n",
    "    book.persons[book.numPersons] = person;\n",
    "    book.numPersons += 1;\n",
    "}"
   ]
  },
  {
   "cell_type": "markdown",
   "metadata": {},
   "source": [
    "#### Miniübung:\n",
    "\n",
    "* Schreiben Sie eine Methode '''lookup''', die als Argument den Namen einer Person nimmt und schaut, ob diese im Telefonbuch eingetragen ist. \n",
    "* Schreiben Sie eine Methode, die alle Einträge ausgibt\n",
    "* Testen Sie ihre Programme"
   ]
  }
 ],
 "metadata": {
  "kernelspec": {
   "display_name": "Java",
   "language": "java",
   "name": "java"
  },
  "language_info": {
   "codemirror_mode": "java",
   "file_extension": ".jshell",
   "mimetype": "text/x-java-source",
   "name": "Java",
   "pygments_lexer": "java",
   "version": "11.0.3+7"
  }
 },
 "nbformat": 4,
 "nbformat_minor": 2
}
