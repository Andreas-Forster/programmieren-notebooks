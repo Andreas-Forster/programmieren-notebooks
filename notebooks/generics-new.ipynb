{
 "cells": [
  {
   "cell_type": "markdown",
   "metadata": {
    "slideshow": {
     "slide_type": "slide"
    }
   },
   "source": [
    "# Generische Programmierung mit Generics\n",
    "\n",
    "#### Marcel Lüthi <br/> Departement Mathematik und Informatik"
   ]
  },
  {
   "cell_type": "markdown",
   "metadata": {
    "slideshow": {
     "slide_type": "slide"
    }
   },
   "source": [
    "### Agenda\n",
    "\n",
    "* Motivation\n",
    "\n",
    "#### Einfache Konzepte\n",
    "\n",
    "* Generische Klassen\n",
    "* Generische Methoden\n",
    "\n",
    "#### Fortgeschrittene Nutzung \n",
    "\n",
    "* Vererbung, Kovarianz und Kontravarianz\n",
    "* Type erasure\n",
    "* Wildcards\n"
   ]
  },
  {
   "cell_type": "markdown",
   "metadata": {
    "slideshow": {
     "slide_type": "slide"
    }
   },
   "source": [
    "### Motivation für Generische Programmierung\n",
    "\n",
    "<div>\n",
    "\n",
    "<div style=\"display: inline-block;\">\n",
    "    <h4>Stack für Ints</h4>\n",
    "    <pre><code class=\"language-java\">        \n",
    "class IntStack {\n",
    "  int[] data = new int[1000]; \n",
    "  private int nElements = 0;\n",
    " \n",
    "  public void push(int element) {\n",
    "    data[nElements] = element;     \n",
    "    nElements += 1;\n",
    "  }\n",
    "    \n",
    "  public int pop() { \n",
    "    if (nElements <= 0) {\n",
    "       return null;\n",
    "    } else {\n",
    "       nElements -= 1;\n",
    "       return data[nElements];\n",
    "    }\n",
    "  } \n",
    "}\n",
    "</code></pre>\n",
    "</div>\n",
    "    <div style=\"display: inline-block;\">\n",
    "        <h4>Stack für Strings</h4>\n",
    "        <pre><code class=\"language-java\">\n",
    " class StringStack {\n",
    "  String[] data = new String[1000]; \n",
    "  private int nElements = 0;\n",
    " \n",
    "  public void push(String element) {\n",
    "    data[nElements] = element;     \n",
    "    nElements += 1;\n",
    "  }\n",
    "    \n",
    "  public String pop() { \n",
    "    if (nElements <= 0) {\n",
    "       return null;\n",
    "    } else {\n",
    "       nElements -= 1;\n",
    "       return data[nElements];\n",
    "    }\n",
    "  }\n",
    "}</code></pre>\n",
    "    </div>\n",
    "\n",
    "</div>"
   ]
  },
  {
   "cell_type": "markdown",
   "metadata": {
    "slideshow": {
     "slide_type": "slide"
    }
   },
   "source": [
    "### Generisches Programmieren mit Objekten\n",
    "\n",
    "Lösungsansatz: Nutzung von gemeinsamen Supertyp ```Object```\n",
    "\n",
    "```java\n",
    "class Stack { \n",
    "    \n",
    "    private Object[] data = new Object[1000]; \n",
    "    private int nElements = 0;\n",
    " \n",
    "    public void push(Object element) {\n",
    "        data[nElements] = element;     \n",
    "        nElements += 1;\n",
    "    }\n",
    "```\n",
    "```java\n",
    "    public Object pop() { \n",
    "        if (nElements <= 0) {\n",
    "            return null;\n",
    "        }\n",
    "        else {\n",
    "            nElements -= 1;\n",
    "            return data[nElements];\n",
    "       }\n",
    "    }\n",
    "}\n",
    "```"
   ]
  },
  {
   "cell_type": "markdown",
   "metadata": {
    "slideshow": {
     "slide_type": "slide"
    }
   },
   "source": [
    "### Probleme\n",
    "\n",
    "* Wir verlieren Typinformation\n",
    "\n",
    "    * Intention nicht klar\n",
    "        * Speichern wir Listen, Zahlen oder Strings?\n",
    "\n",
    "    * Wir brauchen explizite downcasts <br/> \n",
    "       ```Integer i = (Integer) stack.pop()```\n",
    "\n",
    "    * Fehlende typsicherheit\n",
    "        * Fehler zur Laufzeit - Keine Hilfe von Compiler\n",
    "   \n",
    "* Klassen müssen in Hierarchie angeordnet sein."
   ]
  },
  {
   "cell_type": "markdown",
   "metadata": {
    "slideshow": {
     "slide_type": "slide"
    }
   },
   "source": [
    "### Beispiel\n",
    "\n",
    "Folgendes gibt zur Laufzeit einen Fehler"
   ]
  },
  {
   "cell_type": "code",
   "execution_count": 58,
   "metadata": {
    "slideshow": {
     "slide_type": "-"
    }
   },
   "outputs": [
    {
     "ename": "EvalException",
     "evalue": "class java.lang.Integer cannot be cast to class java.lang.String (java.lang.Integer and java.lang.String are in module java.base of loader 'bootstrap')",
     "output_type": "error",
     "traceback": [
      "\u001b[1m\u001b[31m---------------------------------------------------------------------------\u001b[0m",
      "\u001b[1m\u001b[31mjava.lang.ClassCastException: class java.lang.Integer cannot be cast to class java.lang.String (java.lang.Integer and java.lang.String are in module java.base of loader 'bootstrap')\u001b[0m",
      "\u001b[1m\u001b[31m\tat .(#132:1)\u001b[0m"
     ]
    }
   ],
   "source": [
    "Stack stack = new Stack();\n",
    "stack.push(\"abc\");\n",
    "stack.push(5);\n",
    "\n",
    "String s = (String) stack.pop();"
   ]
  },
  {
   "cell_type": "markdown",
   "metadata": {
    "slideshow": {
     "slide_type": "slide"
    }
   },
   "source": [
    "### Lösung: Java Generics"
   ]
  },
  {
   "cell_type": "markdown",
   "metadata": {},
   "source": [
    "> Typ wird als Parameter der Klasse angegeben "
   ]
  },
  {
   "cell_type": "code",
   "execution_count": 59,
   "metadata": {},
   "outputs": [],
   "source": [
    "class Stack<E> { \n",
    "    \n",
    "    private E[] data = (E[])new Object[1000];\n",
    "    private int nElements = 0; // Anzahl Elemente im Stack\n",
    " \n",
    " \n",
    "    public void push(E element) {\n",
    "        data[nElements] = element;     \n",
    "        nElements += 1;\n",
    "    }\n",
    "    \n",
    "    public E pop() { \n",
    "        if (nElements <= 0) {\n",
    "            return null;\n",
    "        }\n",
    "        else {\n",
    "            nElements -= 1;\n",
    "            return data[nElements];\n",
    "       }\n",
    "    }\n",
    "    public int size() { return this.nElements; }\n",
    "}"
   ]
  },
  {
   "cell_type": "markdown",
   "metadata": {
    "slideshow": {
     "slide_type": "slide"
    }
   },
   "source": [
    "### Nutzung des Generischen Stacks\n",
    "\n",
    "\n",
    "* Beim benutzen der Stack Klasse wird Typ angegeben.\n",
    "* Beim entfernen des Elements ist kein Cast nötig\n",
    "\n",
    "```java\n",
    "Stack<String> stringStack = new Stack<String>();\n",
    "\n",
    "stringStack.push(\"abc\");\n",
    "String s = stringStack.pop();\n",
    "```"
   ]
  },
  {
   "cell_type": "markdown",
   "metadata": {
    "slideshow": {
     "slide_type": "slide"
    }
   },
   "source": [
    "#### Miniübung\n",
    "\n",
    "* Erzeugen Sie einen Stack von Integern\n",
    "* Versuchen Sie ein Objekt vom falschen Typen auf den Stack zu legen\n",
    "* Können Sie einen Stack von ```int``` erzeugen?"
   ]
  },
  {
   "cell_type": "code",
   "execution_count": 3,
   "metadata": {
    "slideshow": {
     "slide_type": "-"
    }
   },
   "outputs": [],
   "source": [
    "// Ihr code"
   ]
  },
  {
   "cell_type": "markdown",
   "metadata": {
    "slideshow": {
     "slide_type": "slide"
    }
   },
   "source": [
    "# Terminologie\n",
    "\n",
    "<div style=\"width:60%;margin-top:2cm\">\n",
    "<img src=\"images/generics-terminology.png\"/>\n",
    "</div>"
   ]
  },
  {
   "cell_type": "markdown",
   "metadata": {
    "slideshow": {
     "slide_type": "slide"
    }
   },
   "source": [
    "### Vereinfachte Syntax \n",
    "\n",
    "```Stack<Integer> intStack = new Stack<>();```\n",
    "* Typ auf rechter Seite wird von Compiler erzeugt."
   ]
  },
  {
   "cell_type": "markdown",
   "metadata": {
    "slideshow": {
     "slide_type": "slide"
    }
   },
   "source": [
    "### Mehrere Typparameter"
   ]
  },
  {
   "cell_type": "markdown",
   "metadata": {},
   "source": [
    "* Wir können beliebig viele Typparameter einführen\n",
    "\n",
    "#### Beispiel: Tuple Klasse"
   ]
  },
  {
   "cell_type": "code",
   "execution_count": 60,
   "metadata": {
    "slideshow": {
     "slide_type": "-"
    }
   },
   "outputs": [],
   "source": [
    "class Tuple<T, U> {\n",
    "\n",
    "    private T first;\n",
    "    private U second;\n",
    "    \n",
    "    public Tuple(T first, U second) { \n",
    "        this.first = first;\n",
    "        this.second = second;\n",
    "    }\n",
    "    \n",
    "    public T getFirst() { return this.first;}\n",
    "    public U getSecond() { return this.second; }\n",
    "    \n",
    "}"
   ]
  },
  {
   "cell_type": "markdown",
   "metadata": {
    "slideshow": {
     "slide_type": "slide"
    }
   },
   "source": [
    "### Anwendung von Tuple"
   ]
  },
  {
   "cell_type": "code",
   "execution_count": 62,
   "metadata": {},
   "outputs": [
    {
     "name": "stdout",
     "output_type": "stream",
     "text": [
      "the first element is: Tom\n",
      "the second element is: Tue Jan 31 00:00:00 CET 3871\n"
     ]
    }
   ],
   "source": [
    "Tuple<String, Date> t = new Tuple(\"Tom\", new Date(1970, 12, 31));\n",
    "\n",
    "String s = t.getFirst();\n",
    "Date d = t.getSecond();\n",
    "\n",
    "System.out.println(\"the first element is: \" +s);\n",
    "System.out.println(\"the second element is: \" +d);"
   ]
  },
  {
   "cell_type": "markdown",
   "metadata": {
    "slideshow": {
     "slide_type": "slide"
    }
   },
   "source": [
    "#### Übung:\n",
    "\n",
    "* Implementieren Sie eine Methode ```compare``` in der Klasse Tupel, welche ein Tupel mit einem anderen Tupel vergleicht und -1, 0, oder 1 zurückgibt, je nachdem ob das Tupel kleiner, gleich oder grösser ist. \n",
    " "
   ]
  },
  {
   "cell_type": "markdown",
   "metadata": {
    "slideshow": {
     "slide_type": "slide"
    }
   },
   "source": [
    "### Klassen der Java Standardbibliothek\n",
    "\n",
    "Viele Klassen der Java Standardbibliothek sind via Generics implementiert\n",
    "\n",
    "* Wir können diese nun nutzen\n",
    "\n",
    "#### Beispiel: LinkedList\n",
    "\n",
    "![linkedlist](images/linkedlist-api.png)"
   ]
  },
  {
   "cell_type": "markdown",
   "metadata": {
    "slideshow": {
     "slide_type": "slide"
    }
   },
   "source": [
    "### Beispiel: LinkedList"
   ]
  },
  {
   "cell_type": "code",
   "execution_count": 64,
   "metadata": {
    "slideshow": {
     "slide_type": "-"
    }
   },
   "outputs": [
    {
     "name": "stdout",
     "output_type": "stream",
     "text": [
      "first Element\n",
      "second Element\n"
     ]
    }
   ],
   "source": [
    "import java.util.LinkedList;\n",
    "\n",
    "LinkedList<String> ll = new LinkedList<>();\n",
    "ll.add(\"first Element\");\n",
    "ll.add(\"second Element\" );\n",
    "\n",
    "for (String s : ll) {\n",
    "    System.out.println(s);\n",
    "}"
   ]
  },
  {
   "cell_type": "markdown",
   "metadata": {
    "slideshow": {
     "slide_type": "slide"
    }
   },
   "source": [
    "# Typeinschränkungen "
   ]
  },
  {
   "cell_type": "markdown",
   "metadata": {
    "slideshow": {
     "slide_type": "slide"
    }
   },
   "source": [
    "### Comparable in Java\n",
    "\n",
    "\n",
    "* In Java implementieren Typen die vergleichbar sind das ```Comparable Interface```.\n",
    "```java\n",
    "interface Comparable<T> {\n",
    "    public int compareTo(T o);\n",
    "}\n",
    "```"
   ]
  },
  {
   "cell_type": "markdown",
   "metadata": {
    "slideshow": {
     "slide_type": "slide"
    }
   },
   "source": [
    "#### Typeinschränkung (Bounded type parameters)\n",
    "\n",
    "\n",
    "* Wir können Typeinschränkung auf generische Parameters mittels der ``` extends``` Klausel definieren   \n",
    "\n",
    "* Beispiel: Typ sollte vergleichbar sein: \n",
    "\n",
    "``class A<E extends Comparable<E> >```\n",
    "\n",
    "\n",
    "* Nur Subtypen von Comparable können als generische Typen benutzt werden.     \n",
    "\n",
    "\n",
    "    \n"
   ]
  },
  {
   "cell_type": "markdown",
   "metadata": {
    "slideshow": {
     "slide_type": "slide"
    }
   },
   "source": [
    "### Anwendungsbeispiel"
   ]
  },
  {
   "cell_type": "code",
   "execution_count": 66,
   "metadata": {},
   "outputs": [],
   "source": [
    "class SortedList <E extends Comparable<E> > {\n",
    "      E[] data = (E[]) new Comparable[1000];\n",
    "      int nElements = 0;\n",
    "\n",
    "      void add(E elem) {\n",
    "          int i = nElements - 1;\n",
    "          \n",
    "          // Methode compareTo ist definiert für Typ E !!\n",
    "          while (i >= 0 && elem.compareTo(data[i]) < 0) {  \n",
    "              data[i+1] = data[i];\n",
    "              i -= 1;  \n",
    "          }\n",
    "          data [i+1] = elem; \n",
    "          nElements++;          \n",
    "     }\n",
    "    \n",
    "    \n",
    "    void print() {\n",
    "        for (int i = 0; i < nElements; i++) {\n",
    "            System.out.println(data[i] + \" \");\n",
    "        }\n",
    "    }\n",
    "}"
   ]
  },
  {
   "cell_type": "markdown",
   "metadata": {
    "slideshow": {
     "slide_type": "slide"
    }
   },
   "source": [
    "### Anwendung\n",
    "\n",
    "Folgendes funktioniert:"
   ]
  },
  {
   "cell_type": "code",
   "execution_count": 41,
   "metadata": {
    "slideshow": {
     "slide_type": "-"
    }
   },
   "outputs": [
    {
     "name": "stdout",
     "output_type": "stream",
     "text": [
      "1 \n",
      "5 \n",
      "9 \n"
     ]
    }
   ],
   "source": [
    "SortedList intList = new SortedList<Integer>();\n",
    "intList.add(5);\n",
    "intList.add(1);\n",
    "intList.add(9);\n",
    "intList.print();"
   ]
  },
  {
   "cell_type": "markdown",
   "metadata": {
    "slideshow": {
     "slide_type": "fragment"
    }
   },
   "source": [
    "Folgendes funktioniert nicht:"
   ]
  },
  {
   "cell_type": "code",
   "execution_count": 67,
   "metadata": {
    "slideshow": {
     "slide_type": "-"
    }
   },
   "outputs": [
    {
     "ename": "CompilationException",
     "evalue": "",
     "output_type": "error",
     "traceback": [
      "\u001b[1m\u001b[30m|   \u001b[1m\u001b[30mnew SortedList<\u001b[0m\u001b[1m\u001b[30m\u001b[41mStack\u001b[0m\u001b[1m\u001b[30m> ();\u001b[0m",
      "\u001b[1m\u001b[31mtype argument Stack is not within bounds of type-variable E\u001b[0m",
      ""
     ]
    }
   ],
   "source": [
    "new SortedList<Stack> ();\n",
    "new SortedList<Object>();"
   ]
  },
  {
   "cell_type": "markdown",
   "metadata": {},
   "source": [
    "Grund: ```Stack``` und  ```Object``` sind nicht ```Comparable```"
   ]
  },
  {
   "cell_type": "markdown",
   "metadata": {
    "slideshow": {
     "slide_type": "slide"
    }
   },
   "source": [
    "# Generische Methoden"
   ]
  },
  {
   "cell_type": "markdown",
   "metadata": {
    "slideshow": {
     "slide_type": "slide"
    }
   },
   "source": [
    "# Generische Methoden \n",
    "\n",
    "* Methoden, die mit unterschiedlichen Parametertypen arbeiten können\n",
    "    * Syntax ```<T> void foo(T t) {}```\n",
    "* Besprochene Regeln gelten auch für Methoden\n",
    "\n",
    "#### Beispiel"
   ]
  },
  {
   "cell_type": "code",
   "execution_count": 23,
   "metadata": {},
   "outputs": [],
   "source": [
    "<T> void copyElements(LinkedList<T> source, LinkedList<T> destination) {\n",
    "    \n",
    "    for (T element : source) {\n",
    "        destination.add(element);\n",
    "    }\n",
    "       \n",
    "    \n",
    "}"
   ]
  },
  {
   "cell_type": "code",
   "execution_count": 38,
   "metadata": {
    "slideshow": {
     "slide_type": "-"
    }
   },
   "outputs": [
    {
     "name": "stdout",
     "output_type": "stream",
     "text": [
      "Liste: [5, 7, 12]\n",
      "Kopie: [5, 7, 12]\n"
     ]
    }
   ],
   "source": [
    "LinkedList<Integer> list = new LinkedList<>();\n",
    "list.add(5);\n",
    "list.add(7);\n",
    "list.add(12);\n",
    "System.out.println(\"Liste: \" + list);\n",
    "\n",
    "LinkedList<Integer> listCopy = new LinkedList<>();\n",
    "copyElements(list, listCopy);\n",
    "System.out.println(\"Kopie: \" +listCopy);"
   ]
  },
  {
   "cell_type": "markdown",
   "metadata": {
    "slideshow": {
     "slide_type": "slide"
    }
   },
   "source": [
    "### Übung\n",
    "\n",
    "* Implementieren Sie eine generische Methode ```max``` welche für zwei übergebene Elemente vom Typ ```T``` das grössere Element zurückgibt."
   ]
  },
  {
   "cell_type": "code",
   "execution_count": 69,
   "metadata": {},
   "outputs": [],
   "source": [
    "// Ihr code"
   ]
  },
  {
   "cell_type": "markdown",
   "metadata": {
    "slideshow": {
     "slide_type": "slide"
    }
   },
   "source": [
    "### Generische Methoden: Typsicherheit\n",
    "\n",
    "#### Nicht Typsicher\n",
    "\n",
    "* Deklaration von Methode mit gemeinsamen Supertyp.<br/>\n",
    "```  Comparable max(Comparable a, Comparable b)```\n",
    "* ```a``` muss nicht von demselben Typ wie b sein\n",
    "* Drückt nicht aus was wir wollen\n",
    "\n",
    "\n",
    "#### Typesicher\n",
    "* Deklaration mit Generics <br/>\n",
    "``` <T extends Comparable> max(T a, T b) ```\n",
    "* ```a``` und ```b``` haben denselben Typ\n",
    "* Drückt genau aus was wir wollen\n",
    "\n",
    "\n"
   ]
  },
  {
   "cell_type": "markdown",
   "metadata": {},
   "source": [
    "### Zusammenfassung\n",
    "\n",
    "Generics lösen die Probleme der generischen Programmieren über Objektehierarchien\n",
    "\n",
    "* Kein Verlust von Typinformation\n",
    "\n",
    "    * Intention wird klar ausgedrückt\n",
    "\n",
    "    * Keine expliziten downcasts mehr, da Typ bekannt ist \n",
    "\n",
    "    * Typfehler werden zur Kompilation und nicht Laufzeit erkannt.\n",
    "   \n",
    "* Funktioniert für beliebige Klassen"
   ]
  },
  {
   "cell_type": "markdown",
   "metadata": {},
   "source": [
    "### Zusammenfassung\n",
    "\n",
    "![typsystem](images/typesystem-1.png)"
   ]
  },
  {
   "cell_type": "markdown",
   "metadata": {
    "slideshow": {
     "slide_type": "slide"
    }
   },
   "source": [
    "# Vererbung"
   ]
  },
  {
   "cell_type": "markdown",
   "metadata": {
    "slideshow": {
     "slide_type": "slide"
    }
   },
   "source": [
    "### Vererbung"
   ]
  },
  {
   "cell_type": "markdown",
   "metadata": {
    "slideshow": {
     "slide_type": "-"
    }
   },
   "source": [
    "> Wir können von generischen Klassen ganz normal erben. \n"
   ]
  },
  {
   "cell_type": "markdown",
   "metadata": {
    "slideshow": {
     "slide_type": "-"
    }
   },
   "source": [
    "```java\n",
    "abstract class A<T> {\n",
    "\n",
    "    abstract T aMethode(T t);\n",
    "}\n",
    "```\n",
    "\n",
    "* Unterscheidung: Typ bleibt generisch oder wird konkretisiert"
   ]
  },
  {
   "cell_type": "markdown",
   "metadata": {
    "slideshow": {
     "slide_type": "slide"
    }
   },
   "source": [
    "### Fall 1: Vererbung mit generischem Typ:\n",
    "\n",
    "```java\n",
    "class B<T> extends A<T> {\n",
    "\n",
    "    T aMethode(T t) {\n",
    "        return t;\n",
    "    }\n",
    "}\n",
    "```\n",
    "\n",
    "* ```T``` bleibt Typparameter"
   ]
  },
  {
   "cell_type": "markdown",
   "metadata": {
    "slideshow": {
     "slide_type": "slide"
    }
   },
   "source": [
    "### Fall 2: Vererbung mit konkretem Typ\n",
    "\n",
    "```java\n",
    "class C extends A<Integer> {\n",
    "    \n",
    "    Integer aMethode(Integer t) {\n",
    "        return t;\n",
    "    }\n",
    "}\n",
    "```\n",
    "\n",
    "* Typ ```T``` wurde hier durch ```Integer``` ersetzt\n",
    " "
   ]
  },
  {
   "cell_type": "markdown",
   "metadata": {
    "slideshow": {
     "slide_type": "slide"
    }
   },
   "source": [
    "# Kovarianz, Kontravarianz und Invarianz\n",
    "\n",
    "#### Kovarianz\n",
    "Falls ```A``` ein Supertyp von ```B``` ist, dann ist ```Foo<A>``` ein Supertyp von ```Foo<B>```\n",
    "\n",
    "#### Kontravarianz\n",
    "Falls ```A``` ein Supertyp von ```B``` ist, dann ist ```Foo<A>``` ein Subtyp von ```Foo<B>```\n",
    "\n",
    "#### Invarianz\n",
    "Falls ```A``` ein Supertyp von ```B``` ist, dann ist ```Foo<A>``` weder ein Subtyp von ```Foo<B>``` noch ein Supertyp"
   ]
  },
  {
   "cell_type": "markdown",
   "metadata": {
    "slideshow": {
     "slide_type": "fragment"
    }
   },
   "source": [
    "> * Kontravarianz tritt nur in seltenen Fällen auf \n",
    ">    * Kann in diesen Kurs ignoriert werden"
   ]
  },
  {
   "cell_type": "markdown",
   "metadata": {
    "slideshow": {
     "slide_type": "slide"
    }
   },
   "source": [
    "# Kovarianz und Invarianz\n",
    "\n",
    "![images/variance.png](images/variance.png)"
   ]
  },
  {
   "cell_type": "markdown",
   "metadata": {
    "slideshow": {
     "slide_type": "slide"
    }
   },
   "source": [
    "# Kovarianz und Invarianz in Java"
   ]
  },
  {
   "cell_type": "markdown",
   "metadata": {},
   "source": [
    "Alle generischen Typen sind in Java invariant\n",
    "\n",
    "#### Konsequenz:\n",
    "* Folgendes funktioniert nicht:"
   ]
  },
  {
   "cell_type": "code",
   "execution_count": 55,
   "metadata": {},
   "outputs": [
    {
     "ename": "CompilationException",
     "evalue": "",
     "output_type": "error",
     "traceback": [
      "\u001b[1m\u001b[30m|   \u001b[1m\u001b[30mLinkedList<Object> o = \u001b[0m\u001b[1m\u001b[30m\u001b[41mnew LinkedList<String>()\u001b[0m\u001b[1m\u001b[30m;\u001b[0m",
      "\u001b[1m\u001b[31mincompatible types: java.util.LinkedList<java.lang.String> cannot be converted to java.util.LinkedList<java.lang.Object>\u001b[0m",
      ""
     ]
    }
   ],
   "source": [
    "LinkedList<Object> o = new LinkedList<String>();"
   ]
  },
  {
   "cell_type": "markdown",
   "metadata": {
    "slideshow": {
     "slide_type": "slide"
    }
   },
   "source": [
    "# Kovarianz und Invarianz in Java"
   ]
  },
  {
   "cell_type": "markdown",
   "metadata": {},
   "source": [
    "> Arrays sind kovariant in Java\n",
    "\n",
    "* Folgendes funktioniert:"
   ]
  },
  {
   "cell_type": "code",
   "execution_count": 16,
   "metadata": {},
   "outputs": [],
   "source": [
    "Object[] objectArray = new String[100]"
   ]
  },
  {
   "cell_type": "markdown",
   "metadata": {
    "slideshow": {
     "slide_type": "fragment"
    }
   },
   "source": [
    "#### Grund\n",
    "\n",
    "* Arrays gabe es bevor Generics eingeführt wurde\n",
    "    * Viele nützliche Funktionen auf generischen Arrays könnten nicht programmiert werden.\n",
    "    * Beispiel: ```void arrayEquals(object[] array1, object[] array2)```"
   ]
  },
  {
   "cell_type": "markdown",
   "metadata": {
    "slideshow": {
     "slide_type": "slide"
    }
   },
   "source": [
    "# Type erasure"
   ]
  },
  {
   "cell_type": "markdown",
   "metadata": {
    "slideshow": {
     "slide_type": "slide"
    }
   },
   "source": [
    "### Type erasure\n",
    "\n",
    "* Zur Kompilationszeit werden alle Typparameter ersetzt\n",
    "    * Typinformation ist zur Laufzeit nicht vorhanden\n",
    "\n",
    "![erasure](images./generics-erasure.png)"
   ]
  },
  {
   "cell_type": "markdown",
   "metadata": {
    "slideshow": {
     "slide_type": "slide"
    }
   },
   "source": [
    "### Erzeugen von Objekten von Generischem Typ\n",
    "\n",
    "> Nicht möglich!"
   ]
  },
  {
   "cell_type": "code",
   "execution_count": 6,
   "metadata": {},
   "outputs": [
    {
     "ename": "CompilationException",
     "evalue": "",
     "output_type": "error",
     "traceback": [
      "\u001b[1m\u001b[30m|   \u001b[1m\u001b[30m    T t = new \u001b[0m\u001b[1m\u001b[30m\u001b[41mT\u001b[0m\u001b[1m\u001b[30m();\u001b[0m",
      "\u001b[1m\u001b[31munexpected type\u001b[0m",
      "\u001b[1m\u001b[31m  required: class\u001b[0m",
      "\u001b[1m\u001b[31m  found:    type parameter T\u001b[0m",
      ""
     ]
    }
   ],
   "source": [
    "class Foo<T> {\n",
    "    T t = new T();\n",
    "}"
   ]
  },
  {
   "cell_type": "markdown",
   "metadata": {},
   "source": [
    "\n",
    "* Keine Typinformation zur Laufzeit verfügbar.\n",
    "    * Wie viel Speicher soll reserviert werden?\n",
    "    * Welcher Konstruktor soll verwendet werden?"
   ]
  },
  {
   "cell_type": "markdown",
   "metadata": {
    "slideshow": {
     "slide_type": "slide"
    }
   },
   "source": [
    "### Erzeugen von generischen Arrays\n",
    "\n",
    "* Folgendes funktioniert nicht:"
   ]
  },
  {
   "cell_type": "code",
   "execution_count": 7,
   "metadata": {},
   "outputs": [
    {
     "ename": "CompilationException",
     "evalue": "",
     "output_type": "error",
     "traceback": [
      "\u001b[1m\u001b[30m|   \u001b[1m\u001b[30m   T[] t = \u001b[0m\u001b[1m\u001b[30m\u001b[41mnew T[100]\u001b[0m\u001b[1m\u001b[30m;\u001b[0m",
      "\u001b[1m\u001b[31mgeneric array creation\u001b[0m",
      ""
     ]
    }
   ],
   "source": [
    "class Foo<T> {\n",
    "   T[] t = new T[100];\n",
    "}"
   ]
  },
  {
   "cell_type": "markdown",
   "metadata": {
    "slideshow": {
     "slide_type": "-"
    }
   },
   "source": [
    "* Funktionierender Hack!"
   ]
  },
  {
   "cell_type": "code",
   "execution_count": 8,
   "metadata": {},
   "outputs": [],
   "source": [
    "class Foo<T> {\n",
    "   T[] arrayOfTs = (T[]) new Object[100];\n",
    "}"
   ]
  },
  {
   "cell_type": "markdown",
   "metadata": {
    "slideshow": {
     "slide_type": "slide"
    }
   },
   "source": [
    "# Wildcards"
   ]
  },
  {
   "cell_type": "markdown",
   "metadata": {
    "slideshow": {
     "slide_type": "slide"
    }
   },
   "source": [
    "# Wildcards\n",
    "\n",
    "> Gemeinsamer Basistyp für Generische Objekte\n",
    ">    * Unabhängig von Parameter\n",
    "\n",
    "```java \n",
    "List<?> l = new List<Integer>();\n",
    "```"
   ]
  },
  {
   "cell_type": "markdown",
   "metadata": {
    "slideshow": {
     "slide_type": "fragment"
    }
   },
   "source": [
    "#### Beispiel"
   ]
  },
  {
   "cell_type": "code",
   "execution_count": 32,
   "metadata": {},
   "outputs": [
    {
     "name": "stdout",
     "output_type": "stream",
     "text": [
      "5\n",
      "abc\n"
     ]
    }
   ],
   "source": [
    "Stack<Integer> intStack = new Stack<>();\n",
    "intStack.push(5);\n",
    "\n",
    "Stack<String> stringStack = new Stack<>();\n",
    "stringStack.push(\"abc\");\n",
    "\n",
    "void printStack(Stack<?> s) {\n",
    "    while (s.size() > 0) {\n",
    "        System.out.println(s.pop());\n",
    "    }\n",
    "}\n",
    "printStack(intStack);\n",
    "printStack(stringStack);"
   ]
  }
 ],
 "metadata": {
  "celltoolbar": "Slideshow",
  "kernelspec": {
   "display_name": "Java",
   "language": "java",
   "name": "java"
  },
  "language_info": {
   "codemirror_mode": "java",
   "file_extension": ".java",
   "mimetype": "text/x-java-source",
   "name": "Java",
   "pygments_lexer": "java",
   "version": "11.0.4+11"
  },
  "rise": {
   "scroll": false,
   "transition": "none"
  }
 },
 "nbformat": 4,
 "nbformat_minor": 2
}
