{
 "cells": [
  {
   "cell_type": "markdown",
   "metadata": {},
   "source": [
    "# Objektorientierung: Eine Fallstudie"
   ]
  },
  {
   "cell_type": "code",
   "execution_count": null,
   "metadata": {},
   "outputs": [],
   "source": [
    "%mavenRepo bintray https://dl.bintray.com/egp/maven\n",
    "%maven ch.unibas.informatik:jturtle:0.5\n",
    "import ch.unibas.informatik.jturtle.Turtle;"
   ]
  },
  {
   "cell_type": "markdown",
   "metadata": {},
   "source": [
    "## Ziel"
   ]
  },
  {
   "cell_type": "markdown",
   "metadata": {},
   "source": [
    "Dise Fallstudie soll die objektorientierte Vorgehensweise anhand von einer etwas komplexeren Aufgabenstellung zu illustrieren. Das Ziel ist es eine Zeichenanwendung zu programmieren, die verschiedene geometrische Objekte zeichnen kann. \n",
    "\n",
    "Die Konzepte sind auf dem folgenden Bild zusammengefasst:\n",
    "![drawing](../notebooks/images/drawing.png)\n",
    "\n",
    "In Code wollen wir das wie folgt umsetzen\n",
    "\n",
    "```java\n",
    "Line line = new Line(new Point(-50, -50), new Point(50, -50));\n",
    "\n",
    "Triangle triangle = new Triangle(\n",
    "    new Point(-50, -50), \n",
    "    new Point(0, 50), \n",
    "    new Point(50, -50)\n",
    ");\n",
    "\n",
    "Drawing drawing = new Drawing();\n",
    "drawing.draw(line);\n",
    "drawing.draw(triangle);\n",
    "\n",
    "drawing.show();\n",
    "```"
   ]
  },
  {
   "cell_type": "markdown",
   "metadata": {},
   "source": [
    "## Implementation"
   ]
  },
  {
   "cell_type": "markdown",
   "metadata": {},
   "source": [
    "Wird in der Vorlesung erarbeitet."
   ]
  },
  {
   "cell_type": "code",
   "execution_count": null,
   "metadata": {},
   "outputs": [],
   "source": []
  }
 ],
 "metadata": {
  "kernelspec": {
   "display_name": "Java",
   "language": "java",
   "name": "java"
  },
  "language_info": {
   "codemirror_mode": "java",
   "file_extension": ".jshell",
   "mimetype": "text/x-java-source",
   "name": "Java",
   "pygments_lexer": "java",
   "version": "11.0.3+7"
  }
 },
 "nbformat": 4,
 "nbformat_minor": 2
}
