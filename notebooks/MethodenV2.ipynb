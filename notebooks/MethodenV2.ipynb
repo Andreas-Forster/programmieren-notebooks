{
 "cells": [
  {
   "cell_type": "markdown",
   "metadata": {},
   "source": [
    "# Methoden"
   ]
  },
  {
   "cell_type": "markdown",
   "metadata": {},
   "source": [
    "#### Setup der Bibliotheken in Jupyter\n",
    "\n",
    "*Die folgenden zwei Codezeilen sind spezielle Kommandos für Jupyter Notebooks, die benötigt werden um die Turtle Bibliothek verfügbar zu machen. Diese entsprechen nicht gültigem Java Code. Sie müssen auch nicht im Detail verstehen, was hier passiert.*"
   ]
  },
  {
   "cell_type": "code",
   "execution_count": null,
   "metadata": {},
   "outputs": [],
   "source": [
    "%mavenRepo bintray https://dl.bintray.com/egp/maven\n",
    "%maven ch.unibas.informatik:jturtle:0.4"
   ]
  },
  {
   "cell_type": "code",
   "execution_count": null,
   "metadata": {},
   "outputs": [],
   "source": [
    "import ch.unibas.informatik.jturtle.Turtle;"
   ]
  },
  {
   "cell_type": "markdown",
   "metadata": {},
   "source": [
    "## Parameterlose Methoden"
   ]
  },
  {
   "cell_type": "markdown",
   "metadata": {},
   "source": [
    "Beim programmieren müssen wir häufig fast immer mehrere Befehle hintereinander ausführen um ein bestimmtes Verhalten zu erreichen. Als Beispiel nehmen wir wieder unsere Turtle Grafik. Wir erstellen uns zuerst ein Turtle:"
   ]
  },
  {
   "cell_type": "code",
   "execution_count": null,
   "metadata": {},
   "outputs": [],
   "source": [
    "Turtle turtle = new Turtle();\n",
    "turtle.penDown();"
   ]
  },
  {
   "cell_type": "markdown",
   "metadata": {},
   "source": [
    "Um ein rechtwinkliges Dreick zu zeichnen, brauchen wir nun folgende Befehle:"
   ]
  },
  {
   "cell_type": "code",
   "execution_count": null,
   "metadata": {},
   "outputs": [],
   "source": [
    "turtle.home();\n",
    "turtle.clear();\n",
    "int lengthLegs = 100;\n",
    "turtle.forward(lengthLegs);\n",
    "turtle.turnRight(90);\n",
    "turtle.forward(lengthLegs);\n",
    "turtle.turnRight(135);\n",
    "turtle.forward(Math.sqrt(lengthLegs * lengthLegs + lengthLegs * lengthLegs)) ;\n",
    "turtle.turnRight(90);\n",
    "turtle.toImage();"
   ]
  },
  {
   "cell_type": "markdown",
   "metadata": {},
   "source": [
    "Jedesmal wenn wir dieses Dreick wieder zeichnen wollen, müssen wir die Sequenz wiederholen. Dies ist nicht nur mühsam zum schreiben, sondern ist für den Leser des Programms auch schwierig zu verstehen. Besser ist es, wenn wir eine parameterlose Methode einführen:"
   ]
  },
  {
   "cell_type": "code",
   "execution_count": null,
   "metadata": {},
   "outputs": [],
   "source": [
    "void drawRightAngledTriangle() {\n",
    "    int lengthLegs = 100;\n",
    "    turtle.forward(lengthLegs);\n",
    "    turtle.turnRight(90);\n",
    "    turtle.forward(lengthLegs);\n",
    "    turtle.turnRight(135);\n",
    "    turtle.forward(Math.sqrt(lengthLegs * lengthLegs + lengthLegs * lengthLegs)) ;\n",
    "    turtle.turnRight(90);\n",
    "}"
   ]
  },
  {
   "cell_type": "markdown",
   "metadata": {},
   "source": [
    "Diese können wir nun beliebig oft aufrufen:"
   ]
  },
  {
   "cell_type": "code",
   "execution_count": null,
   "metadata": {},
   "outputs": [],
   "source": [
    "turtle.clear();\n",
    "drawRightAngledTriangle();\n",
    "turtle.toImage();"
   ]
  },
  {
   "cell_type": "markdown",
   "metadata": {},
   "source": [
    "Das Programm ist jetzt kürzer und viel einfacher zu verstehen. Ausserdem können wir dieselben Befehle jetzt an beliebigen Stellen in unserem Programm ausführen. "
   ]
  },
  {
   "cell_type": "markdown",
   "metadata": {},
   "source": [
    "## Methoden mit Parametern"
   ]
  },
  {
   "cell_type": "markdown",
   "metadata": {},
   "source": [
    "Unsere Methode ist jedoch noch nicht so nützlich wie sie sein könnte. Das Quadrat wird immer genau gleich gross und an die selbe Stelle im Bild gezeichnet. Die Method wird viel flexibler, wenn wir sie parametrisieren. In unserem Fall heisst das, dass wir zum Beispiel die Grösse des Quadrats (also die Seitelänge) als Parameter übergeben. "
   ]
  },
  {
   "cell_type": "code",
   "execution_count": null,
   "metadata": {},
   "outputs": [],
   "source": [
    "  \n",
    "void drawRightAngledTriangle(int lengthLegs) {\n",
    "    turtle.home();\n",
    "    turtle.forward(lengthLegs);\n",
    "    turtle.turnRight(90);\n",
    "    turtle.forward(lengthLegs);\n",
    "    turtle.turnRight(135);\n",
    "    turtle.forward(Math.sqrt(lengthLegs * lengthLegs + lengthLegs * lengthLegs)) ;\n",
    "    turtle.turnRight(90);\n",
    "    turtle.toImage();\n",
    "}"
   ]
  },
  {
   "cell_type": "code",
   "execution_count": null,
   "metadata": {},
   "outputs": [],
   "source": [
    "turtle.clear();\n",
    "drawRightAngledTriangle(90);\n",
    "drawRightAngledTriangle(60);\n",
    "drawRightAngledTriangle(30);\n",
    "turtle.toImage();"
   ]
  },
  {
   "cell_type": "markdown",
   "metadata": {},
   "source": [
    "#### Miniübung\n",
    "\n",
    "* Passen Sie die Methode so an, dass Sie auch die Startposition vom Turtle mitübergeben können"
   ]
  },
  {
   "cell_type": "markdown",
   "metadata": {},
   "source": [
    "# Funktionen (Methoden mit Rückgabewerte)"
   ]
  },
  {
   "cell_type": "markdown",
   "metadata": {},
   "source": [
    "Methoden können auch Werte zurückgeben. Methoden, deren Zweck es einzig und alleine ist einen Wert berechnen und diesen dann zurückgeben nennen wir Funktionen. In unserem Beispiel wäre ein guter Kandidat für eine Funktion die Berechnung der Länge der Hypothenuse:"
   ]
  },
  {
   "cell_type": "code",
   "execution_count": null,
   "metadata": {},
   "outputs": [],
   "source": [
    "static double computeLengthHypothenuse(double leg1, double leg2) {\n",
    "    return Math.sqrt(leg1 * leg1 + leg2 * leg2);\n",
    "}"
   ]
  },
  {
   "cell_type": "markdown",
   "metadata": {},
   "source": [
    "Damit können wir unsere Methode noch etwas eleganter schreiben:"
   ]
  },
  {
   "cell_type": "code",
   "execution_count": null,
   "metadata": {},
   "outputs": [],
   "source": [
    "static void drawRightAngledTriangle(int lengthLegs) {\n",
    "    turtle.home();\n",
    "    turtle.forward(lengthLegs);\n",
    "    turtle.turnRight(90);\n",
    "    turtle.forward(lengthLegs);\n",
    "    turtle.turnRight(135);\n",
    "    turtle.forward(computeLengthHypothenuse(lengthLegs, lengthLegs)) ;\n",
    "    turtle.turnRight(90);\n",
    "    turtle.toImage();\n",
    "}"
   ]
  },
  {
   "cell_type": "markdown",
   "metadata": {},
   "source": [
    "Wir hoffen ausserdem, dass diese Funktion auch in anderen Programmen nützlich sein, und wir somit diese Funktion nicht immer neu schreiben müssen. "
   ]
  },
  {
   "cell_type": "markdown",
   "metadata": {},
   "source": [
    "#### Miniübung\n",
    "* Schreiben Sie eine Methode circle, die einen Kreis mit gegebenem Radius an einer fixen Position zeichnet.\n",
    "* Schreiben Sie dann eine parameterlose Methode, die die olympischen Ringe zeichnet. "
   ]
  },
  {
   "cell_type": "markdown",
   "metadata": {},
   "source": [
    "## Rekursion"
   ]
  },
  {
   "cell_type": "markdown",
   "metadata": {},
   "source": [
    "Im obigen Beispiel haben wir bereits einen Fall gesehen, wo eine Methode eine andere Methode aufgerufen hat. Eine Methode kann aber nicht nur andere Methoden aufrufen, sondern kann auch sich selbst aufrufen. Dies nennt man dann Rekursion. Rekursion kennt man bereits aus der Mathematik. So ist zum Beispiel die Fibonaccireihe rekursiv definiert als:\n",
    "\n",
    "$\n",
    "f_0 = 0 \\\\\n",
    "f_1 = 1 \\\\\n",
    "f_n = f_{n -1} + f_{n - 2}\n",
    "$\n",
    "\n",
    "Wir können dies einfach mit rekursiven Funktionen in Java umsetzen:\n"
   ]
  },
  {
   "cell_type": "code",
   "execution_count": null,
   "metadata": {},
   "outputs": [],
   "source": [
    "static int fibonacci(int n) {\n",
    "    if (n == 0) {\n",
    "        return 0;\n",
    "    } else {\n",
    "        if (n == 1) {\n",
    "            return 1;\n",
    "        } else {\n",
    "            return (fibonacci(n -1) + fibonacci(n -2));\n",
    "        }\n",
    "    }\n",
    "        \n",
    "}"
   ]
  },
  {
   "cell_type": "code",
   "execution_count": null,
   "metadata": {},
   "outputs": [],
   "source": [
    "fibonacci(12);"
   ]
  },
  {
   "cell_type": "markdown",
   "metadata": {},
   "source": [
    "#### Miniübung:\n",
    "\n",
    "* Fügen Sie mit ```System.out.println``` Ausgaben hinzu um zu verstehen was diese Methode genau mcht\n",
    "* Geben Sie die ersten 20 Elemente der Fibonaccireihe aus. "
   ]
  },
  {
   "cell_type": "markdown",
   "metadata": {},
   "source": [
    "Rekursion lässt sich auch bestens mit Turtlegrafik veranschaulichen. Ein berühmtes Beispiel einer Rekursiven Funktion ist das Sierpinski Dreieck. Dabei werden in jedem Dreieck wieder 3 kleinere Dreiecke gezeichnet. Wir brechen ab, wenn wir eine bestimmte Rekursionstiefe erreicht haben. \n",
    "\n",
    "Beachten Sie dass wir hier zusätzlich auch das turtle als Parameter mitübergeben müssen. Wir werden später sehen, wie wir mit solchen Komplexeren Argumenten arbeiten. Im Moment reicht für Sie zu wissen, dass das turtle durch den Parameter ```turtle``` welcher vom Typ ```Turtle``` ist übergeben wird. "
   ]
  },
  {
   "cell_type": "code",
   "execution_count": null,
   "metadata": {},
   "outputs": [],
   "source": [
    "static void drawSierpinski(Turtle turtle, double length, int depth) {\n",
    "    if (depth==0){\n",
    "        for (int i = 0; i < 3; i++) {\n",
    "            turtle.forward(length);\n",
    "            turtle.turnLeft(120);\n",
    "        }\n",
    "    }\n",
    "    else {\n",
    "        drawSierpinski(turtle, length/2.0 , depth-1);\n",
    "        turtle.forward(length/2);\n",
    "        drawSierpinski(turtle, length/2.0,depth-1);\n",
    "        t.backward(length/2);\n",
    "        turtle.turnLeft(60);\n",
    "        t.forward(length/2);\n",
    "        t.turnRight(60);\n",
    "        drawSierpinski(turtle, length/2.0,depth-1);\n",
    "        turtle.turnLeft(60);\n",
    "        turtle.backward(length/2);\n",
    "        turtle.turnRight(60);\n",
    "    }\n",
    "}"
   ]
  },
  {
   "cell_type": "code",
   "execution_count": null,
   "metadata": {},
   "outputs": [],
   "source": [
    "Turtle t = new Turtle();\n",
    "t.home();\n",
    "t.backward(30);\n",
    "t.turnRight(90);\n",
    "t.backward(75);\n",
    "t.penDown();    \n",
    "drawSierpinski(t, 150, 10);\n",
    "t.toImage();"
   ]
  },
  {
   "cell_type": "markdown",
   "metadata": {},
   "source": [
    "#### Miniübung:\n",
    "\n",
    "* Schauen Sie wie die Zeichnung aufgebaut ist indem Sie die Methode für depth 0, 1, 2, ... ausführen."
   ]
  }
 ],
 "metadata": {
  "kernelspec": {
   "display_name": "Java",
   "language": "java",
   "name": "java"
  },
  "language_info": {
   "codemirror_mode": "java",
   "file_extension": ".jshell",
   "mimetype": "text/x-java-source",
   "name": "Java",
   "pygments_lexer": "java",
   "version": "11.0.3+7"
  }
 },
 "nbformat": 4,
 "nbformat_minor": 2
}
