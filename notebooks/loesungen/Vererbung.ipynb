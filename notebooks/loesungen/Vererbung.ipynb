{
 "cells": [
  {
   "cell_type": "markdown",
   "metadata": {},
   "source": [
    "# Objektorientierung: Eine Fallstudie\n",
    "\n",
    "#### Teil 2: Vererbung"
   ]
  },
  {
   "cell_type": "code",
   "execution_count": 3,
   "metadata": {},
   "outputs": [],
   "source": [
    "%mavenRepo bintray https://dl.bintray.com/egp/maven\n",
    "%maven ch.unibas.informatik:jturtle:0.5\n",
    "import ch.unibas.informatik.jturtle.Turtle;"
   ]
  },
  {
   "cell_type": "markdown",
   "metadata": {},
   "source": [
    "## Ziel:"
   ]
  },
  {
   "cell_type": "markdown",
   "metadata": {},
   "source": [
    "In der letzten Aufgabe haben wir eine einfache Zeichenanwendung programmiert, welche Linien und Dreiecke zeichnen kann. In dieser Aufgabe werden wir diese Fallstudie durch weitere Objekte erweitern. Wir werden dabei das Konzept von Vererbung nutzen um Codeduplikation zu vermeiden. \n",
    "\n",
    "Zur Erinnerung, die Klassen die wir bisher implementiert haben sind ```Point```, ```Vector```, ```Line```, ```Triangle``` und ```Drawing```. \n",
    "![drawing](../notebooks/images/drawing.png)\n",
    "\n",
    "Wir werden diese jetzt durcch ```Polygon```, ```Rectangle``` und ```Square``` erweitern. Dabei soll die Linie beim Zeichnen des Dreiecks dicker sein als bei den anderen Objekte.  Die Nutzung der Klassen aus Benutzerperspekteve soll gleich bleiben. Wir wollen folgenden Code schreiben können:"
   ]
  },
  {
   "cell_type": "markdown",
   "metadata": {},
   "source": [
    "```java\n",
    "Line line = new Line(new Point(-30, 50), new Point(20, 60));\n",
    "\n",
    "Rectangle rectangle = new Rectangle(new Point(-80, -90), 10, 100);\n",
    "\n",
    "Square square = new Square(new Point(30, -70), 40);\n",
    "\n",
    "Triangle triangle = new Triangle(\n",
    "    new Point(-30, -50), \n",
    "    new Point(0, 40), \n",
    "    new Point(30, -10)\n",
    ");\n",
    "\n",
    "\n",
    "Drawing drawing = new Drawing();\n",
    "\n",
    "drawing.draw(line);\n",
    "drawing.draw(rectangle);\n",
    "drawing.draw(square);\n",
    "drawing.draw(triangle);\n",
    "\n",
    "drawing.show();\n",
    "```"
   ]
  },
  {
   "cell_type": "markdown",
   "metadata": {},
   "source": [
    "Als Ausgabe soll dann folgendes Bild entstehen:\n",
    "![drawing](images/drawing-step2.png);"
   ]
  },
  {
   "cell_type": "markdown",
   "metadata": {},
   "source": [
    "## Implementation"
   ]
  },
  {
   "cell_type": "markdown",
   "metadata": {},
   "source": [
    "Die Klassen ```Vector```,  ```Point``` und ```Line``` von voriger Woche lassen wir unverändert."
   ]
  },
  {
   "cell_type": "code",
   "execution_count": 12,
   "metadata": {},
   "outputs": [],
   "source": [
    "class Vector {\n",
    "    double x;\n",
    "    double y;\n",
    "    \n",
    "    Vector(double x, double y) {\n",
    "        this.x = x;\n",
    "        this.y = y;\n",
    "    }\n",
    "    \n",
    "    double dotProd(Vector v) {\n",
    "        return this.x * v.x + this.y * v.y;\n",
    "    }\n",
    "    \n",
    "    double norm() {\n",
    "        return Math.sqrt(this.x * this.x + this.y * this.y);\n",
    "    }\n",
    "}\n",
    "\n",
    "class Point {\n",
    "    \n",
    "    double x;\n",
    "    double y;\n",
    "    \n",
    "    Point(double x, double y) {\n",
    "        this.x = x;\n",
    "        this.y = y;\n",
    "    }\n",
    "    \n",
    "    Vector minus(Point p) {\n",
    "        return new Vector(this.x - p.x, this.y - p.y);\n",
    "    }\n",
    "\n",
    "}"
   ]
  },
  {
   "cell_type": "code",
   "execution_count": 13,
   "metadata": {},
   "outputs": [],
   "source": [
    "class Line {\n",
    "\n",
    "    Point p1;\n",
    "    Point p2;\n",
    "    \n",
    "    Line(Point p1, Point p2) {\n",
    "        this.p1 = p1;\n",
    "        this.p2 = p2;\n",
    "    }\n",
    "    \n",
    "    void drawWithTurtle(Turtle turtle) {\n",
    "        setTurtlePosition(turtle, p1);\n",
    "        turtle.penDown();\n",
    "        \n",
    "        Vector v = p2.minus(p1);\n",
    "        Vector e2 = new Vector(0, 1);\n",
    "        \n",
    "        double angle = Math.acos(v.dotProd(e2) / (v.norm() * e2.norm()));\n",
    "        double angleInDegree = angle * 360 / (2 * 3.14157);\n",
    "        if (v.x > 0) {\n",
    "            turtle.turnRight(angleInDegree);\n",
    "        } else {\n",
    "            turtle.turnLeft(angleInDegree);\n",
    "        }\n",
    "        turtle.forward(v.norm());\n",
    "    }\n",
    "    \n",
    "     static void setTurtlePosition(Turtle turtle, Point p) {\n",
    "        turtle.penUp();\n",
    "        turtle.home();\n",
    "        turtle.forward(p.y);\n",
    "        turtle.turnRight(90);\n",
    "        turtle.forward(p.x);\n",
    "        turtle.turnLeft(90);\n",
    "        turtle.penDown();\n",
    "    }\n",
    "\n",
    "}"
   ]
  },
  {
   "cell_type": "code",
   "execution_count": 14,
   "metadata": {},
   "outputs": [],
   "source": [
    "class Polygon {\n",
    "    \n",
    "    Point[] points;\n",
    "    \n",
    "    Polygon(Point[] points) {\n",
    "        this.points = points;\n",
    "    }\n",
    "    \n",
    "    void drawWithTurtle(Turtle turtle) {\n",
    "        \n",
    "        for (int i = 0; i < points.length; i++) {\n",
    "            Line line = new Line(points[i], points[(i + 1) % points.length]);\n",
    "            line.drawWithTurtle(turtle);\n",
    "        }\n",
    "        \n",
    "    }\n",
    "    \n",
    "    \n",
    "}"
   ]
  },
  {
   "cell_type": "code",
   "execution_count": 15,
   "metadata": {},
   "outputs": [],
   "source": [
    "class Triangle extends Polygon {\n",
    "    \n",
    "    Triangle(Point p1, Point p2, Point p3) {\n",
    "        super(new Point[]{p1, p2, p3});                \n",
    "    }\n",
    "        \n",
    "    void drawWithTurtle(Turtle turtle) {\n",
    "        turtle.penSize(10);        \n",
    "        super.drawWithTurtle(turtle);\n",
    "        turtle.penSize(1);\n",
    "    }\n",
    "}"
   ]
  },
  {
   "cell_type": "code",
   "execution_count": 16,
   "metadata": {},
   "outputs": [],
   "source": [
    "class Rectangle extends Polygon {\n",
    "    \n",
    "    Point lowerLeftCorner;\n",
    "    \n",
    "    Rectangle(Point lowerLeftCorner, double width, double height) {\n",
    "        \n",
    "        super(getCornerPoints(lowerLeftCorner, width, height));                \n",
    "        \n",
    "    }\n",
    "    \n",
    "    static Point[] getCornerPoints(Point lowerLeftCorner, double width, double height) { \n",
    "        Point[] cornerPoints = new Point[4];\n",
    "        cornerPoints[0] = lowerLeftCorner;\n",
    "        cornerPoints[1] = new Point(lowerLeftCorner.x, lowerLeftCorner.y + height);\n",
    "        cornerPoints[2] = new Point(lowerLeftCorner.x + width, lowerLeftCorner.y + height);\n",
    "        cornerPoints[3] = new Point(lowerLeftCorner.x + width, lowerLeftCorner.y);\n",
    "        return cornerPoints;\n",
    "    }\n",
    "    \n",
    "}"
   ]
  },
  {
   "cell_type": "code",
   "execution_count": 17,
   "metadata": {},
   "outputs": [],
   "source": [
    "class Square extends Rectangle {\n",
    "    Square(Point lowerLeftCorner, double length) {\n",
    "        super(lowerLeftCorner, length, length);\n",
    "    }\n",
    "}"
   ]
  },
  {
   "cell_type": "code",
   "execution_count": 18,
   "metadata": {},
   "outputs": [],
   "source": [
    "class Drawing {\n",
    "\n",
    "    Turtle turtle;\n",
    "    \n",
    "    Drawing() {\n",
    "        this.turtle = new Turtle();\n",
    "    }\n",
    "    \n",
    "    void draw(Polygon poly) {\n",
    "        poly.drawWithTurtle(turtle);\n",
    "    }\n",
    "\n",
    "    void draw(Line line) {\n",
    "        line.drawWithTurtle(turtle);\n",
    "    }\n",
    "\n",
    "    \n",
    "    void show() {\n",
    "        display(turtle.toImage());\n",
    "    }\n",
    "    \n",
    "}"
   ]
  },
  {
   "cell_type": "markdown",
   "metadata": {},
   "source": [
    "#### Testprogramm"
   ]
  },
  {
   "cell_type": "code",
   "execution_count": 1,
   "metadata": {},
   "outputs": [
    {
     "ename": "CompilationException",
     "evalue": "",
     "output_type": "error",
     "traceback": [
      "\u001b[1m\u001b[30m|   \u001b[1m\u001b[30m\u001b[0m\u001b[1m\u001b[30m\u001b[41mLine\u001b[0m\u001b[1m\u001b[30m line = new Line(new Point(-30, 50), new Point(20, 60));\u001b[0m",
      "\u001b[1m\u001b[31mcannot find symbol\u001b[0m",
      "\u001b[1m\u001b[31m  symbol:   class Line\u001b[0m",
      "",
      "\u001b[1m\u001b[30m|   \u001b[1m\u001b[30mLine line = new \u001b[0m\u001b[1m\u001b[30m\u001b[41mLine\u001b[0m\u001b[1m\u001b[30m(new Point(-30, 50), new Point(20, 60));\u001b[0m",
      "\u001b[1m\u001b[31mcannot find symbol\u001b[0m",
      "\u001b[1m\u001b[31m  symbol:   class Line\u001b[0m",
      "",
      "\u001b[1m\u001b[30m|   \u001b[1m\u001b[30mLine line = new Line(new \u001b[0m\u001b[1m\u001b[30m\u001b[41mPoint\u001b[0m\u001b[1m\u001b[30m(-30, 50), new Point(20, 60));\u001b[0m",
      "\u001b[1m\u001b[31mcannot find symbol\u001b[0m",
      "\u001b[1m\u001b[31m  symbol:   class Point\u001b[0m",
      "",
      "\u001b[1m\u001b[30m|   \u001b[1m\u001b[30mLine line = new Line(new Point(-30, 50), new \u001b[0m\u001b[1m\u001b[30m\u001b[41mPoint\u001b[0m\u001b[1m\u001b[30m(20, 60));\u001b[0m",
      "\u001b[1m\u001b[31mcannot find symbol\u001b[0m",
      "\u001b[1m\u001b[31m  symbol:   class Point\u001b[0m",
      ""
     ]
    }
   ],
   "source": [
    "Line line = new Line(new Point(-30, 50), new Point(20, 60));\n",
    "\n",
    "Rectangle rectangle = new Rectangle(new Point(-80, -90), 10, 100);\n",
    "\n",
    "Square square = new Square(new Point(30, -70), 40);\n",
    "\n",
    "Triangle triangle = new Triangle(\n",
    "    new Point(-30, -50), \n",
    "    new Point(0, 40), \n",
    "    new Point(30, -10)\n",
    ");\n",
    "\n",
    "\n",
    "Drawing drawing = new Drawing();\n",
    "\n",
    "drawing.draw(line);\n",
    "drawing.draw(rectangle);\n",
    "drawing.draw(square);\n",
    "drawing.draw(triangle);\n",
    "\n",
    "drawing.show();\n"
   ]
  },
  {
   "cell_type": "code",
   "execution_count": null,
   "metadata": {},
   "outputs": [],
   "source": []
  }
 ],
 "metadata": {
  "kernelspec": {
   "display_name": "Java",
   "language": "java",
   "name": "java"
  },
  "language_info": {
   "codemirror_mode": "java",
   "file_extension": ".jshell",
   "mimetype": "text/x-java-source",
   "name": "Java",
   "pygments_lexer": "java",
   "version": "11.0.3+7"
  }
 },
 "nbformat": 4,
 "nbformat_minor": 2
}
