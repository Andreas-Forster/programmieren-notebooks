{
 "cells": [
  {
   "cell_type": "markdown",
   "metadata": {},
   "source": [
    "# Objektorientierung: Eine Fallstudie\n",
    "\n",
    "#### Teil 3: Abstrakte Klassen und Interfaces"
   ]
  },
  {
   "cell_type": "code",
   "execution_count": 4,
   "metadata": {},
   "outputs": [],
   "source": [
    "%mavenRepo bintray https://dl.bintray.com/egp/maven\n",
    "%maven ch.unibas.informatik:jturtle:0.5\n",
    "import ch.unibas.informatik.jturtle.Turtle;"
   ]
  },
  {
   "cell_type": "markdown",
   "metadata": {},
   "source": [
    "## Ziel:"
   ]
  },
  {
   "cell_type": "markdown",
   "metadata": {},
   "source": [
    "In diesem dritten Teil der Fallstudie werden wir das Zeichenprogramm so erweitern, dass wir die Linienfarbe und Linienstärke verändern können. Um dies nicht für jedes Objekt separat machen zu müssen, führen wir eine abstrakte Klasse ```Shape``` ein. Ausserdem erweitern wir unsere Hierarchie noch um die Klasse ```Circle```. Dies ist unser erstes Objekt, welches kein Polygon ist. \n",
    "\n",
    "Am Ende wollen wir folgenden Testcode schreiben können. Unser Ziel ist aber, dass wir die Methode ```setLineColor``` und ```setLineWidth``` nicht für jedes Objekt einzeln implementieren müssen. "
   ]
  },
  {
   "cell_type": "markdown",
   "metadata": {},
   "source": [
    "```java\n",
    "Line line = new Line(new Point(-30, 50), new Point(20, 60));\n",
    "\n",
    "Rectangle rectangle = new Rectangle(new Point(-80, -90), 10, 100);\n",
    "rectangle.setLineColor(java.awt.Color.BLUE);\n",
    "\n",
    "Square square = new Square(new Point(30, -70), 40);\n",
    "\n",
    "Triangle triangle = new Triangle(\n",
    "    new Point(-30, -50), \n",
    "    new Point(0, 40), \n",
    "    new Point(30, -10)\n",
    ");\n",
    "\n",
    "triangle.setLineColor(java.awt.Color.GREEN);\n",
    "triangle.setLineWidth(5);\n",
    "\n",
    "Circle circle = new Circle(new Point(40,40), 10);\n",
    "circle.setLineWidth(2);\n",
    "\n",
    "\n",
    "Drawing drawing = new Drawing();\n",
    "\n",
    "drawing.draw(line);\n",
    "drawing.draw(rectangle);\n",
    "drawing.draw(square);\n",
    "drawing.draw(triangle);\n",
    "drawing.draw(circle);\n",
    "drawing.show();\n",
    "```"
   ]
  },
  {
   "cell_type": "markdown",
   "metadata": {},
   "source": [
    "Als Ausgabe soll dann folgendes Bild entstehen:\n",
    "![drawing](images/drawing-final.png);"
   ]
  },
  {
   "cell_type": "markdown",
   "metadata": {},
   "source": [
    "## Implementation"
   ]
  },
  {
   "cell_type": "code",
   "execution_count": 149,
   "metadata": {},
   "outputs": [],
   "source": [
    "class Vector {\n",
    "    double x;\n",
    "    double y;\n",
    "    \n",
    "    Vector(double x, double y) {\n",
    "        this.x = x;\n",
    "        this.y = y;\n",
    "    }\n",
    "    \n",
    "    double dotProd(Vector v) {\n",
    "        return this.x * v.x + this.y * v.y;\n",
    "    }\n",
    "    \n",
    "    double norm() {\n",
    "        return Math.sqrt(this.x * this.x + this.y * this.y);\n",
    "    }\n",
    "}\n",
    "\n",
    "class Point {\n",
    "    \n",
    "    double x;\n",
    "    double y;\n",
    "    \n",
    "    Point(double x, double y) {\n",
    "        this.x = x;\n",
    "        this.y = y;\n",
    "    }\n",
    "    \n",
    "    Vector minus(Point p) {\n",
    "        return new Vector(this.x - p.x, this.y - p.y);\n",
    "    }\n",
    "\n",
    "}"
   ]
  },
  {
   "cell_type": "code",
   "execution_count": 150,
   "metadata": {},
   "outputs": [],
   "source": [
    "abstract class Shape {\n",
    "\n",
    "    java.awt.Color lineColor = java.awt.Color.BLACK;\n",
    "    int lineWidth = 1;\n",
    "    \n",
    "    void setLineWidth(int width) {\n",
    "        if (width <= 0) {\n",
    "            this.lineWidth = 1;\n",
    "        } else { \n",
    "            this.lineWidth = width;\n",
    "        }                        \n",
    "    }\n",
    "    \n",
    "    void setLineColor(java.awt.Color color) {\n",
    "        this.lineColor = color;\n",
    "    }\n",
    "        \n",
    "    abstract void drawWithTurtle(Turtle turtle);        \n",
    "    \n",
    "    \n",
    "    void setTurtlePosition(Turtle turtle, Point p) {\n",
    "        turtle.penUp();\n",
    "        turtle.home();\n",
    "        turtle.forward(p.y);\n",
    "        turtle.turnRight(90);\n",
    "        turtle.forward(p.x);\n",
    "        turtle.turnLeft(90);\n",
    "        turtle.penDown();\n",
    "    }\n",
    "    \n",
    "    void setTurtleAttributes(Turtle turtle) { \n",
    "       turtle.penColor(lineColor);\n",
    "       turtle.penSize(lineWidth);\n",
    "    }\n",
    "    \n",
    "}"
   ]
  },
  {
   "cell_type": "code",
   "execution_count": 151,
   "metadata": {},
   "outputs": [],
   "source": [
    "class Line extends Shape {\n",
    "\n",
    "    Point p1;\n",
    "    Point p2;\n",
    "    \n",
    "    Line(Point p1, Point p2) {\n",
    "        this.p1 = p1;\n",
    "        this.p2 = p2;\n",
    "    }\n",
    "    \n",
    "        \n",
    "    void drawWithTurtle(Turtle turtle) {\n",
    "        setTurtlePosition(turtle, p1);\n",
    "        setTurtleAttributes(turtle);\n",
    "        \n",
    "        turtle.penDown();\n",
    "        \n",
    "        Vector v = p2.minus(p1);\n",
    "        Vector e2 = new Vector(0, 1);\n",
    "        \n",
    "        double angle = Math.acos(v.dotProd(e2) / (v.norm() * e2.norm()));\n",
    "        double angleInDegree = angle * 360 / (2 * 3.14157);\n",
    "        if (v.x > 0) {\n",
    "            turtle.turnRight(angleInDegree);\n",
    "        } else {\n",
    "            turtle.turnLeft(angleInDegree);\n",
    "        }\n",
    "        turtle.forward(v.norm());\n",
    "    }    \n",
    "    \n",
    "}"
   ]
  },
  {
   "cell_type": "code",
   "execution_count": 152,
   "metadata": {},
   "outputs": [],
   "source": [
    "abstract class Polygon extends Shape {\n",
    "    \n",
    "    Point[] points;\n",
    "    \n",
    "    Polygon(Point[] points) {\n",
    "        this.points = points;\n",
    "    }\n",
    "    \n",
    "    void drawWithTurtle(Turtle turtle) {\n",
    "        \n",
    "        for (int i = 0; i < points.length; i++) {\n",
    "            Line line = new Line(points[i], points[(i + 1) % points.length]);\n",
    "            line.setLineColor(this.lineColor);\n",
    "            line.setLineWidth(this.lineWidth);\n",
    "            line.drawWithTurtle(turtle);\n",
    "        }        \n",
    "    }        \n",
    "}"
   ]
  },
  {
   "cell_type": "code",
   "execution_count": 153,
   "metadata": {},
   "outputs": [],
   "source": [
    "class Triangle extends Polygon {\n",
    "    \n",
    "    Triangle(Point p1, Point p2, Point p3) {\n",
    "        super(new Point[]{p1, p2, p3});                \n",
    "    }\n",
    "}"
   ]
  },
  {
   "cell_type": "code",
   "execution_count": 154,
   "metadata": {},
   "outputs": [],
   "source": [
    "class Rectangle extends Polygon {\n",
    "    \n",
    "    Point lowerLeftCorner;\n",
    "    \n",
    "    Rectangle(Point lowerLeftCorner, double width, double height) {\n",
    "        \n",
    "        super(getCornerPoints(lowerLeftCorner, width, height));                \n",
    "        \n",
    "    }\n",
    "    \n",
    "    static Point[] getCornerPoints(Point lowerLeftCorner, double width, double height) { \n",
    "        Point[] cornerPoints = new Point[4];\n",
    "        cornerPoints[0] = lowerLeftCorner;\n",
    "        cornerPoints[1] = new Point(lowerLeftCorner.x, lowerLeftCorner.y + height);\n",
    "        cornerPoints[2] = new Point(lowerLeftCorner.x + width, lowerLeftCorner.y + height);\n",
    "        cornerPoints[3] = new Point(lowerLeftCorner.x + width, lowerLeftCorner.y);\n",
    "        return cornerPoints;\n",
    "    }\n",
    "    \n",
    "}"
   ]
  },
  {
   "cell_type": "code",
   "execution_count": 155,
   "metadata": {},
   "outputs": [],
   "source": [
    "class Square extends Rectangle {\n",
    "    Square(Point lowerLeftCorner, double length) {\n",
    "        super(lowerLeftCorner, length, length);\n",
    "    }\n",
    "}"
   ]
  },
  {
   "cell_type": "code",
   "execution_count": 156,
   "metadata": {},
   "outputs": [],
   "source": [
    "class Circle extends Shape {\n",
    "    \n",
    "    double radius;\n",
    "    Point center;\n",
    "    \n",
    "    public Circle(Point center, double radius) {\n",
    "        this.radius = radius;\n",
    "        this.center = center;\n",
    "    }\n",
    "    \n",
    "    void drawWithTurtle(Turtle turtle) {\n",
    "        setTurtlePosition(turtle, new Point(center.x - radius, center.y));\n",
    "        setTurtleAttributes(turtle);\n",
    "                \n",
    "        turtle.penDown();\n",
    "        double circumference = 2 * 3.1415926 * radius;\n",
    "        double forwardStep = circumference / 360;\n",
    "        for (int i = 0; i < 360; i++) {\n",
    "            turtle.forward(forwardStep);\n",
    "            turtle.turnRight(1);\n",
    "        }\n",
    "    }\n",
    "}"
   ]
  },
  {
   "cell_type": "code",
   "execution_count": 157,
   "metadata": {},
   "outputs": [],
   "source": [
    "class Drawing {\n",
    "\n",
    "    Turtle turtle;\n",
    "    \n",
    "    Drawing() {\n",
    "        this.turtle = new Turtle();\n",
    "    }\n",
    "    \n",
    "    void draw(Shape shape) {\n",
    "        shape.drawWithTurtle(turtle);\n",
    "    }    \n",
    "    \n",
    "    void show() {\n",
    "        display(turtle.toImage());\n",
    "    }\n",
    "    \n",
    "}"
   ]
  },
  {
   "cell_type": "markdown",
   "metadata": {},
   "source": [
    "#### Testprogramm"
   ]
  },
  {
   "cell_type": "code",
   "execution_count": 158,
   "metadata": {},
   "outputs": [
    {
     "data": {
      "image/png": "[encoded data removed]",
      "text/plain": [
       "BufferedImage@654b19ec: type = 2 DirectColorModel: rmask=ff0000 gmask=ff00 bmask=ff amask=ff000000 IntegerInterleavedRaster: width = 1024 height = 1024 #Bands = 4 xOff = 0 yOff = 0 dataOffset[0] 0"
      ]
     },
     "metadata": {},
     "output_type": "display_data"
    }
   ],
   "source": [
    "\n",
    "Line line = new Line(new Point(-30, 50), new Point(20, 60));\n",
    "\n",
    "Rectangle rectangle = new Rectangle(new Point(-80, -90), 10, 100);\n",
    "rectangle.setLineColor(java.awt.Color.BLUE);\n",
    "\n",
    "Square square = new Square(new Point(30, -70), 40);\n",
    "\n",
    "Triangle triangle = new Triangle(\n",
    "    new Point(-30, -50), \n",
    "    new Point(0, 40), \n",
    "    new Point(30, -10)\n",
    ");\n",
    "\n",
    "triangle.setLineColor(java.awt.Color.GREEN);\n",
    "triangle.setLineWidth(5);\n",
    "\n",
    "Circle circle = new Circle(new Point(40,40), 10);\n",
    "circle.setLineWidth(2);\n",
    "\n",
    "\n",
    "Drawing drawing = new Drawing();\n",
    "\n",
    "drawing.draw(line);\n",
    "drawing.draw(rectangle);\n",
    "drawing.draw(square);\n",
    "drawing.draw(triangle);\n",
    "drawing.draw(circle);\n",
    "drawing.show();\n"
   ]
  },
  {
   "cell_type": "code",
   "execution_count": null,
   "metadata": {},
   "outputs": [],
   "source": []
  }
 ],
 "metadata": {
  "kernelspec": {
   "display_name": "Java",
   "language": "java",
   "name": "java"
  },
  "language_info": {
   "codemirror_mode": "java",
   "file_extension": ".jshell",
   "mimetype": "text/x-java-source",
   "name": "Java",
   "pygments_lexer": "java",
   "version": "11.0.3+7"
  }
 },
 "nbformat": 4,
 "nbformat_minor": 2
}
