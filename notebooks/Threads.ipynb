{
 "cells": [
  {
   "cell_type": "markdown",
   "metadata": {},
   "source": [
    "# Threads"
   ]
  },
  {
   "cell_type": "markdown",
   "metadata": {},
   "source": [
    "In diesem Notebook schauen wir uns Threads an. Nachdem wir das grundlegende Prinzip illustriert haben, schauen wir uns zwei Beispiele an: Das erste Beispiel zeigt, wie wir dank Threads Berechnungen parallel durchführen können. Mit dem zweiten Beispiel illustrieren wir die Probleme, die beim arbeiten mit Threads auftreten können. "
   ]
  },
  {
   "cell_type": "markdown",
   "metadata": {},
   "source": [
    "### Vorbereitung\n",
    "\n",
    "Wenn wir mit mehreren Threads arbeiten, ist die Ausgabe auf die Konsole meistens sehr unübersichtlich, da die Reihenfolge in der auf die Konsole geschrieben wird nicht deterministisch ist. In Jupyter notebooks ist es sogar gänzlich unmöglich, aus mehreren Threads gleichzeitig Output zu generieren. Deshalb führen wir als erstes eine Logging Klasse ein. Diese verwaltet einzelne Logging-Nachrichten mittels einer LinkedList. Um die Übersicht zu behalten, wird jede Nachricht mit einem Datum versehen. "
   ]
  },
  {
   "cell_type": "code",
   "execution_count": null,
   "metadata": {},
   "outputs": [],
   "source": [
    "class LogMessage {\n",
    "    Date date;\n",
    "    String message;\n",
    "    LogMessage next;\n",
    "    \n",
    "    public LogMessage (String message) {\n",
    "        this.date = new Date();\n",
    "        this.message = message;\n",
    "        this.next = null;\n",
    "    }\n",
    "    \n",
    "    public String toString() { \n",
    "        java.text.SimpleDateFormat sdfDate = \n",
    "            new java.text.SimpleDateFormat(\"yyyy-MM-dd HH:mm:ss:S\");\n",
    "        return sdfDate.format(this.date) +\" : \" + message;\n",
    "    }\n",
    "}\n",
    "\n",
    "class Logger {\n",
    "    LogMessage head = null;\n",
    "    LogMessage tail = null;\n",
    "    \n",
    "    synchronized void log(String message ) {\n",
    "        LogMessage newMessage = new LogMessage(message);\n",
    "        if (head == null) {\n",
    "            this.head = newMessage;\n",
    "            this.tail = head;\n",
    "        } else {\n",
    "            this.tail.next = newMessage;\n",
    "            this.tail = newMessage;\n",
    "        }\n",
    "    }\n",
    "    \n",
    "    void print() {\n",
    "        LogMessage m = head;\n",
    "        while (m != null) {\n",
    "            System.out.println(m);\n",
    "            m = m.next;\n",
    "        }\n",
    "    }\n",
    "    \n",
    "}"
   ]
  },
  {
   "cell_type": "markdown",
   "metadata": {},
   "source": [
    "Um den logger zu nutzen, instanzieren wir ein neues Objekt, und loggen unsere Ausgaben jeweils durch Aufruf der ```log``` Methode.  Alle Logeinträge können dann mit ```print``` angezeigt werden. "
   ]
  },
  {
   "cell_type": "code",
   "execution_count": null,
   "metadata": {},
   "outputs": [],
   "source": [
    "Logger logger = new Logger();\n",
    "logger.log(\"Ausgabe 1\");\n",
    "logger.log(\"Ausgabe 2\");\n",
    "logger.print()\n"
   ]
  },
  {
   "cell_type": "markdown",
   "metadata": {},
   "source": [
    "### Threads erzeugen"
   ]
  },
  {
   "cell_type": "markdown",
   "metadata": {},
   "source": [
    "Als erstes illustrieren wir den grundlegenden Mechansimus um Threads zu erzeugen.\n",
    "Um einen neuen Thread zu erzeugen, müssen wir als erstes eine Klasse schreiben, die von der Klasse  ```Thread``` erbt, und die run Methode überschreibt. Damit wir die Ausgabe sehen, übergeben wir noch einen Namen für den Thread sowie ein ```Logger``` Objekt."
   ]
  },
  {
   "cell_type": "code",
   "execution_count": null,
   "metadata": {},
   "outputs": [],
   "source": [
    "class MyThread extends Thread {\n",
    "\n",
    "    private Logger logger;\n",
    "    private String name;\n",
    "\n",
    "    MyThread(String name, Logger logger) {\n",
    "        this.logger = logger;\n",
    "        this.name = name;\n",
    "    }\n",
    "    \n",
    "    public void run() { \n",
    "        java.util.Random rng = new java.util.Random();\n",
    "        \n",
    "        for (int i = 0; i < 10; i++) {\n",
    "            logger.log(\"Hello from thread \" +name);\n",
    "            try {\n",
    "                Thread.sleep(rng.nextInt(1000));\n",
    "            } catch (InterruptedException e) {\n",
    "                logger.log(\"got interruped\");\n",
    "            }\n",
    "        }\n",
    "    }\n",
    "}"
   ]
  },
  {
   "cell_type": "markdown",
   "metadata": {},
   "source": [
    "Um dann den eigentlichen Thread zu starten, müssen wir eine Instanz unserer Thread-Klasse erstellen und die start Methode aufrufen."
   ]
  },
  {
   "cell_type": "code",
   "execution_count": null,
   "metadata": {},
   "outputs": [],
   "source": [
    "Logger logger = new Logger();\n",
    "MyThread thread1 = new MyThread(\"Thread 1\", logger);\n",
    "MyThread thread2 = new MyThread(\"Thread 2\", logger);\n",
    "thread1.start();\n",
    "thread2.start();"
   ]
  },
  {
   "cell_type": "code",
   "execution_count": null,
   "metadata": {},
   "outputs": [],
   "source": [
    "logger.print();"
   ]
  },
  {
   "cell_type": "markdown",
   "metadata": {},
   "source": [
    "#### Miniübung:\n",
    "* Führen Sie statt ```start``` die Methode ```run``` direkt aus. Was passiert? Weshalb?"
   ]
  },
  {
   "cell_type": "markdown",
   "metadata": {},
   "source": [
    "### Beispiel 1: Numerische Integration"
   ]
  },
  {
   "cell_type": "markdown",
   "metadata": {},
   "source": [
    "Als erstes nützliches Beispiel für die Anwendung von Threads schreiben wir ein Programm, welches eine gegebene Funktion numerisch, mithilfe der Quadratregel,  integriert. "
   ]
  },
  {
   "cell_type": "markdown",
   "metadata": {},
   "source": [
    "Um Funktionen zu implementieren schreiben wir uns ein Interface ```Function```:"
   ]
  },
  {
   "cell_type": "code",
   "execution_count": null,
   "metadata": {},
   "outputs": [],
   "source": [
    "\n",
    "interface Function {\n",
    "    double apply(double x);\n",
    "}"
   ]
  },
  {
   "cell_type": "markdown",
   "metadata": {},
   "source": [
    "#### Miniübung: \n",
    "* Implementieren Sie Klassen für verschiedene Funktionen, wie zum Beispiel $sin, cos, x^2, x^3$, welche das Interface implementieren. "
   ]
  },
  {
   "cell_type": "markdown",
   "metadata": {},
   "source": [
    "Als nächstens implementieren wir den Integrator. Dieser nimmt ein Interval, gegeben durch zwei Punkte $x_1$ und $x_2$ sowie ein Element $dx$, welches die Grösse von jedem Rechteck angibt. Die Methode ```run``` führt dann die eigentliche Berechnung aus. Die Methode ```getValue``` gibt den berechneten Wert zurück."
   ]
  },
  {
   "cell_type": "code",
   "execution_count": null,
   "metadata": {},
   "outputs": [],
   "source": [
    "class Integrator {\n",
    "    \n",
    "    double value = 0; \n",
    "    double x1;\n",
    "    double x2; \n",
    "    double dx;\n",
    "    Function f;\n",
    "    \n",
    "    public Integrator(double x1, double x2, double dx, Function f) {\n",
    "        this.x1 = x1;\n",
    "        this.x2 = x2;\n",
    "        this.dx = dx;\n",
    "        this.f = f;\n",
    "    }\n",
    "    \n",
    "    public void run() {\n",
    "        int N = (int) ((x2 - x1) / dx);\n",
    "        double s = 0;\n",
    "\n",
    "        for (int i = 1; i <= N; i++) {\n",
    "            s += f.apply(x1 + i * dx) * dx;\n",
    "        }\n",
    "        value = s;\n",
    "    }\n",
    "    public double getValue() { return value; }\n",
    "}\n"
   ]
  },
  {
   "cell_type": "markdown",
   "metadata": {},
   "source": [
    "Wir können nun das Integral einer Funktion wie folgt berechnen:"
   ]
  },
  {
   "cell_type": "code",
   "execution_count": null,
   "metadata": {},
   "outputs": [],
   "source": [
    "class SineFunction implements Function {\n",
    "    public double apply(double d) { return Math.sin(d); }\n",
    "}\n",
    "\n",
    "Integrator integrator = new Integrator(-Math.PI, Math.PI, 1e-8, new SineFunction());\n",
    "integrator.run();\n",
    "integrator.getValue();"
   ]
  },
  {
   "cell_type": "markdown",
   "metadata": {},
   "source": [
    "#### Übung:\n",
    "\n",
    "* Passen Sie die Klasse ```Integrator``` so an, dass diese von ```Thread``` erbt.\n",
    "* Starten Sie den Integrator nun mit der ```start``` Methode (die von ```Thread``` geerbt wurde). Was beobachten Sie?\n",
    "* Schreiben Sie eine neue Methode ```integrate``` (ausserhalb der Klasse Integrator), welche zusätzlich zu $x1, x2, dx$ und $f$ noch die anzahl Threads nimmt, die erzeugt werden können und die Berechnung dann auf mehrere Threads aufteilt. \n",
    "    * Hinweis: Um zu warten bis ein Thread fertig ist können Sie die Methode ```join``` der Thread Klasse nutzen. "
   ]
  },
  {
   "cell_type": "markdown",
   "metadata": {},
   "source": [
    "### Beispiel 2: Ein einfacher Zähler"
   ]
  },
  {
   "cell_type": "markdown",
   "metadata": {},
   "source": [
    "In unserem zweiten Beispiel illustrieren wir, was beim gleichzeitigen Zugriff auf Variablen schiefgehen kann. \n",
    "Dazu schreiben wir eine Klasse ```Counter``` welche einen einfachen Zähler implementiert."
   ]
  },
  {
   "cell_type": "code",
   "execution_count": null,
   "metadata": {},
   "outputs": [],
   "source": [
    "public class Counter {\n",
    "\n",
    "    private int c = 0;\n",
    "\n",
    "    public void increment() {\n",
    "        c++;\n",
    "    }\n",
    "\n",
    "    public void decrement() {\n",
    "        c--;\n",
    "    }\n",
    "\n",
    "    public int value() {\n",
    "        return c;\n",
    "    }\n",
    "}"
   ]
  },
  {
   "cell_type": "markdown",
   "metadata": {},
   "source": [
    "Wir implementieren nun eine Klasse, welche jeweils den Zähler inkrementiert und wieder dekrementiert. Am Ende wird dann der Wert des Zählers ausgegeben. "
   ]
  },
  {
   "cell_type": "code",
   "execution_count": null,
   "metadata": {
    "scrolled": true
   },
   "outputs": [],
   "source": [
    "class MyThread extends Thread {\n",
    "\n",
    "    String name;\n",
    "    Counter counter;\n",
    "    Logger logger;\n",
    "    \n",
    "    public MyThread(String name, Counter counter, Logger logger) {\n",
    "        this.name = name;\n",
    "        this.counter = counter;\n",
    "        this.logger = logger;\n",
    "    }\n",
    "    \n",
    "    public void run() {\n",
    "        \n",
    "        java.util.Random rng = new java.util.Random();\n",
    "        \n",
    "        for (int i = 0; i < 100; i++) {         \n",
    "            counter.increment();                     \n",
    "            counter.decrement();\n",
    "            \n",
    "            logger.log(name +\" \"+counter.value());       \n",
    "\n",
    "            try {\n",
    "                Thread.sleep(rng.nextInt(10));\n",
    "            } catch (InterruptedException e) {\n",
    "                logger.log(\"got interruped\");\n",
    "            }\n",
    "        }\n",
    "        \n",
    "    }\n",
    "}"
   ]
  },
  {
   "cell_type": "markdown",
   "metadata": {},
   "source": [
    "Wir starten nun das Programm und sehen uns dann den Output an. "
   ]
  },
  {
   "cell_type": "code",
   "execution_count": null,
   "metadata": {},
   "outputs": [],
   "source": [
    "Logger logger = new Logger();\n",
    "Counter counter = new Counter();\n",
    "\n",
    "for (int i = 0; i < 10; i++) {\n",
    "    MyThread thread = new MyThread(\"Thread \" + i, counter, logger);\n",
    "    thread.start();\n",
    "}"
   ]
  },
  {
   "cell_type": "markdown",
   "metadata": {},
   "source": [
    "Wir würden erwarten, dass der Wert der ausgegeben wird immer 0 ist. Zu unserer Überraschung sehen wir, dass dem nicht so ist. "
   ]
  },
  {
   "cell_type": "code",
   "execution_count": null,
   "metadata": {
    "scrolled": false
   },
   "outputs": [],
   "source": [
    "logger.print()"
   ]
  },
  {
   "cell_type": "markdown",
   "metadata": {},
   "source": [
    "#### Miniübung\n",
    "\n",
    "* Nutzen Sie ```synchronize``` um das Programm so zu synchronisieren, dass es die erwartete Ausgabe liefert."
   ]
  }
 ],
 "metadata": {
  "kernelspec": {
   "display_name": "Java",
   "language": "java",
   "name": "java"
  },
  "language_info": {
   "codemirror_mode": "java",
   "file_extension": ".jshell",
   "mimetype": "text/x-java-source",
   "name": "Java",
   "pygments_lexer": "java",
   "version": "11.0.3+7"
  }
 },
 "nbformat": 4,
 "nbformat_minor": 2
}
