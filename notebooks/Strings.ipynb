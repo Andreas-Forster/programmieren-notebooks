{
 "cells": [
  {
   "cell_type": "markdown",
   "metadata": {},
   "source": [
    "# Zeichen und Strings"
   ]
  },
  {
   "cell_type": "code",
   "execution_count": 1,
   "metadata": {},
   "outputs": [],
   "source": [
    "%mavenRepo bintray https://dl.bintray.com/egp/maven\n",
    "%maven ch.unibas.informatik:jturtle:0.5"
   ]
  },
  {
   "cell_type": "code",
   "execution_count": 5,
   "metadata": {},
   "outputs": [],
   "source": [
    "import ch.unibas.informatik.jturtle.Turtle;"
   ]
  },
  {
   "cell_type": "markdown",
   "metadata": {},
   "source": [
    "## Zeichen"
   ]
  },
  {
   "cell_type": "markdown",
   "metadata": {},
   "source": [
    "Zeichen entsprechen in Java einem besonderen Typ, nämlich dem Typ ```char```. Die Zeichen selbst werden in Hochkommas ``` '' ``` gestellt:"
   ]
  },
  {
   "cell_type": "code",
   "execution_count": 17,
   "metadata": {},
   "outputs": [],
   "source": [
    "char c = 'a'"
   ]
  },
  {
   "cell_type": "markdown",
   "metadata": {},
   "source": [
    "Es erstaunt uns nicht, dass die folgende Zeile den in c gespeicherten Buchstaben ausgibt:"
   ]
  },
  {
   "cell_type": "code",
   "execution_count": 18,
   "metadata": {},
   "outputs": [
    {
     "name": "stdout",
     "output_type": "stream",
     "text": [
      "a\n"
     ]
    }
   ],
   "source": [
    "System.out.println(c);"
   ]
  },
  {
   "cell_type": "markdown",
   "metadata": {},
   "source": [
    "Intern sind Zeichen aber wieder nur als Zahlen repräsentiert. Folgendes ist also gültig:"
   ]
  },
  {
   "cell_type": "code",
   "execution_count": 20,
   "metadata": {},
   "outputs": [],
   "source": [
    "int c = 'a'"
   ]
  },
  {
   "cell_type": "code",
   "execution_count": 22,
   "metadata": {},
   "outputs": [
    {
     "name": "stdout",
     "output_type": "stream",
     "text": [
      "97\n"
     ]
    }
   ],
   "source": [
    "System.out.println(c)"
   ]
  },
  {
   "cell_type": "markdown",
   "metadata": {},
   "source": [
    "Wir sehen, dass der Buchstabe 'a' dem Zahlenwert 97 entspricht. "
   ]
  },
  {
   "cell_type": "markdown",
   "metadata": {},
   "source": [
    "Umgekehrt können wir einem Typ Character auch eine Zahl zuweisen:"
   ]
  },
  {
   "cell_type": "code",
   "execution_count": 26,
   "metadata": {},
   "outputs": [],
   "source": [
    "char c = 97;"
   ]
  },
  {
   "cell_type": "code",
   "execution_count": 27,
   "metadata": {},
   "outputs": [
    {
     "name": "stdout",
     "output_type": "stream",
     "text": [
      "a\n"
     ]
    }
   ],
   "source": [
    "System.out.println(c);"
   ]
  },
  {
   "cell_type": "markdown",
   "metadata": {},
   "source": [
    "#### Miniübung: \n",
    "\n",
    "* Geben Sie die Zeichen aus, die den Zahlen 0 bis 1000 entsprechen. "
   ]
  },
  {
   "cell_type": "markdown",
   "metadata": {},
   "source": [
    "In der Klasse ```Character``` sind verschiedene Funktionen Zusammengefasst, die wir häufig brauchen, wenn wir mit Zeichen arbeiten. Zum Beispiel gibt es Funktionen um zu unterscheiden, ob ein Zeichen einem Gross- oder \n",
    "Kleinbuchstaben entspricht:"
   ]
  },
  {
   "cell_type": "code",
   "execution_count": 31,
   "metadata": {},
   "outputs": [
    {
     "data": {
      "text/plain": [
       "true"
      ]
     },
     "execution_count": 31,
     "metadata": {},
     "output_type": "execute_result"
    }
   ],
   "source": [
    "Character.isUpperCase('A');"
   ]
  },
  {
   "cell_type": "markdown",
   "metadata": {},
   "source": [
    "Zudem gibt es Methoden, um Zeichen zu konvertieren: Zum Beispiel können wir einen Kleinbuchstaben in einen Grossbuchstaben umwandeln"
   ]
  },
  {
   "cell_type": "code",
   "execution_count": 34,
   "metadata": {},
   "outputs": [
    {
     "data": {
      "text/plain": [
       "A"
      ]
     },
     "execution_count": 34,
     "metadata": {},
     "output_type": "execute_result"
    }
   ],
   "source": [
    "Character.toUpperCase('a');"
   ]
  },
  {
   "cell_type": "markdown",
   "metadata": {},
   "source": [
    "#### Miniübung:\n",
    "\n",
    "* Experimentieren Sie mit den Methoden in der Klasse ```Character```. Eine Liste aller Methoden erhalten Sie, wenn Sie ```Character.``` in eine Codezelle schreiben und danach die *Tab* Taste drücken. "
   ]
  },
  {
   "cell_type": "markdown",
   "metadata": {},
   "source": [
    "Natürlich können wir nicht nur einzelne Character betrachten, sondern auch Arrays von Character:"
   ]
  },
  {
   "cell_type": "code",
   "execution_count": 42,
   "metadata": {},
   "outputs": [],
   "source": [
    "char[] cs = {'a', 'b', 'c', 'd'};"
   ]
  },
  {
   "cell_type": "markdown",
   "metadata": {},
   "source": [
    "Folgendes Beispiel zeigt, wie man damit eine einfache Textsuche implementieren kann."
   ]
  },
  {
   "cell_type": "markdown",
   "metadata": {},
   "source": [
    "#### Beispiel: Textsuche"
   ]
  },
  {
   "cell_type": "markdown",
   "metadata": {},
   "source": [
    "Unsere Textsuche bekommt zwei Argumente: Einen Text, sowie ein Muster, welches gesucht werden soll. \n",
    "Die Idee hinter dem Algorithmus ist einfach: Wenn immer der Anfangsbuchstabe im Text gefunden wird, werden die nachfolgenden Zeichen im Muster verglichen. "
   ]
  },
  {
   "cell_type": "code",
   "execution_count": 59,
   "metadata": {},
   "outputs": [],
   "source": [
    "static int search (char[] t, char[] pat) { \n",
    "    int last = t.length - pat.length; \n",
    "    for (int i = 0; i <= last; i++) {\n",
    "        if (t[ i] == pat[ 0]) {\n",
    "            int j = 1; \n",
    "            while (j < pat.length && pat[ j] == t[ i+ j]) {\n",
    "              j++;             \n",
    "            }\n",
    "            if (j == pat.length) {\n",
    "              return i;\n",
    "            }\n",
    "         }\n",
    "     }\n",
    "\n",
    "    return -1;   // not found\n",
    "}\n"
   ]
  },
  {
   "cell_type": "markdown",
   "metadata": {},
   "source": [
    "####  Miniübung\n",
    "\n",
    "* Testen Sie diesen Algorithmus"
   ]
  },
  {
   "cell_type": "code",
   "execution_count": null,
   "metadata": {},
   "outputs": [],
   "source": []
  },
  {
   "cell_type": "markdown",
   "metadata": {},
   "source": [
    "## Strings"
   ]
  },
  {
   "cell_type": "markdown",
   "metadata": {},
   "source": [
    "Erklären von beiden Schreibweisen"
   ]
  },
  {
   "cell_type": "code",
   "execution_count": 67,
   "metadata": {},
   "outputs": [],
   "source": [
    "String s = new String(\"abc\");\n",
    "String s2 = \"abc\";"
   ]
  },
  {
   "cell_type": "markdown",
   "metadata": {},
   "source": [
    "Wir sehen nun, dass der Vergleich"
   ]
  },
  {
   "cell_type": "code",
   "execution_count": 68,
   "metadata": {},
   "outputs": [
    {
     "data": {
      "text/plain": [
       "false"
      ]
     },
     "execution_count": 68,
     "metadata": {},
     "output_type": "execute_result"
    }
   ],
   "source": [
    "s == s2"
   ]
  },
  {
   "cell_type": "code",
   "execution_count": 70,
   "metadata": {},
   "outputs": [
    {
     "data": {
      "text/plain": [
       "true"
      ]
     },
     "execution_count": 70,
     "metadata": {},
     "output_type": "execute_result"
    }
   ],
   "source": [
    "s.equals(s2)"
   ]
  },
  {
   "cell_type": "code",
   "execution_count": 73,
   "metadata": {},
   "outputs": [
    {
     "data": {
      "text/plain": [
       "Hello world"
      ]
     },
     "execution_count": 73,
     "metadata": {},
     "output_type": "execute_result"
    }
   ],
   "source": [
    "String s1 = \"Hello \";\n",
    "String s2 = \"world\";\n",
    "s1 + s2;"
   ]
  },
  {
   "cell_type": "markdown",
   "metadata": {},
   "source": [
    "#### Miniübung:\n",
    "\n",
    "\n",
    "* Explorieren Sie welche Methoden Sie auf Strings zur Verfügung haben. Sie erhalten eine Liste der Methoden indem sie in einer Codezelle ein String Objekt mit anschliessenden Punkt schreiben (also z.b ```\"abc\".```)\n",
    "* Mit welcher Methode \n",
    "    * können Sie einen Teilstring erhalten?\n",
    "    * können Sie in einem String alle Leerzeichen durch \"_\" ersetzen?\n",
    "    * finden Sie heraus ob ein String mit \"!\" endet?\n",
    "    * können Sie herausfinden an welcher Stelle der Teilstring \"abc\" vorkommt?"
   ]
  },
  {
   "cell_type": "markdown",
   "metadata": {},
   "source": [
    "### Aufbauen von Strings"
   ]
  },
  {
   "cell_type": "markdown",
   "metadata": {},
   "source": [
    "Text die StringBuffer erklären"
   ]
  },
  {
   "cell_type": "code",
   "execution_count": 75,
   "metadata": {},
   "outputs": [],
   "source": [
    "StringBuffer sb = new StringBuffer();"
   ]
  },
  {
   "cell_type": "markdown",
   "metadata": {},
   "source": [
    "#### Beispiel: Zahl in String konvertieren"
   ]
  },
  {
   "cell_type": "code",
   "execution_count": 74,
   "metadata": {},
   "outputs": [],
   "source": [
    "static String valueOf (int n) {\n",
    "    char[] a = new char[ 20];\n",
    "    int i = 0;\n",
    "    do {\n",
    "        \n",
    "a[ i] = (char) (n % 10 + '0');\n",
    "        n = n / 10;\n",
    "        i++;\n",
    "      \n",
    "\n",
    "    } while (n > 0);\n",
    "    StringBuffer b = new StringBuffer();\n",
    "    \n",
    "   do {\n",
    "        i--;\n",
    "        b. append( a[ i]);\n",
    "  } while (i > 0 );     \n",
    "\n",
    "\n",
    "   \n",
    "   return b. toString();\n",
    "}\n"
   ]
  },
  {
   "cell_type": "code",
   "execution_count": null,
   "metadata": {},
   "outputs": [],
   "source": [
    "\n"
   ]
  }
 ],
 "metadata": {
  "kernelspec": {
   "display_name": "Java",
   "language": "java",
   "name": "java"
  },
  "language_info": {
   "codemirror_mode": "java",
   "file_extension": ".jshell",
   "mimetype": "text/x-java-source",
   "name": "Java",
   "pygments_lexer": "java",
   "version": "11.0.3+7"
  }
 },
 "nbformat": 4,
 "nbformat_minor": 2
}
