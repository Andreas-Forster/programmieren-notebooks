{
 "cells": [
  {
   "cell_type": "markdown",
   "metadata": {},
   "source": [
    "# Zeichen und Strings"
   ]
  },
  {
   "cell_type": "markdown",
   "metadata": {},
   "source": [
    "## Zeichen"
   ]
  },
  {
   "cell_type": "markdown",
   "metadata": {},
   "source": [
    "Zeichen entsprechen in Java einem besonderen Typ, nämlich dem Typ ```char```. Die Zeichen selbst werden in Hochkommas ``` '' ``` gestellt:"
   ]
  },
  {
   "cell_type": "code",
   "execution_count": null,
   "metadata": {},
   "outputs": [],
   "source": [
    "char c = 'a';"
   ]
  },
  {
   "cell_type": "markdown",
   "metadata": {},
   "source": [
    "Es erstaunt uns nicht, dass die folgende Zeile den in ```c``` gespeicherten Buchstaben ausgibt:"
   ]
  },
  {
   "cell_type": "code",
   "execution_count": null,
   "metadata": {},
   "outputs": [],
   "source": [
    "System.out.println(c);"
   ]
  },
  {
   "cell_type": "markdown",
   "metadata": {},
   "source": [
    "Intern sind Zeichen aber wieder nur als Zahlen repräsentiert. Folgendes ist also gültig:"
   ]
  },
  {
   "cell_type": "code",
   "execution_count": null,
   "metadata": {},
   "outputs": [],
   "source": [
    "int c = 'a'"
   ]
  },
  {
   "cell_type": "code",
   "execution_count": null,
   "metadata": {},
   "outputs": [],
   "source": [
    "System.out.println(c)"
   ]
  },
  {
   "cell_type": "markdown",
   "metadata": {},
   "source": [
    "Wir sehen, dass der Buchstabe 'a' dem Zahlenwert 97 entspricht. "
   ]
  },
  {
   "cell_type": "markdown",
   "metadata": {},
   "source": [
    "Umgekehrt können wir einem Typ Character auch eine Zahl zuweisen:"
   ]
  },
  {
   "cell_type": "code",
   "execution_count": null,
   "metadata": {},
   "outputs": [],
   "source": [
    "char c = 111;"
   ]
  },
  {
   "cell_type": "code",
   "execution_count": null,
   "metadata": {},
   "outputs": [],
   "source": [
    "System.out.println(c);"
   ]
  },
  {
   "cell_type": "markdown",
   "metadata": {},
   "source": [
    "#### Miniübung: \n",
    "\n",
    "* Geben Sie die Zeichen aus, die den Zahlen 0 bis 1000 entsprechen. "
   ]
  },
  {
   "cell_type": "markdown",
   "metadata": {},
   "source": [
    "In der Klasse ```Character``` sind verschiedene Funktionen zusammengefasst, die wir häufig brauchen wenn wir mit Zeichen arbeiten. Zum Beispiel gibt es Funktionen um zu unterscheiden, ob ein Zeichen einem Gross- oder \n",
    "Kleinbuchstaben entspricht:"
   ]
  },
  {
   "cell_type": "code",
   "execution_count": null,
   "metadata": {},
   "outputs": [],
   "source": [
    "Character.isUpperCase('A');"
   ]
  },
  {
   "cell_type": "markdown",
   "metadata": {},
   "source": [
    "Zudem gibt es Methoden, um Zeichen zu konvertieren: Zum Beispiel können wir einen Kleinbuchstaben in einen Grossbuchstaben umwandeln"
   ]
  },
  {
   "cell_type": "code",
   "execution_count": null,
   "metadata": {},
   "outputs": [],
   "source": [
    "Character.toUpperCase('a');"
   ]
  },
  {
   "cell_type": "markdown",
   "metadata": {},
   "source": [
    "#### Miniübung:\n",
    "\n",
    "* Experimentieren Sie mit den Methoden in der Klasse ```Character```. Eine Liste aller Methoden erhalten Sie, wenn Sie ```Character.``` in eine Codezelle schreiben und danach die *Tab* Taste drücken. "
   ]
  },
  {
   "cell_type": "markdown",
   "metadata": {},
   "source": [
    "Natürlich können wir nicht nur einzelne Character betrachten, sondern auch Arrays von Character:"
   ]
  },
  {
   "cell_type": "code",
   "execution_count": null,
   "metadata": {},
   "outputs": [],
   "source": [
    "char[] cs = {'a', 'b', 'c', 'd'};"
   ]
  },
  {
   "cell_type": "markdown",
   "metadata": {},
   "source": [
    "Folgendes Beispiel zeigt, wie man damit eine einfache Textsuche implementieren kann."
   ]
  },
  {
   "cell_type": "markdown",
   "metadata": {},
   "source": [
    "#### Beispiel: Textsuche"
   ]
  },
  {
   "cell_type": "markdown",
   "metadata": {},
   "source": [
    "Unsere Textsuche bekommt zwei Argumente: Einen Text, sowie ein Muster, welches gesucht werden soll. \n",
    "Die Idee hinter dem Algorithmus ist einfach: Wenn immer der Anfangsbuchstabe im Text gefunden wird, werden die nachfolgenden Zeichen im Muster verglichen. "
   ]
  },
  {
   "cell_type": "code",
   "execution_count": null,
   "metadata": {},
   "outputs": [],
   "source": [
    "static int search (char[] t, char[] pat) { \n",
    "    int last = t.length - pat.length; \n",
    "    for (int i = 0; i <= last; i++) {\n",
    "        if (t[ i] == pat[ 0]) {\n",
    "            int j = 1; \n",
    "            while (j < pat.length && pat[ j] == t[ i+ j]) {\n",
    "              j++;             \n",
    "            }\n",
    "            if (j == pat.length) {\n",
    "              return i;\n",
    "            }\n",
    "         }\n",
    "     }\n",
    "\n",
    "    return -1;   // not found\n",
    "}"
   ]
  },
  {
   "cell_type": "markdown",
   "metadata": {},
   "source": [
    "####  Miniübung\n",
    "\n",
    "* Testen Sie diesen Algorithmus"
   ]
  },
  {
   "cell_type": "code",
   "execution_count": null,
   "metadata": {},
   "outputs": [],
   "source": []
  },
  {
   "cell_type": "markdown",
   "metadata": {},
   "source": [
    "## Strings"
   ]
  },
  {
   "cell_type": "markdown",
   "metadata": {},
   "source": [
    "Als nächstes schauen wir uns Strings an. Strings sind geordnete Zeichenfolgen von Charactern. Strings sind eine der wichtigsten Datenstrukturen in der Programmierung. Deshalb werden Sie von Java auch mit spezieller Syntax unterstützt. "
   ]
  },
  {
   "cell_type": "markdown",
   "metadata": {},
   "source": [
    "Um einen String zu deklarieren schreiben wir:"
   ]
  },
  {
   "cell_type": "code",
   "execution_count": null,
   "metadata": {},
   "outputs": [],
   "source": [
    "String s;"
   ]
  },
  {
   "cell_type": "markdown",
   "metadata": {},
   "source": [
    "Wir können dieser nun wie folgt einen Wert zuweisen:"
   ]
  },
  {
   "cell_type": "code",
   "execution_count": null,
   "metadata": {},
   "outputs": [],
   "source": [
    "s = \"Das ist ein String\";"
   ]
  },
  {
   "cell_type": "markdown",
   "metadata": {},
   "source": [
    "Alternativ können wir auch folgende Syntax nutzen um einen String zu erstellen. "
   ]
  },
  {
   "cell_type": "code",
   "execution_count": null,
   "metadata": {},
   "outputs": [],
   "source": [
    "s = new String(\"Das ist ein String\");"
   ]
  },
  {
   "cell_type": "markdown",
   "metadata": {},
   "source": [
    "#### Vergleiche von Strings"
   ]
  },
  {
   "cell_type": "markdown",
   "metadata": {},
   "source": [
    "Beim Vergleich von Strings müssen wir etwas vorsichtig sein. Wie folgendes Beispiel zeigt, können wir Strings nicht einfach mit ```==``` auf Gleichheit prüfen:"
   ]
  },
  {
   "cell_type": "code",
   "execution_count": null,
   "metadata": {},
   "outputs": [],
   "source": [
    "s == s2"
   ]
  },
  {
   "cell_type": "code",
   "execution_count": null,
   "metadata": {},
   "outputs": [],
   "source": [
    "s.equals(s2)"
   ]
  },
  {
   "cell_type": "code",
   "execution_count": null,
   "metadata": {},
   "outputs": [],
   "source": [
    "String s1 = \"Hello \";\n",
    "String s2 = \"world\";\n",
    "s1 + s2;"
   ]
  },
  {
   "cell_type": "markdown",
   "metadata": {},
   "source": [
    "#### Miniübung:\n",
    "\n",
    "\n",
    "* Explorieren Sie welche Methoden Sie auf Strings zur Verfügung haben. Sie erhalten eine Liste der Methoden indem sie in einer Codezelle ein String Objekt mit anschliessenden Punkt schreiben (also z.b ```\"abc\".```)\n",
    "* Mit welcher Methode \n",
    "    * können Sie einen Teilstring erhalten?\n",
    "    * können Sie in einem String alle Leerzeichen durch \"_\" ersetzen?\n",
    "    * finden Sie heraus ob ein String mit \"!\" endet?\n",
    "    * können Sie herausfinden an welcher Stelle der Teilstring \"abc\" vorkommt?"
   ]
  },
  {
   "cell_type": "code",
   "execution_count": null,
   "metadata": {},
   "outputs": [],
   "source": [
    "// Ihre Lösungen"
   ]
  },
  {
   "cell_type": "markdown",
   "metadata": {},
   "source": [
    "### Aufbauen von Strings"
   ]
  },
  {
   "cell_type": "markdown",
   "metadata": {},
   "source": [
    "Wir haben bereits gesehen, dass wir neue Strings durch Konkatenation von bestehenden Strings erstellen können:"
   ]
  },
  {
   "cell_type": "code",
   "execution_count": null,
   "metadata": {},
   "outputs": [],
   "source": [
    "String longString = \"erster, \" + \"zweiter, \"+ \" und dritter \" +\"Teilstring\""
   ]
  },
  {
   "cell_type": "markdown",
   "metadata": {},
   "source": [
    "Wenn wir einen sehr langen String aus vielen einzelnen Teilstrings erstellen wollen, wird diese Methode aber ineffizient. Deshalb gibt es in Java eine weitere Möglichkeits Strings inkrementell zu erstellen, nämliche den StringBuffer."
   ]
  },
  {
   "cell_type": "markdown",
   "metadata": {},
   "source": [
    "Ein Stringbuffer wird wie folgt erstellt:"
   ]
  },
  {
   "cell_type": "code",
   "execution_count": null,
   "metadata": {},
   "outputs": [],
   "source": [
    "StringBuffer sb = new StringBuffer();"
   ]
  },
  {
   "cell_type": "markdown",
   "metadata": {},
   "source": [
    "Nun können wir durch Aufruf der Methode ```append``` jeweils Teilstrings hinzufügen:"
   ]
  },
  {
   "cell_type": "code",
   "execution_count": null,
   "metadata": {},
   "outputs": [],
   "source": [
    "sb.append(\"erster, \");\n",
    "sb.append(\"zweiter, \");\n",
    "sb.append(\" und dritter \");\n",
    "sb.append(\"Teilstring\");"
   ]
  },
  {
   "cell_type": "markdown",
   "metadata": {},
   "source": [
    "Der endgültige String wird erst erstellt, wenn wir die Methode ```toString``` aufrufen."
   ]
  },
  {
   "cell_type": "code",
   "execution_count": null,
   "metadata": {},
   "outputs": [],
   "source": [
    "String longString = sb.toString()"
   ]
  },
  {
   "cell_type": "markdown",
   "metadata": {},
   "source": [
    "#### Beispiel: Zahl in String konvertieren"
   ]
  },
  {
   "cell_type": "markdown",
   "metadata": {},
   "source": [
    "Als Anwendungsbeispiel schauen wir uns eine Methode an, die eine gegebene Ganzzahl in einen String konvertiert. Dabei werden zuerst alle Zahlen in einem Characterarray gespeichert, und danach wird mittels einem Stringbuffer die richtige Ordnung hergestellt."
   ]
  },
  {
   "cell_type": "code",
   "execution_count": null,
   "metadata": {},
   "outputs": [],
   "source": [
    "static String valueOf (int n) {\n",
    "    char[] a = new char[ 20];\n",
    "    int i = 0;\n",
    "   \n",
    "    do {        \n",
    "        a[i] = (char) (n % 10 + '0');\n",
    "        n = n / 10;\n",
    "        i++;    \n",
    "    } while (n > 0);\n",
    "    \n",
    "    StringBuffer sb = new StringBuffer();\n",
    "    \n",
    "    do {\n",
    "        i--;\n",
    "        sb.append( a[i]);\n",
    "    } while (i > 0 );     \n",
    "\n",
    "    return sb.toString();\n",
    "}\n"
   ]
  },
  {
   "cell_type": "code",
   "execution_count": null,
   "metadata": {},
   "outputs": [],
   "source": [
    "String numberAsString = valueOf(100);\n",
    "System.out.println(numberAsString);"
   ]
  },
  {
   "cell_type": "markdown",
   "metadata": {},
   "source": [
    "#### Miniübung\n",
    "\n",
    "* Schreiben Sie die Methode ```valueOf``` so um, dass nur noch Stringkonkatenation statt des Stringbuffer verwendet wird.\n",
    "    * Brauchen Sie beide Schleifen oder können Sie es auch mit nur einer schreiben?\n"
   ]
  },
  {
   "cell_type": "code",
   "execution_count": null,
   "metadata": {},
   "outputs": [],
   "source": []
  }
 ],
 "metadata": {
  "kernelspec": {
   "display_name": "Java",
   "language": "java",
   "name": "java"
  },
  "language_info": {
   "codemirror_mode": "java",
   "file_extension": ".jshell",
   "mimetype": "text/x-java-source",
   "name": "Java",
   "pygments_lexer": "java",
   "version": "11.0.3+7"
  }
 },
 "nbformat": 4,
 "nbformat_minor": 2
}
