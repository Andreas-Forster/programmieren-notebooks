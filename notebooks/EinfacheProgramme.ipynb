{
 "cells": [
  {
   "cell_type": "markdown",
   "metadata": {},
   "source": [
    "# Einfache Programme"
   ]
  },
  {
   "cell_type": "markdown",
   "metadata": {},
   "source": [
    "#### Setup der Bibliotheken in Jupyter"
   ]
  },
  {
   "cell_type": "markdown",
   "metadata": {},
   "source": [
    "*Die folgenden zwei Codezeilen sind spezielle Kommandos für Jupyter notebooks, die benötigt werden um die Turtle Bibliothek verfügbar zu machen. Diese entsprechen nicht gültigem Java Code. Sie müssen auch nicht im Detail verstehen, was hier passiert.*"
   ]
  },
  {
   "cell_type": "code",
   "execution_count": null,
   "metadata": {},
   "outputs": [],
   "source": [
    "%mavenRepo bintray https://dl.bintray.com/egp/maven\n",
    "%maven ch.unibas.informatik:jturtle:0.5"
   ]
  },
  {
   "cell_type": "code",
   "execution_count": null,
   "metadata": {},
   "outputs": [],
   "source": [
    "import ch.unibas.informatik.jturtle.Turtle;"
   ]
  },
  {
   "cell_type": "markdown",
   "metadata": {},
   "source": [
    "## Kommentare"
   ]
  },
  {
   "cell_type": "markdown",
   "metadata": {},
   "source": [
    "Java unterscheidet zwei Arten von Kommentare:\n",
    "\n",
    "1. Zeilenendekommentare ```//```, die von der aktuellen Position bis zum Ende alles auskommentieren\n",
    "2. Klammerkommentare ```/* ... */```, welche allen Code zwischen ```/*``` und ```*/``` als Kommentar betrachtet. \n",
    "\n",
    "Alles was nicht zwischen diesen Kommentarzeichen steht, wird als gültiger Java Code betrachtet. Das folgende Textstück wird also als Java Code betrachtet und kann nicht ausgeführt werden. "
   ]
  },
  {
   "cell_type": "code",
   "execution_count": null,
   "metadata": {},
   "outputs": [],
   "source": [
    "Dies gibt beim Kompilieren einen Fehler"
   ]
  },
  {
   "cell_type": "markdown",
   "metadata": {},
   "source": [
    "Die folgenden zwei Zeilen können von Java erfolgreich kompiliert werden, da Java diese als Kommentare versteht. "
   ]
  },
  {
   "cell_type": "code",
   "execution_count": null,
   "metadata": {},
   "outputs": [],
   "source": [
    "/* Dies gibt beim Kompilieren keinen Fehler */"
   ]
  },
  {
   "cell_type": "code",
   "execution_count": null,
   "metadata": {},
   "outputs": [],
   "source": [
    "// Und dies auch nicht"
   ]
  },
  {
   "cell_type": "markdown",
   "metadata": {},
   "source": [
    "*Hinweis: In Jupyter Notebooks werden nur die Zellen die mit* In [..] *gekennzeichnet sind von Java ausgewertet. Alle anderen Zellen dienen nur der Dokumentation. Deshalb können wir in Jupyter Notebooks auch Text schreiben, ohne diesen in spezielle Klammern zu setzen. In normalem Java Code ist dies aber nicht möglich.*"
   ]
  },
  {
   "cell_type": "markdown",
   "metadata": {},
   "source": [
    "#### Mini Übung\n",
    "\n",
    "* Die folgenden Codestücke sollen kommentiert werden, so dass nur noch \"Hello\" ausgegeben wird?\n",
    "    * Welche Art von Kommentar (```/* */``` oder ```//```) ist dafür besser geeignet?\n",
    "    * Weshalb ist beim letzten Codestück die Kommentarsetzung nicht ideal?\n",
    "    "
   ]
  },
  {
   "cell_type": "code",
   "execution_count": null,
   "metadata": {},
   "outputs": [],
   "source": [
    "System.out.println(\"Hello\" + \" world\");"
   ]
  },
  {
   "cell_type": "code",
   "execution_count": null,
   "metadata": {},
   "outputs": [],
   "source": [
    "String s = \"Hello\";\n",
    "s = s + \" world\"; // Mit + werden zwei Strings konkateniert\n",
    "System.out.println(s);"
   ]
  },
  {
   "cell_type": "code",
   "execution_count": null,
   "metadata": {},
   "outputs": [],
   "source": [
    "String s = \"Hello \";\n",
    "\n",
    "s = s + \"w\"; /* Erster Kommentar */\n",
    "s = s + \"o\"; /* Zweiter Kommentar */\n",
    "s = s + \"r\"; /* Dritter Kommentar */\n",
    "s = s + \"l\"; /* Vierter Kommentar */\n",
    "s = s + \"d\"; /* Fünfter Kommentar */\n",
    "\n",
    "System.out.println(s);"
   ]
  },
  {
   "cell_type": "markdown",
   "metadata": {},
   "source": [
    "## Zuweisungen und arithmetische Funktionen"
   ]
  },
  {
   "cell_type": "markdown",
   "metadata": {},
   "source": [
    "Im Folgenden schauen wir uns an, wie wir mit Variablen arbeiten und einfache Programme schreiben können. Durch das Arbeiten mit Variablen können wir Programme allgemeiner schreiben und von konkreten Beispielen abstrahieren. \n",
    "Als Beispiel nehmen wir die Berechnung der Hypothenuse eines rechtwinkligen Dreiecks. Anstatt die Berechnung direkt mit konkreten Werten durchzuführen, können wir Variablen einführen und die Formel dann allgemein hinschreiben. "
   ]
  },
  {
   "cell_type": "markdown",
   "metadata": {},
   "source": [
    "#### Beispiel: Satz von Pythagoras"
   ]
  },
  {
   "cell_type": "markdown",
   "metadata": {},
   "source": [
    "Als erstes definieren wir uns zwei Variablen, die den Seitenlängen des Dreicks entsprechen:"
   ]
  },
  {
   "cell_type": "code",
   "execution_count": null,
   "metadata": {},
   "outputs": [],
   "source": [
    "double a = 3;\n",
    "double b = 4;"
   ]
  },
  {
   "cell_type": "markdown",
   "metadata": {},
   "source": [
    "Nun wissen wir vom Satz von Pythagoras, dass die Länge der Hypothenuse $c$ mit der Formel $c^2 = a^2 + b^2$ berechnet werden kann."
   ]
  },
  {
   "cell_type": "code",
   "execution_count": null,
   "metadata": {},
   "outputs": [],
   "source": [
    "double aSquared = a * a;\n",
    "double bSquared = b * b;\n",
    "double cSquared = aSquared + bSquared;"
   ]
  },
  {
   "cell_type": "markdown",
   "metadata": {},
   "source": [
    "Um ```c``` zu erhalten müssen wir noch die Wurzel ziehen. Dafür stellt uns Java die Funktion ```Math.sqrt``` zur Verfügung. "
   ]
  },
  {
   "cell_type": "code",
   "execution_count": null,
   "metadata": {},
   "outputs": [],
   "source": [
    "double c = Math.sqrt(cSquared);"
   ]
  },
  {
   "cell_type": "markdown",
   "metadata": {},
   "source": [
    "Die Werte der Variablen können wir dies mit dem Befehl ```System.out.println(variable)``` ausgeben lassen."
   ]
  },
  {
   "cell_type": "code",
   "execution_count": null,
   "metadata": {},
   "outputs": [],
   "source": [
    "System.out.println(c);"
   ]
  },
  {
   "cell_type": "markdown",
   "metadata": {},
   "source": [
    "#### Mini Übung\n",
    "\n",
    "* Definieren Sie eine Variable mit dem Namen ```z``` die nur ganze Zahlen enthalten kann und weisen Sie dieser den Wert 3 zu. \n",
    "* Was passiert, wenn Sie statt ```3``` den Wert ```3.0``` zuordnen?\n",
    "* Wie müssen Sie den Typ ändern, damit die Zuweisung ```z = 3.0``` funktioniert?\n"
   ]
  },
  {
   "cell_type": "code",
   "execution_count": null,
   "metadata": {},
   "outputs": [],
   "source": [
    "// Schreiben Sie Ihre Lösungen hier hin. Neue Zellen können Sie mit Alt + Enter hinzufügen. "
   ]
  },
  {
   "cell_type": "markdown",
   "metadata": {},
   "source": [
    "# Verzweigung"
   ]
  },
  {
   "cell_type": "markdown",
   "metadata": {},
   "source": [
    "Im Programmieren muss man oft zwischen verschiedenen Fällen unterscheiden. Dafür können wir die ```if else``` Anweisung benutzen. Als erstes Beispiel schauen wir uns ein Programm an, das entscheidet ob die Variable ```z``` einen positiven oder negativen Wert beinhaltet. "
   ]
  },
  {
   "cell_type": "code",
   "execution_count": null,
   "metadata": {},
   "outputs": [],
   "source": [
    "int z = 5;"
   ]
  },
  {
   "cell_type": "code",
   "execution_count": null,
   "metadata": {},
   "outputs": [],
   "source": [
    "if (z > 0) {\n",
    "    System.out.println(\"z is a positive number\");\n",
    "} else {\n",
    "    System.out.println(\"z is a negative number\");\n",
    "}"
   ]
  },
  {
   "cell_type": "markdown",
   "metadata": {},
   "source": [
    "#### Mini-Übung:\n",
    "- Was passiert für z = 0? \n",
    "- Fügen Sie eine neue ```if``` Anweisung hinzu, die bei eingabe von 0 den Text ```z is zero``` ausgegibt. "
   ]
  },
  {
   "cell_type": "markdown",
   "metadata": {},
   "source": [
    "### Maximum dreier Zahlen"
   ]
  },
  {
   "cell_type": "markdown",
   "metadata": {},
   "source": [
    "Als weiteres Beispiel schauen wir uns an, wie wir das Maximum von drei Zahlen berechnen können. Schematisch sieht dies wie folgt aus. "
   ]
  },
  {
   "cell_type": "markdown",
   "metadata": {},
   "source": [
    "![flowchart](images/max-flowchart.png)"
   ]
  },
  {
   "cell_type": "markdown",
   "metadata": {},
   "source": [
    "In Java Code, kann dieses Schema wie folgt umgesetzt werden. "
   ]
  },
  {
   "cell_type": "code",
   "execution_count": null,
   "metadata": {},
   "outputs": [],
   "source": [
    "int a = 1;\n",
    "int b = 11;\n",
    "int c = 9;"
   ]
  },
  {
   "cell_type": "code",
   "execution_count": null,
   "metadata": {},
   "outputs": [],
   "source": [
    "int max = 0;\n",
    "if (a > b) {        \n",
    "    if (a > c) {    \n",
    "        max = a;\n",
    "    } else {\n",
    "        max = c;    \n",
    "    }    \n",
    "} else {\n",
    "    if (b > c) {    \n",
    "        max = b;\n",
    "    } else {        \n",
    "        max = c;\n",
    "    }\n",
    "}"
   ]
  },
  {
   "cell_type": "code",
   "execution_count": null,
   "metadata": {},
   "outputs": [],
   "source": [
    "System.out.println(max);"
   ]
  },
  {
   "cell_type": "markdown",
   "metadata": {},
   "source": [
    "#### Mini Übung\n",
    "* Schreiben Sie zu jedem If und Else Zweig die zusammengesetzte Bedingung als Kommentar hin."
   ]
  },
  {
   "cell_type": "markdown",
   "metadata": {},
   "source": [
    "In längeren Programmen kommt es häufig vor, dass sich eine komplexe Anweisungsfolge nur in kleinen Teilen unterscheidet. Dies ist in folgendem Programm illustriert, wo wir mal wieder die Turtle Grafik verwenden. "
   ]
  },
  {
   "cell_type": "code",
   "execution_count": null,
   "metadata": {},
   "outputs": [],
   "source": [
    "boolean hasChimney = true;"
   ]
  },
  {
   "cell_type": "code",
   "execution_count": null,
   "metadata": {},
   "outputs": [],
   "source": [
    "Turtle t = new Turtle();\n",
    "\n",
    "// head\n",
    "t.home();\n",
    "t.penDown();\n",
    "t.backward(50);\n",
    "t.forward(50);\n",
    "t.turnRight(45);\n",
    "t.forward(50);\n",
    "t.turnRight(90);\n",
    "t.forward(20);\n",
    "\n",
    "if (hasChimney == true) {\n",
    "    t.turnLeft(135);\n",
    "    t.forward(10);\n",
    "    t.turnRight(90);\n",
    "    t.forward(10);\n",
    "    t.turnRight(90);\n",
    "    t.forward(20);\n",
    "    t.turnLeft(45);    \n",
    "} else {\n",
    "    t.forward(15);\n",
    "}\n",
    "\n",
    "t.forward(15);\n",
    "t.turnRight(45);\n",
    "t.forward(50);\n",
    "t.turnRight(90);\n",
    "t.forward(70);\n",
    "\n",
    "t.toImage();"
   ]
  },
  {
   "cell_type": "markdown",
   "metadata": {},
   "source": [
    "#### Mini Übung:\n",
    "\n",
    "* Fügen Sie eine Verzweigung ein, die ein Fenster zeichnet, wenn eine Variable ```hasWindow``` auf true gesetzt ist.\n",
    "* Führen Sie Variablen ein um die Zeichnung zu parametrisieren (Höhe des Kamins, etc.)"
   ]
  },
  {
   "cell_type": "markdown",
   "metadata": {},
   "source": [
    "# Schleifen"
   ]
  },
  {
   "cell_type": "markdown",
   "metadata": {},
   "source": [
    "Das nächste wichtige Konstrukt im Programmieren sind die Schleifen. Damit lassen sich Befehle beliebig oft wiederholen. "
   ]
  },
  {
   "cell_type": "markdown",
   "metadata": {},
   "source": [
    "Als erstes schauen wir uns die *for-Schleife* an, die wir immer dann einsetzen können, wenn wir die Anzahl Iterationen kennen. Ein einfaches Beispiel ist das Zeichnen eines Vierecks"
   ]
  },
  {
   "cell_type": "code",
   "execution_count": null,
   "metadata": {},
   "outputs": [],
   "source": [
    "Turtle turtle = new Turtle();\n",
    "int sideLength = 80;\n",
    "turtle.penDown();\n",
    "for (int i = 0; i < 4; i++) {\n",
    "    turtle.forward( sideLength );\n",
    "    turtle.turnRight(90);\n",
    "}\n",
    "turtle.toImage();"
   ]
  },
  {
   "cell_type": "markdown",
   "metadata": {},
   "source": [
    "#### Mini-Übung\n",
    "\n",
    "* Verallgemeinern Sie den Code, so dass Sie ein n-Eck zeichnen können. (n soll eine Variable sein)\n",
    "* Können Sie einen Kreis zeichnen?"
   ]
  },
  {
   "cell_type": "markdown",
   "metadata": {},
   "source": [
    "Oft wissen wir nicht genau, wie oft wir etwas durchführen wollen. Wir iterieren, bis eine bestimmte Bedingung erfüllt ist. Dafür verwenden wir die *While-Schleife*. Im folgenden Beispiel wird gezeigt, wie wir eine Spirale zeichnen können. Wir wechseln so lange die Richtung, bis der Winkel zu klein wird. "
   ]
  },
  {
   "cell_type": "code",
   "execution_count": null,
   "metadata": {},
   "outputs": [],
   "source": [
    "Turtle turtle = new Turtle();\n",
    "turtle.penColor(java.awt.Color.BLACK);\n",
    "turtle.penDown();\n",
    "double dist = 2.0;\n",
    "double turn = 90;\n",
    "\n",
    "while (turn > 1.0) {\n",
    "    turtle.forward(dist);\n",
    "    turtle.turnRight(turn);\n",
    "    turn = turn * 0.99;\n",
    "}\n",
    "turtle.toImage()"
   ]
  },
  {
   "cell_type": "markdown",
   "metadata": {},
   "source": [
    "Natürlich können wir Schleifen auch ineinander verschachteln, wie folgendes Programm zeigt, welches das kleine 1 mal 1 berechnet. "
   ]
  },
  {
   "cell_type": "code",
   "execution_count": null,
   "metadata": {},
   "outputs": [],
   "source": [
    "for (int i = 1; i <= 9; i++) {\n",
    "    System.out.print(i);\n",
    "    System.out.print(\"er Reihe: \");\n",
    "    for (int j = 1; j <= 9; j++) {\n",
    "        System.out.print(i * j);\n",
    "        System.out.print(\" \");\n",
    "    }\n",
    "    System.out.println(\"\");\n",
    "}"
   ]
  },
  {
   "cell_type": "markdown",
   "metadata": {},
   "source": [
    "Mit (verschachtelten) Schleifen können wir mit wenig Code sehr komplexe Verhalten programmieren. Das folgende Programm gibt einen visuellen Eindruck davon:"
   ]
  },
  {
   "cell_type": "code",
   "execution_count": null,
   "metadata": {},
   "outputs": [],
   "source": [
    "Turtle turtle = new Turtle();\n",
    "turtle.penColor(java.awt.Color.BLACK);\n",
    "turtle.penDown();\n",
    "\n",
    "\n",
    "int x = 0;\n",
    "for (int i = 0; i < 150; i = i + 1) {\n",
    "    for (int j = 0; j < 5; j = j + 1) {\n",
    "        turtle.forward(20);\n",
    "        turtle.turnRight(60);\n",
    "    }\n",
    "    turtle.forward(50);\n",
    "    turtle.turnRight(11);\n",
    "}\n",
    "\n",
    "turtle.toImage();"
   ]
  },
  {
   "cell_type": "markdown",
   "metadata": {},
   "source": [
    "#### Mini Übung\n",
    "\n",
    "* Welches Muster zeichnet der Innere Loop?\n",
    "* Experimentieren Sie verschiedenen Parametern um andere Muster zu erzeugen"
   ]
  },
  {
   "cell_type": "code",
   "execution_count": null,
   "metadata": {},
   "outputs": [],
   "source": []
  },
  {
   "cell_type": "markdown",
   "metadata": {},
   "source": [
    "#### Beispiel: Geometrische Reihe"
   ]
  },
  {
   "cell_type": "markdown",
   "metadata": {},
   "source": [
    "Als letztes Beispiel schauen wir uns noch ein Beispiel aus der Mathematik an. Wir berechnen den Wert der geometrische Reihe $\\sum_{i=0}^n 1 / i$. In diesem Beispiel nutzen wir verschiedene Typen von Variablen. Für den Zähler nutzen wir eine Variable vom Typ ```int```, da der Zähler ja nur Ganzzahlen entsprechen kann. Für das Speichern der Summe nutzen wir in diesem Fall eine Variable vom Typ ```float```. Wir hätten aber auch eine Variable vom Typ ```double``` verwenden können. "
   ]
  },
  {
   "cell_type": "code",
   "execution_count": null,
   "metadata": {},
   "outputs": [],
   "source": [
    "float sum = 0;\n",
    "int n = 10;\n",
    "\n",
    "for (int i = n; i > 0; i--) {\n",
    "    sum = sum + 1f / i;\n",
    "}\n",
    "\n",
    "System.out. println(\" sum = \" + sum);"
   ]
  },
  {
   "cell_type": "markdown",
   "metadata": {},
   "source": [
    "#### Mini Übung\n",
    "\n",
    "Was würden folgende Ausdrücke liefern, wenn Sie satt ```1f /i``` \n",
    "\n",
    "1.  ```1/i``` \n",
    "2. ```1.0 / i```\n",
    "\n",
    "schreiben würden?"
   ]
  }
 ],
 "metadata": {
  "kernelspec": {
   "display_name": "Java",
   "language": "java",
   "name": "java"
  },
  "language_info": {
   "codemirror_mode": "java",
   "file_extension": ".jshell",
   "mimetype": "text/x-java-source",
   "name": "Java",
   "pygments_lexer": "java",
   "version": "11.0.3+7"
  }
 },
 "nbformat": 4,
 "nbformat_minor": 2
}
