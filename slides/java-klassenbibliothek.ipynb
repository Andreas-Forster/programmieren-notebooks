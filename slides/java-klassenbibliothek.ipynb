{
 "cells": [
  {
   "cell_type": "markdown",
   "metadata": {
    "slideshow": {
     "slide_type": "slide"
    }
   },
   "source": [
    "# Auszüge aus der Java Klassenbibliothek\n",
    "\n",
    "#### Marcel Lüthi <br/> Departement Mathematik und Informatik"
   ]
  },
  {
   "cell_type": "markdown",
   "metadata": {
    "slideshow": {
     "slide_type": "slide"
    }
   },
   "source": [
    "\n",
    "# Agenda\n",
    "\n",
    "* Collections\n",
    "* Streams\n",
    "* Weitere nützliche Pakete.\n"
   ]
  },
  {
   "cell_type": "markdown",
   "metadata": {
    "slideshow": {
     "slide_type": "slide"
    }
   },
   "source": [
    "# Collections"
   ]
  },
  {
   "cell_type": "markdown",
   "metadata": {
    "slideshow": {
     "slide_type": "slide"
    }
   },
   "source": [
    "# Collections\n",
    "\n",
    "> *Collections* fassen Objekte (Elements) zusammen\n",
    "\n",
    "* Beispiele:\n",
    "    * Schulklasse (Gruppe von Schülern)\n",
    "    * Einkaufsliste (Sammlung von Lebensmitteln)\n",
    "\n",
    "\n",
    "* Auf Instanzen beliebiger Klassen anwendbar (Generic)"
   ]
  },
  {
   "cell_type": "markdown",
   "metadata": {
    "slideshow": {
     "slide_type": "slide"
    }
   },
   "source": [
    "# Wichtigste Collections\n",
    "\n",
    "![collections](./images/collections.png)"
   ]
  },
  {
   "cell_type": "markdown",
   "metadata": {
    "slideshow": {
     "slide_type": "slide"
    }
   },
   "source": [
    "# Methoden von Collections\n",
    "\n",
    "<a href=\"https://docs.oracle.com/javase/8/docs/api/index.html?java/util/Collection.html\"> <img src=\"./images/collection-api.png\"/></a>"
   ]
  },
  {
   "cell_type": "markdown",
   "metadata": {
    "slideshow": {
     "slide_type": "slide"
    }
   },
   "source": [
    "<div style=\"float:left;width:50%\">\n",
    "\n",
    "<h1> Interface List </h1>\n",
    "<ul>\n",
    "    <li> Geordnet </li>\n",
    "    <li> Erlaubt Duplikate </li>\n",
    "</ul>\n",
    "\n",
    "<h4> Beispiele </h4>\n",
    "\n",
    "<ul>\n",
    "    <li> ArrayList </li>\n",
    "    <li> LinkedList </li>\n",
    "</ul>\n",
    "</div>\n",
    "<div style=\"float:right;width:50%\">\n",
    "\n",
    "<h1> Interface Set </h1>\n",
    "<ul>\n",
    "    <li> Ungeordnet </li>\n",
    "    <li> Enthält jedes Element nur einmal </li>\n",
    "</ul>\n",
    "\n",
    "<h4> Beispiele </h4>\n",
    "\n",
    "<ul>\n",
    "    <li> HashSet </li>\n",
    "    <li> TreeSet </li>\n",
    "</ul>\n",
    "</div>"
   ]
  },
  {
   "cell_type": "markdown",
   "metadata": {
    "slideshow": {
     "slide_type": "slide"
    }
   },
   "source": [
    "# Beispiel: Unterschied List/Set"
   ]
  },
  {
   "cell_type": "code",
   "execution_count": null,
   "metadata": {},
   "outputs": [],
   "source": [
    "String[] fruits = {\"Banana\", \"Apple\", \"Mango\", \"Apple\"};\n",
    "\n",
    "List<String> fruitList = new ArrayList<>();\n",
    "Set<String> fruitSet = new HashSet<>();\n",
    "\n",
    "for (String fruit : fruits) {\n",
    "    fruitList.add(fruit);\n",
    "    fruitSet.add(fruit);\n",
    "}\n",
    "System.out.println(\"fruitList: \"+ fruitList);\n",
    "System.out.println(\"fruitSet: \"+ fruitSet);\n"
   ]
  },
  {
   "cell_type": "markdown",
   "metadata": {
    "slideshow": {
     "slide_type": "slide"
    }
   },
   "source": [
    "# Interface Iterable\n",
    "\n",
    "* Die meisten Collections implementieren das ```Iterable``` interface\n",
    "\n",
    "* Wichtigste Methoden: \n",
    "    * ```void forEach(Consumer<? super T> action)``` : \n",
    "    * ```Iterator<T> iterator()```\n",
    "* Erlaubt \"Iterator-form\" des for loops:\n",
    "   * also: ```for (T t : ts) {}```"
   ]
  },
  {
   "cell_type": "markdown",
   "metadata": {
    "slideshow": {
     "slide_type": "slide"
    }
   },
   "source": [
    "# Methode forEach \n",
    "\n",
    "\n",
    "> ```void forEach(Consumer<? super T> action)```\n",
    ">\n",
    "> mit Consumer\n",
    ">\n",
    "> ``` interface Consumer<T> void accept(T t); } ```\n",
    "\n",
    "* Consumer ist ein *FunctionalInterface* \n",
    "    * Action kann lambda Ausdruck sein. \n",
    "* Action wird für jedes Element der Collection ausgeführt (konsumiert)\n",
    " "
   ]
  },
  {
   "cell_type": "markdown",
   "metadata": {
    "slideshow": {
     "slide_type": "slide"
    }
   },
   "source": [
    "# Beispiel\n",
    "\n",
    "* Ausgeben von jedem Element der Liste.\n",
    "\n",
    "Consumer:"
   ]
  },
  {
   "cell_type": "code",
   "execution_count": null,
   "metadata": {},
   "outputs": [],
   "source": [
    "Consumer<String> printElement = f -> System.out.println(f);"
   ]
  },
  {
   "cell_type": "markdown",
   "metadata": {},
   "source": [
    "Ausgabe:"
   ]
  },
  {
   "cell_type": "code",
   "execution_count": null,
   "metadata": {},
   "outputs": [],
   "source": [
    "fruitList.forEach(printElement);"
   ]
  },
  {
   "cell_type": "markdown",
   "metadata": {
    "slideshow": {
     "slide_type": "slide"
    }
   },
   "source": [
    "# Iterator\n",
    "\n",
    "* Sequentielles durchlaufen einer Kollektion\n",
    "* Wichtigste Methoden:\n",
    "    * ```boolean hasNext()```\n",
    "    * ```T next()```\n",
    "\n",
    "\n",
    "### Beispiel"
   ]
  },
  {
   "cell_type": "code",
   "execution_count": null,
   "metadata": {},
   "outputs": [],
   "source": [
    "Iterator<String> it = fruitList.iterator();\n",
    "while (it.hasNext()) {\n",
    "    System.out.println(it.next());\n",
    "}"
   ]
  },
  {
   "cell_type": "markdown",
   "metadata": {
    "slideshow": {
     "slide_type": "slide"
    }
   },
   "source": [
    "# Intermezzo: Iterable selber bauen\n",
    "\n",
    "> Wir können eigene Klasse bauen, die ```Iterable``` implementiert.\n",
    ">    * Eigene Klasse unterstützt Iterator-form for loops\n",
    "\n",
    "Beispiel: Klasse die über die Zahlen 1,2,3 iteriert."
   ]
  },
  {
   "cell_type": "code",
   "execution_count": null,
   "metadata": {},
   "outputs": [],
   "source": [
    "class Iterable123 implements Iterable<Integer> {\n",
    "    class Iterator123 implements Iterator<Integer> {\n",
    "        int i = 0;\n",
    "    \n",
    "        public boolean hasNext() { if (i < 3) return true; else return false; }\n",
    "        public Integer next() { i = i + 1; return i; }    \n",
    "    }\n",
    "    \n",
    "    public Iterator<Integer> iterator() { return new Iterator123(); }\n",
    "}\n",
    "\n",
    "Iterable123 iterable = new Iterable123();\n",
    "\n",
    "for (Integer i : iterable) { \n",
    "    System.out.println(i);\n",
    "}"
   ]
  },
  {
   "cell_type": "markdown",
   "metadata": {
    "slideshow": {
     "slide_type": "slide"
    }
   },
   "source": [
    "# Maps\n",
    "\n",
    "Map ist ähnlich wie ```Set```, aber:\n",
    "\n",
    "* Verlinkt zwei Objekte: *Key* und *Value* (z.B. Produkte mit ihren Preisen)\n",
    "* Stammt nicht vom Collection Interface ab (z.B. put statt add)\n",
    "* ```get``` eines Elements via *Key*\n"
   ]
  },
  {
   "cell_type": "markdown",
   "metadata": {
    "slideshow": {
     "slide_type": "slide"
    }
   },
   "source": [
    "# Maps - Hierarchie\n",
    "\n",
    "![maps](./images/maps.png)"
   ]
  },
  {
   "cell_type": "markdown",
   "metadata": {
    "slideshow": {
     "slide_type": "slide"
    }
   },
   "source": [
    "# Beispiel"
   ]
  },
  {
   "cell_type": "code",
   "execution_count": null,
   "metadata": {},
   "outputs": [],
   "source": [
    "Map<String, Double> prices = new HashMap<>();\n",
    "\n",
    "prices.put(\"Banana\", 1.5);\n",
    "prices.put(\"Apple\", 1.0);\n",
    "prices.put(\"Mango\", 2.5);\n",
    "\n",
    "System.out.println(\"Price of a Mango \" +prices.get(\"Mango\"));"
   ]
  },
  {
   "cell_type": "markdown",
   "metadata": {
    "slideshow": {
     "slide_type": "fragment"
    }
   },
   "source": [
    "#### Übungen\n",
    "* Was passiert wenn man einen Schlüssel zweimal (mit unterschiedlichem Wert) einfügt\n",
    "* Schreiben Sie einen for-loop, der alle Preise ausgibt.\n",
    "    * Tip: Die Schlüssel erhalten Sie via der Methode ```keySet```\n",
    "* Wie ändert sich die Ausgabe, wenn Sie eine TreeMap verwenden?"
   ]
  },
  {
   "cell_type": "code",
   "execution_count": null,
   "metadata": {
    "scrolled": true
   },
   "outputs": [],
   "source": []
  },
  {
   "cell_type": "markdown",
   "metadata": {
    "slideshow": {
     "slide_type": "slide"
    }
   },
   "source": [
    "# Kollektionen: Beispiel\n",
    "\n",
    "* Mögliche Modellierung eines \"Früchteladens\"\n",
    "\n",
    "```java\n",
    "import java.util.*;\n",
    "\n",
    "public class FruitShop {\n",
    "\n",
    "\tHashMap<String, Double> prices = new HashMap<String, Double>();\n",
    "\t\n",
    "\tHashSet<Fruit> products = new HashSet<Fruit>();\t\t\n",
    "\n",
    "\tQueue<Person> customers = new Queue<Person>();\n",
    "}\n",
    "\n",
    "```"
   ]
  },
  {
   "cell_type": "markdown",
   "metadata": {
    "slideshow": {
     "slide_type": "slide"
    }
   },
   "source": [
    "# Streams"
   ]
  },
  {
   "cell_type": "markdown",
   "metadata": {
    "slideshow": {
     "slide_type": "slide"
    }
   },
   "source": [
    "# Streams\n",
    "\n",
    "> Funktionaler Ansatz um Elemente zu prozessieren\n",
    "\n",
    "* Aus allen Collection kann mit Methode ```stream ``` ein ```Stream``` Objekt erzeugt werden\n",
    "\n",
    "* Wichtige Methoden\n",
    "    * ```map``` \n",
    "    * ```filter``` \n",
    "    * ```reduce``` \n",
    "    * ...\n",
    "\n"
   ]
  },
  {
   "cell_type": "markdown",
   "metadata": {
    "slideshow": {
     "slide_type": "slide"
    }
   },
   "source": [
    "# Map\n",
    "\n",
    "Signatur (in Interface ```Stream<T>```)\n",
    "\n",
    "``` <R> Stream<R>  map(Function<T,R> mapper) ```` \n",
    " \n",
    "* Führt Funktion auf jedem Element vom Stream aus \n",
    "    * produziert neue Liste    "
   ]
  },
  {
   "cell_type": "markdown",
   "metadata": {
    "slideshow": {
     "slide_type": "slide"
    }
   },
   "source": [
    "# Beispiel: Map"
   ]
  },
  {
   "cell_type": "code",
   "execution_count": null,
   "metadata": {},
   "outputs": [],
   "source": [
    "\n",
    "Stream<String> newFruitStream = fruitList.stream().map(f -> f.toUpperCase());\n",
    "newFruitStream.forEach(f -> System.out.println(f));"
   ]
  },
  {
   "cell_type": "markdown",
   "metadata": {
    "slideshow": {
     "slide_type": "fragment"
    }
   },
   "source": [
    "#### Übung: \n",
    "\n",
    "* Nutzen Sie map um einen Stream von Ganzzahlen in einen Stream von Strings umzuwandlen\n",
    "    * Was ist der Typ von der Funktion ```mapper```"
   ]
  },
  {
   "cell_type": "code",
   "execution_count": null,
   "metadata": {},
   "outputs": [],
   "source": []
  },
  {
   "cell_type": "markdown",
   "metadata": {
    "slideshow": {
     "slide_type": "slide"
    }
   },
   "source": [
    "# Filter\n",
    "\n",
    "\n",
    "Signatur (in Interface ```Stream<T>```)\n",
    "\n",
    "``` <R> Stream<R>  filter(Predicate<T> filter) ```` \n",
    " \n",
    "* Gibt Stream mit allen Elementen ```e``` zurück für die gilt ```filter(e) == true```"
   ]
  },
  {
   "cell_type": "markdown",
   "metadata": {},
   "source": [
    "# Beispiel: Filter"
   ]
  },
  {
   "cell_type": "code",
   "execution_count": null,
   "metadata": {},
   "outputs": [],
   "source": [
    "Stream<String> newFruitStream = fruitList.stream().filter(f -> f.contains(\"n\"));\n",
    "newFruitStream.forEach(f -> System.out.println(f));"
   ]
  },
  {
   "cell_type": "markdown",
   "metadata": {
    "slideshow": {
     "slide_type": "slide"
    }
   },
   "source": [
    "# Komplexere Filter\n",
    "\n",
    "Prädikate können zu komplexen Filtern zusammengesetzt werden.\n",
    "\n",
    "#### Beispiel"
   ]
  },
  {
   "cell_type": "code",
   "execution_count": null,
   "metadata": {},
   "outputs": [],
   "source": [
    "\n",
    "import java.util.function.Predicate;\n",
    "\n",
    "Predicate<String> p1 = (String s) -> s.contains(\"n\");\n",
    "Predicate<String> p2 = (String s) -> s.contains(\"M\");\n",
    "Predicate<String> p3 = p1.and(p2).negate();\n",
    "\n",
    "fruitList.stream().filter(p3).forEach(f -> System.out.println(f));"
   ]
  },
  {
   "cell_type": "markdown",
   "metadata": {
    "slideshow": {
     "slide_type": "slide"
    }
   },
   "source": [
    "# Reduce\n",
    "\n",
    "Signatur (in Interface ```Stream<T>```)\n",
    "\n",
    "``` <R> Stream<R>  Reduce(T identity, BinaryOperator<T> accumulator) ```` \n",
    "\n",
    "* Zieht Element zusammen, durch ausführen von ```accumulator```\n",
    "* BinaryOperator ist ```FunctionalInterface``` mit zwei Argumenten vom selben Typ      "
   ]
  },
  {
   "cell_type": "markdown",
   "metadata": {
    "slideshow": {
     "slide_type": "slide"
    }
   },
   "source": [
    "# Beispiel: Reduce"
   ]
  },
  {
   "cell_type": "code",
   "execution_count": null,
   "metadata": {},
   "outputs": [],
   "source": [
    "import java.util.function.BinaryOperator;\n",
    "\n",
    "BinaryOperator<String> concat = (s, t) -> s + t;\n",
    "fruitList.stream().reduce(\"\", concat);"
   ]
  },
  {
   "cell_type": "markdown",
   "metadata": {
    "slideshow": {
     "slide_type": "fragment"
    }
   },
   "source": [
    "#### Übung\n",
    "\n",
    "* Schreiben Sie eine Funktion, die alle ungeraden Zahlen filtert, diese verdoppelt und dann aufaddiert."
   ]
  },
  {
   "cell_type": "code",
   "execution_count": null,
   "metadata": {},
   "outputs": [],
   "source": [
    "Integer sumDoubleOfOddNumbers(Stream<Integer> s) {\n",
    "      \n",
    "    return null; // Ihre Implementation\n",
    "    \n",
    "}\n",
    "\n",
    "// generiert stream mit allen Integern zwischen 0 und 100\n",
    "Stream<Integer> s = IntStream.range(0, 100).boxed();\n",
    "System.out.println(sumDoubleOfOddNumbers(s));"
   ]
  },
  {
   "cell_type": "markdown",
   "metadata": {
    "slideshow": {
     "slide_type": "slide"
    }
   },
   "source": [
    "# Weitere nützliche Pakete"
   ]
  },
  {
   "cell_type": "markdown",
   "metadata": {
    "slideshow": {
     "slide_type": "slide"
    }
   },
   "source": [
    "\n",
    "# java.net\n",
    "\n",
    "> Funktionalität um Netzwerk / Internet Anwendungen zu implementieren"
   ]
  },
  {
   "cell_type": "markdown",
   "metadata": {},
   "source": [
    "#### Beispiel"
   ]
  },
  {
   "cell_type": "code",
   "execution_count": null,
   "metadata": {},
   "outputs": [],
   "source": [
    "import java.net.*;"
   ]
  },
  {
   "cell_type": "code",
   "execution_count": null,
   "metadata": {},
   "outputs": [],
   "source": [
    "URL url = new URL(\"https://news.ycombinator.com\");\n",
    "\n",
    "HttpURLConnection connection = (HttpURLConnection) url.openConnection();\n",
    "InputStream is = connection.getInputStream();\n",
    "\n",
    "BufferedReader reader = new BufferedReader(new InputStreamReader(is));\n",
    "Stream<String> lines = reader.lines();\n",
    "String response = lines.reduce(\"\", (s,t) -> s + t);\n",
    "\n",
    "display(response,  \"text/html\");"
   ]
  },
  {
   "cell_type": "markdown",
   "metadata": {},
   "source": [
    "* Übung: Filtern Sie alle Zeilen, die den string \"points\" enthalten."
   ]
  },
  {
   "cell_type": "markdown",
   "metadata": {
    "slideshow": {
     "slide_type": "slide"
    }
   },
   "source": [
    "# java.text\n",
    "\n",
    "> Länderunabhängiges Formatieren von Text, Datum, Zahlenformaten\n",
    "\n",
    "#### Beispiel"
   ]
  },
  {
   "cell_type": "code",
   "execution_count": null,
   "metadata": {},
   "outputs": [],
   "source": [
    "import java.text.SimpleDateFormat;\n",
    "\n",
    "Date now = new Date();\n",
    "\n",
    "SimpleDateFormat format =   new SimpleDateFormat(\"EEE MMM dd HH:mm:ss zzz yyyy\");\n",
    "System.out.println(\" 3. \" + format.format(now))"
   ]
  },
  {
   "cell_type": "markdown",
   "metadata": {
    "slideshow": {
     "slide_type": "fragment"
    }
   },
   "source": [
    "#### Übung\n",
    "\n",
    "* Lesen Sie die [Dokumentation](https://docs.oracle.com/javase/8/docs/api/java/text/SimpleDateFormat.html) und ändern Sie das Muster so, dass zusätzlich auch Milisekunden ausgegeben werden"
   ]
  },
  {
   "cell_type": "markdown",
   "metadata": {
    "slideshow": {
     "slide_type": "slide"
    }
   },
   "source": [
    "# javax.imageio\n",
    "\n",
    "> Lesen und schreiben von Bildern\n",
    "\n",
    "#### Beispiel"
   ]
  },
  {
   "cell_type": "code",
   "execution_count": null,
   "metadata": {},
   "outputs": [],
   "source": [
    "import javax.imageio.ImageIO;\n",
    "import java.awt.image.BufferedImage;\n",
    "BufferedImage img = ImageIO.read(new File(\"./images/merry-christmas.jpg\"));\n",
    "\n",
    "img;\n"
   ]
  },
  {
   "cell_type": "code",
   "execution_count": null,
   "metadata": {},
   "outputs": [],
   "source": []
  }
 ],
 "metadata": {
  "celltoolbar": "Slideshow",
  "kernelspec": {
   "display_name": "Java",
   "language": "java",
   "name": "java"
  },
  "language_info": {
   "codemirror_mode": "java",
   "file_extension": ".java",
   "mimetype": "text/x-java-source",
   "name": "Java",
   "pygments_lexer": "java",
   "version": "10.0.1+10"
  }
 },
 "nbformat": 4,
 "nbformat_minor": 2
}
