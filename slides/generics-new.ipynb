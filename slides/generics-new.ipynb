{
 "cells": [
  {
   "cell_type": "markdown",
   "metadata": {
    "slideshow": {
     "slide_type": "slide"
    }
   },
   "source": [
    "# Generische Programmierung mit Generics\n",
    "\n",
    "#### Marcel Lüthi <br/> Departement Mathematik und Informatik"
   ]
  },
  {
   "cell_type": "markdown",
   "metadata": {
    "slideshow": {
     "slide_type": "slide"
    }
   },
   "source": [
    "# Motivation\n",
    "\n",
    "* Bisherige Lösung um Klassen für mehrere Typen verwendbar zu machen:\n",
    "    * Nutzung von Supertyp Objekt"
   ]
  },
  {
   "cell_type": "code",
   "execution_count": 1,
   "metadata": {},
   "outputs": [],
   "source": [
    "class Stack { \n",
    "    \n",
    "    private Object[] data = new Object[1000]; // Vereinfachung: Feste grösse\n",
    "    private int nElements = 0; // Anzahl Elemente im Stack\n",
    " \n",
    "    public void push(Object element) {\n",
    "        data[nElements] = element;     \n",
    "        nElements += 1;\n",
    "    }\n",
    "    \n",
    "    public Object pop() { \n",
    "        if (nElements <= 0) {\n",
    "            return null;\n",
    "        }\n",
    "        else {\n",
    "            nElements -= 1;\n",
    "            return data[nElements];\n",
    "       }\n",
    "    }\n",
    "    public int size() { return this.nElements; }\n",
    "}"
   ]
  },
  {
   "cell_type": "markdown",
   "metadata": {
    "slideshow": {
     "slide_type": "slide"
    }
   },
   "source": [
    "# Probleme\n",
    "\n",
    "* Wir brauchen explizite downcasts\n",
    "* Intent nicht klar\n",
    "    * Speichern wir Objekte oder Listen oder strings?\n",
    "* Nicht typesafe\n",
    "    * Fehler zur Laufzeit - Keine Hilfe von Compiler\n",
    "* Klassen müssen in Hierarchie gebracht werden\n",
    "    * Nicht möglich ohne Source Code"
   ]
  },
  {
   "cell_type": "code",
   "execution_count": 29,
   "metadata": {
    "slideshow": {
     "slide_type": "fragment"
    }
   },
   "outputs": [
    {
     "ename": "EvalException",
     "evalue": "java.base/java.lang.Integer cannot be cast to java.base/java.lang.String",
     "output_type": "error",
     "traceback": [
      "\u001b[1m\u001b[31m---------------------------------------------------------------------------\u001b[0m",
      "\u001b[1m\u001b[31mjava.lang.ClassCastException: java.base/java.lang.Integer cannot be cast to java.base/java.lang.String\u001b[0m",
      "\u001b[1m\u001b[31m\tat .(#21:1)\u001b[0m"
     ]
    }
   ],
   "source": [
    "Stack stack = new Stack();\n",
    "stack.push(\"abc\");\n",
    "stack.push(5);\n",
    "\n",
    "String s = (String) stack.pop();"
   ]
  },
  {
   "cell_type": "markdown",
   "metadata": {
    "slideshow": {
     "slide_type": "slide"
    }
   },
   "source": [
    "# Lösung: Java Generics"
   ]
  },
  {
   "cell_type": "code",
   "execution_count": 30,
   "metadata": {},
   "outputs": [],
   "source": [
    "class Stack<E> { \n",
    "    \n",
    "    private E[] data = (E[])new Object[1000];\n",
    "    private int nElements = 0; // Anzahl Elemente im Stack\n",
    " \n",
    " \n",
    "    public void push(E element) {\n",
    "        data[nElements] = element;     \n",
    "        nElements += 1;\n",
    "    }\n",
    "    \n",
    "    public E pop() { \n",
    "        if (nElements <= 0) {\n",
    "            return null;\n",
    "        }\n",
    "        else {\n",
    "            nElements -= 1;\n",
    "            return data[nElements];\n",
    "       }\n",
    "    }\n",
    "    public int size() { return this.nElements; }\n",
    "}"
   ]
  },
  {
   "cell_type": "markdown",
   "metadata": {
    "slideshow": {
     "slide_type": "slide"
    }
   },
   "source": [
    "# Nutzung des Generischen Stacks"
   ]
  },
  {
   "cell_type": "code",
   "execution_count": 22,
   "metadata": {},
   "outputs": [],
   "source": [
    "Stack<Integer> intStack = new Stack<Integer>();\n",
    "intStack.push(5);\n",
    "Integer a = intStack.pop();\n"
   ]
  },
  {
   "cell_type": "markdown",
   "metadata": {
    "slideshow": {
     "slide_type": "fragment"
    }
   },
   "source": [
    "### Alternative Syntax"
   ]
  },
  {
   "cell_type": "code",
   "execution_count": null,
   "metadata": {},
   "outputs": [],
   "source": [
    "Stack<Integer> intStack = new Stack<>();"
   ]
  },
  {
   "cell_type": "markdown",
   "metadata": {
    "slideshow": {
     "slide_type": "fragment"
    }
   },
   "source": [
    "#### Vorteile \n",
    "\n",
    "* Homogene Datenstruktur mit Compilezeit Typprüfung\n",
    "* Typsicherheit (keine Casts)"
   ]
  },
  {
   "cell_type": "markdown",
   "metadata": {
    "slideshow": {
     "slide_type": "slide"
    }
   },
   "source": [
    "# Terminologie\n",
    "\n",
    "<div style=\"width:60%\">\n",
    "<img src=\"images/generics-terminology.png\"/>\n",
    "</div>"
   ]
  },
  {
   "cell_type": "markdown",
   "metadata": {
    "slideshow": {
     "slide_type": "slide"
    }
   },
   "source": [
    "# Mehrere Platzhalter"
   ]
  },
  {
   "cell_type": "code",
   "execution_count": 21,
   "metadata": {
    "slideshow": {
     "slide_type": "slide"
    }
   },
   "outputs": [],
   "source": [
    "class Map<K, V> {\n",
    "\n",
    "    K[] keys = (K[]) new Object[1000];\n",
    "    V[] values = (V[]) new Object[1000];\n",
    "    int nElements = 0;\n",
    "\n",
    "    void put(K key, V value) {\n",
    "        keys[nElements] = key;\n",
    "        values[nElements] = value;\n",
    "        nElements += 1;\n",
    "    }\n",
    "\n",
    "    V get(K key) {\n",
    "        for (int i = 0; i < nElements; ++i) { \n",
    "            if (keys[i].equals(key)) { \n",
    "                return values[i];\n",
    "            }\n",
    "        }\n",
    "        return null;\n",
    "    }\n",
    "\n",
    "}"
   ]
  },
  {
   "cell_type": "markdown",
   "metadata": {
    "slideshow": {
     "slide_type": "slide"
    }
   },
   "source": [
    "# Anwendung von Map: Geburtstage speichern"
   ]
  },
  {
   "cell_type": "code",
   "execution_count": 27,
   "metadata": {},
   "outputs": [],
   "source": [
    "Map<String, Date> map = new Map<>();\n",
    "map.put(\"sonja\", new Date(10, 02, 2000));\n",
    "map.put(\"tom\", new Date(10, 02, 1997));\n",
    "map.put(\"leslie\", new Date(7, 05, 1999));\n",
    "\n",
    "Date tomsBirthday = map.get(\"tom\");"
   ]
  },
  {
   "cell_type": "markdown",
   "metadata": {
    "slideshow": {
     "slide_type": "slide"
    }
   },
   "source": [
    "# Type erasure\n",
    "\n",
    "* Generische Typen sind nur zur Kompilationszeit bekannt\n",
    "\n",
    "![erasure](images./generics-erasure.png)"
   ]
  },
  {
   "cell_type": "markdown",
   "metadata": {
    "slideshow": {
     "slide_type": "slide"
    }
   },
   "source": [
    "# Erzeugen von Objekten von Generischem Typ\n",
    "\n",
    "> Nicht möglich!\n",
    "\n",
    "* Keine Typinformation zur Laufzeit verfügbar."
   ]
  },
  {
   "cell_type": "code",
   "execution_count": 99,
   "metadata": {},
   "outputs": [
    {
     "ename": "CompilationException",
     "evalue": "",
     "output_type": "error",
     "traceback": [
      "\u001b[1m\u001b[30m|   \u001b[1m\u001b[30m    T t = new \u001b[0m\u001b[1m\u001b[30m\u001b[41mT\u001b[0m\u001b[1m\u001b[30m();\u001b[0m",
      "\u001b[1m\u001b[31munexpected type\u001b[0m",
      "\u001b[1m\u001b[31m  required: class\u001b[0m",
      "\u001b[1m\u001b[31m  found:    type parameter T\u001b[0m",
      ""
     ]
    }
   ],
   "source": [
    "class Foo<T> {\n",
    "    T t = new T();\n",
    "}"
   ]
  },
  {
   "cell_type": "code",
   "execution_count": null,
   "metadata": {},
   "outputs": [],
   "source": []
  },
  {
   "cell_type": "markdown",
   "metadata": {
    "slideshow": {
     "slide_type": "fragment"
    }
   },
   "source": [
    "* Hack für Arrays \n",
    "\n",
    "```E[] data = (E[])new Object[1000];```\n",
    "\n",
    "* Saubere Alternative: Factory\n"
   ]
  },
  {
   "cell_type": "markdown",
   "metadata": {
    "slideshow": {
     "slide_type": "slide"
    }
   },
   "source": [
    "# Factories\n",
    "\n",
    "* Factory sind einfache Klassen um Objekte zu erzeugen.\n",
    "* Saubere Alternative um Objekte von generischem Typ zu erzeugen\n",
    "* Verbreitetes Muster in der Softwareentwicklung "
   ]
  },
  {
   "cell_type": "code",
   "execution_count": 66,
   "metadata": {
    "slideshow": {
     "slide_type": "fragment"
    }
   },
   "outputs": [],
   "source": [
    "interface Factory<T> { \n",
    "    public T createInstance();\n",
    "}\n"
   ]
  },
  {
   "cell_type": "markdown",
   "metadata": {
    "slideshow": {
     "slide_type": "slide"
    }
   },
   "source": [
    "# Factory Implementation"
   ]
  },
  {
   "cell_type": "code",
   "execution_count": 67,
   "metadata": {
    "slideshow": {
     "slide_type": "slide"
    }
   },
   "outputs": [],
   "source": [
    "class IntegerFactory implements Factory<Integer> { \n",
    "    int value = 0; \n",
    "    public IntegerFactory(int i)  {\n",
    "        this.value = value;\n",
    "    }\n",
    "    public Integer createInstance() { \n",
    "        return new Integer(value);\n",
    "    }\n",
    "}"
   ]
  },
  {
   "cell_type": "markdown",
   "metadata": {},
   "source": [
    "* Entsprechend auch für Strings, Dates, ...."
   ]
  },
  {
   "cell_type": "markdown",
   "metadata": {},
   "source": [
    "# Nutzung der Factory"
   ]
  },
  {
   "cell_type": "code",
   "execution_count": 57,
   "metadata": {
    "slideshow": {
     "slide_type": "fragment"
    }
   },
   "outputs": [],
   "source": [
    "class Foo<T> {\n",
    "\n",
    "    T t = null;\n",
    "    \n",
    "    public Foo(Factory<T> factory) { \n",
    "        t = factory.createInstance();\n",
    "    }\n",
    "}"
   ]
  },
  {
   "cell_type": "code",
   "execution_count": 63,
   "metadata": {
    "slideshow": {
     "slide_type": "fragment"
    }
   },
   "outputs": [],
   "source": [
    "Foo<Integer> f = new Foo<>(new IntegerFactory(0));"
   ]
  },
  {
   "cell_type": "markdown",
   "metadata": {
    "slideshow": {
     "slide_type": "slide"
    }
   },
   "source": [
    "# Typeinschränkungen "
   ]
  },
  {
   "cell_type": "markdown",
   "metadata": {
    "slideshow": {
     "slide_type": "slide"
    }
   },
   "source": [
    "# Typeinschränkungen (Bounded type parameters)\n",
    "\n",
    "* Wir können Typeinschränkung auf generischen Parameter definieren\n",
    "* Beispiel: Typ sollte vergleichbar sein: ```class A<E extends Comparable>```\n",
    "    * Nur Subtypen von Comparable können als generische Typen benutzt werden.     \n",
    "* Mehrere Einschränkungen sind möglich\n",
    "* Beispiel: Typ sollte vergleichbar und serialisierbar sein: ```class A<E extends Comparable & Serializable>```"
   ]
  },
  {
   "cell_type": "markdown",
   "metadata": {
    "slideshow": {
     "slide_type": "slide"
    }
   },
   "source": [
    "# Beispiel"
   ]
  },
  {
   "cell_type": "code",
   "execution_count": 88,
   "metadata": {},
   "outputs": [],
   "source": [
    "class SortedList <E extends Comparable> {\n",
    "      E[] data = (E[]) new Comparable[1000];\n",
    "      int nElements = 0;\n",
    "\n",
    "      void add(E elem) {\n",
    "          int i = nElements - 1;\n",
    "          while (i >= 0 && elem.compareTo(data[i]) > 0) {  \n",
    "              data[i+1] = data[i];\n",
    "              i -= 1;  \n",
    "          }\n",
    "          data [i+1] = elem; \n",
    "          nElements++;\n",
    "     }\n",
    "}"
   ]
  },
  {
   "cell_type": "markdown",
   "metadata": {
    "slideshow": {
     "slide_type": "slide"
    }
   },
   "source": [
    "# Instanzierung \n",
    "\n",
    "Folgendes funktioniert:"
   ]
  },
  {
   "cell_type": "code",
   "execution_count": 96,
   "metadata": {},
   "outputs": [
    {
     "data": {
      "text/plain": [
       "REPL.$JShell$96D$SortedList@5fde2c20"
      ]
     },
     "execution_count": 96,
     "metadata": {},
     "output_type": "execute_result"
    }
   ],
   "source": [
    "new SortedList<Integer>();\n",
    "new SortedList<String>();\n",
    "new SortedList<Comparable>();"
   ]
  },
  {
   "cell_type": "markdown",
   "metadata": {},
   "source": [
    "Folgendes funktioniert nicht:"
   ]
  },
  {
   "cell_type": "code",
   "execution_count": 98,
   "metadata": {},
   "outputs": [
    {
     "ename": "CompilationException",
     "evalue": "",
     "output_type": "error",
     "traceback": [
      "\u001b[1m\u001b[30m|   \u001b[1m\u001b[30mnew SortedList<\u001b[0m\u001b[1m\u001b[30m\u001b[41mStack\u001b[0m\u001b[1m\u001b[30m> ();\u001b[0m",
      "\u001b[1m\u001b[31mtype argument Stack is not within bounds of type-variable E\u001b[0m",
      ""
     ]
    }
   ],
   "source": [
    "new SortedList<Stack> ();\n",
    "new SortedList<Object>();"
   ]
  },
  {
   "cell_type": "markdown",
   "metadata": {
    "slideshow": {
     "slide_type": "slide"
    }
   },
   "source": [
    "# Vererbung"
   ]
  },
  {
   "cell_type": "markdown",
   "metadata": {},
   "source": []
  }
 ],
 "metadata": {
  "celltoolbar": "Slideshow",
  "kernelspec": {
   "display_name": "Java",
   "language": "java",
   "name": "java"
  },
  "language_info": {
   "codemirror_mode": "java",
   "file_extension": ".java",
   "mimetype": "text/x-java-source",
   "name": "Java",
   "pygments_lexer": "java",
   "version": "10.0.1+10"
  }
 },
 "nbformat": 4,
 "nbformat_minor": 2
}
