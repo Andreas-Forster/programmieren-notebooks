{
 "cells": [
  {
   "cell_type": "markdown",
   "metadata": {
    "slideshow": {
     "slide_type": "slide"
    }
   },
   "source": [
    "# Generische Programmierung mit Generics\n",
    "\n",
    "#### Marcel Lüthi <br/> Departement Mathematik und Informatik"
   ]
  },
  {
   "cell_type": "markdown",
   "metadata": {
    "slideshow": {
     "slide_type": "slide"
    }
   },
   "source": [
    "# Agenda\n",
    "\n",
    "* Motivation\n",
    "* Java Generics\n",
    "* Type erasure und Rohtypen\n",
    "* Typeinschränkungen\n",
    "* Wildcards\n",
    "* Generische Methoden"
   ]
  },
  {
   "cell_type": "markdown",
   "metadata": {
    "slideshow": {
     "slide_type": "slide"
    }
   },
   "source": [
    "# Motivation\n",
    "\n",
    "* Bisherige Lösung um Klassen für mehrere Typen verwendbar zu machen:\n",
    "    * Nutzung von Supertyp Objekt"
   ]
  },
  {
   "cell_type": "code",
   "execution_count": null,
   "metadata": {},
   "outputs": [],
   "source": [
    "class Stack { \n",
    "    \n",
    "    private Object[] data = new Object[1000]; // Vereinfachung: Feste grösse\n",
    "    private int nElements = 0; // Anzahl Elemente im Stack\n",
    " \n",
    "    public void push(Object element) {\n",
    "        data[nElements] = element;     \n",
    "        nElements += 1;\n",
    "    }\n",
    "    \n",
    "    public Object pop() { \n",
    "        if (nElements <= 0) {\n",
    "            return null;\n",
    "        }\n",
    "        else {\n",
    "            nElements -= 1;\n",
    "            return data[nElements];\n",
    "       }\n",
    "    }\n",
    "    public int size() { return this.nElements; }\n",
    "}"
   ]
  },
  {
   "cell_type": "markdown",
   "metadata": {
    "slideshow": {
     "slide_type": "slide"
    }
   },
   "source": [
    "# Probleme\n",
    "\n",
    "* Wir brauchen explizite downcasts <br/> \n",
    "  ```Integer i = (Integer) stack.pop()```\n",
    "* Intention nicht klar\n",
    "    * Speichern wir Listen, Zahlen oder Strings?\n",
    "* Nicht typesafe\n",
    "    * Fehler zur Laufzeit - Keine Hilfe von Compiler"
   ]
  },
  {
   "cell_type": "code",
   "execution_count": null,
   "metadata": {
    "slideshow": {
     "slide_type": "fragment"
    }
   },
   "outputs": [],
   "source": [
    "Stack stack = new Stack();\n",
    "stack.push(\"abc\");\n",
    "stack.push(5);\n",
    "\n",
    "String s = (String) stack.pop();"
   ]
  },
  {
   "cell_type": "markdown",
   "metadata": {
    "slideshow": {
     "slide_type": "fragment"
    }
   },
   "source": [
    "* Klassen müssen in Hierarchie gebracht werden\n",
    "    * Nicht möglich ohne Source Code"
   ]
  },
  {
   "cell_type": "markdown",
   "metadata": {
    "slideshow": {
     "slide_type": "slide"
    }
   },
   "source": [
    "# Lösung: Java Generics"
   ]
  },
  {
   "cell_type": "code",
   "execution_count": null,
   "metadata": {},
   "outputs": [],
   "source": [
    "class Stack<E> { \n",
    "    \n",
    "    private E[] data = (E[])new Object[1000];\n",
    "    private int nElements = 0; // Anzahl Elemente im Stack\n",
    " \n",
    " \n",
    "    public void push(E element) {\n",
    "        data[nElements] = element;     \n",
    "        nElements += 1;\n",
    "    }\n",
    "    \n",
    "    public E pop() { \n",
    "        if (nElements <= 0) {\n",
    "            return null;\n",
    "        }\n",
    "        else {\n",
    "            nElements -= 1;\n",
    "            return data[nElements];\n",
    "       }\n",
    "    }\n",
    "    public int size() { return this.nElements; }\n",
    "}"
   ]
  },
  {
   "cell_type": "markdown",
   "metadata": {
    "slideshow": {
     "slide_type": "slide"
    }
   },
   "source": [
    "# Nutzung des Generischen Stacks"
   ]
  },
  {
   "cell_type": "code",
   "execution_count": null,
   "metadata": {},
   "outputs": [],
   "source": [
    "Stack<String> intStack = new Stack<String>();\n",
    "intStack.push(\"abc\");\n",
    "String a = intStack.pop();\n"
   ]
  },
  {
   "cell_type": "markdown",
   "metadata": {},
   "source": [
    "#### Miniübung\n",
    "* Erzeugen Sie einen Stack von Strings\n",
    "* Versuchen Sie ein Objekt vom falschen Typen auf den Stack zu legen"
   ]
  },
  {
   "cell_type": "markdown",
   "metadata": {
    "slideshow": {
     "slide_type": "slide"
    }
   },
   "source": [
    "# Java Generics\n",
    "\n",
    "### Alternative Syntax zur Erzeugung:\n",
    "\n",
    "```Stack<Integer> intStack = new Stack<>();```\n",
    "* Typ auf rechter Seite wird von Compiler erzeugt."
   ]
  },
  {
   "cell_type": "markdown",
   "metadata": {
    "slideshow": {
     "slide_type": "fragment"
    }
   },
   "source": [
    "### Vorteile von Java Generics\n",
    "\n",
    "* Homogene Datenstruktur mit Compilezeit Typprüfung\n",
    "* Typsicherheit (keine Casts)\n",
    "* Intention viel klarer."
   ]
  },
  {
   "cell_type": "markdown",
   "metadata": {
    "slideshow": {
     "slide_type": "slide"
    }
   },
   "source": [
    "# Terminologie\n",
    "\n",
    "<div style=\"width:60%;margin-top:2cm\">\n",
    "<img src=\"images/generics-terminology.png\"/>\n",
    "</div>"
   ]
  },
  {
   "cell_type": "markdown",
   "metadata": {
    "slideshow": {
     "slide_type": "slide"
    }
   },
   "source": [
    "# Mehrere Typparameter"
   ]
  },
  {
   "cell_type": "markdown",
   "metadata": {},
   "source": [
    "* Wir können beliebig viele Typparameter einführen\n",
    "\n",
    "#### Beispiel: Tuple Klasse"
   ]
  },
  {
   "cell_type": "code",
   "execution_count": null,
   "metadata": {
    "slideshow": {
     "slide_type": "-"
    }
   },
   "outputs": [],
   "source": [
    "class Tuple<T, U> {\n",
    "\n",
    "    private T first;\n",
    "    private U second;\n",
    "    \n",
    "    public Tuple(T first, U second) { \n",
    "        this.first = first;\n",
    "        this.second = second;\n",
    "    }\n",
    "    public T getFirst() { return this.first;}\n",
    "    public U getSecond() { return this.second; }\n",
    "}"
   ]
  },
  {
   "cell_type": "markdown",
   "metadata": {},
   "source": [
    "* Übung: Implementieren Sie die fehlenden Methoden"
   ]
  },
  {
   "cell_type": "markdown",
   "metadata": {
    "slideshow": {
     "slide_type": "slide"
    }
   },
   "source": [
    "# Anwendung von Tuple"
   ]
  },
  {
   "cell_type": "code",
   "execution_count": null,
   "metadata": {},
   "outputs": [],
   "source": [
    "Tuple<String, Date> t = new Tuple(\"Tom\", new Date(1970, 12, 31));\n",
    "System.out.println(\"the first element is: \" +t.getFirst());\n",
    "System.out.println(\"the second element is: \" +t.getSecond());"
   ]
  },
  {
   "cell_type": "markdown",
   "metadata": {
    "slideshow": {
     "slide_type": "slide"
    }
   },
   "source": [
    "# Type erasure und Rohtypen"
   ]
  },
  {
   "cell_type": "markdown",
   "metadata": {
    "slideshow": {
     "slide_type": "slide"
    }
   },
   "source": [
    "# Type erasure\n",
    "\n",
    "* Zur Kompilationszeit werden alle Typparameter ersetzt\n",
    "\n",
    "![erasure](images./generics-erasure.png)"
   ]
  },
  {
   "cell_type": "markdown",
   "metadata": {
    "slideshow": {
     "slide_type": "slide"
    }
   },
   "source": [
    "# Rohtypen\n",
    "\n",
    "* Rohtypen können auch in Zuweisungen verwendet werden:"
   ]
  },
  {
   "cell_type": "code",
   "execution_count": null,
   "metadata": {},
   "outputs": [],
   "source": [
    "Stack s = new Stack<Integer>();"
   ]
  },
  {
   "cell_type": "markdown",
   "metadata": {},
   "source": [
    "Achtung!\n",
    "```Stack``` ist nicht dasselbe wie ```Stack<Object>```\n",
    "\n",
    "Das funktioniert"
   ]
  },
  {
   "cell_type": "code",
   "execution_count": null,
   "metadata": {},
   "outputs": [],
   "source": [
    "Stack s = new Stack<Integer>();"
   ]
  },
  {
   "cell_type": "markdown",
   "metadata": {},
   "source": [
    "aber das nicht:"
   ]
  },
  {
   "cell_type": "code",
   "execution_count": null,
   "metadata": {},
   "outputs": [],
   "source": [
    "Stack<Object> s = new Stack<Integer>();"
   ]
  },
  {
   "cell_type": "markdown",
   "metadata": {
    "slideshow": {
     "slide_type": "slide"
    }
   },
   "source": [
    "> Rohtypen sind nur aus Kompatibilitätsgründen vorhanden \n",
    "> \n",
    "> Sollten nie verwendet werden!"
   ]
  },
  {
   "cell_type": "markdown",
   "metadata": {
    "slideshow": {
     "slide_type": "slide"
    }
   },
   "source": [
    "# Erzeugen von Objekten von Generischem Typ\n",
    "\n",
    "> Nicht möglich!"
   ]
  },
  {
   "cell_type": "code",
   "execution_count": null,
   "metadata": {},
   "outputs": [],
   "source": [
    "class Foo<T> {\n",
    "    T t = new T();\n",
    "}"
   ]
  },
  {
   "cell_type": "markdown",
   "metadata": {},
   "source": [
    "\n",
    "* Keine Typinformation zur Laufzeit verfügbar.\n",
    "    * Wie viel Speicher soll reserviert werden?"
   ]
  },
  {
   "cell_type": "markdown",
   "metadata": {
    "slideshow": {
     "slide_type": "slide"
    }
   },
   "source": [
    "# Erzeugen von generischen Arrays\n",
    "\n",
    "* Folgendes funktioniert nicht:"
   ]
  },
  {
   "cell_type": "code",
   "execution_count": null,
   "metadata": {},
   "outputs": [],
   "source": [
    "class Foo<T> {\n",
    "   T[] t = new T[100];\n",
    "}"
   ]
  },
  {
   "cell_type": "markdown",
   "metadata": {
    "slideshow": {
     "slide_type": "-"
    }
   },
   "source": [
    "* Funktionierender Hack!"
   ]
  },
  {
   "cell_type": "code",
   "execution_count": null,
   "metadata": {},
   "outputs": [],
   "source": [
    "class Foo<T> {\n",
    "   T[] arrayOfTs = (T[]) new Object[100];\n",
    "}"
   ]
  },
  {
   "cell_type": "markdown",
   "metadata": {
    "slideshow": {
     "slide_type": "slide"
    }
   },
   "source": [
    "# Saubere Lösung: Factories\n",
    "\n",
    "* Factory sind einfache Klassen um Objekte zu erzeugen.\n",
    "* Saubere Alternative um Objekte von generischem Typ zu erzeugen\n",
    "* Verbreitetes Muster in der Softwareentwicklung "
   ]
  },
  {
   "cell_type": "code",
   "execution_count": null,
   "metadata": {
    "slideshow": {
     "slide_type": "fragment"
    }
   },
   "outputs": [],
   "source": [
    "interface Factory<T> { \n",
    "    public T createInstance();\n",
    "}"
   ]
  },
  {
   "cell_type": "markdown",
   "metadata": {
    "slideshow": {
     "slide_type": "slide"
    }
   },
   "source": [
    "# Factory Implementation"
   ]
  },
  {
   "cell_type": "code",
   "execution_count": null,
   "metadata": {
    "slideshow": {
     "slide_type": "-"
    }
   },
   "outputs": [],
   "source": [
    "class IntegerFactory implements Factory<Integer> { \n",
    "    int value = 0; \n",
    "    public IntegerFactory(int i)  {\n",
    "        this.value = value;\n",
    "    }\n",
    "    public Integer createInstance() { \n",
    "        return new Integer(value);\n",
    "    }\n",
    "}"
   ]
  },
  {
   "cell_type": "markdown",
   "metadata": {},
   "source": [
    "* Entsprechend auch für Strings, Dates, Integer[], ..."
   ]
  },
  {
   "cell_type": "markdown",
   "metadata": {
    "slideshow": {
     "slide_type": "slide"
    }
   },
   "source": [
    "# Nutzung der Factory"
   ]
  },
  {
   "cell_type": "code",
   "execution_count": null,
   "metadata": {
    "slideshow": {
     "slide_type": "-"
    }
   },
   "outputs": [],
   "source": [
    "class Foo<T> {\n",
    "\n",
    "    T t = null;\n",
    "    \n",
    "    public Foo(Factory<T> factory) { \n",
    "        t = factory.createInstance();\n",
    "    }\n",
    "}"
   ]
  },
  {
   "cell_type": "code",
   "execution_count": null,
   "metadata": {
    "slideshow": {
     "slide_type": "fragment"
    }
   },
   "outputs": [],
   "source": [
    "Foo<Integer> f = new Foo<>(new IntegerFactory(0));"
   ]
  },
  {
   "cell_type": "markdown",
   "metadata": {
    "slideshow": {
     "slide_type": "slide"
    }
   },
   "source": [
    "# Übung\n",
    "\n",
    "* Schreiben Sie eine Factory die Arrays von Integern erzeugt \n",
    "* Instanzieren sie die Klasse Foo (aus voriger Slide) für Integer Arrays."
   ]
  },
  {
   "cell_type": "code",
   "execution_count": null,
   "metadata": {},
   "outputs": [],
   "source": [
    "class IntegerArrayFactory implements Factory<Integer[]> {\n",
    "    int size = 0;\n",
    "    public IntegerArrayFactory(int size) { this.size = size; }\n",
    "    \n",
    "    public Integer[] createInstance() {\n",
    "        return new Integer[size];\n",
    "    }\n",
    "}\n",
    "\n",
    "new Foo(new IntegerArrayFactory(100))"
   ]
  },
  {
   "cell_type": "markdown",
   "metadata": {
    "slideshow": {
     "slide_type": "slide"
    }
   },
   "source": [
    "# Typeinschränkungen "
   ]
  },
  {
   "cell_type": "markdown",
   "metadata": {
    "slideshow": {
     "slide_type": "slide"
    }
   },
   "source": [
    "# Typeinschränkungen (Bounded type parameters)\n",
    "\n",
    "* Wir können Typeinschränkung auf generischen Parameter definieren\n",
    "* Beispiel: Typ sollte vergleichbar sein: <br/>```class A<E extends Comparable>```\n",
    "    * Nur Subtypen von Comparable können als generische Typen benutzt werden.     \n",
    "* Mehrere Einschränkungen sind möglich\n",
    "* Beispiel: Typ sollte vergleichbar und serialisierbar sein: <br/>```class A<E extends Comparable & Serializable>```"
   ]
  },
  {
   "cell_type": "markdown",
   "metadata": {
    "slideshow": {
     "slide_type": "slide"
    }
   },
   "source": [
    "# Beispiel"
   ]
  },
  {
   "cell_type": "code",
   "execution_count": null,
   "metadata": {},
   "outputs": [],
   "source": [
    "class SortedList <E extends Comparable> {\n",
    "      E[] data = (E[]) new Comparable[1000];\n",
    "      int nElements = 0;\n",
    "\n",
    "      void add(E elem) {\n",
    "          int i = nElements - 1;\n",
    "          while (i >= 0 && elem.compareTo(data[i]) > 0) {  \n",
    "              data[i+1] = data[i];\n",
    "              i -= 1;  \n",
    "          }\n",
    "          data [i+1] = elem; \n",
    "          nElements++;          \n",
    "     }\n",
    "    \n",
    "}"
   ]
  },
  {
   "cell_type": "markdown",
   "metadata": {
    "slideshow": {
     "slide_type": "slide"
    }
   },
   "source": [
    "# Instanzierung \n",
    "\n",
    "Folgendes funktioniert:"
   ]
  },
  {
   "cell_type": "code",
   "execution_count": null,
   "metadata": {},
   "outputs": [],
   "source": [
    "new SortedList<Integer>();\n",
    "new SortedList<String>();\n",
    "new SortedList<Comparable>();"
   ]
  },
  {
   "cell_type": "markdown",
   "metadata": {},
   "source": [
    "Folgendes funktioniert nicht:"
   ]
  },
  {
   "cell_type": "code",
   "execution_count": null,
   "metadata": {},
   "outputs": [],
   "source": [
    "new SortedList<Stack> ();\n",
    "new SortedList<Object>();"
   ]
  },
  {
   "cell_type": "markdown",
   "metadata": {},
   "source": [
    "Grund: ```Stack``` und  ```Object``` sind nicht ```Comparable```"
   ]
  },
  {
   "cell_type": "markdown",
   "metadata": {
    "slideshow": {
     "slide_type": "slide"
    }
   },
   "source": [
    "# Vererbung"
   ]
  },
  {
   "cell_type": "markdown",
   "metadata": {},
   "source": [
    "Einfach zu begreifen, wenn Sie folgendes verinnerlicht haben.\n",
    "\n",
    "Für Klasse ```A<T>``` gilt:\n",
    "* ```A``` steht für *Rohtyp*\n",
    "    * Konkrete Klasse\n",
    "* ```A<T>``` ist:\n",
    "    * Konkrete Klasse für fixes T\n",
    "    * Generische Klasse wenn T Typparameter ist"
   ]
  },
  {
   "cell_type": "markdown",
   "metadata": {
    "slideshow": {
     "slide_type": "slide"
    }
   },
   "source": [
    "# Übung"
   ]
  },
  {
   "cell_type": "code",
   "execution_count": null,
   "metadata": {},
   "outputs": [],
   "source": [
    "class Foo<T> {}"
   ]
  },
  {
   "cell_type": "markdown",
   "metadata": {},
   "source": [
    "Welche dieser Statements funktioniert? Weshalb?"
   ]
  },
  {
   "cell_type": "code",
   "execution_count": null,
   "metadata": {},
   "outputs": [],
   "source": [
    "class Bar<A> extends Foo {}"
   ]
  },
  {
   "cell_type": "code",
   "execution_count": null,
   "metadata": {},
   "outputs": [],
   "source": [
    "class Bar<T> extends Foo<T> {}"
   ]
  },
  {
   "cell_type": "code",
   "execution_count": null,
   "metadata": {},
   "outputs": [],
   "source": [
    "class Baz extends Foo<T> {}"
   ]
  },
  {
   "cell_type": "markdown",
   "metadata": {
    "slideshow": {
     "slide_type": "slide"
    }
   },
   "source": [
    "# Übung"
   ]
  },
  {
   "cell_type": "code",
   "execution_count": null,
   "metadata": {
    "slideshow": {
     "slide_type": "-"
    }
   },
   "outputs": [],
   "source": [
    "class Foo {}\n",
    "class Bar<T> extends Foo {}\n",
    "class Baz<T, U> extends Foo {}"
   ]
  },
  {
   "cell_type": "markdown",
   "metadata": {},
   "source": [
    "Welche dieser Statements funktioniert? Weshalb?"
   ]
  },
  {
   "cell_type": "code",
   "execution_count": null,
   "metadata": {},
   "outputs": [],
   "source": [
    "Foo f = new Bar<Integer>()"
   ]
  },
  {
   "cell_type": "code",
   "execution_count": null,
   "metadata": {},
   "outputs": [],
   "source": [
    "Foo g = new Baz<Integer, Float>()"
   ]
  },
  {
   "cell_type": "markdown",
   "metadata": {
    "slideshow": {
     "slide_type": "slide"
    }
   },
   "source": [
    "# Übung"
   ]
  },
  {
   "cell_type": "code",
   "execution_count": null,
   "metadata": {
    "slideshow": {
     "slide_type": "-"
    }
   },
   "outputs": [],
   "source": [
    "class Foo<T> {}\n",
    "class Bar<T> extends Foo<T> {}\n",
    "class Baz<T, U> extends Foo<T> {}"
   ]
  },
  {
   "cell_type": "markdown",
   "metadata": {},
   "source": [
    "Welche der folgenden Statements funktioniert? Weshalb?"
   ]
  },
  {
   "cell_type": "code",
   "execution_count": null,
   "metadata": {},
   "outputs": [],
   "source": [
    "Foo<Integer> f = new Bar<Integer>();"
   ]
  },
  {
   "cell_type": "code",
   "execution_count": null,
   "metadata": {},
   "outputs": [],
   "source": [
    "Foo<Integer> g = new Baz<Integer, Float>();"
   ]
  },
  {
   "cell_type": "code",
   "execution_count": null,
   "metadata": {},
   "outputs": [],
   "source": [
    "Foo<Short> h = new Bar<Integer>();"
   ]
  },
  {
   "cell_type": "markdown",
   "metadata": {
    "slideshow": {
     "slide_type": "slide"
    }
   },
   "source": [
    "# Überschreiben von Methoden"
   ]
  },
  {
   "cell_type": "code",
   "execution_count": null,
   "metadata": {},
   "outputs": [],
   "source": [
    "class Foo<T> { \n",
    "    void f(T t) {}\n",
    "}"
   ]
  },
  {
   "cell_type": "markdown",
   "metadata": {},
   "source": [
    "* Wenn von konkreter Methode geerbt:\n",
    "    * ```T``` wird durch konkreten Typ ersetzt"
   ]
  },
  {
   "cell_type": "code",
   "execution_count": null,
   "metadata": {},
   "outputs": [],
   "source": [
    "class Bar extends Foo<Integer> { \n",
    "    void f(Integer i) {}\n",
    "}"
   ]
  },
  {
   "cell_type": "markdown",
   "metadata": {},
   "source": [
    "* Wenn von generischer Klasse geerbt\n",
    "    * ```T``` bleibt Typparameter"
   ]
  },
  {
   "cell_type": "code",
   "execution_count": null,
   "metadata": {},
   "outputs": [],
   "source": [
    "class Bar<T> extends Foo<T> { \n",
    "    void f(T t) {}\n",
    "}"
   ]
  },
  {
   "cell_type": "markdown",
   "metadata": {
    "slideshow": {
     "slide_type": "slide"
    }
   },
   "source": [
    "# Kovarianz, Kontravarianz und Invarianz\n",
    "\n",
    "#### Kovarianz\n",
    "Falls ```A``` ein Supertyp von ```B``` ist, dann ist ```Foo<A>``` ein Supertyp von ```Foo<B>```\n",
    "\n",
    "#### Kontravarianz\n",
    "Falls ```A``` ein Supertyp von ```B``` ist, dann ist ```Foo<A>``` ein Subtyp von ```Foo<B>```\n",
    "\n",
    "#### Invarianz\n",
    "Falls ```A``` ein Supertyp von ```B``` ist, dann ist ```Foo<A>``` weder ein Subtyp von ```Foo<B>``` noch ein Supertyp"
   ]
  },
  {
   "cell_type": "markdown",
   "metadata": {
    "slideshow": {
     "slide_type": "fragment"
    }
   },
   "source": [
    "> * Kontravarianz tritt nur in seltenen Fällen auf \n",
    ">    * Kann in diesen Kurs ignoriert werden"
   ]
  },
  {
   "cell_type": "markdown",
   "metadata": {
    "slideshow": {
     "slide_type": "slide"
    }
   },
   "source": [
    "# Kovarianz und Invarianz\n",
    "\n",
    "![images/variance.png](images/variance.png)"
   ]
  },
  {
   "cell_type": "markdown",
   "metadata": {
    "slideshow": {
     "slide_type": "slide"
    }
   },
   "source": [
    "# Kovarianz und Invarianz in Java"
   ]
  },
  {
   "cell_type": "markdown",
   "metadata": {},
   "source": [
    "Alle generischen Typen sind invariant\n",
    "\n",
    "* Folgendes funktioniert nicht:"
   ]
  },
  {
   "cell_type": "code",
   "execution_count": null,
   "metadata": {},
   "outputs": [],
   "source": [
    "class List<T> {}\n",
    "List<Object> o = new List<String>();"
   ]
  },
  {
   "cell_type": "markdown",
   "metadata": {},
   "source": [
    "> Grund: Kovariante Typen verkomplizieren das Typensystem enorm"
   ]
  },
  {
   "cell_type": "markdown",
   "metadata": {
    "slideshow": {
     "slide_type": "slide"
    }
   },
   "source": [
    "# Kovarianz und Invarianz in Java"
   ]
  },
  {
   "cell_type": "markdown",
   "metadata": {},
   "source": [
    "> Arrays sind kovariant in Java\n",
    "\n",
    "* Folgendes funktioniert:"
   ]
  },
  {
   "cell_type": "code",
   "execution_count": null,
   "metadata": {},
   "outputs": [],
   "source": [
    "Object[] objectArray = new String[100]"
   ]
  },
  {
   "cell_type": "markdown",
   "metadata": {},
   "source": [
    "#### Grund\n",
    "\n",
    "* Arrays gabe es bevor Generics eingeführt wurde\n",
    "    * Viele nützliche Funktionen auf generischen Arrays könnten nicht programmiert werden.\n",
    "    * Beispiel: ```void arrayEquals(object[] array1, object[] array2)```"
   ]
  },
  {
   "cell_type": "markdown",
   "metadata": {
    "slideshow": {
     "slide_type": "slide"
    }
   },
   "source": [
    "# Wildcards"
   ]
  },
  {
   "cell_type": "markdown",
   "metadata": {
    "slideshow": {
     "slide_type": "slide"
    }
   },
   "source": [
    "# Wildcards\n",
    "\n",
    "> Gemeinsamer Basistyp für Generische Objekte\n",
    ">    * Unabhängig von Parameter\n",
    "\n",
    "```java \n",
    "List<?> l = new List<Integer>();\n",
    "```"
   ]
  },
  {
   "cell_type": "markdown",
   "metadata": {
    "slideshow": {
     "slide_type": "fragment"
    }
   },
   "source": [
    "#### Beispiel"
   ]
  },
  {
   "cell_type": "code",
   "execution_count": null,
   "metadata": {},
   "outputs": [],
   "source": [
    "class List<T> {}\n",
    "List<?> l = null;\n",
    "l = new List<Integer>();\n",
    "l = new List<String>();\n",
    "l = new List<Object>();"
   ]
  },
  {
   "cell_type": "markdown",
   "metadata": {
    "slideshow": {
     "slide_type": "slide"
    }
   },
   "source": [
    "# Kompatibilitätsbeziehungen"
   ]
  },
  {
   "cell_type": "markdown",
   "metadata": {},
   "source": [
    "```java\n",
    "class A<T> {}\n",
    "class B<T> extends A<T> {}\n",
    "```\n",
    "\n",
    "![wildcards-compatibility](images/wildcards-compatibility.png)\n"
   ]
  },
  {
   "cell_type": "markdown",
   "metadata": {
    "slideshow": {
     "slide_type": "fragment"
    }
   },
   "source": [
    "#### Beispiel"
   ]
  },
  {
   "cell_type": "code",
   "execution_count": null,
   "metadata": {},
   "outputs": [],
   "source": [
    "class A<T> {}\n",
    "class B<T> extends A<T> {}"
   ]
  },
  {
   "cell_type": "markdown",
   "metadata": {},
   "source": [
    "Folgende Ausdrücke sind also alle gültig:"
   ]
  },
  {
   "cell_type": "code",
   "execution_count": null,
   "metadata": {},
   "outputs": [],
   "source": [
    "A<?> a = new A<String>();\n",
    "A<?> a = new B<String>();\n",
    "A a = new A();\n",
    "B b = new B<String>();\n",
    "A a = new B<String>();\n",
    "Object a = new A<String>();"
   ]
  },
  {
   "cell_type": "markdown",
   "metadata": {
    "slideshow": {
     "slide_type": "slide"
    }
   },
   "source": [
    "# Bounded Wildcards"
   ]
  },
  {
   "cell_type": "markdown",
   "metadata": {},
   "source": [
    "> Wildcard kann auf bestimmte Basisstypen eingeschränkt werden.\n",
    "\n",
    "```java\n",
    "Stack<? extends A> \n",
    "```\n",
    "\n",
    "* Nur Objekte vom Typ ```A``` sollen gespeichert werden können."
   ]
  },
  {
   "cell_type": "markdown",
   "metadata": {
    "slideshow": {
     "slide_type": "slide"
    }
   },
   "source": [
    "# Bounded Wildcards: Beispiel"
   ]
  },
  {
   "cell_type": "markdown",
   "metadata": {},
   "source": [
    "Ausgangslage:"
   ]
  },
  {
   "cell_type": "code",
   "execution_count": null,
   "metadata": {},
   "outputs": [],
   "source": [
    "class Person {}\n",
    "class Student extends Person {}\n",
    "class Teacher extends Person {}\n",
    "\n",
    "Stack<? extends Person> stack = null;"
   ]
  },
  {
   "cell_type": "markdown",
   "metadata": {
    "slideshow": {
     "slide_type": "fragment"
    }
   },
   "source": [
    "Das funktioniert"
   ]
  },
  {
   "cell_type": "code",
   "execution_count": null,
   "metadata": {},
   "outputs": [],
   "source": [
    "stack = new Stack<Teacher>();\n",
    "stack = new Stack<Student>();"
   ]
  },
  {
   "cell_type": "markdown",
   "metadata": {
    "slideshow": {
     "slide_type": "fragment"
    }
   },
   "source": [
    "aber das nicht"
   ]
  },
  {
   "cell_type": "code",
   "execution_count": null,
   "metadata": {},
   "outputs": [],
   "source": [
    "stack = new Stack<Integer>();"
   ]
  },
  {
   "cell_type": "markdown",
   "metadata": {
    "slideshow": {
     "slide_type": "slide"
    }
   },
   "source": [
    "# Limitierungen von Bounded Wildcards"
   ]
  },
  {
   "cell_type": "markdown",
   "metadata": {},
   "source": [
    "* Bei Wildcards ist der genaue Typ nicht bekannt\n",
    "    * Compiler muss gewisse Nutzung verbieten, um Typsicherheit zu gewährleisten"
   ]
  },
  {
   "cell_type": "markdown",
   "metadata": {},
   "source": [
    "#### Ausgangslage:"
   ]
  },
  {
   "cell_type": "markdown",
   "metadata": {},
   "source": [
    "```java\n",
    "Stack<Teacher> teacherStack = new Stack<Teacher>();\n",
    "teacherStack.push(new Teacher());\n",
    "Stack<? extends Person> personStack = teacherStack;\n",
    "```"
   ]
  },
  {
   "cell_type": "markdown",
   "metadata": {},
   "source": [
    "* Von Stack entfernen mit ```stack.pop()``` funktioniert\n",
    "    * Typ ist mindestens Person\n",
    "* Hinzufügen geht nicht:\n",
    "* ```Stack<? extends Person>``` könnte ```Stack<Teacher>``` oder ```Stack<Student>``` sein."
   ]
  },
  {
   "cell_type": "markdown",
   "metadata": {
    "slideshow": {
     "slide_type": "slide"
    }
   },
   "source": [
    "# Limitierungen von Bounded Wildcards\n",
    "\n",
    "#### Beispiel"
   ]
  },
  {
   "cell_type": "code",
   "execution_count": null,
   "metadata": {},
   "outputs": [],
   "source": [
    "Stack<Teacher> teacherStack = new Stack<Teacher>();\n",
    "teacherStack.push(new Teacher());\n",
    "Stack<? extends Person> personStack = teacherStack;"
   ]
  },
  {
   "cell_type": "code",
   "execution_count": null,
   "metadata": {},
   "outputs": [],
   "source": [
    "Person p = personStack.pop();"
   ]
  },
  {
   "cell_type": "code",
   "execution_count": null,
   "metadata": {},
   "outputs": [],
   "source": [
    "personStack.push(new Teacher());"
   ]
  },
  {
   "cell_type": "markdown",
   "metadata": {
    "slideshow": {
     "slide_type": "slide"
    }
   },
   "source": [
    "# Generische Methoden"
   ]
  },
  {
   "cell_type": "markdown",
   "metadata": {
    "slideshow": {
     "slide_type": "slide"
    }
   },
   "source": [
    "# Generische Methoden \n",
    "\n",
    "* Methoden, die mit unterschiedlichen Parametertypen arbeiten können\n",
    "    * Syntax ```<T> void foo(T t) {}```\n",
    "* Besprochene Regeln gelten auch für Methoden\n",
    "\n",
    "#### Beispiel"
   ]
  },
  {
   "cell_type": "code",
   "execution_count": null,
   "metadata": {},
   "outputs": [],
   "source": [
    "<T extends Comparable<T>> T max(T a, T b) {\n",
    "    if (a.compareTo(b) > 1) {\n",
    "        return a;\n",
    "    } else { \n",
    "        return b;\n",
    "    }\n",
    "}"
   ]
  },
  {
   "cell_type": "markdown",
   "metadata": {},
   "source": [
    "Nutzung:"
   ]
  },
  {
   "cell_type": "code",
   "execution_count": null,
   "metadata": {},
   "outputs": [],
   "source": [
    "max(5, 7)"
   ]
  },
  {
   "cell_type": "code",
   "execution_count": null,
   "metadata": {},
   "outputs": [],
   "source": [
    "max(\"abc\", \"cde\")"
   ]
  },
  {
   "cell_type": "markdown",
   "metadata": {
    "slideshow": {
     "slide_type": "slide"
    }
   },
   "source": [
    "# Generische Methoden: Typsicherheit\n",
    "\n",
    "### Nicht Typsicher\n",
    "\n",
    "* Deklaration von Methode mit gemeinsamen Supertyp.<br/>\n",
    "```  Comparable max(Comparable a, Comparable b)```\n",
    "* ```a``` muss nicht von demselben Typ wie b sein\n",
    "* Drückt nicht aus was wir wollen\n",
    "\n",
    "\n",
    "### Typesicher\n",
    "* Deklaration mit Generics <br/>\n",
    "``` <T extends Comparable> max(T a, T b) ```\n",
    "* ```a``` und ```b``` haben denselben Typ\n",
    "* Drückt genau aus was wir wollen\n",
    "\n"
   ]
  }
 ],
 "metadata": {
  "celltoolbar": "Slideshow",
  "kernelspec": {
   "display_name": "Java",
   "language": "java",
   "name": "java"
  },
  "language_info": {
   "codemirror_mode": "java",
   "file_extension": ".java",
   "mimetype": "text/x-java-source",
   "name": "Java",
   "pygments_lexer": "java",
   "version": "10.0.1+10"
  },
  "livereveal": {
   "livereveal": {
    "scroll": false
   },
   "transition": "none"
  }
 },
 "nbformat": 4,
 "nbformat_minor": 2
}
