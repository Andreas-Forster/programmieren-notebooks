{
 "cells": [
  {
   "cell_type": "markdown",
   "metadata": {
    "slideshow": {
     "slide_type": "slide"
    }
   },
   "source": [
    "# Lambda Ausdrücke\n",
    "\n",
    "#### Marcel Lüthi <br/> Departement Mathematik und Informatik"
   ]
  },
  {
   "cell_type": "markdown",
   "metadata": {
    "slideshow": {
     "slide_type": "slide"
    }
   },
   "source": [
    "# Agenda\n",
    "\n",
    "* Geschichte: Objektorientierte und Funktionale Programmierung\n",
    "* Funktionale Programmierung\n",
    "* Lambda Audrücke in Java\n",
    "\n",
    "* Case study: Funktionale Programmierung in Java"
   ]
  },
  {
   "cell_type": "markdown",
   "metadata": {
    "slideshow": {
     "slide_type": "slide"
    }
   },
   "source": [
    "\n",
    "# Geschichte:  Objektorientierte und Funktionale Programmierung"
   ]
  },
  {
   "cell_type": "markdown",
   "metadata": {
    "slideshow": {
     "slide_type": "slide"
    }
   },
   "source": [
    "# Erste Programmierung\n",
    "\n",
    "```assembly\n",
    "SUMDIGIN CSECT\n",
    "         USING  SUMDIGIN,R13       base register\n",
    "         B      72(R15)            skip savearea\n",
    "         DC     17F'0'             savearea\n",
    "         STM    R14,R12,12(R13)    prolog\n",
    "         ST     R13,4(R15)         \" <-\n",
    "         ST     R15,8(R13)         \" ->\n",
    "         LR     R13,R15            \" addressability\n",
    "         LA     R11,NUMBERS        @numbers\n",
    "         LA     R8,1               k=1\n",
    "LOOPK    CH     R8,=H'4'           do k=1 to hbound(numbers)\n",
    "         BH     ELOOPK             \"\n",
    "         SR     R10,R10              sum=0\n",
    "         LA     R7,1                 j=1\n",
    "LOOPJ    CH     R7,=H'8'             do j=1 to length(number)\n",
    "         BH     ELOOPJ               \"\n",
    "         LR     R4,R11                 @number\n",
    "         BCTR   R4,0                   -1\n",
    "         AR     R4,R7                  +j\n",
    "         MVC    D,0(R4)                d=substr(number,j,1)\n",
    "         SR     R9,R9                  ii=0\n",
    "         SR     R6,R6                  i=0\n",
    "LOOPI    CH     R6,=H'15'              do i=0 to 15\n",
    "         BH     ELOOPI                 \"\n",
    "         LA     R4,DIGITS                @digits\n",
    "         AR     R4,R6                    i\n",
    "         MVC    C,0(R4)                  c=substr(digits,i+1,1)\n",
    "         CLC    D,C                      if d=c\n",
    "         BNE    NOTEQ                    then\n",
    "         LR     R9,R6                      ii=i\n",
    "         B      ELOOPI                     leave i\n",
    "NOTEQ    LA     R6,1(R6)                 i=i+1\n",
    "         B      LOOPI                  end do i\n",
    "ELOOPI   AR     R10,R9                 sum=sum+ii\n",
    "         LA     R7,1(R7)               j=j+1\n",
    "         B      LOOPJ                end do j\n",
    "ELOOPJ   MVC    PG(8),0(R11)         number\n",
    "         XDECO  R10,XDEC             edit sum\n",
    "         MVC    PG+8(8),XDEC+4       output sum\n",
    "         XPRNT  PG,L'PG              print buffer\n",
    "         LA     R11,8(R11)           @number=@number+8\n",
    "         LA     R8,1(R8)             k=k+1\n",
    "         B      LOOPK              end do k\n",
    "ELOOPK   L      R13,4(0,R13)       epilog \n",
    "         LM     R14,R12,12(R13)    \" restore\n",
    "         XR     R15,R15            \" rc=0\n",
    "         BR     R14                exit\n",
    "DIGITS   DC     CL16'0123456789ABCDEF'\n",
    "NUMBERS  DC     CL8'1',CL8'1234',CL8'FE',CL8'F0E'\n",
    "C        DS     CL1\n",
    "D        DS     CL1\n",
    "PG       DC     CL16' '            buffer\n",
    "XDEC     DS     CL12               temp\n",
    "         YREGS\n",
    "         END    SUMDIGIN\n",
    "```"
   ]
  },
  {
   "cell_type": "markdown",
   "metadata": {},
   "source": [
    "# Erste Hochsprachen\n",
    "\n",
    "```modula\n",
    "MODULE SumOFDigits;\n",
    "FROM STextIO IMPORT\n",
    "  WriteString, WriteLn;\n",
    "FROM SWholeIO IMPORT\n",
    "  WriteInt;\n",
    "FROM Conversions IMPORT\n",
    "  StrBaseToLong;\n",
    " \n",
    "PROCEDURE SumOfDigitBase(N: LONGCARD; Base: CARDINAL): CARDINAL;\n",
    "VAR\n",
    "  Tmp, LBase: LONGCARD;\n",
    "  Digit, Sum : CARDINAL;\n",
    "BEGIN\n",
    "  Digit := 0;\n",
    "  Sum   := 0;\n",
    "  LBase := Base;\n",
    "  WHILE N > 0 DO\n",
    "    Tmp := N / LBase;\n",
    "    Digit := N - LBase * Tmp;\n",
    "    N := Tmp;\n",
    "    INC(Sum, Digit);\n",
    "  END;\n",
    "  RETURN Sum;\n",
    "END SumOfDigitBase;\n",
    " \n",
    "VAR\n",
    "  Num: LONGCARD;\n",
    " \n",
    "BEGIN\n",
    "  WriteString('   1 sums to '); \n",
    "  WriteInt(SumOfDigitBase(1, 10), 1); \n",
    "  WriteLn;\n",
    "  WriteString('1234 sums to '); \n",
    "  WriteInt(SumOfDigitBase(1234, 10), 1); \n",
    "  WriteLn;\n",
    "  IF StrBaseToLong('FE', 16, Num) THEN\n",
    "    WriteString(' $FE sums to '); \n",
    "    WriteInt(SumOfDigitBase(Num, 16), 1); \n",
    "    WriteLn;\n",
    "  END;\n",
    "  IF StrBaseToLong('F0E', 16, Num) THEN\n",
    "    WriteString('$F0E sums to '); \n",
    "    WriteInt(SumOfDigitBase(Num, 16), 1); \n",
    "    WriteLn;\n",
    "  END;\n",
    "  WriteString('MAX(LONGCARD) (in dec) sums to '); \n",
    "  WriteInt(SumOfDigitBase(MAX(LONGCARD), 10), 1); \n",
    "  WriteLn;\n",
    "END SumOFDigits.\n",
    "```"
   ]
  },
  {
   "cell_type": "markdown",
   "metadata": {
    "slideshow": {
     "slide_type": "slide"
    }
   },
   "source": [
    "# Wichtige Frage\n",
    "\n",
    "\n",
    "> Wie kann man Programme besser strukturieren?"
   ]
  },
  {
   "cell_type": "markdown",
   "metadata": {
    "slideshow": {
     "slide_type": "slide"
    }
   },
   "source": [
    "<div style=\"float:left; width:50%; text-align:left\">\n",
    "    <h3>Funktionale Programmiereung</h3>\n",
    "    <ul>\n",
    "        <li> Idee: Komposition von (mathematischen) Funktionen um aus einfachen Teilen komplexe Funktionalität zu bauen </li>\n",
    "        <li> Mathematische Grundlage: Lambdakalkül</li>\n",
    "        <li> Aktionen / Berechnungen im Zentrum </li>\n",
    "    </ul>\n",
    "</div>\n",
    "<div style=\"float:right; width:50%\">\n",
    "    <h3>Objektorientierte Programmiereung</h3>\n",
    "    <ul>\n",
    "        <li> Idee: Organisation von Code in \"selbstorganisierende\" Module (Objekte)</li>        \n",
    "        <li> Management von Zustand durch Kapselung </li>\n",
    "        <li> Objekte im Zentrum </li>        \n",
    "    </ul>\n",
    "\n",
    "</div>"
   ]
  },
  {
   "cell_type": "markdown",
   "metadata": {},
   "source": [
    "> Konzepte entwickelt in 60 und 70er Jahren"
   ]
  },
  {
   "cell_type": "markdown",
   "metadata": {
    "slideshow": {
     "slide_type": "slide"
    }
   },
   "source": [
    "# Objektorientierte Programmierung\n",
    "\n",
    "* Durchbruch in der Industrie: 90er Jahre. \n",
    "    * Zustandsmanagement in GUIs\n",
    "\n",
    "![win32](./images/win31.png)"
   ]
  },
  {
   "cell_type": "markdown",
   "metadata": {
    "slideshow": {
     "slide_type": "slide"
    }
   },
   "source": [
    "\n",
    "# Funktionale Programmierung\n",
    "\n",
    "* Durchbruch in der Industrie: 2010er Jahre \n",
    "    * Parallelisierung / Multi-core computing\n",
    "\n",
    "![moores law](images./moores-law.png)"
   ]
  },
  {
   "cell_type": "markdown",
   "metadata": {
    "slideshow": {
     "slide_type": "slide"
    }
   },
   "source": [
    "# Seiteneffekte\n",
    "\n",
    "\n",
    "```\n",
    "   int x = 0; \n",
    "   int incrementX() { return ++x; } \n",
    "   int decrementX() { return --x; }  \n",
    "```\n",
    "\n",
    "- ```decrementX()``` hängt davon ab, wie häufig ich zuvor ```incrementX``` und ```decrementX``` aufgerufen habe.\n",
    "- Zustandsverwaltung ist immer komplex!\n",
    "    - Schlimm bei paralleler Ausführung, da Reihenfolge nicht immer deterministisch ist.\n",
    "\n"
   ]
  },
  {
   "cell_type": "markdown",
   "metadata": {},
   "source": [
    "\n",
    "### Seiteneffektfrei (Referentielle Transparenz)\n",
    "```\n",
    "  int increment(int x) { return x + 1; } \n",
    "  int decrement(int x) { return x - 1; }\n",
    "```\n",
    "\n",
    "- ```decrement(5)``` ist immer 4, unabhängig vom Kontext \n",
    "- Keine Verwaltung vom Zustand nötig\n",
    "- Parallelisierung wird einfacher"
   ]
  },
  {
   "cell_type": "markdown",
   "metadata": {},
   "source": [
    "# Funktionale Konstrukte in Java\n",
    "\n",
    "> Moderne Programmiersprachen integrieren Konzepte von Funktionalen Sprachen:\n",
    "\n",
    "* Funktionen als Argumente \n",
    "* Anonyme Funktionen\n",
    "* Closures"
   ]
  },
  {
   "cell_type": "markdown",
   "metadata": {
    "slideshow": {
     "slide_type": "slide"
    }
   },
   "source": [
    "# Lambda Audrücke in Java"
   ]
  },
  {
   "cell_type": "markdown",
   "metadata": {
    "slideshow": {
     "slide_type": "slide"
    }
   },
   "source": [
    "# Funktionsobjekte selber erstellen"
   ]
  },
  {
   "cell_type": "code",
   "execution_count": 36,
   "metadata": {},
   "outputs": [],
   "source": [
    "interface Function {     \n",
    "    int apply(int x);\n",
    "}\n",
    "\n",
    "Function square = new Function() {\n",
    "    public int apply(int x) { return x * x; }\n",
    "}"
   ]
  },
  {
   "cell_type": "code",
   "execution_count": 35,
   "metadata": {
    "slideshow": {
     "slide_type": "fragment"
    }
   },
   "outputs": [
    {
     "ename": "CompilationException",
     "evalue": "",
     "output_type": "error",
     "traceback": [
      "\u001b[1m\u001b[30m|   \u001b[1m\u001b[30m\u001b[0m\u001b[1m\u001b[30m\u001b[41msquare\u001b[0m\u001b[1m\u001b[30m.apply(7)\u001b[0m",
      "\u001b[1m\u001b[31mcannot find symbol\u001b[0m",
      "\u001b[1m\u001b[31m  symbol:   variable square\u001b[0m",
      ""
     ]
    }
   ],
   "source": [
    "square.apply(7)"
   ]
  },
  {
   "cell_type": "markdown",
   "metadata": {
    "slideshow": {
     "slide_type": "slide"
    }
   },
   "source": [
    "# Funktionsobjekte selber erstellen"
   ]
  },
  {
   "cell_type": "markdown",
   "metadata": {},
   "source": [
    "* Allgemeiner und einfacher geht es, wenn wir generics für die Funktionsargument verwenden."
   ]
  },
  {
   "cell_type": "code",
   "execution_count": 37,
   "metadata": {},
   "outputs": [],
   "source": [
    "interface Function<T, R> {     \n",
    "    R apply(T x);\n",
    "}\n",
    "\n",
    "\n",
    "\n",
    "Function<Integer, Integer> square = new Function<>() { \n",
    "    public Integer apply(Integer i) {\n",
    "        return i * i;\n",
    "    }\n",
    "}"
   ]
  },
  {
   "cell_type": "code",
   "execution_count": 84,
   "metadata": {},
   "outputs": [
    {
     "data": {
      "text/plain": [
       "25"
      ]
     },
     "execution_count": 84,
     "metadata": {},
     "output_type": "execute_result"
    }
   ],
   "source": [
    "square.exec(5)"
   ]
  },
  {
   "cell_type": "markdown",
   "metadata": {
    "slideshow": {
     "slide_type": "slide"
    }
   },
   "source": [
    "# Funktionsobjekte mit mehreren Argumenten"
   ]
  },
  {
   "cell_type": "code",
   "execution_count": 39,
   "metadata": {},
   "outputs": [],
   "source": [
    "interface Function2<S, T, R> {\n",
    "    R apply(S s, T t);\n",
    "}\n",
    "\n",
    "Function2<String, String, String> concat = new Function2<>() { \n",
    "    public String apply(String x, String y) { return x + y; }\n",
    "}"
   ]
  },
  {
   "cell_type": "code",
   "execution_count": 40,
   "metadata": {},
   "outputs": [
    {
     "data": {
      "text/plain": [
       "hello world"
      ]
     },
     "execution_count": 40,
     "metadata": {},
     "output_type": "execute_result"
    }
   ],
   "source": [
    "concat.apply(\"hello \", \"world\")"
   ]
  },
  {
   "cell_type": "markdown",
   "metadata": {},
   "source": [
    "# Identität und Funktionskomposition"
   ]
  },
  {
   "cell_type": "code",
   "execution_count": 58,
   "metadata": {},
   "outputs": [],
   "source": [
    "interface Function<T, R>  {\n",
    "    \n",
    "    R apply(T t);\n",
    "      \n",
    "\n",
    "      static <T> Function<T, T> identity() { \n",
    "        Function<T, T> identity = new Function<>() { \n",
    "            public T apply(T x) { return x; } \n",
    "        };\n",
    "        return identity;\n",
    "    }\n",
    "\n",
    "    default <S> Function<S, R> compose(Function<S, T> g) { \n",
    "    \n",
    "        Function<S, R> newFun = new Function<>() { \n",
    "            public R apply(S x) {            \n",
    "                return Function.this.apply(g.apply(x));\n",
    "            }\n",
    "        };\n",
    "        return newFun;\n",
    "        \n",
    "    }\n",
    "}"
   ]
  },
  {
   "cell_type": "code",
   "execution_count": 59,
   "metadata": {},
   "outputs": [],
   "source": [
    "Function<Double, Double> square = new Function<>() { \n",
    "    public Double apply(Double x) { \n",
    "        return x * x; \n",
    "    }\n",
    "};\n",
    "\n",
    "Function<String, Double> stringToDouble = new Function<>() { \n",
    "    public Double apply(String s) {\n",
    "        return Double.parseDouble(s); \n",
    "    }\n",
    "};\n"
   ]
  },
  {
   "cell_type": "markdown",
   "metadata": {},
   "source": [
    "Nutzung:"
   ]
  },
  {
   "cell_type": "code",
   "execution_count": 62,
   "metadata": {},
   "outputs": [
    {
     "data": {
      "text/plain": [
       "1.0E16"
      ]
     },
     "execution_count": 62,
     "metadata": {},
     "output_type": "execute_result"
    }
   ],
   "source": [
    "\n",
    " Function<Double, Double> ident = Function.identity();\n",
    " ident.apply(5.0);\n",
    "\n",
    "Function<String, Double> fcircg = square.compose(stringToDouble);\n",
    "fcircg.apply(\"1e8\");"
   ]
  },
  {
   "cell_type": "markdown",
   "metadata": {
    "slideshow": {
     "slide_type": "slide"
    }
   },
   "source": [
    "# Lambda Ausdrücke"
   ]
  },
  {
   "cell_type": "markdown",
   "metadata": {},
   "source": [
    "# Lambda Ausdrücke\n",
    "\n",
    "* Java hat eine spezielle Syntax definiert um Funktionsobjekte zu erstellen. \n",
    "* Bekannt als ```lambda Ausdrücke```\n",
    "\n",
    "> Parameter -> Ausdruck\n",
    "\n",
    "#### Beispiel\n",
    "```java\n",
    "x -> x * x\n",
    "```"
   ]
  },
  {
   "cell_type": "markdown",
   "metadata": {
    "slideshow": {
     "slide_type": "slide"
    }
   },
   "source": [
    "# Lambda Syntax\n",
    "\n",
    "```bnf\n",
    "lambda = ArgList \"->\" Body\n",
    "ArgList = Identifier \n",
    "         | \"(\" [Type] Identifier { \",\" [Type] Identifier } \")\" \n",
    "         | \"()\" \n",
    "Body = Expression   |  \"{\" [ Statement \";\" ]+ \"}\"\n",
    "```"
   ]
  },
  {
   "cell_type": "markdown",
   "metadata": {
    "slideshow": {
     "slide_type": "slide"
    }
   },
   "source": [
    "# Functional Interface\n",
    "\n",
    "* Ein *Functional Interface* ist ein Interface oder Abstrakte Klasse mit genau eine Methode\n",
    "    * Methode entspricht \"Berechnung\" der Funktion\n",
    "\n",
    "### Beispiel:\n",
    "```\n",
    "interface Function<T, R> {\n",
    "    R apply(T t);\n",
    "}\n",
    "```\n",
    "\n",
    "* Lambda Ausdrücke können an ein *Functional Interface* zugewiesen werden.\n",
    "   * Lambdas bekommen einen Namen"
   ]
  },
  {
   "cell_type": "code",
   "execution_count": 82,
   "metadata": {},
   "outputs": [],
   "source": [
    "Function<Double, Double> f = (Double d) -> d * d;"
   ]
  },
  {
   "cell_type": "markdown",
   "metadata": {
    "slideshow": {
     "slide_type": "slide"
    }
   },
   "source": [
    "# Lambdas mit Anweisungsblock\n",
    "\n",
    "* Rechte Seite von Lambda Ausdruck kann beliebiger Block sein\n",
    "    * Block muss den richtigen Typ zurückliefern\n"
   ]
  },
  {
   "cell_type": "markdown",
   "metadata": {},
   "source": [
    "Folgendes funktioniert:"
   ]
  },
  {
   "cell_type": "code",
   "execution_count": 87,
   "metadata": {},
   "outputs": [],
   "source": [
    "Function<String, Integer> f = (String s) -> { \n",
    "    System.out.println(s); \n",
    "    return Integer.parseInt(s);\n",
    "}"
   ]
  },
  {
   "cell_type": "markdown",
   "metadata": {},
   "source": [
    "Aber hier gibt es einen Typfehler"
   ]
  },
  {
   "cell_type": "code",
   "execution_count": 89,
   "metadata": {},
   "outputs": [
    {
     "ename": "CompilationException",
     "evalue": "",
     "output_type": "error",
     "traceback": [
      "\u001b[1m\u001b[30m|   \u001b[1m\u001b[30m    return \u001b[0m\u001b[1m\u001b[30m\u001b[41ms\u001b[0m\u001b[1m\u001b[30m;\u001b[0m",
      "\u001b[1m\u001b[31mincompatible types: bad return type in lambda expression\u001b[0m",
      "\u001b[1m\u001b[31m    java.lang.String cannot be converted to java.lang.Integer\u001b[0m",
      ""
     ]
    }
   ],
   "source": [
    "Function<String, Integer> f = (String s) -> { \n",
    "    System.out.println(s); \n",
    "    return s;\n",
    "}"
   ]
  },
  {
   "cell_type": "markdown",
   "metadata": {},
   "source": [
    "# Methodenreferenzen\n",
    "\n",
    "* Wir können Methoden Functional Interfaces zuweisen:"
   ]
  },
  {
   "cell_type": "code",
   "execution_count": 100,
   "metadata": {},
   "outputs": [],
   "source": [
    "Function<Double, Double> cos = Math::cos;"
   ]
  },
  {
   "cell_type": "markdown",
   "metadata": {},
   "source": [
    "und wie eine normale Funktion ausführen:"
   ]
  },
  {
   "cell_type": "code",
   "execution_count": 99,
   "metadata": {},
   "outputs": [
    {
     "data": {
      "text/plain": [
       "0.28366218546322625"
      ]
     },
     "execution_count": 99,
     "metadata": {},
     "output_type": "execute_result"
    }
   ],
   "source": [
    "cos.apply(5.0)"
   ]
  },
  {
   "attachments": {},
   "cell_type": "markdown",
   "metadata": {},
   "source": [
    "# Seitenbemerkung: Sind Lambda's anonyme Innerklassen?\n",
    "\n",
    "* Erste Implementationen von Lambda Ausdrücken waren nur \"Syntactic Sugar\".\n",
    "\n",
    "Ausdruck:\n",
    "\n",
    "```\n",
    "Function f  = x -> x*x ;\n",
    "```\n",
    "wurde ersetzt durch \n",
    "```` \n",
    "f  = new Function() {\n",
    "    int exec (int x) { return x*x; }   \n",
    "}   \n",
    "```\n",
    "\n",
    "> Heute sind die Details etwas komplizierter. \n",
    "> * Effiziente Implementation - direkt unterstützt durch JVM"
   ]
  },
  {
   "cell_type": "markdown",
   "metadata": {},
   "source": [
    "# Case study: Funktionale Programmierung in Java"
   ]
  },
  {
   "cell_type": "markdown",
   "metadata": {},
   "source": [
    "# Case study: Funktionale Listenklasse"
   ]
  },
  {
   "cell_type": "markdown",
   "metadata": {},
   "source": []
  },
  {
   "cell_type": "markdown",
   "metadata": {
    "slideshow": {
     "slide_type": "slide"
    }
   },
   "source": [
    "# Funktionen als Argumente"
   ]
  },
  {
   "cell_type": "code",
   "execution_count": 79,
   "metadata": {},
   "outputs": [],
   "source": [
    "int[] map(int[] array, Function<Integer, Integer> f) { \n",
    "    int[] newArray = new int[array.length];\n",
    "    for (int i = 0; i < array.length; ++i) {\n",
    "        newArray[i] = f.exec(array[i]);\n",
    "    }\n",
    "    return newArray;\n",
    "}"
   ]
  },
  {
   "cell_type": "code",
   "execution_count": 82,
   "metadata": {},
   "outputs": [
    {
     "data": {
      "text/plain": [
       "[1, 9, 25, 49, 81]"
      ]
     },
     "execution_count": 82,
     "metadata": {},
     "output_type": "execute_result"
    }
   ],
   "source": [
    "int[] array = {1, 3, 5, 7, 9};\n",
    "\n",
    "Arrays.toString(map(array, square))\n",
    "\n"
   ]
  }
 ],
 "metadata": {
  "celltoolbar": "Slideshow",
  "kernelspec": {
   "display_name": "Java",
   "language": "java",
   "name": "java"
  },
  "language_info": {
   "codemirror_mode": "java",
   "file_extension": ".java",
   "mimetype": "text/x-java-source",
   "name": "Java",
   "pygments_lexer": "java",
   "version": "10.0.1+10"
  }
 },
 "nbformat": 4,
 "nbformat_minor": 2
}
