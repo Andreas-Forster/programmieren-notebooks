{
 "cells": [
  {
   "cell_type": "markdown",
   "metadata": {
    "slideshow": {
     "slide_type": "slide"
    }
   },
   "source": [
    "# Lambda Ausdrücke und funktionale Programmierung\n",
    "\n",
    "#### Marcel Lüthi <br/> Departement Mathematik und Informatik"
   ]
  },
  {
   "cell_type": "markdown",
   "metadata": {
    "slideshow": {
     "slide_type": "slide"
    }
   },
   "source": [
    "# Agenda\n",
    "\n",
    "* Geschichte: Objektorientierte und Funktionale Programmierung\n",
    "* Funktionen als Objekte\n",
    "* Lambda Audrücke in Java\n",
    "* Funktionsobjekte in Java Standardbibliothek"
   ]
  },
  {
   "cell_type": "markdown",
   "metadata": {
    "slideshow": {
     "slide_type": "slide"
    }
   },
   "source": [
    "\n",
    "# Geschichte:  Objektorientierte und Funktionale Programmierung"
   ]
  },
  {
   "cell_type": "markdown",
   "metadata": {
    "slideshow": {
     "slide_type": "slide"
    }
   },
   "source": [
    "# Erste Programmierung\n",
    "\n",
    "```assembly\n",
    "SUMDIGIN CSECT\n",
    "         USING  SUMDIGIN,R13       \n",
    "         B      72(R15)            \n",
    "         DC     17F'0'             \n",
    "         STM    R14,R12,12(R13)    \n",
    "         ST     R13,4(R15)         \n",
    "         ST     R15,8(R13)         \n",
    "         LR     R13,R15            \n",
    "         LA     R11,NUMBERS        \n",
    "         LA     R8,1               \n",
    "LOOPK    CH     R8,=H'4'           \n",
    "         BH     ELOOPK             \n",
    "         SR     R10,R10            \n",
    "         LA     R7,1               \n",
    "LOOPJ    CH     R7,=H'8'           \n",
    "         BH     ELOOPJ             \n",
    "         LR     R4,R11             \n",
    "         BCTR   R4,0               \n",
    "         AR     R4,R7              \n",
    "         MVC    D,0(R4)            \n",
    "         SR     R9,R9              \n",
    "         SR     R6,R6              \n",
    "LOOPI    CH     R6,=H'15'          \n",
    "         BH     ELOOPI             \n",
    "         LA     R4,DIGITS          \n",
    "         AR     R4,R6              \n",
    "         MVC    C,0(R4)            \n",
    "         CLC    D,C                \n",
    "         BNE    NOTEQ              \n",
    "         LR     R9,R6              \n",
    "         B      ELOOPI             \n",
    "NOTEQ    LA     R6,1(R6)           \n",
    "         B      LOOPI              \n",
    "ELOOPI   AR     R10,R9             \n",
    "         LA     R7,1(R7)           \n",
    "         B      LOOPJ              \n",
    "ELOOPJ   MVC    PG(8),0(R11)       \n",
    "         XDECO  R10,XDEC           \n",
    "         MVC    PG+8(8),XDEC+4     \n",
    "         XPRNT  PG,L'PG            \n",
    "         LA     R11,8(R11)         \n",
    "         LA     R8,1(R8)           \n",
    "         B      LOOPK              \n",
    "ELOOPK   L      R13,4(0,R13)       \n",
    "         LM     R14,R12,12(R13)    \n",
    "         XR     R15,R15            \n",
    "         BR     R14                \n",
    "DIGITS   DC     CL16'0123456789ABCDEF'\n",
    "NUMBERS  DC     CL8'1',CL8'1234',CL8'FE',CL8'F0E'\n",
    "C        DS     CL1\n",
    "D        DS     CL1\n",
    "PG       DC     CL16' '            \n",
    "XDEC     DS     CL12               \n",
    "         YREGS\n",
    "         END    SUMDIGIN\n",
    "```"
   ]
  },
  {
   "cell_type": "markdown",
   "metadata": {
    "slideshow": {
     "slide_type": "slide"
    }
   },
   "source": [
    "# Erste Hochsprachen\n",
    "\n",
    "```modula\n",
    "MODULE SumOFDigits;\n",
    "FROM STextIO IMPORT\n",
    "  WriteString, WriteLn;\n",
    "FROM SWholeIO IMPORT\n",
    "  WriteInt;\n",
    "FROM Conversions IMPORT\n",
    "  StrBaseToLong;\n",
    " \n",
    "PROCEDURE SumOfDigitBase(N: LONGCARD; Base: CARDINAL): CARDINAL;\n",
    "VAR\n",
    "  Tmp, LBase: LONGCARD;\n",
    "  Digit, Sum : CARDINAL;\n",
    "BEGIN\n",
    "  Digit := 0;\n",
    "  Sum   := 0;\n",
    "  LBase := Base;\n",
    "  WHILE N > 0 DO\n",
    "    Tmp := N / LBase;\n",
    "    Digit := N - LBase * Tmp;\n",
    "    N := Tmp;\n",
    "    INC(Sum, Digit);\n",
    "  END;\n",
    "  RETURN Sum;\n",
    "END SumOfDigitBase;\n",
    " \n",
    "VAR\n",
    "  Num: LONGCARD;\n",
    " \n",
    "BEGIN\n",
    "  WriteString('   1 sums to '); \n",
    "  WriteInt(SumOfDigitBase(1, 10), 1); \n",
    "  WriteLn;\n",
    "  WriteString('1234 sums to '); \n",
    "  WriteInt(SumOfDigitBase(1234, 10), 1); \n",
    "  WriteLn;\n",
    "  IF StrBaseToLong('FE', 16, Num) THEN\n",
    "    WriteString(' $FE sums to '); \n",
    "    WriteInt(SumOfDigitBase(Num, 16), 1); \n",
    "    WriteLn;\n",
    "  END;\n",
    "  IF StrBaseToLong('F0E', 16, Num) THEN\n",
    "    WriteString('$F0E sums to '); \n",
    "    WriteInt(SumOfDigitBase(Num, 16), 1); \n",
    "    WriteLn;\n",
    "  END;\n",
    "  WriteString('MAX(LONGCARD) (in dec) sums to '); \n",
    "  WriteInt(SumOfDigitBase(MAX(LONGCARD), 10), 1); \n",
    "  WriteLn;\n",
    "END SumOFDigits.\n",
    "```"
   ]
  },
  {
   "cell_type": "markdown",
   "metadata": {
    "slideshow": {
     "slide_type": "slide"
    }
   },
   "source": [
    "# Wichtige Frage\n",
    "\n",
    "\n",
    "> Wie kann man Programme besser strukturieren?"
   ]
  },
  {
   "cell_type": "markdown",
   "metadata": {
    "slideshow": {
     "slide_type": "slide"
    }
   },
   "source": [
    "<div style=\"float:left; width:50%; text-align:left\">\n",
    "    <h3>Funktionale Programmiereung</h3>\n",
    "    <ul>\n",
    "        <li> Idee: Komposition von (mathematischen) Funktionen um aus einfachen Teilen komplexe Funktionalität zu bauen </li>\n",
    "        <li> Mathematische Grundlage: Lambdakalkül</li>\n",
    "        <li> Aktionen / Berechnungen im Zentrum </li>\n",
    "    </ul>\n",
    "</div>\n",
    "<div style=\"float:right; width:50%\">\n",
    "    <h3>Objektorientierte Programmiereung</h3>\n",
    "    <ul>\n",
    "        <li> Idee: Organisation von Code in \"selbstorganisierende\" Module (Objekte)</li>        \n",
    "        <li> Management von Zustand durch Kapselung </li>\n",
    "        <li> Objekte im Zentrum </li>        \n",
    "    </ul>\n",
    "\n",
    "</div>"
   ]
  },
  {
   "cell_type": "markdown",
   "metadata": {},
   "source": [
    "> Konzepte entwickelt in 60 und 70er Jahren"
   ]
  },
  {
   "cell_type": "markdown",
   "metadata": {
    "slideshow": {
     "slide_type": "slide"
    }
   },
   "source": [
    "# Objektorientierte Programmierung\n",
    "\n",
    "* Durchbruch in der Industrie: 90er Jahre. \n",
    "    * Zustandsmanagement in GUIs\n",
    "\n",
    "![win32](./images/win31.png)"
   ]
  },
  {
   "cell_type": "markdown",
   "metadata": {
    "slideshow": {
     "slide_type": "slide"
    }
   },
   "source": [
    "\n",
    "# Funktionale Programmierung\n",
    "\n",
    "* Durchbruch in der Industrie: 2010er Jahre \n",
    "    * Parallelisierung / Multi-core computing\n",
    "\n",
    "![moores law](images./moores-law.png)"
   ]
  },
  {
   "cell_type": "markdown",
   "metadata": {
    "slideshow": {
     "slide_type": "slide"
    }
   },
   "source": [
    "# Seiteneffekte\n",
    "\n",
    "\n",
    "```\n",
    "   int x = 0; \n",
    "   int incrementX() { return ++x; } \n",
    "   int decrementX() { return --x; }  \n",
    "```\n",
    "\n",
    "- ```decrementX()``` hängt davon ab, wie häufig ich zuvor ```incrementX()``` und ```decrementX()``` aufgerufen habe.\n",
    "- Zustandsverwaltung ist immer komplex!\n",
    "    - Schlimm bei paralleler Ausführung, da Reihenfolge nicht immer deterministisch ist.\n",
    "\n"
   ]
  },
  {
   "cell_type": "markdown",
   "metadata": {
    "slideshow": {
     "slide_type": "slide"
    }
   },
   "source": [
    "# Seiteneffekte: Beispiel"
   ]
  },
  {
   "cell_type": "markdown",
   "metadata": {},
   "source": [
    "* Rückgabewert von decrementX hängt davon ab wie häufig ich ```decrementX``` aufgerufen habe.\n",
    "* Simulation: Separater Thread ruft decrement auf."
   ]
  },
  {
   "cell_type": "code",
   "execution_count": 58,
   "metadata": {},
   "outputs": [],
   "source": [
    " int x = 0; \n",
    " int incrementX() { return ++x; } \n",
    " int decrementX() { return --x; } "
   ]
  },
  {
   "cell_type": "code",
   "execution_count": 59,
   "metadata": {},
   "outputs": [],
   "source": [
    "Runnable r = new Runnable() {\n",
    "\n",
    "    public void run() {\n",
    "        for (int i = 0; i < 100; ++i) {\n",
    "            try {\n",
    "                Thread.sleep(1000);\n",
    "            } catch (Exception e) {}\n",
    "            decrementX();\n",
    "        }\n",
    "    }\n",
    "};\n",
    "\n",
    "new Thread(r).start();"
   ]
  },
  {
   "cell_type": "code",
   "execution_count": 61,
   "metadata": {},
   "outputs": [
    {
     "data": {
      "text/plain": [
       "-27"
      ]
     },
     "execution_count": 61,
     "metadata": {},
     "output_type": "execute_result"
    }
   ],
   "source": [
    "incrementX();"
   ]
  },
  {
   "cell_type": "markdown",
   "metadata": {
    "slideshow": {
     "slide_type": "slide"
    }
   },
   "source": [
    "\n",
    "# Seiteneffektfreie Programmierung\n",
    "```\n",
    "  int increment(int x) { return x + 1; } \n",
    "  int decrement(int x) { return x - 1; }\n",
    "```\n",
    "\n",
    "- ```decrement(5)``` ist immer 4, unabhängig vom Kontext \n",
    "- Funktionen im mathematischen Sinn\n",
    "\n",
    "> Codeverständnis und Parallelisierung werden einfacher"
   ]
  },
  {
   "cell_type": "markdown",
   "metadata": {
    "slideshow": {
     "slide_type": "slide"
    }
   },
   "source": [
    "# Funktionale Konstrukte in Java\n",
    "\n",
    "> Moderne Programmiersprachen integrieren Konzepte von Funktionalen Sprachen:\n",
    "\n",
    "* Funktionen als Argumente \n",
    "* Anonyme Funktionen\n",
    "* (Closures)"
   ]
  },
  {
   "cell_type": "markdown",
   "metadata": {
    "slideshow": {
     "slide_type": "slide"
    }
   },
   "source": [
    "# Funktionen und Objekte"
   ]
  },
  {
   "cell_type": "markdown",
   "metadata": {
    "slideshow": {
     "slide_type": "slide"
    }
   },
   "source": [
    "# Funktionsobjekte"
   ]
  },
  {
   "cell_type": "markdown",
   "metadata": {},
   "source": [
    "\n",
    "> Idee: Funktionen sind (seiteneffektfreie) Objekte mit nur einer Methode"
   ]
  },
  {
   "cell_type": "markdown",
   "metadata": {
    "slideshow": {
     "slide_type": "fragment"
    }
   },
   "source": [
    "\n",
    "#### Implementationsstrategie\n",
    "\n",
    "1. Deklaration: Interface für Funktionen definieren\n",
    "```java\n",
    "interface Function {     \n",
    "    int apply(int x);\n",
    "}\n",
    "```\n",
    "\n",
    "2. Definition der Funktion: Anonymes Objekt erstellen \n",
    "\n",
    "```java\n",
    "Function square = new Function() {\n",
    "    public int apply(int x) { return x * x; }\n",
    "}\n",
    "```"
   ]
  },
  {
   "cell_type": "markdown",
   "metadata": {
    "slideshow": {
     "slide_type": "slide"
    }
   },
   "source": [
    "# Funktionsobjekte\n",
    "\n",
    "* Übung: Erstellen Sie eine Funktion ```times2``` die ein Argument mit zwei multipliziert\n",
    "    * Führen Sie diese aus.\n",
    "    * Schreiben Sie auch eine Funktion, die Argumente vom Typ ```Double``` nimmt."
   ]
  },
  {
   "cell_type": "code",
   "execution_count": 62,
   "metadata": {
    "slideshow": {
     "slide_type": "-"
    }
   },
   "outputs": [
    {
     "data": {
      "text/plain": [
       "6"
      ]
     },
     "execution_count": 62,
     "metadata": {},
     "output_type": "execute_result"
    }
   ],
   "source": [
    "interface Function {     \n",
    "     double apply(double x);\n",
    "};\n",
    "\n",
    "Function times2 = new Function() {\n",
    "    public double apply(double x) { return 2 * x; }\n",
    "};\n",
    "\n",
    "times2.apply(3);"
   ]
  },
  {
   "cell_type": "markdown",
   "metadata": {
    "slideshow": {
     "slide_type": "slide"
    }
   },
   "source": [
    "# Funktionsobjekte selber erstellen\n",
    "\n",
    "#### Problem\n",
    "*  Ein Interface für jede Art von Funktion\n",
    "     \n",
    "    ```java\n",
    "    interface FunctionIntString {\n",
    "       int apply(String x); \n",
    "    }\n",
    "    interface FunctionDoubleString { \n",
    "        double apply(String x);\n",
    "    }\n",
    "    ...\n",
    "}\n",
    "```"
   ]
  },
  {
   "cell_type": "markdown",
   "metadata": {
    "slideshow": {
     "slide_type": "fragment"
    }
   },
   "source": [
    "#### Lösung\n",
    "* Generics"
   ]
  },
  {
   "cell_type": "markdown",
   "metadata": {
    "slideshow": {
     "slide_type": "slide"
    }
   },
   "source": [
    "# Generische Funktionsobjekte"
   ]
  },
  {
   "cell_type": "markdown",
   "metadata": {},
   "source": [
    "* Java Generics helfen uns die Funktion nur einmal zu definieren"
   ]
  },
  {
   "cell_type": "code",
   "execution_count": 63,
   "metadata": {},
   "outputs": [],
   "source": [
    "interface Function<T, R> {     \n",
    "    R apply(T x);\n",
    "}\n",
    "\n",
    "\n",
    "\n",
    "Function<Double, Double> square = new Function<>() { \n",
    "    public Double apply(Double x) {\n",
    "        return x * x;\n",
    "    }\n",
    "}"
   ]
  },
  {
   "cell_type": "markdown",
   "metadata": {
    "slideshow": {
     "slide_type": "slide"
    }
   },
   "source": [
    "# Anwendungsbeispiel: Funktionen plotten (1)\n",
    "\n",
    "* Funktionenplotter aus der AWT Vorlesung"
   ]
  },
  {
   "cell_type": "markdown",
   "metadata": {},
   "source": [
    "![function plotter](images/awt-function-plotter.png)"
   ]
  },
  {
   "cell_type": "markdown",
   "metadata": {
    "slideshow": {
     "slide_type": "slide"
    }
   },
   "source": [
    "# Anwendungsbeispiel: Funktionen plotten (2)\n",
    "\n",
    "![plotter](./images/function-plotter.png)"
   ]
  },
  {
   "cell_type": "markdown",
   "metadata": {
    "slideshow": {
     "slide_type": "slide"
    }
   },
   "source": [
    "# Anwendungsbeispiel: Funktionen plotten (3)"
   ]
  },
  {
   "cell_type": "markdown",
   "metadata": {},
   "source": [
    "#### Vorbereitung\n",
    "\n",
    "* Um in Jupyter Notebooks plotten zu können brauchen wir die Bibliothek xchart\n",
    "* Kann in Jupyter mit ```%maven Bibliotheksname``` importiert werden\n",
    "    * ```%maven``` ist Jupiter und nicht java code"
   ]
  },
  {
   "cell_type": "code",
   "execution_count": 64,
   "metadata": {},
   "outputs": [],
   "source": [
    "// importieren einer Bibliothek in Jupyter\n",
    "%maven org.knowm.xchart:xchart:3.5.2\n",
    "    \n",
    "// import der wichtigen packages (java)\n",
    "import org.knowm.xchart.*;\n",
    "import java.awt.image.BufferedImage;"
   ]
  },
  {
   "cell_type": "markdown",
   "metadata": {
    "slideshow": {
     "slide_type": "slide"
    }
   },
   "source": [
    "# Anwendungsbeispiel: Funktionen plotten (4)\n",
    "\n",
    "#### Plot Funktionalität"
   ]
  },
  {
   "cell_type": "markdown",
   "metadata": {},
   "source": [
    "* Funktion plot wertet Funktion an Datenpunkten ```xs``` aus und plottet die Werte."
   ]
  },
  {
   "cell_type": "code",
   "execution_count": 65,
   "metadata": {},
   "outputs": [],
   "source": [
    "BufferedImage plot(double[] xs, Function<Double, Double> f) { \n",
    "    double[] ys = new double[xs.length];\n",
    "    for (int i = 0; i < xs.length; ++i) {\n",
    "        ys[i] = f.apply(xs[i]);\n",
    "    }\n",
    "    XYChart chart = QuickChart.getChart(\"Sample Chart\", \"X\", \"Y\", \"y(x)\", xs, ys);\n",
    "    return BitmapEncoder.getBufferedImage(chart);    \n",
    "};\n"
   ]
  },
  {
   "cell_type": "markdown",
   "metadata": {
    "slideshow": {
     "slide_type": "slide"
    }
   },
   "source": [
    "# Anwendungsbeispiel: Funktionen plotten (5)"
   ]
  },
  {
   "cell_type": "code",
   "execution_count": 66,
   "metadata": {
    "slideshow": {
     "slide_type": "-"
    }
   },
   "outputs": [
    {
     "data": {
      "image/png": "[encoded data removed]",
      "text/plain": [
       "BufferedImage@5ccd3a6f: type = 1 DirectColorModel: rmask=ff0000 gmask=ff00 bmask=ff amask=0 IntegerInterleavedRaster: width = 600 height = 400 #Bands = 3 xOff = 0 yOff = 0 dataOffset[0] 0"
      ]
     },
     "execution_count": 66,
     "metadata": {},
     "output_type": "execute_result"
    }
   ],
   "source": [
    "Function<Double, Double> cubic = new Function<>() { \n",
    "    public Double apply(Double x) { return x * x * x; } \n",
    "};\n",
    "\n",
    "double[] xs = new double[100];\n",
    "for (int i = 0; i < 100; ++i) {xs[i] = (i - 50) / 10.0; }\n",
    "plot(xs, cubic);"
   ]
  },
  {
   "cell_type": "markdown",
   "metadata": {},
   "source": [
    "* Übung: Plotten Sie verschiedene Funktionen"
   ]
  },
  {
   "cell_type": "markdown",
   "metadata": {
    "slideshow": {
     "slide_type": "slide"
    }
   },
   "source": [
    "# Lambda Ausdrücke"
   ]
  },
  {
   "cell_type": "markdown",
   "metadata": {
    "slideshow": {
     "slide_type": "slide"
    }
   },
   "source": [
    "# Lambda Ausdrücke\n",
    "\n",
    "* Java hat eine spezielle Syntax definiert um Funktionsobjekte zu erstellen. \n",
    "* Bekannt als ```lambda Ausdrücke```\n",
    "\n",
    "> Parameter -> Ausdruck\n",
    "\n",
    "#### Beispiel\n",
    "```java\n",
    "x -> x * x\n",
    "```"
   ]
  },
  {
   "cell_type": "markdown",
   "metadata": {
    "slideshow": {
     "slide_type": "slide"
    }
   },
   "source": [
    "# Lambda Syntax"
   ]
  },
  {
   "cell_type": "markdown",
   "metadata": {},
   "source": [
    "```bnf\n",
    "lambda = ArgList \"->\" Body\n",
    "ArgList = Identifier \n",
    "         | \"(\" [Type] Identifier { \",\" [Type] Identifier } \")\" \n",
    "         | \"()\" \n",
    "Body = Expression   |  \"{\" [ Statement \";\" ]+ \"}\"\n",
    "```"
   ]
  },
  {
   "cell_type": "markdown",
   "metadata": {
    "slideshow": {
     "slide_type": "slide"
    }
   },
   "source": [
    "# Functional Interface\n",
    "\n",
    "* Ein *Functional Interface* ist ein Interface oder Abstrakte Klasse mit genau eine Methode\n",
    "    * Methode entspricht \"Berechnung\" der Funktion\n",
    "\n",
    "### Beispiel:\n",
    "```java\n",
    "interface Function<T, R> {\n",
    "    R apply(T t);\n",
    "}\n",
    "```"
   ]
  },
  {
   "cell_type": "markdown",
   "metadata": {
    "slideshow": {
     "slide_type": "fragment"
    }
   },
   "source": [
    "* Lambda Ausdrücke können an ein *Functional Interface* zugewiesen werden.\n",
    "   * Lambdas bekommen einen Namen\n",
    "   \n",
    "```\n",
    "Function<Double, Double> f = (Double d) -> d * d;\n",
    "```"
   ]
  },
  {
   "cell_type": "markdown",
   "metadata": {
    "slideshow": {
     "slide_type": "slide"
    }
   },
   "source": [
    "# Lambdas als Methodenargumente"
   ]
  },
  {
   "cell_type": "markdown",
   "metadata": {},
   "source": [
    "* Wir können Lambdas an Methoden Übergeben:\n",
    "\n",
    "```java\n",
    "void aMethod(Function<Double, Double> f) {\n",
    "    f.apply(0.1)\n",
    "}\n",
    "```\n"
   ]
  },
  {
   "cell_type": "markdown",
   "metadata": {
    "slideshow": {
     "slide_type": "fragment"
    }
   },
   "source": [
    "#### Plotten mit Lambdas"
   ]
  },
  {
   "cell_type": "code",
   "execution_count": 72,
   "metadata": {
    "slideshow": {
     "slide_type": "-"
    }
   },
   "outputs": [
    {
     "data": {
      "image/png": "[encoded data removed]",
      "text/plain": [
       "BufferedImage@7b90c7c0: type = 1 DirectColorModel: rmask=ff0000 gmask=ff00 bmask=ff amask=0 IntegerInterleavedRaster: width = 600 height = 400 #Bands = 3 xOff = 0 yOff = 0 dataOffset[0] 0"
      ]
     },
     "execution_count": 72,
     "metadata": {},
     "output_type": "execute_result"
    }
   ],
   "source": [
    "plot(xs, (Double x) -> x * x  *x );"
   ]
  },
  {
   "cell_type": "markdown",
   "metadata": {
    "slideshow": {
     "slide_type": "slide"
    }
   },
   "source": [
    "# Lambdas als Rückgabewerte"
   ]
  },
  {
   "cell_type": "markdown",
   "metadata": {},
   "source": [
    "* Methoden können Funktionen zurückgeben.\n",
    "\n",
    "```\n",
    "Function<Double, Double> doubleFun(Double x) {\n",
    "    return x -> x * x;\n",
    "}\n",
    "```\n",
    "\n",
    "\n"
   ]
  },
  {
   "cell_type": "markdown",
   "metadata": {
    "slideshow": {
     "slide_type": "slide"
    }
   },
   "source": [
    "#### Übung: \n",
    "\n",
    "* Schreiben Sie eine Methode, die eine Funktion f vom Typ Function<Double, Double> als Argument nimmt, und eine Funktion zurückgibt, die diese zwei mal hintereinander anwendet, also der Funktion $x \\mapsto f(f(x))$ entspricht\n",
    "* Können Sie diese als generische Funktion schreiben?"
   ]
  },
  {
   "cell_type": "code",
   "execution_count": 80,
   "metadata": {
    "slideshow": {
     "slide_type": "-"
    }
   },
   "outputs": [
    {
     "data": {
      "text/plain": [
       "20.0"
      ]
     },
     "execution_count": 80,
     "metadata": {},
     "output_type": "execute_result"
    }
   ],
   "source": [
    "Function<Double, Double> doubleFun(Function<Double, Double> f) {\n",
    "    return (Double x) -> f.apply(f.apply(x));\n",
    "}\n",
    "\n",
    "Function<Double, Double> fourTimesFun = doubleFun( x -> 2 * x);\n",
    "\n",
    "fourTimesFun.apply(5.0)"
   ]
  },
  {
   "cell_type": "markdown",
   "metadata": {
    "slideshow": {
     "slide_type": "slide"
    }
   },
   "source": [
    "# Lambdas mit Anweisungsblock\n",
    "\n",
    "* Rechte Seite von Lambda Ausdruck kann beliebiger Block sein\n",
    "    * Block muss den richtigen Typ zurückliefern\n"
   ]
  },
  {
   "cell_type": "markdown",
   "metadata": {
    "slideshow": {
     "slide_type": "fragment"
    }
   },
   "source": [
    "Folgendes funktioniert:"
   ]
  },
  {
   "cell_type": "code",
   "execution_count": 85,
   "metadata": {},
   "outputs": [
    {
     "name": "stdout",
     "output_type": "stream",
     "text": [
      "5\n"
     ]
    },
    {
     "data": {
      "text/plain": [
       "5"
      ]
     },
     "execution_count": 85,
     "metadata": {},
     "output_type": "execute_result"
    }
   ],
   "source": [
    "Function<String, Integer> f = (String s) -> { \n",
    "    System.out.println(s); \n",
    "    return Integer.parseInt(s);\n",
    "};\n",
    "f.apply(\"5\");"
   ]
  },
  {
   "cell_type": "markdown",
   "metadata": {
    "slideshow": {
     "slide_type": "fragment"
    }
   },
   "source": [
    "Aber hier gibt es einen Typfehler"
   ]
  },
  {
   "cell_type": "code",
   "execution_count": 86,
   "metadata": {},
   "outputs": [
    {
     "ename": "CompilationException",
     "evalue": "",
     "output_type": "error",
     "traceback": [
      "\u001b[1m\u001b[30m|   \u001b[1m\u001b[30m    return \u001b[0m\u001b[1m\u001b[30m\u001b[41ms\u001b[0m\u001b[1m\u001b[30m;\u001b[0m",
      "\u001b[1m\u001b[31mincompatible types: bad return type in lambda expression\u001b[0m",
      "\u001b[1m\u001b[31m    java.lang.String cannot be converted to java.lang.Integer\u001b[0m",
      ""
     ]
    }
   ],
   "source": [
    "Function<String, Integer> f = (String s) -> { \n",
    "    System.out.println(s); \n",
    "    return s;\n",
    "}"
   ]
  },
  {
   "cell_type": "markdown",
   "metadata": {
    "slideshow": {
     "slide_type": "slide"
    }
   },
   "source": [
    "# Methodenreferenzen\n",
    "\n",
    "* Wir können Methoden Functional Interfaces zuweisen:\n",
    "\n",
    "```java\n",
    "Function<Double, Double> f = AClass::aMethod;\n",
    "```\n",
    "\n",
    "#### Beispiel\n"
   ]
  },
  {
   "cell_type": "code",
   "execution_count": 87,
   "metadata": {},
   "outputs": [
    {
     "data": {
      "text/plain": [
       "0.5403023058681398"
      ]
     },
     "execution_count": 87,
     "metadata": {},
     "output_type": "execute_result"
    }
   ],
   "source": [
    "Function<Double, Double> cos = Math::cos;\n",
    "cos.apply(1.0);"
   ]
  },
  {
   "cell_type": "markdown",
   "metadata": {
    "slideshow": {
     "slide_type": "slide"
    }
   },
   "source": [
    "# Funktionsobjekte mit mehreren Argumenten\n",
    "\n",
    "* Idee funktioniert für Funktionen mit beliebig vielen Argumenten"
   ]
  },
  {
   "cell_type": "code",
   "execution_count": 92,
   "metadata": {},
   "outputs": [
    {
     "data": {
      "text/plain": [
       "8.0"
      ]
     },
     "execution_count": 92,
     "metadata": {},
     "output_type": "execute_result"
    }
   ],
   "source": [
    "interface Function2<S, T, R> {\n",
    "    R apply(S s, T t);\n",
    "}\n",
    "\n",
    "Function2<Double, Double, Double> sum = (x, y) -> x + y;\n",
    "\n",
    "Function2<Double, Double, String> sumAsString = (x, y) -> new Double(x + y).toString();\n",
    "\n",
    "sumAsString.apply(3.0, 5.0)"
   ]
  },
  {
   "cell_type": "markdown",
   "metadata": {
    "slideshow": {
     "slide_type": "slide"
    }
   },
   "source": [
    "# Prädikate\n",
    "\n",
    "> Prädikat: Ein Funktionsobjekt das True oder False zurückgibt\n",
    "\n",
    "```\n",
    "interface Predicate<T>\n",
    "    boolean test(T x);\n",
    "}\n",
    "```\n",
    "\n"
   ]
  },
  {
   "cell_type": "markdown",
   "metadata": {
    "slideshow": {
     "slide_type": "slide"
    }
   },
   "source": [
    "# Prädikat: Beispiel"
   ]
  },
  {
   "cell_type": "code",
   "execution_count": 95,
   "metadata": {},
   "outputs": [
    {
     "data": {
      "text/plain": [
       "3"
      ]
     },
     "execution_count": 95,
     "metadata": {},
     "output_type": "execute_result"
    }
   ],
   "source": [
    "interface Predicate<T> { \n",
    "    boolean test(T x);\n",
    "}\n",
    "\n",
    "double[] array = {0.1, 0.7, -0.5, 1.0};\n",
    "\n",
    "// returns the number of elements, which have the property specified by Predicate pred\n",
    "int count(double[] array, Predicate<Double> pred) {\n",
    "  \n",
    "    int counter = 0;\n",
    "    \n",
    "    for (int i = 0; i < array.length; ++i) {\n",
    "        if (pred.test(array[i]) == true) {\n",
    "            counter += 1;\n",
    "        }\n",
    "    }\n",
    "    \n",
    "    return counter;\n",
    "}\n",
    "\n",
    "count(array, x -> x > 0.0);"
   ]
  },
  {
   "cell_type": "markdown",
   "metadata": {},
   "source": [
    "### Übung: \n",
    "* Implementieren Sie die Methode\n",
    "* Testen Sie diese mit verschiedenen Prädikaten"
   ]
  },
  {
   "cell_type": "markdown",
   "metadata": {
    "slideshow": {
     "slide_type": "slide"
    }
   },
   "source": [
    "# Seitenbemerkung: Sind Lambda's anonyme Innerklassen?\n",
    "\n",
    "* Erste Implementationen von Lambda Ausdrücken waren nur \"Syntactic Sugar\".\n",
    "\n",
    "Ausdruck:\n",
    "\n",
    "```\n",
    "Function f  = x -> x*x ;\n",
    "```\n",
    "wurde ersetzt durch \n",
    "```` \n",
    "f  = new Function() {\n",
    "    int exec (int x) { return x*x; }   \n",
    "}   \n",
    "```\n",
    "\n",
    "> Heute sind die Details etwas komplizierter. \n",
    "> * Effiziente Implementation - direkt unterstützt durch JVM"
   ]
  },
  {
   "cell_type": "markdown",
   "metadata": {
    "slideshow": {
     "slide_type": "slide"
    }
   },
   "source": [
    "# Funktionsobjekte in der Java Standardbibliothek"
   ]
  },
  {
   "cell_type": "markdown",
   "metadata": {
    "slideshow": {
     "slide_type": "slide"
    }
   },
   "source": [
    "* Standard Funktionstypen sind in [Java API Dokumentation](https://docs.oracle.com/javase/8/docs/api/) definiert:\n",
    "\n",
    "![images](./images/function-api.png)\n"
   ]
  },
  {
   "cell_type": "markdown",
   "metadata": {
    "slideshow": {
     "slide_type": "slide"
    }
   },
   "source": [
    "# Sourcecode vom Java Funktionsinterface"
   ]
  },
  {
   "cell_type": "code",
   "execution_count": null,
   "metadata": {},
   "outputs": [],
   "source": [
    "public interface Function<T, R> {\n",
    "\n",
    "    R apply(T t);\n",
    "\n",
    "    default <V> Function<V, R> compose(Function<? super V, ? extends T> before) {\n",
    "        Objects.requireNonNull(before);\n",
    "        return (V v) -> apply(before.apply(v));\n",
    "    }\n",
    "\n",
    "    default <V> Function<T, V> andThen(Function<? super R, ? extends V> after) {\n",
    "        Objects.requireNonNull(after);\n",
    "        return (T t) -> after.apply(apply(t));\n",
    "    }\n",
    "\n",
    "    static <T> Function<T, T> identity() {\n",
    "        return t -> t;\n",
    "    }\n",
    "}"
   ]
  },
  {
   "cell_type": "markdown",
   "metadata": {
    "slideshow": {
     "slide_type": "slide"
    }
   },
   "source": [
    "# Komposition und Identität"
   ]
  },
  {
   "cell_type": "markdown",
   "metadata": {},
   "source": [
    "#### Übung: \n",
    "\n",
    "* Versuchen Sie verschiedene Funktionen mit ```compose``` zu kombinieren"
   ]
  },
  {
   "cell_type": "code",
   "execution_count": null,
   "metadata": {},
   "outputs": [],
   "source": []
  },
  {
   "cell_type": "markdown",
   "metadata": {
    "slideshow": {
     "slide_type": "slide"
    }
   },
   "source": [
    "# Sourcecode vom Java Predicate"
   ]
  },
  {
   "cell_type": "code",
   "execution_count": null,
   "metadata": {},
   "outputs": [],
   "source": [
    "public interface Predicate<T> {\n",
    "\n",
    "    boolean test(T t);\n",
    "    \n",
    "    default Predicate<T> and(Predicate<? super T> other) {\n",
    "        Objects.requireNonNull(other);\n",
    "        return (t) -> test(t) && other.test(t);\n",
    "    }\n",
    "\n",
    "    default Predicate<T> negate() {\n",
    "        return (t) -> !test(t);\n",
    "    }\n",
    "\n",
    "    default Predicate<T> or(Predicate<? super T> other) {\n",
    "        Objects.requireNonNull(other);\n",
    "        return (t) -> test(t) || other.test(t);\n",
    "    }\n",
    "\n",
    "    static <T> Predicate<T> isEqual(Object targetRef) {\n",
    "        return (null == targetRef)\n",
    "                ? Objects::isNull\n",
    "                : object -> targetRef.equals(object);\n",
    "    }\n",
    "}\n"
   ]
  },
  {
   "cell_type": "markdown",
   "metadata": {},
   "source": [
    "#### Übung:\n",
    "\n",
    "* Versuchen Sie verschiedene Prädikate mit ```and``` ```or```und ```negate``` zu kombinieren"
   ]
  },
  {
   "cell_type": "code",
   "execution_count": null,
   "metadata": {},
   "outputs": [],
   "source": []
  },
  {
   "cell_type": "code",
   "execution_count": null,
   "metadata": {},
   "outputs": [],
   "source": []
  }
 ],
 "metadata": {
  "celltoolbar": "Slideshow",
  "kernelspec": {
   "display_name": "Java",
   "language": "java",
   "name": "java"
  },
  "language_info": {
   "codemirror_mode": "java",
   "file_extension": ".java",
   "mimetype": "text/x-java-source",
   "name": "Java",
   "pygments_lexer": "java",
   "version": "10.0.1+10"
  },
  "livereveal": {
   "scroll": false,
   "transition": "none"
  }
 },
 "nbformat": 4,
 "nbformat_minor": 2
}
