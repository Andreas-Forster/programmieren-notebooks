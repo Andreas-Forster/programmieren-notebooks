{
 "cells": [
  {
   "cell_type": "markdown",
   "metadata": {
    "slideshow": {
     "slide_type": "slide"
    }
   },
   "source": [
    "# Interaktiv Java programmieren\n",
    "\n",
    "### JShell und Jupyter Notebooks\n",
    "\n",
    "#### Marcel Lüthi, Departement Mathematik und Informatik"
   ]
  },
  {
   "cell_type": "markdown",
   "metadata": {
    "slideshow": {
     "slide_type": "slide"
    }
   },
   "source": [
    "# Agenda\n",
    "\n",
    "* Interaktives Java\n",
    "\n",
    "* JShell\n",
    "    * Was ist die JShell\n",
    "    * Warum JShell\n",
    "    * Elemente in der JShell\n",
    "* Jupyter Notebooks\n",
    "    * Was sind Jupyter Notebooks\n",
    "    * Aufbau von Jupyter Notebooks\n",
    "    * Experimente"
   ]
  },
  {
   "cell_type": "markdown",
   "metadata": {
    "slideshow": {
     "slide_type": "slide"
    }
   },
   "source": [
    "# Interaktives Java"
   ]
  },
  {
   "cell_type": "markdown",
   "metadata": {
    "slideshow": {
     "slide_type": "slide"
    }
   },
   "source": [
    "# Standard Programmierablauf\n",
    "\n",
    "* Programm schreiben\n",
    "    * Klassen\n",
    "    * Imports\n",
    "    * Main Methode\n",
    "* Ausführen und Fehler finden (in Loop)\n",
    "    * Editieren\n",
    "    * Kompilieren\n",
    "    * Ausführen"
   ]
  },
  {
   "cell_type": "markdown",
   "metadata": {
    "slideshow": {
     "slide_type": "slide"
    }
   },
   "source": [
    "### Beispiel:\n",
    "\n",
    "% ```edit Hello.java```\n",
    "```\n",
    "class Hello.java {\n",
    "    public static void main(String[] args) { \n",
    "        System.out.println(\"hello world\");\n",
    "    }\n",
    "}\n",
    "```\n",
    "\n",
    "% ```javac Hello.java```\n",
    "\n",
    "% ```java Hello```\n",
    "\n",
    "\"hello world\"\n",
    "\n",
    "% ```edit Hello.java```"
   ]
  },
  {
   "cell_type": "markdown",
   "metadata": {
    "slideshow": {
     "slide_type": "slide"
    }
   },
   "source": [
    "# Interaktives Java"
   ]
  },
  {
   "cell_type": "code",
   "execution_count": 2,
   "metadata": {
    "slideshow": {
     "slide_type": "-"
    }
   },
   "outputs": [
    {
     "name": "stdout",
     "output_type": "stream",
     "text": [
      "hello\n"
     ]
    }
   ],
   "source": [
    "System.out.println(\"hello world\");"
   ]
  },
  {
   "cell_type": "markdown",
   "metadata": {
    "slideshow": {
     "slide_type": "slide"
    }
   },
   "source": [
    "# Interaktiver Programmierzyklus\n",
    "\n",
    "* Codesnippet schreiben \n",
    "* Verhalten / Output wird sofort klar"
   ]
  },
  {
   "cell_type": "markdown",
   "metadata": {
    "slideshow": {
     "slide_type": "slide"
    }
   },
   "source": [
    "# JShell"
   ]
  },
  {
   "cell_type": "markdown",
   "metadata": {
    "slideshow": {
     "slide_type": "slide"
    }
   },
   "source": [
    "# Was ist die JShell?\n",
    "\n",
    "* REPL (Read Eval Print Loop) für Java\n",
    "* Integraler Teil von Java (JDK) seit Java 9\n",
    "* Tiefe Integration mit Compiler / Tools \n",
    "    * Kann nicht veralten\n",
    "* API um aus Programmen mit REPL zu interagieren"
   ]
  },
  {
   "cell_type": "markdown",
   "metadata": {
    "slideshow": {
     "slide_type": "slide"
    }
   },
   "source": [
    "# Was ist die JShell nicht?\n",
    "\n",
    "* Keine neue Sprache\n",
    "* Kein Ersatz für den Compiler\n",
    "* Keine IDE (Integrierte Entwicklungsumgebung)"
   ]
  },
  {
   "cell_type": "markdown",
   "metadata": {
    "slideshow": {
     "slide_type": "slide"
    }
   },
   "source": [
    "# Wofür braucht man die JShell?\n",
    "\n",
    "* Java lernen\n",
    "    * Erlaubt einfacheren Einstieg\n",
    "    * Direktes Feedback\n",
    "* Um ein neues API zu explorieren\n",
    "* Um Prototypen von Methoden/Klassen zu erstellen\n"
   ]
  },
  {
   "cell_type": "markdown",
   "metadata": {
    "slideshow": {
     "slide_type": "slide"
    }
   },
   "source": [
    "# Elemente der JShell (Java)\n",
    "\n",
    "* Variablen\n",
    "    * Typ kann automatisch gefunden werden\n",
    "* Methoden \n",
    "    * Klassenkontext automatisch\n",
    "* Klassen, Interfaces, Enums, ...\n",
    "* Ausdrücke (Expressions)\n",
    "* Anweisungen (Statements)\n",
    "* Imports"
   ]
  },
  {
   "cell_type": "markdown",
   "metadata": {
    "slideshow": {
     "slide_type": "slide"
    }
   },
   "source": [
    "# Elemente der JShell (Kommandos)\n",
    "\n",
    "* /list \n",
    "    * Sourcen auflisten\n",
    "* /vars /methods /classes \n",
    "    * Variablen / Methoden / Klassen ausgeben\n",
    "* /save /open\n",
    "    * Session speichern / Öffnen\n",
    "* /edit \n",
    "    * Editieren\n",
    "* /help"
   ]
  },
  {
   "cell_type": "markdown",
   "metadata": {
    "slideshow": {
     "slide_type": "slide"
    }
   },
   "source": [
    "# JShell aufrufen und nutzen\n",
    "\n",
    "![Image](images/jshell.png)"
   ]
  },
  {
   "cell_type": "markdown",
   "metadata": {
    "slideshow": {
     "slide_type": "slide"
    }
   },
   "source": [
    "# Jupyter Notebooks"
   ]
  },
  {
   "cell_type": "markdown",
   "metadata": {
    "slideshow": {
     "slide_type": "slide"
    }
   },
   "source": [
    "# Was sind Jupyter notebooks\n",
    "\n",
    "* Interaktive Programmierumgebung im Web-browser\n",
    "* Verknüpfung von Text und Programmcode (Literate Programming)\n",
    "* Ursprünglich für IPython Shell geschrieben, jetzt sprachunabhängig"
   ]
  },
  {
   "cell_type": "markdown",
   "metadata": {
    "slideshow": {
     "slide_type": "slide"
    }
   },
   "source": [
    "## Das ist ein Jupyter notebook!"
   ]
  },
  {
   "cell_type": "markdown",
   "metadata": {
    "slideshow": {
     "slide_type": "slide"
    }
   },
   "source": [
    "# Architektur von Jupyter Notebooks\n",
    "\n",
    "![Architectur](images/notebook_components.jpg)"
   ]
  },
  {
   "cell_type": "markdown",
   "metadata": {
    "slideshow": {
     "slide_type": "slide"
    }
   },
   "source": [
    "# Jupyter Notebooks und Java\n",
    "\n",
    "![Architektur - JShell] "
   ]
  },
  {
   "cell_type": "code",
   "execution_count": null,
   "metadata": {},
   "outputs": [],
   "source": []
  }
 ],
 "metadata": {
  "celltoolbar": "Slideshow",
  "kernelspec": {
   "display_name": "Java",
   "language": "java",
   "name": "java"
  },
  "language_info": {
   "codemirror_mode": "java",
   "file_extension": ".java",
   "mimetype": "text/x-java-source",
   "name": "Java",
   "pygments_lexer": "java",
   "version": "10.0.1+10-Debian-4"
  },
  "livereveal": {
   "theme": "sky",
   "transition": "zoom"
  }
 },
 "nbformat": 4,
 "nbformat_minor": 2
}
