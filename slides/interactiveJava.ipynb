{
 "cells": [
  {
   "cell_type": "markdown",
   "metadata": {
    "slideshow": {
     "slide_type": "slide"
    }
   },
   "source": [
    "# Interaktiv Java programmieren \n",
    "### mit JShell und Jupyter Notebooks\n",
    "\n",
    "<br/>\n",
    "<br/>\n",
    "\n",
    "###### Marcel Lüthi <br/> Departement Mathematik und Informatik"
   ]
  },
  {
   "cell_type": "markdown",
   "metadata": {
    "slideshow": {
     "slide_type": "slide"
    }
   },
   "source": [
    "# Agenda\n",
    "\n",
    "* Interaktives Java\n",
    "\n",
    "* JShell\n",
    "    * Was ist die JShell\n",
    "    * Warum JShell\n",
    "    * Elemente in der JShell\n",
    "* Jupyter Notebooks\n",
    "    * Was sind Jupyter Notebooks\n",
    "    * Jupyter Notebooks und Java\n",
    "    * Tour durch Jupyter Notebooks\n",
    "    * Experimente"
   ]
  },
  {
   "cell_type": "markdown",
   "metadata": {
    "slideshow": {
     "slide_type": "slide"
    }
   },
   "source": [
    "# Interaktives Java"
   ]
  },
  {
   "cell_type": "markdown",
   "metadata": {
    "slideshow": {
     "slide_type": "slide"
    }
   },
   "source": [
    "# Standard Programmierablauf\n",
    "\n",
    "* Programm schreiben\n",
    "    * Klassen\n",
    "    * Imports\n",
    "    * Main Methode"
   ]
  },
  {
   "cell_type": "markdown",
   "metadata": {
    "slideshow": {
     "slide_type": "fragment"
    }
   },
   "source": [
    "* Ausführen und Fehler finden (in Loop)\n",
    "    * Kompilieren    \n",
    "    * Ausführen\n",
    "    * Editieren    "
   ]
  },
  {
   "cell_type": "markdown",
   "metadata": {
    "slideshow": {
     "slide_type": "slide"
    }
   },
   "source": [
    "### Beispiel:\n",
    "\n",
    "% ```edit Hello.java```\n",
    "\n",
    "\n",
    "```\n",
    "class Hello {\n",
    "\n",
    "    public static void main(String[] args) { \n",
    "    \n",
    "        System.out.println(\"hello world\");\n",
    "    \n",
    "    }\n",
    "\n",
    "}\n",
    "```"
   ]
  },
  {
   "cell_type": "markdown",
   "metadata": {
    "slideshow": {
     "slide_type": "fragment"
    }
   },
   "source": [
    "% ```javac Hello.java```"
   ]
  },
  {
   "cell_type": "markdown",
   "metadata": {
    "slideshow": {
     "slide_type": "fragment"
    }
   },
   "source": [
    "% ```java Hello```\n",
    "\n",
    "\"hello world\""
   ]
  },
  {
   "cell_type": "markdown",
   "metadata": {
    "slideshow": {
     "slide_type": "fragment"
    }
   },
   "source": [
    "% ```edit Hello.java```"
   ]
  },
  {
   "cell_type": "markdown",
   "metadata": {
    "slideshow": {
     "slide_type": "slide"
    }
   },
   "source": [
    "# Interaktives Java"
   ]
  },
  {
   "cell_type": "code",
   "execution_count": null,
   "metadata": {
    "slideshow": {
     "slide_type": "-"
    }
   },
   "outputs": [],
   "source": []
  },
  {
   "cell_type": "markdown",
   "metadata": {
    "slideshow": {
     "slide_type": "slide"
    }
   },
   "source": [
    "# Interaktiver Programmierzyklus\n",
    "\n",
    "* Codesnippet schreiben \n",
    "* Verhalten / Output wird sofort klar"
   ]
  },
  {
   "cell_type": "markdown",
   "metadata": {
    "slideshow": {
     "slide_type": "slide"
    }
   },
   "source": [
    "# JShell\n",
    "\n",
    "![jshell](images/jshell.png)"
   ]
  },
  {
   "cell_type": "markdown",
   "metadata": {
    "slideshow": {
     "slide_type": "slide"
    }
   },
   "source": [
    "# Was ist die JShell?\n",
    "\n",
    "* REPL (Read Eval Print Loop) für Java\n",
    "* Integraler Teil von Java (JDK) seit Java 9 \n",
    "* Tiefe Integration mit Compiler / Tools \n",
    "    * Kann nicht veralten\n",
    "* API um aus Programmen mit REPL zu interagieren"
   ]
  },
  {
   "cell_type": "markdown",
   "metadata": {
    "slideshow": {
     "slide_type": "slide"
    }
   },
   "source": [
    "# Was ist die JShell nicht?\n",
    "\n",
    "* Keine neue Sprache\n",
    "* Kein Ersatz für den Compiler\n",
    "* Keine IDE (Integrierte Entwicklungsumgebung)"
   ]
  },
  {
   "cell_type": "markdown",
   "metadata": {
    "slideshow": {
     "slide_type": "slide"
    }
   },
   "source": [
    "# Wofür braucht man die JShell?\n",
    "\n",
    "* Java lernen\n",
    "    * Erlaubt einfacheren Einstieg\n",
    "    * Direktes Feedback\n",
    "* Um ein neues API zu explorieren\n",
    "* Um Prototypen von Methoden/Klassen zu erstellen\n"
   ]
  },
  {
   "cell_type": "markdown",
   "metadata": {
    "slideshow": {
     "slide_type": "slide"
    }
   },
   "source": [
    "# Elemente der JShell (Java)\n",
    "\n",
    "* Variablen\n",
    "    * Typ kann automatisch gefunden werden\n",
    "* Methoden \n",
    "    * Klassenkontext automatisch\n",
    "* Klassen, Interfaces, ...\n",
    "* Ausdrücke (Expressions)\n",
    "* Anweisungen (Statements)\n",
    "* Imports"
   ]
  },
  {
   "cell_type": "markdown",
   "metadata": {
    "slideshow": {
     "slide_type": "slide"
    }
   },
   "source": [
    "# Elemente der JShell (Kommandos)\n",
    "\n",
    "* /list \n",
    "    * Sourcen auflisten\n",
    "* /vars /methods /classes \n",
    "    * Variablen / Methoden / Klassen ausgeben\n",
    "* /save /open\n",
    "    * Session speichern / Öffnen\n",
    "* /edit \n",
    "    * Editieren\n",
    "* /help"
   ]
  },
  {
   "cell_type": "markdown",
   "metadata": {
    "slideshow": {
     "slide_type": "slide"
    }
   },
   "source": [
    "# JShell aufrufen und nutzen\n",
    "\n",
    "![Image](images/jshell.png)"
   ]
  },
  {
   "cell_type": "markdown",
   "metadata": {
    "slideshow": {
     "slide_type": "slide"
    }
   },
   "source": [
    "# Jupyter Notebooks"
   ]
  },
  {
   "cell_type": "markdown",
   "metadata": {
    "slideshow": {
     "slide_type": "slide"
    }
   },
   "source": [
    "# Was sind Jupyter notebooks\n",
    "\n",
    "* Interaktive Programmierumgebung im Web-browser\n",
    "* Verknüpfung von Text und Programmcode (Literate Programming)\n",
    "* Ursprünglich für IPython Shell geschrieben, jetzt sprachunabhängig"
   ]
  },
  {
   "cell_type": "markdown",
   "metadata": {
    "slideshow": {
     "slide_type": "slide"
    }
   },
   "source": [
    "## Das ist ein Jupyter notebook!"
   ]
  },
  {
   "cell_type": "markdown",
   "metadata": {
    "slideshow": {
     "slide_type": "slide"
    }
   },
   "source": [
    "# Architektur von Jupyter Notebooks\n",
    "\n",
    "![Architectur](images/notebook_components.png)"
   ]
  },
  {
   "cell_type": "markdown",
   "metadata": {
    "slideshow": {
     "slide_type": "slide"
    }
   },
   "source": [
    "# Jupyter Notebooks und Java\n",
    "\n",
    "![Architectur](images/notebook_components-jshell.png)"
   ]
  },
  {
   "cell_type": "markdown",
   "metadata": {
    "slideshow": {
     "slide_type": "slide"
    }
   },
   "source": [
    "# Tour durch Jupyter Notebooks\n",
    "\n",
    "* Starten von Jupyter notebook (server)\n",
    "    * Virtuelle Maschine: Start server Icon auf Desktop\n",
    "    * Docker: ```docker run -p 8888:8888 -it marcelluethi/programming-notebooks:1.1```\n",
    "* In Browser gehen:\n",
    "    * URL: ```http://localhost:8888```"
   ]
  },
  {
   "cell_type": "markdown",
   "metadata": {
    "slideshow": {
     "slide_type": "fragment"
    }
   },
   "source": [
    "### Notfallplan:\n",
    "\n",
    "Gehen Sie auf ```http://35.204.58.27```\n",
    "\n",
    "oder ```https://github.com/SpencerPark/IJava```\n"
   ]
  },
  {
   "cell_type": "markdown",
   "metadata": {
    "slideshow": {
     "slide_type": "slide"
    }
   },
   "source": [
    "# Experimente\n",
    "\n",
    "* Machen Sie folgende Experiemente:    \n",
    "    * Schreiben Sie Hello World in der einfachst möglichen Weise und führen Sie dieses aus.\n",
    "    * Schreiben Sie eine Klasse mit mindestens einer Methode\n",
    "    * Geben Sie einen Befehl ein, der nicht kompiliert. Was passiert?\n",
    "    * Was passiert, wenn Sie kein Semikolon am Ende einer Anweisung schreiben?\n",
    "    * Erzeugen Sie ein leeres Array und greifen Sie auf ein Element zu. Was passiert?\n",
    "    \n",
    "    \n",
    "    \n"
   ]
  },
  {
   "cell_type": "markdown",
   "metadata": {
    "slideshow": {
     "slide_type": "slide"
    }
   },
   "source": [
    "# Experimente (2)\n",
    "\n",
    "* Deklarieren und initialisieren Sie eine Variable in einer Zelle. Erzeugen Sie dann eine neue Zelle oben an dieser Zelle und greifen Sie auf die Variable zu. Funktioniert das?\n",
    "    \n",
    "* Erzeugen Sie ein Objekt der oben erstellten Klasse\n",
    "* Was passiert, wenn sie System. eingeben (mit dem Punkt) und danach die Taste ```tab``` drücken?\n",
    "    * Funktioniert das auch mit Ihren eigenen Methoden?\n",
    "* Was passiert, wenn Sie den Cursor auf System bewegen und dann ```Shift-Tab``` drücken?\n",
    "    "
   ]
  },
  {
   "cell_type": "code",
   "execution_count": null,
   "metadata": {},
   "outputs": [],
   "source": []
  }
 ],
 "metadata": {
  "celltoolbar": "Slideshow",
  "kernelspec": {
   "display_name": "Java",
   "language": "java",
   "name": "java"
  },
  "language_info": {
   "codemirror_mode": "java",
   "file_extension": ".java",
   "mimetype": "text/x-java-source",
   "name": "Java",
   "pygments_lexer": "java",
   "version": "10.0.1+10"
  },
  "livereveal": {
   "theme": "capucino",
   "transition": "none"
  }
 },
 "nbformat": 4,
 "nbformat_minor": 2
}
