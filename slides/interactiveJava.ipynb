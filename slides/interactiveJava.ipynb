{
 "cells": [
  {
   "cell_type": "markdown",
   "metadata": {
    "slideshow": {
     "slide_type": "slide"
    }
   },
   "source": [
    "# Interaktiv Java programmieren\n",
    "\n",
    "### JShell und Jupyter Notebooks\n",
    "\n",
    "#### Marcel Lüthi, Departement Mathematik und Informatik"
   ]
  },
  {
   "cell_type": "markdown",
   "metadata": {
    "slideshow": {
     "slide_type": "slide"
    }
   },
   "source": [
    "# Agenda\n",
    "\n",
    "* Interaktives Java\n",
    "\n",
    "* JShell\n",
    "    * Was ist die JSHell\n",
    "    * Warum JShell\n",
    "    * Wie nutzt man JShell\n",
    "* Jupyter Notebooks\n",
    "    * Was sind Jupyter Notebooks\n",
    "    * Jupyter Notebooks und Java\n",
    "    * Experimente"
   ]
  },
  {
   "cell_type": "markdown",
   "metadata": {
    "slideshow": {
     "slide_type": "slide"
    }
   },
   "source": [
    "# Standard Programmierablauf\n",
    "\n",
    "* Programm schreiben\n",
    "    * Klassen\n",
    "    * Imports\n",
    "    * Main Methode\n",
    "* Ausführen und Fehler finden (in Loop)\n",
    "    * Editieren\n",
    "    * Kompilieren\n",
    "    * Ausführen"
   ]
  },
  {
   "cell_type": "markdown",
   "metadata": {
    "slideshow": {
     "slide_type": "slide"
    }
   },
   "source": [
    "### Beispiel:\n",
    "\n",
    "% ```edit Hello.java```\n",
    "```\n",
    "class Hello.java {\n",
    "    public static void main(String[] args) { \n",
    "        System.out.println(\"hello world\");\n",
    "    }\n",
    "}\n",
    "```\n",
    "\n",
    "% ```javac Hello.java```\n",
    "\n",
    "% ```java Hello```\n",
    "\n",
    "\"hello world\"\n",
    "\n",
    "% ```edit Hello.java```"
   ]
  },
  {
   "cell_type": "markdown",
   "metadata": {
    "slideshow": {
     "slide_type": "slide"
    }
   },
   "source": [
    "# Interaktives Java"
   ]
  },
  {
   "cell_type": "code",
   "execution_count": 10,
   "metadata": {
    "slideshow": {
     "slide_type": "-"
    }
   },
   "outputs": [],
   "source": [
    "class Hello { \n",
    "    public void greet() { System.out.println(\"hello\"); }\n",
    "}"
   ]
  },
  {
   "cell_type": "markdown",
   "metadata": {},
   "source": [
    "# Interaktiver Programmierzyklus"
   ]
  },
  {
   "cell_type": "code",
   "execution_count": null,
   "metadata": {
    "slideshow": {
     "slide_type": "slide"
    }
   },
   "outputs": [],
   "source": []
  }
 ],
 "metadata": {
  "celltoolbar": "Slideshow",
  "kernelspec": {
   "display_name": "Java",
   "language": "java",
   "name": "java"
  },
  "language_info": {
   "codemirror_mode": "java",
   "file_extension": ".java",
   "mimetype": "text/x-java-source",
   "name": "Java",
   "pygments_lexer": "java",
   "version": "10.0.1+10-Debian-4"
  },
  "livereveal": {
   "theme": "sky",
   "transition": "zoom"
  }
 },
 "nbformat": 4,
 "nbformat_minor": 2
}
