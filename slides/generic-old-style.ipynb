{
 "cells": [
  {
   "cell_type": "markdown",
   "metadata": {
    "slideshow": {
     "slide_type": "slide"
    }
   },
   "source": [
    "# Generisches Programmieren mit Java\n",
    "\n",
    "#### Marcel Lüthi\n",
    "#### Departement Mathematik und Informatik <br/> Universität Basel"
   ]
  },
  {
   "cell_type": "markdown",
   "metadata": {
    "slideshow": {
     "slide_type": "slide"
    }
   },
   "source": [
    "# Agenda\n",
    "\n",
    "* Problemmotivation\n",
    "* Lösung: Generische Programmieren mit Objekten (Old Style)\n",
    "* Intermezzo: Hüllenklassen\n",
    "* Kollektionen von Objekten verschiedenen Typs\n",
    "* Operationen auf Kollektionen von Objekten\n",
    "\n"
   ]
  },
  {
   "cell_type": "markdown",
   "metadata": {
    "slideshow": {
     "slide_type": "slide"
    }
   },
   "source": [
    "# Ausgangslage: Stack für Integers"
   ]
  },
  {
   "cell_type": "code",
   "execution_count": null,
   "metadata": {
    "slideshow": {
     "slide_type": "-"
    }
   },
   "outputs": [],
   "source": [
    "class IntStack {\n",
    "    private int[] data = new int[1000]; // Vereinfachung: Feste Grösse\n",
    "    private int nElements = 0; // Anzahl Elemente im Stack\n",
    "    \n",
    "    public void push(int i) {\n",
    "        data[nElements] = i;     \n",
    "        nElements += 1;\n",
    "    }\n",
    "    \n",
    "    public int pop() { \n",
    "        if (nElements <= 0) {\n",
    "            throw new RuntimeException(\"pop from empty stack\");\n",
    "        }\n",
    "        else {\n",
    "            nElements -= 1;\n",
    "            return data[nElements];\n",
    "       }\n",
    "    }\n",
    "    public int size() { return this.nElements; }\n",
    "}"
   ]
  },
  {
   "cell_type": "markdown",
   "metadata": {
    "slideshow": {
     "slide_type": "slide"
    }
   },
   "source": [
    "# Nutzung vom Stack"
   ]
  },
  {
   "cell_type": "code",
   "execution_count": null,
   "metadata": {},
   "outputs": [],
   "source": [
    "IntStack stack = new IntStack();\n",
    "System.out.println(\"Size \" + stack.size());\n",
    "stack.push(10);\n",
    "System.out.println(\"Size \" + stack.size());\n",
    "int element = stack.pop();\n",
    "System.out.println(\"gelesen: \" + element);\n",
    "System.out.println(\"Size \" + stack.size());"
   ]
  },
  {
   "cell_type": "markdown",
   "metadata": {
    "slideshow": {
     "slide_type": "slide"
    }
   },
   "source": [
    "# Problem\n",
    "\n",
    "* Was machen wir wenn wir nun einen Stack von Strings wollen?\n",
    "* ... und einen Stack von Double?\n",
    "* ... und einen Stack von Floats?\n",
    "\n",
    "> Kopieren von Code ist keine Lösung!"
   ]
  },
  {
   "cell_type": "markdown",
   "metadata": {
    "slideshow": {
     "slide_type": "slide"
    }
   },
   "source": [
    "# Generische Programmierung mit Objekten "
   ]
  },
  {
   "cell_type": "markdown",
   "metadata": {
    "slideshow": {
     "slide_type": "slide"
    }
   },
   "source": [
    "# Ansatz\n",
    "\n",
    "* Ausnutzen, der Klassenhierarchie\n",
    "\n",
    "![hierarchy](./images/class-hierarchy.gif)\n",
    "<figcaption style=\"font-size:xx-small\">Quelle: https://docs.oracle.com/javase/tutorial/figures/java/classes-object.gif</figcaption>"
   ]
  },
  {
   "cell_type": "markdown",
   "metadata": {
    "slideshow": {
     "slide_type": "slide"
    }
   },
   "source": [
    "# Ansatz\n",
    "\n",
    "* Zuweisung zu Objekt ist immer möglich"
   ]
  },
  {
   "cell_type": "code",
   "execution_count": null,
   "metadata": {},
   "outputs": [],
   "source": [
    "String s = new String(\"\");\n",
    "Integer i = new Integer(5);\n",
    "Date d = new Date(1970, 12, 31);"
   ]
  },
  {
   "cell_type": "markdown",
   "metadata": {
    "slideshow": {
     "slide_type": "slide"
    }
   },
   "source": [
    "# Generisches Stack Implementation"
   ]
  },
  {
   "cell_type": "code",
   "execution_count": null,
   "metadata": {},
   "outputs": [],
   "source": [
    "class Stack { \n",
    "    \n",
    "    private Object[] data = new Object[1000]; // Vereinfachung: Feste grösse\n",
    "    private int nElements = 0; // Anzahl Elemente im Stack\n",
    " \n",
    "    public void push(Object element) {\n",
    "        data[nElements] = element;     \n",
    "        nElements += 1;\n",
    "    }\n",
    "    \n",
    "    public Object pop() { \n",
    "        if (nElements <= 0) {\n",
    "            return null;\n",
    "        }\n",
    "        else {\n",
    "            nElements -= 1;\n",
    "            return data[nElements];\n",
    "       }\n",
    "    }\n",
    "    public int size() { return this.nElements; }\n",
    "}\n"
   ]
  },
  {
   "cell_type": "markdown",
   "metadata": {
    "slideshow": {
     "slide_type": "slide"
    }
   },
   "source": [
    "# Übung: Nutzung des Stacks\n"
   ]
  },
  {
   "cell_type": "markdown",
   "metadata": {
    "slideshow": {
     "slide_type": "-"
    }
   },
   "source": [
    "* Nutzen Sie den generischen Stack. \n",
    "* Speichern Sie ein Objekt einer von Ihnen erstellten Klasse\n"
   ]
  },
  {
   "cell_type": "code",
   "execution_count": null,
   "metadata": {},
   "outputs": [],
   "source": []
  },
  {
   "cell_type": "code",
   "execution_count": null,
   "metadata": {},
   "outputs": [],
   "source": []
  },
  {
   "cell_type": "markdown",
   "metadata": {
    "slideshow": {
     "slide_type": "slide"
    }
   },
   "source": [
    "# Intermezzo: Hüllenklassen und autoboxing"
   ]
  },
  {
   "cell_type": "markdown",
   "metadata": {
    "slideshow": {
     "slide_type": "slide"
    }
   },
   "source": [
    "# Stack mit primitiven Datentypen\n",
    "\n",
    "Beobachtung: Wir können nur Objekte auf dem Stack speichern.\n",
    "\n",
    "* Ist int ein Objekt?\n",
    "* Funktioniert folgender Code?"
   ]
  },
  {
   "cell_type": "code",
   "execution_count": null,
   "metadata": {},
   "outputs": [],
   "source": [
    "int anInt  = 3;\n",
    "Stack stack = new Stack();\n",
    "stack.push(anInt);"
   ]
  },
  {
   "cell_type": "markdown",
   "metadata": {
    "slideshow": {
     "slide_type": "slide"
    }
   },
   "source": [
    "# Hüllenklassen für Primitive Datentypen\n",
    "\n",
    "* Zu jedem primitiven Datentyp existiert eine Hüllenklasse (Wrapper)\n",
    "\n",
    "| Primitiver Typ | Hüllenklasse |\n",
    "|----------------|--------------|\n",
    "| int | Integer |\n",
    "| short | Short |\n",
    "| long | Long | \n",
    "| double | Double |\n",
    "| float | Float | \n",
    "| char | Character | \n",
    "| boolean | Boolean |\n",
    "\n",
    "Beispiel:"
   ]
  },
  {
   "cell_type": "code",
   "execution_count": null,
   "metadata": {},
   "outputs": [],
   "source": [
    "Integer anInt = new Integer(5);\n",
    "int aPrimitiveInt = anInt.intValue();    "
   ]
  },
  {
   "cell_type": "markdown",
   "metadata": {
    "slideshow": {
     "slide_type": "slide"
    }
   },
   "source": [
    "# Autoboxing\n",
    "\n",
    "* *Boxing*: Ein primitiver Typ wird automatisch in ein Objekt der Hüllenklasse konvertiert\n",
    "* *Unboxing*: Ein Hüllenklassentyp wird automatisch in einen primitiven Typen konvertiert\n"
   ]
  },
  {
   "cell_type": "code",
   "execution_count": null,
   "metadata": {},
   "outputs": [],
   "source": [
    "Integer aBoxedInt = 5;\n",
    "int anUnboxedInt = new Integer(5)"
   ]
  },
  {
   "cell_type": "markdown",
   "metadata": {
    "slideshow": {
     "slide_type": "slide"
    }
   },
   "source": [
    "# Gotcha: Gleichheit\n",
    "\n",
    "* (Un)boxing macht Equality noch etwas schwieriger."
   ]
  },
  {
   "cell_type": "code",
   "execution_count": null,
   "metadata": {},
   "outputs": [],
   "source": [
    "System.out.println(new Integer(5) == new Integer(5));\n",
    "System.out.println(5 == new Integer(5));\n",
    "System.out.println(new Integer(5) == 5);\n",
    "System.out.println(new Integer(5).equals(5));"
   ]
  },
  {
   "cell_type": "markdown",
   "metadata": {
    "slideshow": {
     "slide_type": "slide"
    }
   },
   "source": [
    "# Kollektionen von Objekten mit verschiedenen Typen"
   ]
  },
  {
   "cell_type": "markdown",
   "metadata": {
    "slideshow": {
     "slide_type": "slide"
    }
   },
   "source": [
    "# Stacks mit verschiedenen Typen\n",
    "\n",
    "* Alle Klassen sind Subklassen von Objekt!\n",
    "    * Wir können Objekte von beliebigen Typen speichern"
   ]
  },
  {
   "cell_type": "code",
   "execution_count": null,
   "metadata": {},
   "outputs": [],
   "source": [
    "Stack createMixedStack() { \n",
    "\n",
    "    Stack stack = new Stack();\n",
    "    stack.push(\"a String\");\n",
    "    stack.push(new Integer(5));\n",
    "    stack.push(new java.util.Date());\n",
    "    stack.push(java.awt.Color.GREEN);\n",
    "\n",
    "    return stack;\n",
    "}\n",
    "\n",
    "createMixedStack();\n"
   ]
  },
  {
   "cell_type": "markdown",
   "metadata": {
    "slideshow": {
     "slide_type": "slide"
    }
   },
   "source": [
    "# Übung: Ausdrucken aller Elemente"
   ]
  },
  {
   "cell_type": "code",
   "execution_count": null,
   "metadata": {},
   "outputs": [],
   "source": []
  },
  {
   "cell_type": "markdown",
   "metadata": {
    "slideshow": {
     "slide_type": "fragment"
    }
   },
   "source": [
    "* Weshalb funktioniert das?"
   ]
  },
  {
   "cell_type": "markdown",
   "metadata": {
    "slideshow": {
     "slide_type": "slide"
    }
   },
   "source": [
    "# Arbeiten mit Elementen\n",
    "\n",
    "* Bisher: Arbeit nur mit Methoden von ```Object```\n",
    "* Wie arbeiten wir mit den Methoden der einzelnen Klassen\n"
   ]
  },
  {
   "cell_type": "code",
   "execution_count": null,
   "metadata": {},
   "outputs": [],
   "source": [
    "Object o = new String(\"hello world\");\n",
    "o.replace(\"world\", \"class\");"
   ]
  },
  {
   "cell_type": "markdown",
   "metadata": {
    "slideshow": {
     "slide_type": "fragment"
    }
   },
   "source": [
    "* Lösung: ```instanceof``` Operator"
   ]
  },
  {
   "cell_type": "markdown",
   "metadata": {
    "slideshow": {
     "slide_type": "slide"
    }
   },
   "source": [
    "# Arbeiten mit Elementen in Kollektionen"
   ]
  },
  {
   "cell_type": "code",
   "execution_count": null,
   "metadata": {},
   "outputs": [],
   "source": [
    "Stack stack = createMixedStack();\n",
    "\n",
    "while (stack.size() > 0) {\n",
    "    Object element = stack.pop();\n",
    "    \n",
    "    if (element instanceof String) {\n",
    "        String s = (String) element;\n",
    "        System.out.println(\"got string, which starts with the letter \" +s.charAt(0));\n",
    "    }\n",
    "    else if (element instanceof Date) {\n",
    "        Date d = (Date) element;\n",
    "        System.out.println(\"The year is \"+ d.getYear());\n",
    "    }\n",
    "    else { \n",
    "        System.out.println(\"I don't know what to do with this type of object\");\n",
    "    }\n",
    "}\n"
   ]
  },
  {
   "cell_type": "markdown",
   "metadata": {
    "slideshow": {
     "slide_type": "slide"
    }
   },
   "source": [
    "# Operationen auf Kollektionen von generischen Objekten   "
   ]
  },
  {
   "cell_type": "markdown",
   "metadata": {
    "slideshow": {
     "slide_type": "slide"
    }
   },
   "source": [
    "# Hilfsfunktion"
   ]
  },
  {
   "cell_type": "markdown",
   "metadata": {},
   "source": [
    "* Erzeugen von Arrays aus 3 ```Objects```"
   ]
  },
  {
   "cell_type": "code",
   "execution_count": null,
   "metadata": {
    "slideshow": {
     "slide_type": "-"
    }
   },
   "outputs": [],
   "source": [
    "Object[] createArrayFromObjects(Object o1, Object o2, Object o3) { \n",
    "    Object[] a = new Object[3];\n",
    "    a[0] = o1; \n",
    "    a[1] = o2;\n",
    "    a[2] = o3;\n",
    "    return a;    \n",
    "}"
   ]
  },
  {
   "cell_type": "markdown",
   "metadata": {},
   "source": [
    "* Beispiel:"
   ]
  },
  {
   "cell_type": "code",
   "execution_count": null,
   "metadata": {},
   "outputs": [],
   "source": [
    "createArrayFromObjects(\"String\", 5, new Date(1970, 12, 31))"
   ]
  },
  {
   "cell_type": "markdown",
   "metadata": {
    "slideshow": {
     "slide_type": "slide"
    }
   },
   "source": [
    "# Übung: Suchen von Objekt"
   ]
  },
  {
   "cell_type": "markdown",
   "metadata": {},
   "source": [
    "* Schreiben Sie eine Funktion zum Suchen von Objekten die folgende Spezifikation erfüllt."
   ]
  },
  {
   "cell_type": "code",
   "execution_count": null,
   "metadata": {},
   "outputs": [],
   "source": [
    "// Ihre Funktion"
   ]
  },
  {
   "cell_type": "code",
   "execution_count": null,
   "metadata": {},
   "outputs": [],
   "source": [
    "\n",
    "Object[] array = createArrayFromObjects(\"String 1\", new Date(1970, 12, 31), \"String 2\" );\n",
    "findObjectInArray(array, new Date(1970, 12, 31)); // Output 1\n",
    "findObjectInArray(array, new String(\"String 3\")); // Output -1"
   ]
  },
  {
   "cell_type": "markdown",
   "metadata": {
    "slideshow": {
     "slide_type": "slide"
    }
   },
   "source": [
    "# Sortieren von Arrays\n",
    "\n",
    "* Sortieren heisst, wir müssen Objekte vergleichen können\n",
    "    * Was ist grösser, \"abc\" oder \"def\"?\n",
    "    * Was ist grösser, ```Color.GREEN``` oder ```Color.RED```    \n",
    "    "
   ]
  },
  {
   "cell_type": "code",
   "execution_count": null,
   "metadata": {},
   "outputs": [],
   "source": [
    "Object o1 = new Integer(5);\n",
    "Object o2 = \"a String\";\n",
    "o1 < o2;"
   ]
  },
  {
   "cell_type": "markdown",
   "metadata": {
    "slideshow": {
     "slide_type": "slide"
    }
   },
   "source": [
    "# Idee: Gemeinsame Operation: CompareTo"
   ]
  },
  {
   "cell_type": "code",
   "execution_count": null,
   "metadata": {
    "slideshow": {
     "slide_type": "-"
    }
   },
   "outputs": [],
   "source": [
    "interface CanCompare { \n",
    "   // returns -1, 0, 1\n",
    "    int compareTo(Object o);\n",
    "}\n",
    "\n"
   ]
  },
  {
   "cell_type": "markdown",
   "metadata": {
    "slideshow": {
     "slide_type": "slide"
    }
   },
   "source": [
    "# Beispielklasse Tupel:"
   ]
  },
  {
   "cell_type": "code",
   "execution_count": null,
   "metadata": {
    "slideshow": {
     "slide_type": "-"
    }
   },
   "outputs": [],
   "source": [
    "\n",
    "public class Tuple implements CanCompare { \n",
    "\n",
    "    int first;\n",
    "    int second;\n",
    "\n",
    "    public Tuple (int first, int second) {\n",
    "        this.first = first;\n",
    "        this.second = second;\n",
    "    }\n",
    "    \n",
    "    public int compareTo(Object thatObject) { \n",
    "        // not implemented yet\n",
    "        return 0;\n",
    "    }\n",
    "    \n",
    "    public String toString() { \n",
    "        return \"(\" +this.first + \", \" + this.second +\")\";\n",
    "    }\n",
    "    \n",
    "}"
   ]
  },
  {
   "cell_type": "markdown",
   "metadata": {
    "slideshow": {
     "slide_type": "slide"
    }
   },
   "source": [
    "# Generische Sortierfunktion"
   ]
  },
  {
   "cell_type": "code",
   "execution_count": null,
   "metadata": {
    "slideshow": {
     "slide_type": "-"
    }
   },
   "outputs": [],
   "source": [
    "void sort(CanCompare[] arr) { \n",
    "    for (int i = 0; i < arr.length ; ++i) {\n",
    "        int j = i;\n",
    "        while(j > 0) {                \n",
    "            if (arr[j].compareTo(arr[j-1]) < 0) {            \n",
    "                CanCompare temp = arr[j];\n",
    "                arr[j] = arr[j-1];\n",
    "                arr[j-1] = temp;\n",
    "            }\n",
    "            j--;\n",
    "        }\n",
    "    }    \n",
    "}\n"
   ]
  },
  {
   "cell_type": "markdown",
   "metadata": {
    "slideshow": {
     "slide_type": "slide"
    }
   },
   "source": [
    "# Generische Sortierfunktion"
   ]
  },
  {
   "cell_type": "code",
   "execution_count": null,
   "metadata": {
    "slideshow": {
     "slide_type": "slide"
    }
   },
   "outputs": [],
   "source": [
    "CanCompare[] array = {new Tuple(5,1), new Tuple(1,7), new Tuple(2,8), new Tuple(2,6)};\n",
    "sort(array);\n",
    "for (int i = 0; i < array.length; ++i) {\n",
    "    System.out.println(array[i]);\n",
    "}"
   ]
  },
  {
   "cell_type": "markdown",
   "metadata": {
    "slideshow": {
     "slide_type": "fragment"
    }
   },
   "source": [
    "#### Übung\n",
    "\n",
    "* Ändern Sie den Code so ab, das zuerst nach dem zweiten Tupelelement sortiert wird."
   ]
  },
  {
   "cell_type": "markdown",
   "metadata": {
    "slideshow": {
     "slide_type": "slide"
    }
   },
   "source": [
    "# Probleme von generischem Programmieren mit Objekten\n",
    "\n",
    "* Wir brauchen explizite downcasts"
   ]
  },
  {
   "cell_type": "markdown",
   "metadata": {},
   "source": [
    "```String a = (String) stack.pop() // unschön``` "
   ]
  },
  {
   "cell_type": "markdown",
   "metadata": {
    "slideshow": {
     "slide_type": "fragment"
    }
   },
   "source": [
    "* Intent nicht klar\n",
    "    * Speichern wir Objekte oder Listen oder strings?"
   ]
  },
  {
   "cell_type": "markdown",
   "metadata": {},
   "source": [
    "```\n",
    "void foo(Object[] objectArray)  {\n",
    "\n",
    "    // was ist in Array drin\n",
    "\n",
    "}\n",
    "```"
   ]
  },
  {
   "cell_type": "markdown",
   "metadata": {
    "slideshow": {
     "slide_type": "slide"
    }
   },
   "source": [
    "# Probleme von generischem Programmieren mit Objekten (2)\n",
    "* Nicht typesafe\n",
    "    * Fehler zur Laufzeit - Keine Hilfe von Compiler\n"
   ]
  },
  {
   "cell_type": "markdown",
   "metadata": {},
   "source": [
    "``` String a =  (String) stack.pop() ```"
   ]
  },
  {
   "cell_type": "markdown",
   "metadata": {
    "slideshow": {
     "slide_type": "fragment"
    }
   },
   "source": [
    "* Klassen müssen in Hierarchie gebracht werden\n",
    "    * Nicht möglich ohne Source Code"
   ]
  },
  {
   "cell_type": "markdown",
   "metadata": {
    "slideshow": {
     "slide_type": "slide"
    }
   },
   "source": [
    "# Ausblick\n",
    "\n",
    "* Bessere Lösung mit Java Generics\n",
    "    * Teil von Java seit Java 5\n",
    "* Wichtiges Element von fast allen Programmiersprachen"
   ]
  }
 ],
 "metadata": {
  "celltoolbar": "Slideshow",
  "kernelspec": {
   "display_name": "Java",
   "language": "java",
   "name": "java"
  },
  "language_info": {
   "codemirror_mode": "java",
   "file_extension": ".java",
   "mimetype": "text/x-java-source",
   "name": "Java",
   "pygments_lexer": "java",
   "version": "10.0.1+10"
  },
  "livereveal": {
   "theme": "capucino",
   "transition": "none"
  }
 },
 "nbformat": 4,
 "nbformat_minor": 2
}
