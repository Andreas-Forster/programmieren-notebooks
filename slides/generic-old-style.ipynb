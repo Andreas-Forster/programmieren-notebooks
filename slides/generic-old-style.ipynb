{
 "cells": [
  {
   "cell_type": "markdown",
   "metadata": {
    "slideshow": {
     "slide_type": "slide"
    }
   },
   "source": [
    "# Generisches Programmieren mit Java\n",
    "\n",
    "#### Marcel Lüthi\n",
    "#### Departement Mathematik und Informatik <br/> Universität Basel"
   ]
  },
  {
   "cell_type": "markdown",
   "metadata": {
    "slideshow": {
     "slide_type": "slide"
    }
   },
   "source": [
    "# Agenda\n",
    "\n",
    "* Problemmotivation\n",
    "* Lösung: Generische Programmieren mit Objekten (Old Style)\n",
    "* Intermezzo: Hüllenklassen\n",
    "* Vergleichen von Generischen Objekten\n",
    "* Mixed bags\n"
   ]
  },
  {
   "cell_type": "markdown",
   "metadata": {
    "slideshow": {
     "slide_type": "slide"
    }
   },
   "source": [
    "# Ausgangslage\n",
    "\n",
    "> Problem: Angenommen wir haben folgenden Stack implementiert"
   ]
  },
  {
   "cell_type": "code",
   "execution_count": 29,
   "metadata": {
    "slideshow": {
     "slide_type": "-"
    }
   },
   "outputs": [],
   "source": [
    "\n",
    "class IntStack {\n",
    "    private int[] data = new int[1000]; // Vereinfachung: Feste grösse\n",
    "    private int nElements = 0; // Anzahl Elemente im Stack\n",
    "    \n",
    "    public void push(int i) {\n",
    "        data[nElements] = i;     \n",
    "        nElements += 1;\n",
    "    }\n",
    "    \n",
    "    public int pop() { \n",
    "        if (nElements <= 0) {\n",
    "            throw new RuntimeException(\"pop from empty stack\");\n",
    "        }\n",
    "        else {\n",
    "            nElements -= 1;\n",
    "            return data[nElements];\n",
    "       }\n",
    "    }\n",
    "    public int size() { return this.nElements; }\n",
    "}"
   ]
  },
  {
   "cell_type": "markdown",
   "metadata": {
    "slideshow": {
     "slide_type": "slide"
    }
   },
   "source": [
    "# Client Code"
   ]
  },
  {
   "cell_type": "code",
   "execution_count": 30,
   "metadata": {},
   "outputs": [
    {
     "name": "stdout",
     "output_type": "stream",
     "text": [
      "Size 1\n",
      "10\n",
      "Size 0\n"
     ]
    }
   ],
   "source": [
    "IntStack stack = new IntStack();\n",
    "stack.push(10);\n",
    "System.out.println(\"Size \" + stack.size());\n",
    "System.out.println(stack.pop());\n",
    "System.out.println(\"Size \" + stack.size());\n"
   ]
  },
  {
   "cell_type": "markdown",
   "metadata": {
    "slideshow": {
     "slide_type": "slide"
    }
   },
   "source": [
    "# Problem\n",
    "\n",
    "* Was machen wir wenn wir nun einen Stack von Strings wollen?\n",
    "* ... und einen Stack von Double?\n",
    "* ... und einen Stack von Floats?\n",
    "\n",
    "> Kopieren von Code ist keine Lösung!"
   ]
  },
  {
   "cell_type": "markdown",
   "metadata": {
    "slideshow": {
     "slide_type": "slide"
    }
   },
   "source": [
    "# Generics old Style"
   ]
  },
  {
   "cell_type": "markdown",
   "metadata": {
    "slideshow": {
     "slide_type": "slide"
    }
   },
   "source": [
    "# Lösung\n",
    "\n",
    "* Ausnutzen, dass alle Klassen von Objekt erben\n",
    "\n",
    "![hierarchy](./images/class-hierarchy.gif)\n",
    "<figcaption style=\"font-size:xx-small\">Quelle: https://docs.oracle.com/javase/tutorial/figures/java/classes-object.gif</figcaption>"
   ]
  },
  {
   "cell_type": "markdown",
   "metadata": {
    "slideshow": {
     "slide_type": "slide"
    }
   },
   "source": [
    "# Generisches Stack Implementation"
   ]
  },
  {
   "cell_type": "code",
   "execution_count": 6,
   "metadata": {},
   "outputs": [],
   "source": [
    "class Stack { \n",
    "    \n",
    "    private Object[] data = new Object[1000]; // Vereinfachung: Feste grösse\n",
    "    private int nElements = 0; // Anzahl Elemente im Stack\n",
    " \n",
    "    public void push(Object element) {\n",
    "        data[nElements] = element;     \n",
    "        nElements += 1;\n",
    "    }\n",
    "    \n",
    "    public Object pop() { \n",
    "        if (nElements <= 0) {\n",
    "            return null;\n",
    "        }\n",
    "        else {\n",
    "            nElements -= 1;\n",
    "            return data[nElements];\n",
    "       }\n",
    "    }\n",
    "    public int size() { return this.nElements; }\n",
    "}\n"
   ]
  },
  {
   "cell_type": "markdown",
   "metadata": {
    "slideshow": {
     "slide_type": "slide"
    }
   },
   "source": [
    "# Nutzung des Stacks\n"
   ]
  },
  {
   "cell_type": "code",
   "execution_count": 4,
   "metadata": {},
   "outputs": [
    {
     "name": "stdout",
     "output_type": "stream",
     "text": [
      "hello\n"
     ]
    }
   ],
   "source": [
    "// Strings\n",
    "Stack stringStack = new Stack();\n",
    "stringStack.push(new String(\"hello\"));\n",
    "System.out.println(stringStack.pop());\n"
   ]
  },
  {
   "cell_type": "code",
   "execution_count": 35,
   "metadata": {},
   "outputs": [],
   "source": [
    "class MyClass {}\n",
    "Stack myClassStack = new Stack();\n",
    "myClassStack.push(new MyClass());"
   ]
  },
  {
   "cell_type": "markdown",
   "metadata": {
    "slideshow": {
     "slide_type": "slide"
    }
   },
   "source": [
    "# Intermezzo: Hüllenklassen und autoboxing"
   ]
  },
  {
   "cell_type": "markdown",
   "metadata": {
    "slideshow": {
     "slide_type": "slide"
    }
   },
   "source": [
    "# Stack mit Primitiven Datentypen\n",
    "\n",
    "Beobachtung: Wir können nur Objekte auf dem Stack speichern.\n",
    "\n",
    "* Ist int ein Objekt?\n",
    "* Funktioniert folgender Code?"
   ]
  },
  {
   "cell_type": "code",
   "execution_count": 24,
   "metadata": {},
   "outputs": [],
   "source": [
    "int anInt  = 3;\n",
    "Stack stack = new Stack();\n",
    "stack.push(anInt);"
   ]
  },
  {
   "cell_type": "markdown",
   "metadata": {
    "slideshow": {
     "slide_type": "slide"
    }
   },
   "source": [
    "# Hüllenklassen für Primitive Datentypen\n",
    "\n",
    "* Zu jedem primitiven Datentyp existiert eine Hüllenklasse (Wrapper)\n",
    "\n",
    "| Primitiver Typ | Hüllenklasse |\n",
    "|----------------|--------------|\n",
    "| int | Integer |\n",
    "| short | Short |\n",
    "| long | Long | \n",
    "| double | Double |\n",
    "| float | Float | \n",
    "| char | Character | \n",
    "| boolean | Boolean |\n",
    "\n",
    "Beispiel:"
   ]
  },
  {
   "cell_type": "code",
   "execution_count": 14,
   "metadata": {},
   "outputs": [],
   "source": [
    "Integer anInt = new Integer(5);\n",
    "int aPrimitiveInt = anInt.intValue();    "
   ]
  },
  {
   "cell_type": "markdown",
   "metadata": {
    "slideshow": {
     "slide_type": "slide"
    }
   },
   "source": [
    "# Autoboxing\n",
    "\n",
    "* *Boxing*: Ein primitiver Typ wird automatisch in ein Objekt der Hüllenklasse konvertiert\n",
    "* *Unboxing*: Ein Hüllenklassentyp wird automatisch in einen primitiven Typen konvertiert\n"
   ]
  },
  {
   "cell_type": "code",
   "execution_count": 16,
   "metadata": {},
   "outputs": [],
   "source": [
    "int aPrinitiveInt = new Integer(5);\n",
    "Integer aBoxedInt = 5;"
   ]
  },
  {
   "cell_type": "markdown",
   "metadata": {
    "slideshow": {
     "slide_type": "slide"
    }
   },
   "source": [
    "# Gotcha: Gleichheit\n",
    "\n",
    "* Boxing macht Equality noch etwas schwieriger."
   ]
  },
  {
   "cell_type": "code",
   "execution_count": 23,
   "metadata": {},
   "outputs": [
    {
     "name": "stdout",
     "output_type": "stream",
     "text": [
      "false\n",
      "true\n",
      "true\n",
      "true\n"
     ]
    }
   ],
   "source": [
    "System.out.println(new Integer(5) == new Integer(5));\n",
    "System.out.println(5 == new Integer(5));\n",
    "System.out.println(new Integer(5) == 5);\n",
    "System.out.println(new Integer(5).equals(5));\n",
    "\n"
   ]
  },
  {
   "cell_type": "markdown",
   "metadata": {
    "slideshow": {
     "slide_type": "slide"
    }
   },
   "source": [
    "# Stacks mit verschiedenen Typen\n",
    "\n",
    "* Alle Klassen sind Subklassen von Objekt!\n",
    "    * Wir können Objekte von beliebigen Typen speichern"
   ]
  },
  {
   "cell_type": "code",
   "execution_count": 80,
   "metadata": {},
   "outputs": [
    {
     "data": {
      "text/plain": [
       "REPL.$JShell$26$Stack@4424ac3f"
      ]
     },
     "execution_count": 80,
     "metadata": {},
     "output_type": "execute_result"
    }
   ],
   "source": [
    "Stack createMixedStack() { \n",
    "\n",
    "    Stack stack = new Stack();\n",
    "    stack.push(\"a String\");\n",
    "    stack.push(new Integer(5));\n",
    "    stack.push(new java.util.Date());\n",
    "    stack.push(java.awt.Color.GREEN);\n",
    "\n",
    "    return stack;\n",
    "}\n",
    "\n",
    "createMixedStack();\n"
   ]
  },
  {
   "cell_type": "markdown",
   "metadata": {
    "slideshow": {
     "slide_type": "slide"
    }
   },
   "source": [
    "# Ausdrucken aller Elemente"
   ]
  },
  {
   "cell_type": "code",
   "execution_count": 81,
   "metadata": {},
   "outputs": [
    {
     "name": "stdout",
     "output_type": "stream",
     "text": [
      "java.awt.Color[r=0,g=255,b=0]\n",
      "Thu Nov 22 14:52:39 CET 2018\n",
      "5\n",
      "a String\n"
     ]
    }
   ],
   "source": [
    "Stack stack = createMixedStack();\n",
    "while (stack.size() > 0) { \n",
    "    System.out.println(stack.pop());\n",
    "}"
   ]
  },
  {
   "cell_type": "markdown",
   "metadata": {
    "slideshow": {
     "slide_type": "fragment"
    }
   },
   "source": [
    "* Möglich dank dynamischem binden (der toString Methode)"
   ]
  },
  {
   "cell_type": "markdown",
   "metadata": {
    "slideshow": {
     "slide_type": "slide"
    }
   },
   "source": [
    "# Arbeiten mit Elementen\n",
    "\n",
    "* Speziellere Operationen brauchen mehr Arbeit"
   ]
  },
  {
   "cell_type": "code",
   "execution_count": 87,
   "metadata": {},
   "outputs": [
    {
     "name": "stdout",
     "output_type": "stream",
     "text": [
      "I don't know what to do with this type of object\n",
      "The year is 118\n",
      "I don't know what to do with this type of object\n",
      "got string, which starts with the letter a\n"
     ]
    }
   ],
   "source": [
    "Stack stack = createMixedStack();\n",
    "\n",
    "while (stack.size() > 0) {\n",
    "    Object element = stack.pop();\n",
    "    \n",
    "    if (element instanceof String) {\n",
    "        String s = (String) element;\n",
    "        System.out.println(\"got string, which starts with the letter \" +s.charAt(0));\n",
    "    }\n",
    "    else if (element instanceof Date) {\n",
    "        Date d = (Date) element;\n",
    "        System.out.println(\"The year is \"+ d.getYear());\n",
    "    }\n",
    "    else { \n",
    "        System.out.println(\"I don't know what to do with this type of object\");\n",
    "    }\n",
    "}\n"
   ]
  },
  {
   "cell_type": "markdown",
   "metadata": {
    "slideshow": {
     "slide_type": "slide"
    }
   },
   "source": [
    "# Operationen auf Kollektionen von generischen Objekten   "
   ]
  },
  {
   "cell_type": "markdown",
   "metadata": {},
   "source": [
    "# Hilfsfunktion"
   ]
  },
  {
   "cell_type": "code",
   "execution_count": 88,
   "metadata": {},
   "outputs": [],
   "source": [
    "Object[] createArrayFromObjects(Object o1, Object o2, Object o3) { \n",
    "    Object[] a = new Object[3];\n",
    "    a[0] = o1; \n",
    "    a[1] = o2;\n",
    "    a[2] = o3;\n",
    "    return a;    \n",
    "}"
   ]
  },
  {
   "cell_type": "markdown",
   "metadata": {},
   "source": [
    "* Erzeugt Array von beliebigen Objekten"
   ]
  },
  {
   "cell_type": "markdown",
   "metadata": {},
   "source": [
    "# Beispiel 1: Suchen in Objekt"
   ]
  },
  {
   "cell_type": "code",
   "execution_count": 89,
   "metadata": {},
   "outputs": [
    {
     "data": {
      "text/plain": [
       "1"
      ]
     },
     "execution_count": 89,
     "metadata": {},
     "output_type": "execute_result"
    }
   ],
   "source": [
    "\n",
    "int findObjectInArray(Object[] haystack, Object needle) { \n",
    "    for (int i = 0; i < haystack.length; i++) { \n",
    "        if (haystack[i].equals(needle)) {\n",
    "            return i;\n",
    "        }\n",
    "    }\n",
    "    return -1; // not found\n",
    "}\n",
    "\n",
    "Object[] array = createArrayFromObjects(\"String 1\", new Date(1970, 12, 31), \"String 2\" );\n",
    "findObjectInArray(array, new Date(1970, 12, 31));\n",
    "\n"
   ]
  },
  {
   "cell_type": "markdown",
   "metadata": {
    "slideshow": {
     "slide_type": "slide"
    }
   },
   "source": [
    "# Beispiel 2: Sortieren von Arrays\n",
    "\n",
    "* Sortieren heisst, wir müssen Objekte vergleichen können\n",
    "    * Was ist grösser, \"abc\" oder \"def\"?\n",
    "    * Was ist grösser, ```Color.GREEN``` oder ```Color.RED```    \n",
    "* Wir können nur vergleichbare Objekte sortieren.\n",
    "    * Vergleichbar heisst in Java, sie erben von ```Comparable```\n",
    "    "
   ]
  },
  {
   "cell_type": "code",
   "execution_count": 162,
   "metadata": {},
   "outputs": [
    {
     "ename": "CompilationException",
     "evalue": "",
     "output_type": "error",
     "traceback": [
      "\u001b[1m\u001b[30m|   \u001b[1m\u001b[30m\u001b[0m\u001b[1m\u001b[30m\u001b[41mo1 < o2\u001b[0m\u001b[1m\u001b[30m;\u001b[0m",
      "\u001b[1m\u001b[31mbad operand types for binary operator '<'\u001b[0m",
      "\u001b[1m\u001b[31m  first type:  java.lang.Object\u001b[0m",
      "\u001b[1m\u001b[31m  second type: java.lang.Object\u001b[0m",
      ""
     ]
    }
   ],
   "source": [
    "Object o1 = new Integer(5);\n",
    "Object o2 = \"a String\";\n",
    "o1 < o2;"
   ]
  },
  {
   "cell_type": "code",
   "execution_count": 198,
   "metadata": {
    "slideshow": {
     "slide_type": "slide"
    }
   },
   "outputs": [],
   "source": [
    "interface CanCompare { \n",
    "   // returns -1, 0, 1\n",
    "    int compareTo(Object o);\n",
    "}\n",
    "\n"
   ]
  },
  {
   "cell_type": "code",
   "execution_count": 199,
   "metadata": {
    "slideshow": {
     "slide_type": "fragment"
    }
   },
   "outputs": [],
   "source": [
    "\n",
    "public class Tuple implements CanCompare { \n",
    "\n",
    "    int first;\n",
    "    int second;\n",
    "\n",
    "    public Tuple (int first, int second) {\n",
    "        this.first = first;\n",
    "        this.second = second;\n",
    "    }\n",
    "    \n",
    "    public String toString() { \n",
    "        return \"(\" +this.first + \", \" + this.second +\")\";\n",
    "    }\n",
    "\n",
    "    public int compareTo(Object thatObject) { \n",
    "       if (thatObject instanceof Tuple == false) { \n",
    "            throw new IllegalArgumentException(\"can only compare to Tuples\");\n",
    "        }\n",
    "        Tuple that = (Tuple) thatObject;\n",
    "        if (this.first < that.first \n",
    "            || this.first == that.first && this.second < that.second) {    \n",
    "            return -1;\n",
    "        }\n",
    "        else if  (this.first == that.first && this.second == that.second) {\n",
    "            return 0;\n",
    "        } else { \n",
    "            return 1;\n",
    "        }\n",
    "    }\n",
    "}"
   ]
  },
  {
   "cell_type": "code",
   "execution_count": 202,
   "metadata": {
    "slideshow": {
     "slide_type": "slide"
    }
   },
   "outputs": [],
   "source": [
    "void sort(CanCompare[] arr) { \n",
    "    for (int i = 0; i < arr.length ; ++i) {\n",
    "        int j = i;\n",
    "        while(j > 0) {                \n",
    "            if (arr[j].compareTo(arr[j-1]) < 0) {            \n",
    "                CanCompare temp = arr[j];\n",
    "                arr[j] = arr[j-1];\n",
    "                arr[j-1] = temp;\n",
    "            }\n",
    "            j--;\n",
    "        }\n",
    "    }    \n",
    "}\n"
   ]
  },
  {
   "cell_type": "code",
   "execution_count": 203,
   "metadata": {
    "slideshow": {
     "slide_type": "fragment"
    }
   },
   "outputs": [
    {
     "name": "stdout",
     "output_type": "stream",
     "text": [
      "(1, 7)\n",
      "(2, 6)\n",
      "(2, 8)\n",
      "(5, 1)\n"
     ]
    }
   ],
   "source": [
    "CanCompare[] array = {new Tuple(5,1), new Tuple(1,7), new Tuple(2,8), new Tuple(2,6)};\n",
    "sort(array);\n",
    "for (int i = 0; i < array.length; ++i) {\n",
    "    System.out.println(array[i]);\n",
    "}"
   ]
  },
  {
   "cell_type": "markdown",
   "metadata": {
    "slideshow": {
     "slide_type": "slide"
    }
   },
   "source": [
    "# Probleme von generischen Stacks:\n",
    "\n",
    "* Wir brauchen explizite downcasts\n",
    "* Intent nicht klar\n",
    "    * Speichern wir Objekte oder Listen oder strings?\n",
    "* Nicht typesafe\n",
    "    * Fehler zur Laufzeit - Keine Hilfe von Compiler\n",
    "* Klassen müssen in Hierarchie gebracht werden\n",
    "    * Nicht möglich ohne Source Code"
   ]
  },
  {
   "cell_type": "markdown",
   "metadata": {
    "slideshow": {
     "slide_type": "slide"
    }
   },
   "source": [
    "# Ausblick\n",
    "\n",
    "* Bessere Lösung mit Java Generics\n",
    "    * Teil von Java seit Java 5\n",
    "* Wichtiges Element von fast allen Programmiersprachen"
   ]
  },
  {
   "cell_type": "code",
   "execution_count": null,
   "metadata": {},
   "outputs": [],
   "source": []
  }
 ],
 "metadata": {
  "celltoolbar": "Slideshow",
  "kernelspec": {
   "display_name": "Java",
   "language": "java",
   "name": "java"
  },
  "language_info": {
   "codemirror_mode": "java",
   "file_extension": ".java",
   "mimetype": "text/x-java-source",
   "name": "Java",
   "pygments_lexer": "java",
   "version": "10.0.1+10"
  }
 },
 "nbformat": 4,
 "nbformat_minor": 2
}
