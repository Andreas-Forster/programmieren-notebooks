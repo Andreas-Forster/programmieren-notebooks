{
 "cells": [
  {
   "cell_type": "markdown",
   "metadata": {
    "slideshow": {
     "slide_type": "slide"
    }
   },
   "source": [
    "# Innere und anonyme Klassen\n",
    "\n",
    "#### Marcel Lüthi <br/> Departement Mathematik und Informatik"
   ]
  },
  {
   "cell_type": "markdown",
   "metadata": {
    "slideshow": {
     "slide_type": "slide"
    }
   },
   "source": [
    "# Agenda\n",
    "\n",
    "* innere Klassen,\n",
    "* statische geschachtelte Klassen,\n",
    "* anonyme Klassen.\n",
    "\n",
    "> Literatur: Java Tutorial & Arnold, K., Gosling, J. und Holmes,D ....."
   ]
  },
  {
   "cell_type": "markdown",
   "metadata": {
    "slideshow": {
     "slide_type": "slide"
    }
   },
   "source": [
    "# Innere Klassen"
   ]
  },
  {
   "cell_type": "markdown",
   "metadata": {
    "slideshow": {
     "slide_type": "slide"
    }
   },
   "source": [
    "# Innere Klassen\n",
    "\n",
    "* Der erste Eindruck in Java:\n",
    "     * alle Klassen sind \"top level\", gewöhnlich Eine pro Datei\n",
    "\n",
    "* Klassen können jedoch innerhalb anderer Klassen deklariert werden.\n",
    "\n",
    "* Warum: \n",
    "    * meist wenn eine Klasse nur innerhalb einer Anderen benötigt wird."
   ]
  },
  {
   "cell_type": "markdown",
   "metadata": {
    "slideshow": {
     "slide_type": "slide"
    }
   },
   "source": [
    "# Beispiel: Verkettete Listen\n",
    "\n",
    "#### Zwei Klassen\n",
    "\n",
    "1. ListenKnoten    :  enthält Daten und Pointer zum nächsten und\u000b",
    "                                    vorherigen Knoten\n",
    "2. VerketteteListe :  Pointer zu Kopf der Liste \n",
    "\n",
    "ListenKnoten ist Hilfsklasse und wird nur von VerketteteListe genutzt.  \n",
    "![linkedlist](images/linkedlist.png)"
   ]
  },
  {
   "cell_type": "markdown",
   "metadata": {
    "slideshow": {
     "slide_type": "slide"
    }
   },
   "source": [
    "# Beispiel: Verkettete Listen"
   ]
  },
  {
   "cell_type": "code",
   "execution_count": null,
   "metadata": {
    "slideshow": {
     "slide_type": "-"
    }
   },
   "outputs": [],
   "source": [
    "public class LinkedList<E> { \n",
    "    private class Node {\n",
    "        E value;\n",
    "        Node next;\n",
    "        \n",
    "    }\n",
    "    \n",
    "    private Node head = null;    \n",
    "    \n",
    "    public void add(E value) {         \n",
    "        if (head == null) {\n",
    "            head = new Node();\n",
    "            head.value = value;\n",
    "        } else {         \n",
    "            Node curr = head;\n",
    "            while (curr.next != null) {             \n",
    "                curr = curr.next;\n",
    "            }\n",
    "            curr.next = new Node();\n",
    "            curr.next.value = value;\n",
    "        }\n",
    "    }\n",
    "}"
   ]
  },
  {
   "cell_type": "markdown",
   "metadata": {
    "slideshow": {
     "slide_type": "fragment"
    }
   },
   "source": [
    "* Methoden von ```LinkedList``` können ```Node```` benutzen\n",
    "* Nutzer von ```LinkedList``` können ```Node``` nicht sehen "
   ]
  },
  {
   "attachments": {},
   "cell_type": "markdown",
   "metadata": {
    "slideshow": {
     "slide_type": "slide"
    }
   },
   "source": [
    "# Zugriff aus innerer Klasse"
   ]
  },
  {
   "cell_type": "code",
   "execution_count": null,
   "metadata": {},
   "outputs": [],
   "source": [
    "public class OuterClassDemo {\n",
    "    \n",
    "    private int a;\n",
    "    public InnerClass subObject;\n",
    "    \n",
    "    public class InnerClass {\n",
    "        public int b;\n",
    "        public int sum() {\n",
    "             return a + b;\n",
    "        } // end sum\n",
    "     } \n",
    " \n",
    "\n",
    "    public OuterClassDemo( int aval, int bval) {\n",
    "         a = aval;\n",
    "         subObject = new InnerClass();\n",
    "         subObject. b = bval;\n",
    "    } \n",
    "\n",
    "\n",
    "    public void setA(int a) { this.a = a; }\n",
    "\n",
    "}"
   ]
  },
  {
   "cell_type": "markdown",
   "metadata": {},
   "source": [
    "> InnerClass kann Variable ```a``` nutzen!\n",
    "> * ```a``` ist in Scope"
   ]
  },
  {
   "cell_type": "markdown",
   "metadata": {
    "slideshow": {
     "slide_type": "slide"
    }
   },
   "source": [
    "# Innere Klasse kennt äussere Variablen!"
   ]
  },
  {
   "cell_type": "markdown",
   "metadata": {},
   "source": [
    "> Innere Klasse hat Referenz auf ```a``` der äusseren Klasse"
   ]
  },
  {
   "cell_type": "markdown",
   "metadata": {},
   "source": [
    "#### Beweis"
   ]
  },
  {
   "cell_type": "code",
   "execution_count": null,
   "metadata": {},
   "outputs": [],
   "source": [
    "OuterClassDemo tester = new OuterClassDemo( 7, 5);  \n",
    "System.out.println( tester.subObject.sum());\n",
    "tester.setA(4);\n",
    "System.out.println( tester.subObject.sum());"
   ]
  },
  {
   "attachments": {},
   "cell_type": "markdown",
   "metadata": {
    "slideshow": {
     "slide_type": "slide"
    }
   },
   "source": [
    "# Grenzen von inneren Klassen\n",
    "\n",
    "> Objekte 'Innerer Klassen' können nur innerhalb der äusseren Klasse existieren.  \n",
    "\n",
    "* Ein äusserer Nutzer kann ein inneres Objekt referenzieren."
   ]
  },
  {
   "cell_type": "code",
   "execution_count": null,
   "metadata": {},
   "outputs": [],
   "source": [
    "OuterClassDemo x = new OuterClassDemo(7, 5);\n",
    "int y = x.subObject.b;"
   ]
  },
  {
   "attachments": {},
   "cell_type": "markdown",
   "metadata": {},
   "source": [
    "* Ein äusserer Nutzer kann *KEINE* Instanz eines inneren Objekts erzeugen!\n"
   ]
  },
  {
   "cell_type": "code",
   "execution_count": null,
   "metadata": {},
   "outputs": [],
   "source": [
    "InnerClass y = new OuterClass.InnerClass()"
   ]
  },
  {
   "cell_type": "markdown",
   "metadata": {
    "slideshow": {
     "slide_type": "slide"
    }
   },
   "source": [
    "# Implementationsdetail\n",
    "\n",
    "![inner classes details](./images/inner-class-implementation.png)"
   ]
  },
  {
   "cell_type": "markdown",
   "metadata": {
    "slideshow": {
     "slide_type": "slide"
    }
   },
   "source": [
    "# Statisch geschachtelte Klassen"
   ]
  },
  {
   "attachments": {},
   "cell_type": "markdown",
   "metadata": {
    "slideshow": {
     "slide_type": "slide"
    }
   },
   "source": [
    "# Statisch geschachtelte Klassen\n",
    "\n",
    "> Die innere Klasse kann als ```static``` definiert sein.\n",
    "\n",
    "```java\n",
    "public class OuterClass {\n",
    "\n",
    "    int a = 0;\n",
    "    \n",
    "    public static class InnerClass {\n",
    "        public void aMethode() {}\n",
    "     } \n",
    "}\n",
    "```\n",
    "\n",
    "* statisch geschachtelte Klassen verhalten sich wie externe isolierte Klassen.\n",
    "    * Nur der Zugriff erfolgt über OuterName.innerName\n",
    "* Referenz zu member-Variable der äusseren Klasse ist ungültig. Warum?\n"
   ]
  },
  {
   "attachments": {},
   "cell_type": "markdown",
   "metadata": {
    "slideshow": {
     "slide_type": "fragment"
    }
   },
   "source": [
    "> Statische Inner klassen, existieren nur einmal (wie statische variablen)\n",
    "> * Nicht klar auf welches Objekt man zugreifen müsste.\n"
   ]
  },
  {
   "cell_type": "markdown",
   "metadata": {
    "slideshow": {
     "slide_type": "slide"
    }
   },
   "source": [
    "# Beispiel: Statische geschachtelte Klassen"
   ]
  },
  {
   "cell_type": "code",
   "execution_count": null,
   "metadata": {},
   "outputs": [],
   "source": [
    "public class OuterClass { \n",
    "    private int a = 0;\n",
    "    private static int b = 0;\n",
    "    \n",
    "    public static class InnerClass {\n",
    "        public void foo() {             \n",
    "        }\n",
    "    }\n",
    "}"
   ]
  },
  {
   "cell_type": "markdown",
   "metadata": {},
   "source": [
    "Instanzierung der inneren Klasse:"
   ]
  },
  {
   "cell_type": "code",
   "execution_count": null,
   "metadata": {},
   "outputs": [],
   "source": [
    "OuterClass.InnerClass innerClass = new OuterClass.InnerClass();"
   ]
  },
  {
   "cell_type": "markdown",
   "metadata": {
    "slideshow": {
     "slide_type": "fragment"
    }
   },
   "source": [
    "#### Übung: \n",
    "* Kann aus ```InnerClass.foo``` auf ```a``` zugegriffen werden?\n",
    "* Kann aus ```InnerClass.foo``` auf ```b``` zugegriffen werden?"
   ]
  },
  {
   "attachments": {},
   "cell_type": "markdown",
   "metadata": {
    "slideshow": {
     "slide_type": "slide"
    }
   },
   "source": [
    "# Wozu statisch geschachtelte Klassen\n",
    "\n",
    "* Eine Klasse innerhalb der anderen zu definieren spiegelt ihre Beziehung wieder.\n",
    "* Wird oft bei Exceptions verwendet.\n",
    "    \n",
    "```java\n",
    "public class MyClass { \n",
    "    // data and methods for MyClass \n",
    "\n",
    "   // MyClass may raise exceptions \n",
    "   public static class MyException { \n",
    "    .. \n",
    "   } \n",
    "} \n",
    "```"
   ]
  },
  {
   "cell_type": "markdown",
   "metadata": {
    "slideshow": {
     "slide_type": "slide"
    }
   },
   "source": [
    "# Beispiel: Exceptions mit Statisch geschachtelten Klassen"
   ]
  },
  {
   "cell_type": "code",
   "execution_count": null,
   "metadata": {},
   "outputs": [],
   "source": [
    "class MyClass { \n",
    "\n",
    "    static class MyException extends Exception {\n",
    "      public MyException(String reason) { \n",
    "            super(reason);\n",
    "      }\n",
    "      \n",
    "    }\n",
    "   \n",
    "    public void aMethodThatCanThrowAnError() throws MyException { \n",
    "        throw new MyException(\"an error occurred\");\n",
    "     }\n",
    "}"
   ]
  },
  {
   "cell_type": "code",
   "execution_count": null,
   "metadata": {},
   "outputs": [],
   "source": [
    "MyClass myclass = new MyClass();\n",
    "try {\n",
    "    myclass.aMethodThatCanThrowAnError();\n",
    "} catch (MyClass.MyException e) {\n",
    "    System.out.println(e);\n",
    "}"
   ]
  },
  {
   "cell_type": "markdown",
   "metadata": {
    "slideshow": {
     "slide_type": "slide"
    }
   },
   "source": [
    "# Anonyme Klassen"
   ]
  },
  {
   "attachments": {},
   "cell_type": "markdown",
   "metadata": {
    "slideshow": {
     "slide_type": "slide"
    }
   },
   "source": [
    "# Motivation\n",
    "\n",
    "\n",
    "\n",
    "* Angenommer wir haben folgendes Interface\n",
    "\n",
    "```java \n",
    "interface KeyListener {\n",
    "    void keyPressed(char key);\n",
    "}\n",
    "```\n",
    "\n",
    "* Wir können unseren eigenen Listener wie folgt implementieren\n",
    "\n",
    "```java\n",
    "class MyKeyListener extends KeyListener {\n",
    "   public void keyPressed(char key) {\n",
    "        System.out.println(\"a key was pressed\");\n",
    "    }\n",
    "}\n",
    "\n",
    "KeyListener myKeyListener = new MyKeyListener();\n",
    "```"
   ]
  },
  {
   "cell_type": "markdown",
   "metadata": {
    "slideshow": {
     "slide_type": "fragment"
    }
   },
   "source": [
    "\n",
    "> Wird schnell umständlich!\n",
    "> * Brauchen für jedes Verhalten eine eigene Klasse"
   ]
  },
  {
   "cell_type": "markdown",
   "metadata": {
    "slideshow": {
     "slide_type": "slide"
    }
   },
   "source": [
    "# Anonyme Klassen\n",
    "\n",
    "* Anonyme Klassen erlauben uns Instanzen abzuleiten ohne diese zu benennen!\n",
    "\n",
    "```java \n",
    "interface KeyListener {\n",
    "    void keyPressed(char key);\n",
    "}\n",
    "\n",
    "KeyListener myKeyListener = new KeyListener { \n",
    "    public void keyPressed(char key) {\n",
    "        System.out.println(\"a key was pressed\");\n",
    "    }\n",
    "}\n",
    "```\n",
    "\n",
    "> Wird immer dann gebraucht, wenn Klassen häufig geringfügig verändert werden.\n"
   ]
  }
 ],
 "metadata": {
  "celltoolbar": "Slideshow",
  "kernelspec": {
   "display_name": "Java",
   "language": "java",
   "name": "java"
  },
  "language_info": {
   "codemirror_mode": "java",
   "file_extension": ".java",
   "mimetype": "text/x-java-source",
   "name": "Java",
   "pygments_lexer": "java",
   "version": "10.0.1+10"
  },
  "livereveal": {
   "livereveal": {
    "scroll": false
   },
   "transition": "none"
  }
 },
 "nbformat": 4,
 "nbformat_minor": 2
}
